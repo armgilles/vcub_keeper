{
 "cells": [
  {
   "cell_type": "code",
   "execution_count": 17,
   "metadata": {},
   "outputs": [
    {
     "name": "stdout",
     "output_type": "stream",
     "text": [
      "The autoreload extension is already loaded. To reload it, use:\n",
      "  %reload_ext autoreload\n"
     ]
    }
   ],
   "source": [
    "import json\n",
    "\n",
    "import polars as pl\n",
    "from polars.testing import assert_frame_equal\n",
    "\n",
    "from vcub_keeper.config import ROOT_TESTS_DATA\n",
    "from vcub_keeper.production.data import transform_json_api_bdx_station_data_to_df\n",
    "\n",
    "%load_ext autoreload\n",
    "%autoreload 2"
   ]
  },
  {
   "cell_type": "markdown",
   "metadata": {},
   "source": [
    "# Objectifs"
   ]
  },
  {
   "attachments": {},
   "cell_type": "markdown",
   "metadata": {},
   "source": [
    "- Préparation du test pour la fonction `transform_json_api_bdx_station_data_to_df()`\n",
    "- Export des données de tests"
   ]
  },
  {
   "cell_type": "code",
   "execution_count": 18,
   "metadata": {},
   "outputs": [],
   "source": [
    "# station_id='106'\n",
    "# start_date='2023-03-10'\n",
    "# stop_date='2023-03-11'\n",
    "\n",
    "\n",
    "# station_json = get_data_from_api_bdx_by_station(station_id=station_id,\n",
    "#                                                 start_date=start_date,\n",
    "#                                                 stop_date=stop_date)\n",
    "\n",
    "# Loading data from data test\n",
    "with open(ROOT_TESTS_DATA + \"data_test_api_from_bdx.json\") as f:\n",
    "    station_json_loaded = json.load(f)"
   ]
  },
  {
   "cell_type": "code",
   "execution_count": 19,
   "metadata": {},
   "outputs": [],
   "source": [
    "station_df_from_json = transform_json_api_bdx_station_data_to_df(station_json_loaded)"
   ]
  },
  {
   "cell_type": "code",
   "execution_count": 20,
   "metadata": {},
   "outputs": [
    {
     "data": {
      "text/html": [
       "<div><style>\n",
       ".dataframe > thead > tr,\n",
       ".dataframe > tbody > tr {\n",
       "  text-align: right;\n",
       "  white-space: pre-wrap;\n",
       "}\n",
       "</style>\n",
       "<small>shape: (5, 8)</small><table border=\"1\" class=\"dataframe\"><thead><tr><th>station_id</th><th>date</th><th>available_stands</th><th>available_bikes</th><th>status</th><th>transactions_in</th><th>transactions_out</th><th>transactions_all</th></tr><tr><td>i32</td><td>datetime[μs, UTC]</td><td>i64</td><td>i64</td><td>u8</td><td>i64</td><td>i64</td><td>i64</td></tr></thead><tbody><tr><td>106</td><td>2023-03-10 00:10:00 UTC</td><td>32</td><td>8</td><td>1</td><td>0</td><td>0</td><td>0</td></tr><tr><td>106</td><td>2023-03-10 00:20:00 UTC</td><td>32</td><td>8</td><td>1</td><td>0</td><td>0</td><td>0</td></tr><tr><td>106</td><td>2023-03-10 00:30:00 UTC</td><td>32</td><td>8</td><td>1</td><td>0</td><td>0</td><td>0</td></tr><tr><td>106</td><td>2023-03-10 00:40:00 UTC</td><td>33</td><td>8</td><td>1</td><td>0</td><td>1</td><td>0</td></tr><tr><td>106</td><td>2023-03-10 00:50:00 UTC</td><td>33</td><td>7</td><td>1</td><td>0</td><td>0</td><td>1</td></tr></tbody></table></div>"
      ],
      "text/plain": [
       "shape: (5, 8)\n",
       "┌────────────┬────────────┬────────────┬────────────┬────────┬────────────┬────────────┬───────────┐\n",
       "│ station_id ┆ date       ┆ available_ ┆ available_ ┆ status ┆ transactio ┆ transactio ┆ transacti │\n",
       "│ ---        ┆ ---        ┆ stands     ┆ bikes      ┆ ---    ┆ ns_in      ┆ ns_out     ┆ ons_all   │\n",
       "│ i32        ┆ datetime[μ ┆ ---        ┆ ---        ┆ u8     ┆ ---        ┆ ---        ┆ ---       │\n",
       "│            ┆ s, UTC]    ┆ i64        ┆ i64        ┆        ┆ i64        ┆ i64        ┆ i64       │\n",
       "╞════════════╪════════════╪════════════╪════════════╪════════╪════════════╪════════════╪═══════════╡\n",
       "│ 106        ┆ 2023-03-10 ┆ 32         ┆ 8          ┆ 1      ┆ 0          ┆ 0          ┆ 0         │\n",
       "│            ┆ 00:10:00   ┆            ┆            ┆        ┆            ┆            ┆           │\n",
       "│            ┆ UTC        ┆            ┆            ┆        ┆            ┆            ┆           │\n",
       "│ 106        ┆ 2023-03-10 ┆ 32         ┆ 8          ┆ 1      ┆ 0          ┆ 0          ┆ 0         │\n",
       "│            ┆ 00:20:00   ┆            ┆            ┆        ┆            ┆            ┆           │\n",
       "│            ┆ UTC        ┆            ┆            ┆        ┆            ┆            ┆           │\n",
       "│ 106        ┆ 2023-03-10 ┆ 32         ┆ 8          ┆ 1      ┆ 0          ┆ 0          ┆ 0         │\n",
       "│            ┆ 00:30:00   ┆            ┆            ┆        ┆            ┆            ┆           │\n",
       "│            ┆ UTC        ┆            ┆            ┆        ┆            ┆            ┆           │\n",
       "│ 106        ┆ 2023-03-10 ┆ 33         ┆ 8          ┆ 1      ┆ 0          ┆ 1          ┆ 0         │\n",
       "│            ┆ 00:40:00   ┆            ┆            ┆        ┆            ┆            ┆           │\n",
       "│            ┆ UTC        ┆            ┆            ┆        ┆            ┆            ┆           │\n",
       "│ 106        ┆ 2023-03-10 ┆ 33         ┆ 7          ┆ 1      ┆ 0          ┆ 0          ┆ 1         │\n",
       "│            ┆ 00:50:00   ┆            ┆            ┆        ┆            ┆            ┆           │\n",
       "│            ┆ UTC        ┆            ┆            ┆        ┆            ┆            ┆           │\n",
       "└────────────┴────────────┴────────────┴────────────┴────────┴────────────┴────────────┴───────────┘"
      ]
     },
     "execution_count": 20,
     "metadata": {},
     "output_type": "execute_result"
    }
   ],
   "source": [
    "station_df_from_json.head()"
   ]
  },
  {
   "attachments": {},
   "cell_type": "markdown",
   "metadata": {},
   "source": [
    "### Export des données de test"
   ]
  },
  {
   "cell_type": "code",
   "execution_count": 6,
   "metadata": {},
   "outputs": [],
   "source": [
    "station_df_from_json.write_csv(ROOT_TESTS_DATA + \"data_test_transf_json_to_df.csv\")"
   ]
  },
  {
   "cell_type": "markdown",
   "metadata": {},
   "source": [
    "#### Lecture des données de test"
   ]
  },
  {
   "cell_type": "code",
   "execution_count": 25,
   "metadata": {},
   "outputs": [],
   "source": [
    "station_df_from_csv = pl.read_csv(\n",
    "    ROOT_TESTS_DATA + \"data_test_transf_json_to_df.csv\",\n",
    "    try_parse_dates=True,\n",
    "    schema_overrides={\"station_id\": pl.Int32, \"status\": pl.UInt8},\n",
    ")"
   ]
  },
  {
   "cell_type": "code",
   "execution_count": 27,
   "metadata": {},
   "outputs": [
    {
     "data": {
      "text/html": [
       "<div><style>\n",
       ".dataframe > thead > tr,\n",
       ".dataframe > tbody > tr {\n",
       "  text-align: right;\n",
       "  white-space: pre-wrap;\n",
       "}\n",
       "</style>\n",
       "<small>shape: (5, 8)</small><table border=\"1\" class=\"dataframe\"><thead><tr><th>station_id</th><th>date</th><th>available_stands</th><th>available_bikes</th><th>status</th><th>transactions_in</th><th>transactions_out</th><th>transactions_all</th></tr><tr><td>i32</td><td>datetime[μs, UTC]</td><td>i64</td><td>i64</td><td>u8</td><td>i64</td><td>i64</td><td>i64</td></tr></thead><tbody><tr><td>106</td><td>2023-03-10 00:10:00 UTC</td><td>32</td><td>8</td><td>1</td><td>0</td><td>0</td><td>0</td></tr><tr><td>106</td><td>2023-03-10 00:20:00 UTC</td><td>32</td><td>8</td><td>1</td><td>0</td><td>0</td><td>0</td></tr><tr><td>106</td><td>2023-03-10 00:30:00 UTC</td><td>32</td><td>8</td><td>1</td><td>0</td><td>0</td><td>0</td></tr><tr><td>106</td><td>2023-03-10 00:40:00 UTC</td><td>33</td><td>8</td><td>1</td><td>0</td><td>1</td><td>0</td></tr><tr><td>106</td><td>2023-03-10 00:50:00 UTC</td><td>33</td><td>7</td><td>1</td><td>0</td><td>0</td><td>1</td></tr></tbody></table></div>"
      ],
      "text/plain": [
       "shape: (5, 8)\n",
       "┌────────────┬────────────┬────────────┬────────────┬────────┬────────────┬────────────┬───────────┐\n",
       "│ station_id ┆ date       ┆ available_ ┆ available_ ┆ status ┆ transactio ┆ transactio ┆ transacti │\n",
       "│ ---        ┆ ---        ┆ stands     ┆ bikes      ┆ ---    ┆ ns_in      ┆ ns_out     ┆ ons_all   │\n",
       "│ i32        ┆ datetime[μ ┆ ---        ┆ ---        ┆ u8     ┆ ---        ┆ ---        ┆ ---       │\n",
       "│            ┆ s, UTC]    ┆ i64        ┆ i64        ┆        ┆ i64        ┆ i64        ┆ i64       │\n",
       "╞════════════╪════════════╪════════════╪════════════╪════════╪════════════╪════════════╪═══════════╡\n",
       "│ 106        ┆ 2023-03-10 ┆ 32         ┆ 8          ┆ 1      ┆ 0          ┆ 0          ┆ 0         │\n",
       "│            ┆ 00:10:00   ┆            ┆            ┆        ┆            ┆            ┆           │\n",
       "│            ┆ UTC        ┆            ┆            ┆        ┆            ┆            ┆           │\n",
       "│ 106        ┆ 2023-03-10 ┆ 32         ┆ 8          ┆ 1      ┆ 0          ┆ 0          ┆ 0         │\n",
       "│            ┆ 00:20:00   ┆            ┆            ┆        ┆            ┆            ┆           │\n",
       "│            ┆ UTC        ┆            ┆            ┆        ┆            ┆            ┆           │\n",
       "│ 106        ┆ 2023-03-10 ┆ 32         ┆ 8          ┆ 1      ┆ 0          ┆ 0          ┆ 0         │\n",
       "│            ┆ 00:30:00   ┆            ┆            ┆        ┆            ┆            ┆           │\n",
       "│            ┆ UTC        ┆            ┆            ┆        ┆            ┆            ┆           │\n",
       "│ 106        ┆ 2023-03-10 ┆ 33         ┆ 8          ┆ 1      ┆ 0          ┆ 1          ┆ 0         │\n",
       "│            ┆ 00:40:00   ┆            ┆            ┆        ┆            ┆            ┆           │\n",
       "│            ┆ UTC        ┆            ┆            ┆        ┆            ┆            ┆           │\n",
       "│ 106        ┆ 2023-03-10 ┆ 33         ┆ 7          ┆ 1      ┆ 0          ┆ 0          ┆ 1         │\n",
       "│            ┆ 00:50:00   ┆            ┆            ┆        ┆            ┆            ┆           │\n",
       "│            ┆ UTC        ┆            ┆            ┆        ┆            ┆            ┆           │\n",
       "└────────────┴────────────┴────────────┴────────────┴────────┴────────────┴────────────┴───────────┘"
      ]
     },
     "execution_count": 27,
     "metadata": {},
     "output_type": "execute_result"
    }
   ],
   "source": [
    "station_df_from_csv.head()"
   ]
  },
  {
   "attachments": {},
   "cell_type": "markdown",
   "metadata": {},
   "source": [
    "### Compare DataFrames"
   ]
  },
  {
   "cell_type": "code",
   "execution_count": 28,
   "metadata": {},
   "outputs": [],
   "source": [
    "assert_frame_equal(station_df_from_json, station_df_from_csv)"
   ]
  },
  {
   "cell_type": "code",
   "execution_count": 30,
   "metadata": {},
   "outputs": [],
   "source": [
    "station_df = station_df_from_json"
   ]
  },
  {
   "cell_type": "code",
   "execution_count": 35,
   "metadata": {},
   "outputs": [
    {
     "data": {
      "text/plain": [
       "1"
      ]
     },
     "execution_count": 35,
     "metadata": {},
     "output_type": "execute_result"
    }
   ],
   "source": [
    "station_df.select(\"station_id\").n_unique()"
   ]
  },
  {
   "cell_type": "code",
   "execution_count": 37,
   "metadata": {},
   "outputs": [
    {
     "data": {
      "text/plain": [
       "True"
      ]
     },
     "execution_count": 37,
     "metadata": {},
     "output_type": "execute_result"
    }
   ],
   "source": [
    "station_df.columns == [\n",
    "    \"station_id\",\n",
    "    \"date\",\n",
    "    \"available_stands\",\n",
    "    \"available_bikes\",\n",
    "    \"status\",\n",
    "    \"transactions_in\",\n",
    "    \"transactions_out\",\n",
    "    \"transactions_all\",\n",
    "]"
   ]
  },
  {
   "cell_type": "code",
   "execution_count": 58,
   "metadata": {},
   "outputs": [
    {
     "data": {
      "text/plain": [
       "polars.series.series.Series"
      ]
     },
     "execution_count": 58,
     "metadata": {},
     "output_type": "execute_result"
    }
   ],
   "source": [
    "# station_df[\"station_id\"].unique().to_list()\n",
    "type(station_df[\"station_id\"].unique())"
   ]
  },
  {
   "cell_type": "code",
   "execution_count": 63,
   "metadata": {},
   "outputs": [
    {
     "data": {
      "text/html": [
       "<div><style>\n",
       ".dataframe > thead > tr,\n",
       ".dataframe > tbody > tr {\n",
       "  text-align: right;\n",
       "  white-space: pre-wrap;\n",
       "}\n",
       "</style>\n",
       "<small>shape: (1, 8)</small><table border=\"1\" class=\"dataframe\"><thead><tr><th>station_id</th><th>date</th><th>available_stands</th><th>available_bikes</th><th>status</th><th>transactions_in</th><th>transactions_out</th><th>transactions_all</th></tr><tr><td>i32</td><td>datetime[μs, UTC]</td><td>i64</td><td>i64</td><td>u8</td><td>i64</td><td>i64</td><td>i64</td></tr></thead><tbody><tr><td>106</td><td>2023-03-10 00:10:00 UTC</td><td>32</td><td>8</td><td>1</td><td>0</td><td>0</td><td>0</td></tr></tbody></table></div>"
      ],
      "text/plain": [
       "shape: (1, 8)\n",
       "┌────────────┬────────────┬────────────┬────────────┬────────┬────────────┬────────────┬───────────┐\n",
       "│ station_id ┆ date       ┆ available_ ┆ available_ ┆ status ┆ transactio ┆ transactio ┆ transacti │\n",
       "│ ---        ┆ ---        ┆ stands     ┆ bikes      ┆ ---    ┆ ns_in      ┆ ns_out     ┆ ons_all   │\n",
       "│ i32        ┆ datetime[μ ┆ ---        ┆ ---        ┆ u8     ┆ ---        ┆ ---        ┆ ---       │\n",
       "│            ┆ s, UTC]    ┆ i64        ┆ i64        ┆        ┆ i64        ┆ i64        ┆ i64       │\n",
       "╞════════════╪════════════╪════════════╪════════════╪════════╪════════════╪════════════╪═══════════╡\n",
       "│ 106        ┆ 2023-03-10 ┆ 32         ┆ 8          ┆ 1      ┆ 0          ┆ 0          ┆ 0         │\n",
       "│            ┆ 00:10:00   ┆            ┆            ┆        ┆            ┆            ┆           │\n",
       "│            ┆ UTC        ┆            ┆            ┆        ┆            ┆            ┆           │\n",
       "└────────────┴────────────┴────────────┴────────────┴────────┴────────────┴────────────┴───────────┘"
      ]
     },
     "execution_count": 63,
     "metadata": {},
     "output_type": "execute_result"
    }
   ],
   "source": [
    "# type(station_df.select(\"station_id\").unique())\n",
    "station_df.unique(\"station_id\")"
   ]
  },
  {
   "cell_type": "code",
   "execution_count": 66,
   "metadata": {},
   "outputs": [
    {
     "data": {
      "text/plain": [
       "[106]"
      ]
     },
     "execution_count": 66,
     "metadata": {},
     "output_type": "execute_result"
    }
   ],
   "source": [
    "station_df.select(\"station_id\").unique().to_series().to_list()"
   ]
  }
 ],
 "metadata": {
  "kernelspec": {
   "display_name": "vcub_keeper",
   "language": "python",
   "name": "python3"
  },
  "language_info": {
   "codemirror_mode": {
    "name": "ipython",
    "version": 3
   },
   "file_extension": ".py",
   "mimetype": "text/x-python",
   "name": "python",
   "nbconvert_exporter": "python",
   "pygments_lexer": "ipython3",
   "version": "3.12.5"
  },
  "orig_nbformat": 4
 },
 "nbformat": 4,
 "nbformat_minor": 2
}
