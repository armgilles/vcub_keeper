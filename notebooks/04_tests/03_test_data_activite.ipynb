{
 "cells": [
  {
   "cell_type": "code",
   "execution_count": 1,
   "metadata": {},
   "outputs": [],
   "source": [
    "import pandas as pd\n",
    "import json\n",
    "\n",
    "from vcub_keeper.reader.reader import read_activity_vcub\n",
    "from vcub_keeper.production.data import transform_json_api_bdx_station_data_to_df\n",
    "\n",
    "\n",
    "from vcub_keeper.config import ROOT_TESTS_DATA\n",
    "\n",
    "%load_ext autoreload\n",
    "%autoreload 2"
   ]
  },
  {
   "cell_type": "markdown",
   "metadata": {},
   "source": [
    "Permets d'extraire les données non simulée afin de faire les tests de benchmark pour les fonctions suivantes :\n",
    "- `get_transactions_out()`\n",
    "- `get_transactions_in()`"
   ]
  },
  {
   "cell_type": "code",
   "execution_count": 47,
   "metadata": {},
   "outputs": [],
   "source": [
    "# Lecture de l'activité des stations\n",
    "activite = read_activity_vcub()"
   ]
  },
  {
   "cell_type": "code",
   "execution_count": 48,
   "metadata": {},
   "outputs": [
    {
     "data": {
      "text/plain": [
       "(5630, 8)"
      ]
     },
     "execution_count": 48,
     "metadata": {},
     "output_type": "execute_result"
    }
   ],
   "source": [
    "list_station_id = [106, 22, 43, 102, 123]\n",
    "start_date = \"2017-07-10\" \n",
    "end_date = \"2017-07-14\"\n",
    "\n",
    "export = activite[(activite['station_id'].isin(list_station_id)) & (activite['date'] >= start_date) & (activite['date'] <= end_date)].copy()\n",
    "export.shape"
   ]
  },
  {
   "cell_type": "code",
   "execution_count": 49,
   "metadata": {},
   "outputs": [
    {
     "data": {
      "text/plain": [
       "array([ 22,  43, 102, 106, 123], dtype=uint8)"
      ]
     },
     "execution_count": 49,
     "metadata": {},
     "output_type": "execute_result"
    }
   ],
   "source": [
    "export.station_id.unique()"
   ]
  },
  {
   "cell_type": "code",
   "execution_count": 50,
   "metadata": {},
   "outputs": [
    {
     "data": {
      "text/html": [
       "<div>\n",
       "<style scoped>\n",
       "    .dataframe tbody tr th:only-of-type {\n",
       "        vertical-align: middle;\n",
       "    }\n",
       "\n",
       "    .dataframe tbody tr th {\n",
       "        vertical-align: top;\n",
       "    }\n",
       "\n",
       "    .dataframe thead th {\n",
       "        text-align: right;\n",
       "    }\n",
       "</style>\n",
       "<table border=\"1\" class=\"dataframe\">\n",
       "  <thead>\n",
       "    <tr style=\"text-align: right;\">\n",
       "      <th></th>\n",
       "      <th>gid</th>\n",
       "      <th>station_id</th>\n",
       "      <th>type</th>\n",
       "      <th>name</th>\n",
       "      <th>state</th>\n",
       "      <th>available_stands</th>\n",
       "      <th>available_bikes</th>\n",
       "      <th>date</th>\n",
       "    </tr>\n",
       "  </thead>\n",
       "  <tbody>\n",
       "    <tr>\n",
       "      <th>454307</th>\n",
       "      <td>92</td>\n",
       "      <td>22</td>\n",
       "      <td>VLS</td>\n",
       "      <td>Hotel de Ville</td>\n",
       "      <td>1</td>\n",
       "      <td>31</td>\n",
       "      <td>2</td>\n",
       "      <td>2017-07-10 00:04:04</td>\n",
       "    </tr>\n",
       "    <tr>\n",
       "      <th>454308</th>\n",
       "      <td>92</td>\n",
       "      <td>22</td>\n",
       "      <td>VLS</td>\n",
       "      <td>Hotel de Ville</td>\n",
       "      <td>1</td>\n",
       "      <td>33</td>\n",
       "      <td>0</td>\n",
       "      <td>2017-07-10 00:09:04</td>\n",
       "    </tr>\n",
       "    <tr>\n",
       "      <th>454309</th>\n",
       "      <td>92</td>\n",
       "      <td>22</td>\n",
       "      <td>VLS</td>\n",
       "      <td>Hotel de Ville</td>\n",
       "      <td>1</td>\n",
       "      <td>33</td>\n",
       "      <td>0</td>\n",
       "      <td>2017-07-10 00:14:05</td>\n",
       "    </tr>\n",
       "    <tr>\n",
       "      <th>454310</th>\n",
       "      <td>92</td>\n",
       "      <td>22</td>\n",
       "      <td>VLS</td>\n",
       "      <td>Hotel de Ville</td>\n",
       "      <td>1</td>\n",
       "      <td>33</td>\n",
       "      <td>0</td>\n",
       "      <td>2017-07-10 00:19:04</td>\n",
       "    </tr>\n",
       "    <tr>\n",
       "      <th>454311</th>\n",
       "      <td>92</td>\n",
       "      <td>22</td>\n",
       "      <td>VLS</td>\n",
       "      <td>Hotel de Ville</td>\n",
       "      <td>1</td>\n",
       "      <td>33</td>\n",
       "      <td>0</td>\n",
       "      <td>2017-07-10 00:24:05</td>\n",
       "    </tr>\n",
       "  </tbody>\n",
       "</table>\n",
       "</div>"
      ],
      "text/plain": [
       "        gid  station_id type            name state  available_stands  \\\n",
       "454307   92          22  VLS  Hotel de Ville     1                31   \n",
       "454308   92          22  VLS  Hotel de Ville     1                33   \n",
       "454309   92          22  VLS  Hotel de Ville     1                33   \n",
       "454310   92          22  VLS  Hotel de Ville     1                33   \n",
       "454311   92          22  VLS  Hotel de Ville     1                33   \n",
       "\n",
       "        available_bikes                date  \n",
       "454307                2 2017-07-10 00:04:04  \n",
       "454308                0 2017-07-10 00:09:04  \n",
       "454309                0 2017-07-10 00:14:05  \n",
       "454310                0 2017-07-10 00:19:04  \n",
       "454311                0 2017-07-10 00:24:05  "
      ]
     },
     "execution_count": 50,
     "metadata": {},
     "output_type": "execute_result"
    }
   ],
   "source": [
    "export.head()"
   ]
  },
  {
   "cell_type": "code",
   "execution_count": 51,
   "metadata": {},
   "outputs": [
    {
     "data": {
      "text/plain": [
       "gid                          uint8\n",
       "station_id                   uint8\n",
       "type                      category\n",
       "name                string[python]\n",
       "state                     category\n",
       "available_stands             uint8\n",
       "available_bikes              uint8\n",
       "date                datetime64[ns]\n",
       "dtype: object"
      ]
     },
     "execution_count": 51,
     "metadata": {},
     "output_type": "execute_result"
    }
   ],
   "source": [
    "export.dtypes"
   ]
  },
  {
   "cell_type": "code",
   "execution_count": 52,
   "metadata": {},
   "outputs": [],
   "source": [
    "# have to change some columns to simulate original data\n",
    "\n",
    "\n",
    "state_dict = {1: \"CONNECTEE\", 0: \"DECONNECTEE\"}\n",
    "export[\"state\"] = export[\"state\"].map(state_dict)\n",
    "\n",
    "export = export.rename(columns={\"station_id\": \"ident\",\n",
    "                                \"date\": \"ts\"})"
   ]
  },
  {
   "cell_type": "markdown",
   "metadata": {},
   "source": [
    "### Export des données de test"
   ]
  },
  {
   "cell_type": "code",
   "execution_count": 53,
   "metadata": {},
   "outputs": [],
   "source": [
    "export.to_csv(ROOT_TESTS_DATA + \"activite_data.csv\", index=False)"
   ]
  },
  {
   "cell_type": "code",
   "execution_count": 54,
   "metadata": {},
   "outputs": [],
   "source": [
    "result_read_df = read_activity_vcub(file_path=ROOT_TESTS_DATA + \"activite_data.csv\")"
   ]
  },
  {
   "cell_type": "code",
   "execution_count": 55,
   "metadata": {},
   "outputs": [],
   "source": [
    "export_test = activite[(activite['station_id'].isin(list_station_id)) & (activite['date'] >= start_date) & (activite['date'] <= end_date)].copy()"
   ]
  },
  {
   "cell_type": "code",
   "execution_count": 56,
   "metadata": {},
   "outputs": [],
   "source": [
    "pd.testing.assert_frame_equal(result_read_df.reset_index(drop=True), \n",
    "                              export_test.reset_index(drop=True), \n",
    "                              check_categorical=False, \n",
    "                              check_dtype=False)"
   ]
  },
  {
   "cell_type": "code",
   "execution_count": 57,
   "metadata": {},
   "outputs": [
    {
     "data": {
      "text/html": [
       "<div>\n",
       "<style scoped>\n",
       "    .dataframe tbody tr th:only-of-type {\n",
       "        vertical-align: middle;\n",
       "    }\n",
       "\n",
       "    .dataframe tbody tr th {\n",
       "        vertical-align: top;\n",
       "    }\n",
       "\n",
       "    .dataframe thead th {\n",
       "        text-align: right;\n",
       "    }\n",
       "</style>\n",
       "<table border=\"1\" class=\"dataframe\">\n",
       "  <thead>\n",
       "    <tr style=\"text-align: right;\">\n",
       "      <th></th>\n",
       "      <th>gid</th>\n",
       "      <th>station_id</th>\n",
       "      <th>type</th>\n",
       "      <th>name</th>\n",
       "      <th>state</th>\n",
       "      <th>available_stands</th>\n",
       "      <th>available_bikes</th>\n",
       "      <th>date</th>\n",
       "    </tr>\n",
       "  </thead>\n",
       "  <tbody>\n",
       "    <tr>\n",
       "      <th>0</th>\n",
       "      <td>92</td>\n",
       "      <td>22</td>\n",
       "      <td>VLS</td>\n",
       "      <td>Hotel de Ville</td>\n",
       "      <td>1</td>\n",
       "      <td>31</td>\n",
       "      <td>2</td>\n",
       "      <td>2017-07-10 00:04:04</td>\n",
       "    </tr>\n",
       "    <tr>\n",
       "      <th>1</th>\n",
       "      <td>92</td>\n",
       "      <td>22</td>\n",
       "      <td>VLS</td>\n",
       "      <td>Hotel de Ville</td>\n",
       "      <td>1</td>\n",
       "      <td>33</td>\n",
       "      <td>0</td>\n",
       "      <td>2017-07-10 00:09:04</td>\n",
       "    </tr>\n",
       "    <tr>\n",
       "      <th>2</th>\n",
       "      <td>92</td>\n",
       "      <td>22</td>\n",
       "      <td>VLS</td>\n",
       "      <td>Hotel de Ville</td>\n",
       "      <td>1</td>\n",
       "      <td>33</td>\n",
       "      <td>0</td>\n",
       "      <td>2017-07-10 00:14:05</td>\n",
       "    </tr>\n",
       "    <tr>\n",
       "      <th>3</th>\n",
       "      <td>92</td>\n",
       "      <td>22</td>\n",
       "      <td>VLS</td>\n",
       "      <td>Hotel de Ville</td>\n",
       "      <td>1</td>\n",
       "      <td>33</td>\n",
       "      <td>0</td>\n",
       "      <td>2017-07-10 00:19:04</td>\n",
       "    </tr>\n",
       "    <tr>\n",
       "      <th>4</th>\n",
       "      <td>92</td>\n",
       "      <td>22</td>\n",
       "      <td>VLS</td>\n",
       "      <td>Hotel de Ville</td>\n",
       "      <td>1</td>\n",
       "      <td>33</td>\n",
       "      <td>0</td>\n",
       "      <td>2017-07-10 00:24:05</td>\n",
       "    </tr>\n",
       "  </tbody>\n",
       "</table>\n",
       "</div>"
      ],
      "text/plain": [
       "   gid  station_id type            name state  available_stands  \\\n",
       "0   92          22  VLS  Hotel de Ville     1                31   \n",
       "1   92          22  VLS  Hotel de Ville     1                33   \n",
       "2   92          22  VLS  Hotel de Ville     1                33   \n",
       "3   92          22  VLS  Hotel de Ville     1                33   \n",
       "4   92          22  VLS  Hotel de Ville     1                33   \n",
       "\n",
       "   available_bikes                date  \n",
       "0                2 2017-07-10 00:04:04  \n",
       "1                0 2017-07-10 00:09:04  \n",
       "2                0 2017-07-10 00:14:05  \n",
       "3                0 2017-07-10 00:19:04  \n",
       "4                0 2017-07-10 00:24:05  "
      ]
     },
     "execution_count": 57,
     "metadata": {},
     "output_type": "execute_result"
    }
   ],
   "source": [
    "result_read_df.reset_index(drop=True).head()"
   ]
  },
  {
   "cell_type": "code",
   "execution_count": 58,
   "metadata": {},
   "outputs": [
    {
     "data": {
      "text/html": [
       "<div>\n",
       "<style scoped>\n",
       "    .dataframe tbody tr th:only-of-type {\n",
       "        vertical-align: middle;\n",
       "    }\n",
       "\n",
       "    .dataframe tbody tr th {\n",
       "        vertical-align: top;\n",
       "    }\n",
       "\n",
       "    .dataframe thead th {\n",
       "        text-align: right;\n",
       "    }\n",
       "</style>\n",
       "<table border=\"1\" class=\"dataframe\">\n",
       "  <thead>\n",
       "    <tr style=\"text-align: right;\">\n",
       "      <th></th>\n",
       "      <th>gid</th>\n",
       "      <th>station_id</th>\n",
       "      <th>type</th>\n",
       "      <th>name</th>\n",
       "      <th>state</th>\n",
       "      <th>available_stands</th>\n",
       "      <th>available_bikes</th>\n",
       "      <th>date</th>\n",
       "    </tr>\n",
       "  </thead>\n",
       "  <tbody>\n",
       "    <tr>\n",
       "      <th>0</th>\n",
       "      <td>92</td>\n",
       "      <td>22</td>\n",
       "      <td>VLS</td>\n",
       "      <td>Hotel de Ville</td>\n",
       "      <td>1</td>\n",
       "      <td>31</td>\n",
       "      <td>2</td>\n",
       "      <td>2017-07-10 00:04:04</td>\n",
       "    </tr>\n",
       "    <tr>\n",
       "      <th>1</th>\n",
       "      <td>92</td>\n",
       "      <td>22</td>\n",
       "      <td>VLS</td>\n",
       "      <td>Hotel de Ville</td>\n",
       "      <td>1</td>\n",
       "      <td>33</td>\n",
       "      <td>0</td>\n",
       "      <td>2017-07-10 00:09:04</td>\n",
       "    </tr>\n",
       "    <tr>\n",
       "      <th>2</th>\n",
       "      <td>92</td>\n",
       "      <td>22</td>\n",
       "      <td>VLS</td>\n",
       "      <td>Hotel de Ville</td>\n",
       "      <td>1</td>\n",
       "      <td>33</td>\n",
       "      <td>0</td>\n",
       "      <td>2017-07-10 00:14:05</td>\n",
       "    </tr>\n",
       "    <tr>\n",
       "      <th>3</th>\n",
       "      <td>92</td>\n",
       "      <td>22</td>\n",
       "      <td>VLS</td>\n",
       "      <td>Hotel de Ville</td>\n",
       "      <td>1</td>\n",
       "      <td>33</td>\n",
       "      <td>0</td>\n",
       "      <td>2017-07-10 00:19:04</td>\n",
       "    </tr>\n",
       "    <tr>\n",
       "      <th>4</th>\n",
       "      <td>92</td>\n",
       "      <td>22</td>\n",
       "      <td>VLS</td>\n",
       "      <td>Hotel de Ville</td>\n",
       "      <td>1</td>\n",
       "      <td>33</td>\n",
       "      <td>0</td>\n",
       "      <td>2017-07-10 00:24:05</td>\n",
       "    </tr>\n",
       "  </tbody>\n",
       "</table>\n",
       "</div>"
      ],
      "text/plain": [
       "   gid  station_id type            name state  available_stands  \\\n",
       "0   92          22  VLS  Hotel de Ville     1                31   \n",
       "1   92          22  VLS  Hotel de Ville     1                33   \n",
       "2   92          22  VLS  Hotel de Ville     1                33   \n",
       "3   92          22  VLS  Hotel de Ville     1                33   \n",
       "4   92          22  VLS  Hotel de Ville     1                33   \n",
       "\n",
       "   available_bikes                date  \n",
       "0                2 2017-07-10 00:04:04  \n",
       "1                0 2017-07-10 00:09:04  \n",
       "2                0 2017-07-10 00:14:05  \n",
       "3                0 2017-07-10 00:19:04  \n",
       "4                0 2017-07-10 00:24:05  "
      ]
     },
     "execution_count": 58,
     "metadata": {},
     "output_type": "execute_result"
    }
   ],
   "source": [
    "export_test.reset_index(drop=True).head()"
   ]
  }
 ],
 "metadata": {
  "kernelspec": {
   "display_name": "vcub_keeper_py312",
   "language": "python",
   "name": "python3"
  },
  "language_info": {
   "codemirror_mode": {
    "name": "ipython",
    "version": 3
   },
   "file_extension": ".py",
   "mimetype": "text/x-python",
   "name": "python",
   "nbconvert_exporter": "python",
   "pygments_lexer": "ipython3",
   "version": "3.12.5"
  }
 },
 "nbformat": 4,
 "nbformat_minor": 2
}
