{
 "cells": [
  {
   "cell_type": "code",
   "execution_count": 1,
   "metadata": {},
   "outputs": [],
   "source": [
    "import pandas as pd\n",
    "import json\n",
    "\n",
    "from vcub_keeper.reader.reader import read_activity_vcub\n",
    "from vcub_keeper.production.data import transform_json_api_bdx_station_data_to_df\n",
    "\n",
    "\n",
    "from vcub_keeper.config import ROOT_TESTS_DATA\n",
    "\n",
    "%load_ext autoreload\n",
    "%autoreload 2"
   ]
  },
  {
   "cell_type": "markdown",
   "metadata": {},
   "source": [
    "Permets d'extraire les données non simulée afin de faire les tests de benchmark pour les fonctions suivantes :\n",
    "- `get_transactions_out()`\n",
    "- `get_transactions_in()`"
   ]
  },
  {
   "cell_type": "code",
   "execution_count": 47,
   "metadata": {},
   "outputs": [],
   "source": [
    "# Lecture de l'activité des stations\n",
    "activite = read_activity_vcub()"
   ]
  },
  {
   "cell_type": "code",
   "execution_count": 48,
   "metadata": {},
   "outputs": [
    {
     "data": {
      "text/plain": [
       "(5630, 8)"
      ]
     },
     "execution_count": 48,
     "metadata": {},
     "output_type": "execute_result"
    }
   ],
   "source": [
    "list_station_id = [106, 22, 43, 102, 123]\n",
    "start_date = \"2017-07-10\" \n",
    "end_date = \"2017-07-14\"\n",
    "\n",
    "export = activite[(activite['station_id'].isin(list_station_id)) & (activite['date'] >= start_date) & (activite['date'] <= end_date)].copy()\n",
    "export.shape"
   ]
  },
  {
   "cell_type": "code",
   "execution_count": 49,
   "metadata": {},
   "outputs": [
    {
     "data": {
      "text/plain": [
       "array([ 22,  43, 102, 106, 123], dtype=uint8)"
      ]
     },
     "execution_count": 49,
     "metadata": {},
     "output_type": "execute_result"
    }
   ],
   "source": [
    "export.station_id.unique()"
   ]
  },
  {
   "cell_type": "code",
   "execution_count": 50,
   "metadata": {},
   "outputs": [
    {
     "data": {
      "text/html": [
       "<div>\n",
       "<style scoped>\n",
       "    .dataframe tbody tr th:only-of-type {\n",
       "        vertical-align: middle;\n",
       "    }\n",
       "\n",
       "    .dataframe tbody tr th {\n",
       "        vertical-align: top;\n",
       "    }\n",
       "\n",
       "    .dataframe thead th {\n",
       "        text-align: right;\n",
       "    }\n",
       "</style>\n",
       "<table border=\"1\" class=\"dataframe\">\n",
       "  <thead>\n",
       "    <tr style=\"text-align: right;\">\n",
       "      <th></th>\n",
       "      <th>gid</th>\n",
       "      <th>station_id</th>\n",
       "      <th>type</th>\n",
       "      <th>name</th>\n",
       "      <th>state</th>\n",
       "      <th>available_stands</th>\n",
       "      <th>available_bikes</th>\n",
       "      <th>date</th>\n",
       "    </tr>\n",
       "  </thead>\n",
       "  <tbody>\n",
       "    <tr>\n",
       "      <th>454307</th>\n",
       "      <td>92</td>\n",
       "      <td>22</td>\n",
       "      <td>VLS</td>\n",
       "      <td>Hotel de Ville</td>\n",
       "      <td>1</td>\n",
       "      <td>31</td>\n",
       "      <td>2</td>\n",
       "      <td>2017-07-10 00:04:04</td>\n",
       "    </tr>\n",
       "    <tr>\n",
       "      <th>454308</th>\n",
       "      <td>92</td>\n",
       "      <td>22</td>\n",
       "      <td>VLS</td>\n",
       "      <td>Hotel de Ville</td>\n",
       "      <td>1</td>\n",
       "      <td>33</td>\n",
       "      <td>0</td>\n",
       "      <td>2017-07-10 00:09:04</td>\n",
       "    </tr>\n",
       "    <tr>\n",
       "      <th>454309</th>\n",
       "      <td>92</td>\n",
       "      <td>22</td>\n",
       "      <td>VLS</td>\n",
       "      <td>Hotel de Ville</td>\n",
       "      <td>1</td>\n",
       "      <td>33</td>\n",
       "      <td>0</td>\n",
       "      <td>2017-07-10 00:14:05</td>\n",
       "    </tr>\n",
       "    <tr>\n",
       "      <th>454310</th>\n",
       "      <td>92</td>\n",
       "      <td>22</td>\n",
       "      <td>VLS</td>\n",
       "      <td>Hotel de Ville</td>\n",
       "      <td>1</td>\n",
       "      <td>33</td>\n",
       "      <td>0</td>\n",
       "      <td>2017-07-10 00:19:04</td>\n",
       "    </tr>\n",
       "    <tr>\n",
       "      <th>454311</th>\n",
       "      <td>92</td>\n",
       "      <td>22</td>\n",
       "      <td>VLS</td>\n",
       "      <td>Hotel de Ville</td>\n",
       "      <td>1</td>\n",
       "      <td>33</td>\n",
       "      <td>0</td>\n",
       "      <td>2017-07-10 00:24:05</td>\n",
       "    </tr>\n",
       "  </tbody>\n",
       "</table>\n",
       "</div>"
      ],
      "text/plain": [
       "        gid  station_id type            name state  available_stands  \\\n",
       "454307   92          22  VLS  Hotel de Ville     1                31   \n",
       "454308   92          22  VLS  Hotel de Ville     1                33   \n",
       "454309   92          22  VLS  Hotel de Ville     1                33   \n",
       "454310   92          22  VLS  Hotel de Ville     1                33   \n",
       "454311   92          22  VLS  Hotel de Ville     1                33   \n",
       "\n",
       "        available_bikes                date  \n",
       "454307                2 2017-07-10 00:04:04  \n",
       "454308                0 2017-07-10 00:09:04  \n",
       "454309                0 2017-07-10 00:14:05  \n",
       "454310                0 2017-07-10 00:19:04  \n",
       "454311                0 2017-07-10 00:24:05  "
      ]
     },
     "execution_count": 50,
     "metadata": {},
     "output_type": "execute_result"
    }
   ],
   "source": [
    "export.head()"
   ]
  },
  {
   "cell_type": "code",
   "execution_count": 51,
   "metadata": {},
   "outputs": [
    {
     "data": {
      "text/plain": [
       "gid                          uint8\n",
       "station_id                   uint8\n",
       "type                      category\n",
       "name                string[python]\n",
       "state                     category\n",
       "available_stands             uint8\n",
       "available_bikes              uint8\n",
       "date                datetime64[ns]\n",
       "dtype: object"
      ]
     },
     "execution_count": 51,
     "metadata": {},
     "output_type": "execute_result"
    }
   ],
   "source": [
    "export.dtypes"
   ]
  },
  {
   "cell_type": "code",
   "execution_count": 52,
   "metadata": {},
   "outputs": [],
   "source": [
    "# have to change some columns to simulate original data\n",
    "\n",
    "\n",
    "state_dict = {1: \"CONNECTEE\", 0: \"DECONNECTEE\"}\n",
    "export[\"state\"] = export[\"state\"].map(state_dict)\n",
    "\n",
    "export = export.rename(columns={\"station_id\": \"ident\",\n",
    "                                \"date\": \"ts\"})"
   ]
  },
  {
   "cell_type": "markdown",
   "metadata": {},
   "source": [
    "### Export des données de test"
   ]
  },
  {
   "cell_type": "code",
   "execution_count": 53,
   "metadata": {},
   "outputs": [],
   "source": [
    "export.to_csv(ROOT_TESTS_DATA + \"activite_data.csv\", index=False)"
   ]
  },
  {
   "cell_type": "code",
   "execution_count": 54,
   "metadata": {},
   "outputs": [],
   "source": [
    "result_read_df = read_activity_vcub(file_path=ROOT_TESTS_DATA + \"activite_data.csv\")"
   ]
  },
  {
   "cell_type": "code",
   "execution_count": 55,
   "metadata": {},
   "outputs": [],
   "source": [
    "export_test = activite[(activite['station_id'].isin(list_station_id)) & (activite['date'] >= start_date) & (activite['date'] <= end_date)].copy()"
   ]
  },
  {
   "cell_type": "code",
   "execution_count": 56,
   "metadata": {},
   "outputs": [],
   "source": [
    "pd.testing.assert_frame_equal(result_read_df.reset_index(drop=True), \n",
    "                              export_test.reset_index(drop=True), \n",
    "                              check_categorical=False, \n",
    "                              check_dtype=False)"
   ]
  },
  {
   "cell_type": "code",
   "execution_count": 57,
   "metadata": {},
   "outputs": [
    {
     "data": {
      "text/html": [
       "<div>\n",
       "<style scoped>\n",
       "    .dataframe tbody tr th:only-of-type {\n",
       "        vertical-align: middle;\n",
       "    }\n",
       "\n",
       "    .dataframe tbody tr th {\n",
       "        vertical-align: top;\n",
       "    }\n",
       "\n",
       "    .dataframe thead th {\n",
       "        text-align: right;\n",
       "    }\n",
       "</style>\n",
       "<table border=\"1\" class=\"dataframe\">\n",
       "  <thead>\n",
       "    <tr style=\"text-align: right;\">\n",
       "      <th></th>\n",
       "      <th>gid</th>\n",
       "      <th>station_id</th>\n",
       "      <th>type</th>\n",
       "      <th>name</th>\n",
       "      <th>state</th>\n",
       "      <th>available_stands</th>\n",
       "      <th>available_bikes</th>\n",
       "      <th>date</th>\n",
       "    </tr>\n",
       "  </thead>\n",
       "  <tbody>\n",
       "    <tr>\n",
       "      <th>0</th>\n",
       "      <td>92</td>\n",
       "      <td>22</td>\n",
       "      <td>VLS</td>\n",
       "      <td>Hotel de Ville</td>\n",
       "      <td>1</td>\n",
       "      <td>31</td>\n",
       "      <td>2</td>\n",
       "      <td>2017-07-10 00:04:04</td>\n",
       "    </tr>\n",
       "    <tr>\n",
       "      <th>1</th>\n",
       "      <td>92</td>\n",
       "      <td>22</td>\n",
       "      <td>VLS</td>\n",
       "      <td>Hotel de Ville</td>\n",
       "      <td>1</td>\n",
       "      <td>33</td>\n",
       "      <td>0</td>\n",
       "      <td>2017-07-10 00:09:04</td>\n",
       "    </tr>\n",
       "    <tr>\n",
       "      <th>2</th>\n",
       "      <td>92</td>\n",
       "      <td>22</td>\n",
       "      <td>VLS</td>\n",
       "      <td>Hotel de Ville</td>\n",
       "      <td>1</td>\n",
       "      <td>33</td>\n",
       "      <td>0</td>\n",
       "      <td>2017-07-10 00:14:05</td>\n",
       "    </tr>\n",
       "    <tr>\n",
       "      <th>3</th>\n",
       "      <td>92</td>\n",
       "      <td>22</td>\n",
       "      <td>VLS</td>\n",
       "      <td>Hotel de Ville</td>\n",
       "      <td>1</td>\n",
       "      <td>33</td>\n",
       "      <td>0</td>\n",
       "      <td>2017-07-10 00:19:04</td>\n",
       "    </tr>\n",
       "    <tr>\n",
       "      <th>4</th>\n",
       "      <td>92</td>\n",
       "      <td>22</td>\n",
       "      <td>VLS</td>\n",
       "      <td>Hotel de Ville</td>\n",
       "      <td>1</td>\n",
       "      <td>33</td>\n",
       "      <td>0</td>\n",
       "      <td>2017-07-10 00:24:05</td>\n",
       "    </tr>\n",
       "  </tbody>\n",
       "</table>\n",
       "</div>"
      ],
      "text/plain": [
       "   gid  station_id type            name state  available_stands  \\\n",
       "0   92          22  VLS  Hotel de Ville     1                31   \n",
       "1   92          22  VLS  Hotel de Ville     1                33   \n",
       "2   92          22  VLS  Hotel de Ville     1                33   \n",
       "3   92          22  VLS  Hotel de Ville     1                33   \n",
       "4   92          22  VLS  Hotel de Ville     1                33   \n",
       "\n",
       "   available_bikes                date  \n",
       "0                2 2017-07-10 00:04:04  \n",
       "1                0 2017-07-10 00:09:04  \n",
       "2                0 2017-07-10 00:14:05  \n",
       "3                0 2017-07-10 00:19:04  \n",
       "4                0 2017-07-10 00:24:05  "
      ]
     },
     "execution_count": 57,
     "metadata": {},
     "output_type": "execute_result"
    }
   ],
   "source": [
    "result_read_df.reset_index(drop=True).head()"
   ]
  },
  {
   "cell_type": "code",
   "execution_count": 58,
   "metadata": {},
   "outputs": [
    {
     "data": {
      "text/html": [
       "<div>\n",
       "<style scoped>\n",
       "    .dataframe tbody tr th:only-of-type {\n",
       "        vertical-align: middle;\n",
       "    }\n",
       "\n",
       "    .dataframe tbody tr th {\n",
       "        vertical-align: top;\n",
       "    }\n",
       "\n",
       "    .dataframe thead th {\n",
       "        text-align: right;\n",
       "    }\n",
       "</style>\n",
       "<table border=\"1\" class=\"dataframe\">\n",
       "  <thead>\n",
       "    <tr style=\"text-align: right;\">\n",
       "      <th></th>\n",
       "      <th>gid</th>\n",
       "      <th>station_id</th>\n",
       "      <th>type</th>\n",
       "      <th>name</th>\n",
       "      <th>state</th>\n",
       "      <th>available_stands</th>\n",
       "      <th>available_bikes</th>\n",
       "      <th>date</th>\n",
       "    </tr>\n",
       "  </thead>\n",
       "  <tbody>\n",
       "    <tr>\n",
       "      <th>0</th>\n",
       "      <td>92</td>\n",
       "      <td>22</td>\n",
       "      <td>VLS</td>\n",
       "      <td>Hotel de Ville</td>\n",
       "      <td>1</td>\n",
       "      <td>31</td>\n",
       "      <td>2</td>\n",
       "      <td>2017-07-10 00:04:04</td>\n",
       "    </tr>\n",
       "    <tr>\n",
       "      <th>1</th>\n",
       "      <td>92</td>\n",
       "      <td>22</td>\n",
       "      <td>VLS</td>\n",
       "      <td>Hotel de Ville</td>\n",
       "      <td>1</td>\n",
       "      <td>33</td>\n",
       "      <td>0</td>\n",
       "      <td>2017-07-10 00:09:04</td>\n",
       "    </tr>\n",
       "    <tr>\n",
       "      <th>2</th>\n",
       "      <td>92</td>\n",
       "      <td>22</td>\n",
       "      <td>VLS</td>\n",
       "      <td>Hotel de Ville</td>\n",
       "      <td>1</td>\n",
       "      <td>33</td>\n",
       "      <td>0</td>\n",
       "      <td>2017-07-10 00:14:05</td>\n",
       "    </tr>\n",
       "    <tr>\n",
       "      <th>3</th>\n",
       "      <td>92</td>\n",
       "      <td>22</td>\n",
       "      <td>VLS</td>\n",
       "      <td>Hotel de Ville</td>\n",
       "      <td>1</td>\n",
       "      <td>33</td>\n",
       "      <td>0</td>\n",
       "      <td>2017-07-10 00:19:04</td>\n",
       "    </tr>\n",
       "    <tr>\n",
       "      <th>4</th>\n",
       "      <td>92</td>\n",
       "      <td>22</td>\n",
       "      <td>VLS</td>\n",
       "      <td>Hotel de Ville</td>\n",
       "      <td>1</td>\n",
       "      <td>33</td>\n",
       "      <td>0</td>\n",
       "      <td>2017-07-10 00:24:05</td>\n",
       "    </tr>\n",
       "  </tbody>\n",
       "</table>\n",
       "</div>"
      ],
      "text/plain": [
       "   gid  station_id type            name state  available_stands  \\\n",
       "0   92          22  VLS  Hotel de Ville     1                31   \n",
       "1   92          22  VLS  Hotel de Ville     1                33   \n",
       "2   92          22  VLS  Hotel de Ville     1                33   \n",
       "3   92          22  VLS  Hotel de Ville     1                33   \n",
       "4   92          22  VLS  Hotel de Ville     1                33   \n",
       "\n",
       "   available_bikes                date  \n",
       "0                2 2017-07-10 00:04:04  \n",
       "1                0 2017-07-10 00:09:04  \n",
       "2                0 2017-07-10 00:14:05  \n",
       "3                0 2017-07-10 00:19:04  \n",
       "4                0 2017-07-10 00:24:05  "
      ]
     },
     "execution_count": 58,
     "metadata": {},
     "output_type": "execute_result"
    }
   ],
   "source": [
    "export_test.reset_index(drop=True).head()"
   ]
  },
  {
   "cell_type": "markdown",
   "metadata": {},
   "source": [
    "# Amélioriation de la performance de la fonction "
   ]
  },
  {
   "cell_type": "markdown",
   "metadata": {},
   "source": [
    "cf : https://github.com/armgilles/vcub_keeper/issues/103"
   ]
  },
  {
   "cell_type": "code",
   "execution_count": 1,
   "metadata": {},
   "outputs": [],
   "source": [
    "import json\n",
    "\n",
    "import pandas as pd\n",
    "\n",
    "from vcub_keeper.config import ROOT_TESTS_DATA\n",
    "from vcub_keeper.transform.features_factory import get_transactions_all, get_transactions_in, get_transactions_out\n"
   ]
  },
  {
   "cell_type": "code",
   "execution_count": 2,
   "metadata": {},
   "outputs": [],
   "source": [
    "# Fonction de lecture des données de tests\n",
    "def read_json_data(file_name=\"data_test_api_from_bdx.json\"):\n",
    "    \"\"\"\n",
    "    Read test json data\n",
    "    From notebooks/04_tests/03_test_data_activite.ipynb\n",
    "    \"\"\"\n",
    "\n",
    "    # Loading data from data test (.json)\n",
    "    with open(ROOT_TESTS_DATA + file_name) as f:\n",
    "        station_json_loaded = json.load(f)\n",
    "    return station_json_loaded\n",
    "\n",
    "\n",
    "station_json_loaded = read_json_data()"
   ]
  },
  {
   "cell_type": "code",
   "execution_count": 58,
   "metadata": {},
   "outputs": [],
   "source": [
    "# Origingal fonction\n",
    "def transform_json_api_bdx_station_data_to_df(station_json):\n",
    "    \"\"\"\n",
    "    Tranforme la Time Serie d'activité d'une ou plusieurs station en DataFrame\n",
    "    à partir de la fonction get_data_from_api_bdx_by_station()\n",
    "    Effectue plusieurs transformation comme la fonction create/creator.py\n",
    "    create_activity_time_series()\n",
    "        - Naming des colonnes json\n",
    "        - Structuration\n",
    "        - Naming\n",
    "        - Ajout de variables\n",
    "        - Resampling sur 10min\n",
    "\n",
    "    Parameters\n",
    "    ----------\n",
    "    station_json : json\n",
    "        Time serie au format json de l'activité d'une station (ou plusieurs)\n",
    "    Returns\n",
    "    -------\n",
    "    station_df_resample : DataFrame\n",
    "        Time serie au format DataFrame de l'activité d'une ou plusieurs station\n",
    "        resampler sur 10 min.\n",
    "\n",
    "    Examples\n",
    "    --------\n",
    "\n",
    "    station_df = transform_json_api_bdx_station_data_to_df(station_json)\n",
    "\n",
    "    \"\"\"\n",
    "\n",
    "    station_df = pd.json_normalize(station_json, record_path=[\"features\"])\n",
    "\n",
    "    # Naming from JSON DataFrame\n",
    "    station_df.rename(columns={\"properties.time\": \"time\"}, inplace=True)\n",
    "    station_df.rename(columns={\"properties.ident\": \"ident\"}, inplace=True)\n",
    "    station_df.rename(columns={\"properties.nom\": \"nom\"}, inplace=True)\n",
    "    station_df.rename(columns={\"properties.etat\": \"etat\"}, inplace=True)\n",
    "    station_df.rename(columns={\"properties.nbplaces\": \"nbplaces\"}, inplace=True)\n",
    "    station_df.rename(columns={\"properties.nbvelos\": \"nbvelos\"}, inplace=True)\n",
    "\n",
    "    # naming api Bdx to vanilla api (get_data_from_api_by_station) from DataFrame\n",
    "    # Naming\n",
    "    station_df.rename(columns={\"time\": \"date\"}, inplace=True)\n",
    "    station_df.rename(columns={\"ident\": \"station_id\"}, inplace=True)\n",
    "    station_df.rename(columns={\"nom\": \"name\"}, inplace=True)\n",
    "    station_df.rename(columns={\"etat\": \"status\"}, inplace=True)\n",
    "    station_df.rename(columns={\"nbvelos\": \"available_bikes\"}, inplace=True)\n",
    "    station_df.rename(columns={\"nbplaces\": \"available_stands\"}, inplace=True)\n",
    "\n",
    "    # Status mapping\n",
    "    status_dict = {\"CONNECTEE\": 1, \"DECONNECTEE\": 0}\n",
    "    station_df[\"status\"] = station_df[\"status\"].map(status_dict).fillna(0)\n",
    "    station_df[\"status\"] = station_df[\"status\"].astype(\"uint8\")\n",
    "\n",
    "    # Casting & sorting DataFrame on station_id & date\n",
    "    station_df[\"date\"] = pd.to_datetime(station_df[\"date\"])\n",
    "    try:\n",
    "        station_df[\"date\"] = pd.to_datetime(station_df[\"date\"])\n",
    "    except:  # Changemnent d'horraire https://github.com/armgilles/vcub_watcher/issues/44  # noqa: E722\n",
    "        station_df[\"date\"] = pd.to_datetime(station_df[\"date\"], utc=True)\n",
    "    try:\n",
    "        station_df[\"date\"] = station_df[\"date\"].dt.tz_localize(\"Europe/Paris\")\n",
    "    except:  # try to convert TZ  # noqa: E722\n",
    "        station_df[\"date\"] = station_df[\"date\"].dt.tz_convert(\"Europe/Paris\")\n",
    "\n",
    "    station_df[\"station_id\"] = station_df[\"station_id\"].astype(int)\n",
    "    station_df = station_df.sort_values([\"station_id\", \"date\"], ascending=[1, 1])\n",
    "\n",
    "    # Reset index\n",
    "    station_df = station_df.reset_index(drop=True)\n",
    "\n",
    "    # Dropduplicate station_id / date rows\n",
    "    station_df = station_df.drop_duplicates(subset=[\"station_id\", \"date\"]).reset_index(drop=True)\n",
    "\n",
    "    # Create features\n",
    "    station_df = get_transactions_in(station_df)\n",
    "    station_df = get_transactions_out(station_df)\n",
    "    station_df = get_transactions_all(station_df)\n",
    "\n",
    "    ## Resampling\n",
    "\n",
    "    # # cf Bug Pandas : https://github.com/pandas-dev/pandas/issues/33548\n",
    "    station_df = station_df.set_index(\"date\")\n",
    "\n",
    "    station_df_resample = (\n",
    "        station_df.groupby(\"station_id\")\n",
    "        .resample(\n",
    "            \"10min\",\n",
    "            label=\"right\",\n",
    "        )\n",
    "        .agg(\n",
    "            {\n",
    "                \"available_stands\": \"last\",\n",
    "                \"available_bikes\": \"last\",\n",
    "                \"status\": \"max\",  # Empeche les micro déconnection à la station\n",
    "                \"transactions_in\": \"sum\",\n",
    "                \"transactions_out\": \"sum\",\n",
    "                \"transactions_all\": \"sum\",\n",
    "            }\n",
    "        )\n",
    "        .reset_index()\n",
    "    )\n",
    "    return station_df_resample"
   ]
  },
  {
   "cell_type": "code",
   "execution_count": 97,
   "metadata": {},
   "outputs": [],
   "source": [
    "# New fuction optimized & clean\n",
    "def transform_json_api_bdx_station_data_to_df(station_json):\n",
    "    \"\"\"\n",
    "    Tranforme la Time Serie d'activité d'une ou plusieurs station en DataFrame\n",
    "    à partir de la fonction get_data_from_api_bdx_by_station()\n",
    "    Effectue plusieurs transformation comme la fonction create/creator.py\n",
    "    create_activity_time_series()\n",
    "        - Naming des colonnes json\n",
    "        - Structuration\n",
    "        - Naming\n",
    "        - Ajout de variables\n",
    "        - Resampling sur 10min\n",
    "\n",
    "    Parameters\n",
    "    ----------\n",
    "    station_json : json\n",
    "        Time serie au format json de l'activité d'une station (ou plusieurs)\n",
    "    Returns\n",
    "    -------\n",
    "    station_df_resample : DataFrame\n",
    "        Time serie au format DataFrame de l'activité d'une ou plusieurs station\n",
    "        resampler sur 10 min.\n",
    "\n",
    "    Examples\n",
    "    --------\n",
    "\n",
    "    station_df = transform_json_api_bdx_station_data_to_df(station_json)\n",
    "\n",
    "    \"\"\"\n",
    "\n",
    "    station_df = pd.json_normalize(station_json, record_path=[\"features\"])\n",
    "\n",
    "    # Naming from JSON DataFrame\n",
    "    station_df = station_df.rename(\n",
    "        columns={\n",
    "            \"properties.time\": \"date\",\n",
    "            \"properties.ident\": \"station_id\",\n",
    "            \"properties.nom\": \"name\",\n",
    "            \"properties.etat\": \"status\",\n",
    "            \"properties.nbplaces\": \"available_stands\",\n",
    "            \"properties.nbvelos\": \"available_bikes\",\n",
    "        }\n",
    "    )\n",
    "\n",
    "    # Status mapping\n",
    "    status_dict = {\"CONNECTEE\": 1, \"DECONNECTEE\": 0}\n",
    "    station_df[\"status\"] = station_df[\"status\"].map(status_dict).fillna(0)\n",
    "    station_df[\"status\"] = station_df[\"status\"].astype(\"uint8\")\n",
    "\n",
    "    # Casting & sorting DataFrame on station_id & date\n",
    "    station_df[\"date\"] = pd.to_datetime(station_df[\"date\"], utc=True)\n",
    "\n",
    "    # Convert to Europe/Paris TZ\n",
    "    try:\n",
    "        station_df[\"date\"] = station_df[\"date\"].dt.tz_localize(\"Europe/Paris\")\n",
    "    except TypeError:  # try to convert TZ\n",
    "        station_df[\"date\"] = station_df[\"date\"].dt.tz_convert(\"Europe/Paris\")\n",
    "\n",
    "    station_df[\"station_id\"] = station_df[\"station_id\"].astype(int)\n",
    "    station_df = station_df.sort_values([\"station_id\", \"date\"], ascending=[1, 1])\n",
    "\n",
    "    # Dropduplicate station_id / date rows\n",
    "    station_df = station_df.drop_duplicates(subset=[\"station_id\", \"date\"]).reset_index(drop=True)\n",
    "\n",
    "    # Create features\n",
    "    station_df = get_transactions_in(station_df)\n",
    "    station_df = get_transactions_out(station_df)\n",
    "    station_df = get_transactions_all(station_df)\n",
    "\n",
    "    ## Resampling\n",
    "\n",
    "    # # cf Bug Pandas : https://github.com/pandas-dev/pandas/issues/33548\n",
    "    station_df = station_df.set_index(\"date\")\n",
    "\n",
    "    station_df_resample = (\n",
    "        station_df.groupby(\"station_id\")\n",
    "        .resample(\n",
    "            \"10min\",\n",
    "            label=\"right\",\n",
    "        )\n",
    "        .agg(\n",
    "            {\n",
    "                \"available_stands\": \"last\",\n",
    "                \"available_bikes\": \"last\",\n",
    "                \"status\": \"max\",  # Empeche les micro déconnection à la station\n",
    "                \"transactions_in\": \"sum\",\n",
    "                \"transactions_out\": \"sum\",\n",
    "                \"transactions_all\": \"sum\",\n",
    "            }\n",
    "        )\n",
    "        .reset_index()\n",
    "    )\n",
    "    return station_df_resample"
   ]
  },
  {
   "cell_type": "code",
   "execution_count": 95,
   "metadata": {},
   "outputs": [
    {
     "name": "stdout",
     "output_type": "stream",
     "text": [
      "23.9 ms ± 97.3 μs per loop (mean ± std. dev. of 50 runs, 10 loops each)\n"
     ]
    },
    {
     "data": {
      "text/plain": [
       "<TimeitResult : 23.9 ms ± 97.3 μs per loop (mean ± std. dev. of 50 runs, 10 loops each)>"
      ]
     },
     "execution_count": 95,
     "metadata": {},
     "output_type": "execute_result"
    }
   ],
   "source": [
    "%timeit -o -r 50 station_df_from_json = transform_json_api_bdx_station_data_to_df(station_json_loaded)"
   ]
  },
  {
   "cell_type": "code",
   "execution_count": 96,
   "metadata": {},
   "outputs": [
    {
     "data": {
      "text/plain": [
       "23.862433433532715"
      ]
     },
     "execution_count": 96,
     "metadata": {},
     "output_type": "execute_result"
    }
   ],
   "source": [
    "min(_.timings) * 1_000"
   ]
  },
  {
   "cell_type": "code",
   "execution_count": null,
   "metadata": {},
   "outputs": [],
   "source": [
    "# Original : 25.5 ms ± 433 μs per loop (mean ± std. dev. of 50 runs, 10 loops each)\n",
    "# improve rename cols : 24.6 ms ± 994 μs per loop (mean ± std. dev. of 50 runs, 10 loops each)\n",
    "# delete a reset_index() : 24.2 ms ± 826 μs per loop (mean ± std. dev. of 50 runs, 10 loops each)\n",
    "# convert datetime utc=true by default : 23.9 ms ± 97.3 μs per loop (mean ± std. dev. of 50 runs, 10 loops each)"
   ]
  },
  {
   "cell_type": "code",
   "execution_count": 84,
   "metadata": {},
   "outputs": [],
   "source": [
    "# Test pour la lecture d'heure d'été et d'heure d'hiver\n",
    "from datetime import datetime\n",
    "dates = [\n",
    "    \"2023-03-10T01:00:00+01:00\",  # Hiver\n",
    "    \"2023-06-10T01:00:00+02:00\",  # Été\n",
    "    \"2023-12-10T01:00:00+01:00\",  # Hiver\n",
    "    \"2023-09-10T01:00:00+02:00\"   # Été\n",
    "]\n",
    "\n",
    "# dates = [datetime.fromisoformat(date) for date in dates]\n",
    "\n",
    "# Créer le DataFrame\n",
    "station_df = pd.DataFrame({\n",
    "    'date': dates})"
   ]
  },
  {
   "cell_type": "code",
   "execution_count": 85,
   "metadata": {},
   "outputs": [
    {
     "data": {
      "text/html": [
       "<div>\n",
       "<style scoped>\n",
       "    .dataframe tbody tr th:only-of-type {\n",
       "        vertical-align: middle;\n",
       "    }\n",
       "\n",
       "    .dataframe tbody tr th {\n",
       "        vertical-align: top;\n",
       "    }\n",
       "\n",
       "    .dataframe thead th {\n",
       "        text-align: right;\n",
       "    }\n",
       "</style>\n",
       "<table border=\"1\" class=\"dataframe\">\n",
       "  <thead>\n",
       "    <tr style=\"text-align: right;\">\n",
       "      <th></th>\n",
       "      <th>date</th>\n",
       "    </tr>\n",
       "  </thead>\n",
       "  <tbody>\n",
       "    <tr>\n",
       "      <th>0</th>\n",
       "      <td>2023-03-10T01:00:00+01:00</td>\n",
       "    </tr>\n",
       "    <tr>\n",
       "      <th>1</th>\n",
       "      <td>2023-06-10T01:00:00+02:00</td>\n",
       "    </tr>\n",
       "    <tr>\n",
       "      <th>2</th>\n",
       "      <td>2023-12-10T01:00:00+01:00</td>\n",
       "    </tr>\n",
       "    <tr>\n",
       "      <th>3</th>\n",
       "      <td>2023-09-10T01:00:00+02:00</td>\n",
       "    </tr>\n",
       "  </tbody>\n",
       "</table>\n",
       "</div>"
      ],
      "text/plain": [
       "                        date\n",
       "0  2023-03-10T01:00:00+01:00\n",
       "1  2023-06-10T01:00:00+02:00\n",
       "2  2023-12-10T01:00:00+01:00\n",
       "3  2023-09-10T01:00:00+02:00"
      ]
     },
     "execution_count": 85,
     "metadata": {},
     "output_type": "execute_result"
    }
   ],
   "source": [
    "station_df"
   ]
  },
  {
   "cell_type": "code",
   "execution_count": 86,
   "metadata": {},
   "outputs": [
    {
     "data": {
      "text/plain": [
       "date    object\n",
       "dtype: object"
      ]
     },
     "execution_count": 86,
     "metadata": {},
     "output_type": "execute_result"
    }
   ],
   "source": [
    "station_df.dtypes"
   ]
  },
  {
   "cell_type": "code",
   "execution_count": 87,
   "metadata": {},
   "outputs": [],
   "source": [
    "station_df[\"date\"] = pd.to_datetime(station_df[\"date\"], utc=True)"
   ]
  },
  {
   "cell_type": "code",
   "execution_count": 88,
   "metadata": {},
   "outputs": [
    {
     "data": {
      "text/html": [
       "<div>\n",
       "<style scoped>\n",
       "    .dataframe tbody tr th:only-of-type {\n",
       "        vertical-align: middle;\n",
       "    }\n",
       "\n",
       "    .dataframe tbody tr th {\n",
       "        vertical-align: top;\n",
       "    }\n",
       "\n",
       "    .dataframe thead th {\n",
       "        text-align: right;\n",
       "    }\n",
       "</style>\n",
       "<table border=\"1\" class=\"dataframe\">\n",
       "  <thead>\n",
       "    <tr style=\"text-align: right;\">\n",
       "      <th></th>\n",
       "      <th>date</th>\n",
       "    </tr>\n",
       "  </thead>\n",
       "  <tbody>\n",
       "    <tr>\n",
       "      <th>0</th>\n",
       "      <td>2023-03-10 00:00:00+00:00</td>\n",
       "    </tr>\n",
       "    <tr>\n",
       "      <th>1</th>\n",
       "      <td>2023-06-09 23:00:00+00:00</td>\n",
       "    </tr>\n",
       "    <tr>\n",
       "      <th>2</th>\n",
       "      <td>2023-12-10 00:00:00+00:00</td>\n",
       "    </tr>\n",
       "    <tr>\n",
       "      <th>3</th>\n",
       "      <td>2023-09-09 23:00:00+00:00</td>\n",
       "    </tr>\n",
       "  </tbody>\n",
       "</table>\n",
       "</div>"
      ],
      "text/plain": [
       "                       date\n",
       "0 2023-03-10 00:00:00+00:00\n",
       "1 2023-06-09 23:00:00+00:00\n",
       "2 2023-12-10 00:00:00+00:00\n",
       "3 2023-09-09 23:00:00+00:00"
      ]
     },
     "execution_count": 88,
     "metadata": {},
     "output_type": "execute_result"
    }
   ],
   "source": [
    "station_df"
   ]
  },
  {
   "cell_type": "code",
   "execution_count": 89,
   "metadata": {},
   "outputs": [],
   "source": [
    "station_df[\"date\"] = station_df[\"date\"].dt.tz_convert(\"Europe/Paris\")"
   ]
  },
  {
   "cell_type": "code",
   "execution_count": 90,
   "metadata": {},
   "outputs": [
    {
     "data": {
      "text/html": [
       "<div>\n",
       "<style scoped>\n",
       "    .dataframe tbody tr th:only-of-type {\n",
       "        vertical-align: middle;\n",
       "    }\n",
       "\n",
       "    .dataframe tbody tr th {\n",
       "        vertical-align: top;\n",
       "    }\n",
       "\n",
       "    .dataframe thead th {\n",
       "        text-align: right;\n",
       "    }\n",
       "</style>\n",
       "<table border=\"1\" class=\"dataframe\">\n",
       "  <thead>\n",
       "    <tr style=\"text-align: right;\">\n",
       "      <th></th>\n",
       "      <th>date</th>\n",
       "    </tr>\n",
       "  </thead>\n",
       "  <tbody>\n",
       "    <tr>\n",
       "      <th>0</th>\n",
       "      <td>2023-03-10 01:00:00+01:00</td>\n",
       "    </tr>\n",
       "    <tr>\n",
       "      <th>1</th>\n",
       "      <td>2023-06-10 01:00:00+02:00</td>\n",
       "    </tr>\n",
       "    <tr>\n",
       "      <th>2</th>\n",
       "      <td>2023-12-10 01:00:00+01:00</td>\n",
       "    </tr>\n",
       "    <tr>\n",
       "      <th>3</th>\n",
       "      <td>2023-09-10 01:00:00+02:00</td>\n",
       "    </tr>\n",
       "  </tbody>\n",
       "</table>\n",
       "</div>"
      ],
      "text/plain": [
       "                       date\n",
       "0 2023-03-10 01:00:00+01:00\n",
       "1 2023-06-10 01:00:00+02:00\n",
       "2 2023-12-10 01:00:00+01:00\n",
       "3 2023-09-10 01:00:00+02:00"
      ]
     },
     "execution_count": 90,
     "metadata": {},
     "output_type": "execute_result"
    }
   ],
   "source": [
    "station_df"
   ]
  }
 ],
 "metadata": {
  "kernelspec": {
   "display_name": "vcub_keeper_py312",
   "language": "python",
   "name": "python3"
  },
  "language_info": {
   "codemirror_mode": {
    "name": "ipython",
    "version": 3
   },
   "file_extension": ".py",
   "mimetype": "text/x-python",
   "name": "python",
   "nbconvert_exporter": "python",
   "pygments_lexer": "ipython3",
   "version": "3.12.5"
  }
 },
 "nbformat": 4,
 "nbformat_minor": 2
}
