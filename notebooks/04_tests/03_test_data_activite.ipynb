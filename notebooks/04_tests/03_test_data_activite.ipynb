{
 "cells": [
  {
   "cell_type": "code",
   "execution_count": 12,
   "metadata": {},
   "outputs": [
    {
     "name": "stdout",
     "output_type": "stream",
     "text": [
      "The autoreload extension is already loaded. To reload it, use:\n",
      "  %reload_ext autoreload\n"
     ]
    }
   ],
   "source": [
    "import json\n",
    "\n",
    "import pandas as pd\n",
    "\n",
    "from vcub_keeper.config import ROOT_TESTS_DATA\n",
    "from vcub_keeper.reader.reader import read_activity_vcub\n",
    "\n",
    "%load_ext autoreload\n",
    "%autoreload 2"
   ]
  },
  {
   "cell_type": "markdown",
   "metadata": {},
   "source": [
    "Permets d'extraire les données non simulée afin de faire les tests de benchmark pour les fonctions suivantes :\n",
    "- `get_transactions_out()`\n",
    "- `get_transactions_in()`"
   ]
  },
  {
   "cell_type": "code",
   "execution_count": 13,
   "metadata": {},
   "outputs": [],
   "source": [
    "# Lecture de l'activité des stations\n",
    "activite = read_activity_vcub()"
   ]
  },
  {
   "cell_type": "code",
   "execution_count": 14,
   "metadata": {},
   "outputs": [
    {
     "data": {
      "text/html": [
       "<div><style>\n",
       ".dataframe > thead > tr,\n",
       ".dataframe > tbody > tr {\n",
       "  text-align: right;\n",
       "  white-space: pre-wrap;\n",
       "}\n",
       "</style>\n",
       "<small>shape: (3_761_880, 8)</small><table border=\"1\" class=\"dataframe\"><thead><tr><th>gid</th><th>station_id</th><th>type</th><th>name</th><th>state</th><th>available_stands</th><th>available_bikes</th><th>date</th></tr><tr><td>u8</td><td>u8</td><td>cat</td><td>str</td><td>str</td><td>u8</td><td>u8</td><td>datetime[μs]</td></tr></thead><tbody><tr><td>83</td><td>1</td><td>&quot;VLS&quot;</td><td>&quot;Meriadeck&quot;</td><td>&quot;1&quot;</td><td>18</td><td>2</td><td>2017-07-09 00:03:04</td></tr><tr><td>83</td><td>1</td><td>&quot;VLS&quot;</td><td>&quot;Meriadeck&quot;</td><td>&quot;1&quot;</td><td>18</td><td>2</td><td>2017-07-09 00:04:04</td></tr><tr><td>83</td><td>1</td><td>&quot;VLS&quot;</td><td>&quot;Meriadeck&quot;</td><td>&quot;1&quot;</td><td>18</td><td>2</td><td>2017-07-09 00:09:04</td></tr><tr><td>83</td><td>1</td><td>&quot;VLS&quot;</td><td>&quot;Meriadeck&quot;</td><td>&quot;1&quot;</td><td>18</td><td>2</td><td>2017-07-09 00:14:03</td></tr><tr><td>83</td><td>1</td><td>&quot;VLS&quot;</td><td>&quot;Meriadeck&quot;</td><td>&quot;1&quot;</td><td>18</td><td>2</td><td>2017-07-09 00:19:04</td></tr><tr><td>&hellip;</td><td>&hellip;</td><td>&hellip;</td><td>&hellip;</td><td>&hellip;</td><td>&hellip;</td><td>&hellip;</td><td>&hellip;</td></tr><tr><td>176</td><td>174</td><td>&quot;VLS&quot;</td><td>&quot;Darwin&quot;</td><td>&quot;1&quot;</td><td>1</td><td>19</td><td>2017-09-26 14:39:02</td></tr><tr><td>176</td><td>174</td><td>&quot;VLS&quot;</td><td>&quot;Darwin&quot;</td><td>&quot;1&quot;</td><td>0</td><td>20</td><td>2017-09-26 14:44:05</td></tr><tr><td>176</td><td>174</td><td>&quot;VLS&quot;</td><td>&quot;Darwin&quot;</td><td>&quot;1&quot;</td><td>0</td><td>20</td><td>2017-09-26 14:49:05</td></tr><tr><td>176</td><td>174</td><td>&quot;VLS&quot;</td><td>&quot;Darwin&quot;</td><td>&quot;1&quot;</td><td>0</td><td>20</td><td>2017-09-26 14:54:04</td></tr><tr><td>176</td><td>174</td><td>&quot;VLS&quot;</td><td>&quot;Darwin&quot;</td><td>&quot;1&quot;</td><td>0</td><td>20</td><td>2017-09-26 14:59:04</td></tr></tbody></table></div>"
      ],
      "text/plain": [
       "shape: (3_761_880, 8)\n",
       "┌─────┬────────────┬──────┬───────────┬───────┬─────────────────┬─────────────────┬────────────────┐\n",
       "│ gid ┆ station_id ┆ type ┆ name      ┆ state ┆ available_stand ┆ available_bikes ┆ date           │\n",
       "│ --- ┆ ---        ┆ ---  ┆ ---       ┆ ---   ┆ s               ┆ ---             ┆ ---            │\n",
       "│ u8  ┆ u8         ┆ cat  ┆ str       ┆ str   ┆ ---             ┆ u8              ┆ datetime[μs]   │\n",
       "│     ┆            ┆      ┆           ┆       ┆ u8              ┆                 ┆                │\n",
       "╞═════╪════════════╪══════╪═══════════╪═══════╪═════════════════╪═════════════════╪════════════════╡\n",
       "│ 83  ┆ 1          ┆ VLS  ┆ Meriadeck ┆ 1     ┆ 18              ┆ 2               ┆ 2017-07-09     │\n",
       "│     ┆            ┆      ┆           ┆       ┆                 ┆                 ┆ 00:03:04       │\n",
       "│ 83  ┆ 1          ┆ VLS  ┆ Meriadeck ┆ 1     ┆ 18              ┆ 2               ┆ 2017-07-09     │\n",
       "│     ┆            ┆      ┆           ┆       ┆                 ┆                 ┆ 00:04:04       │\n",
       "│ 83  ┆ 1          ┆ VLS  ┆ Meriadeck ┆ 1     ┆ 18              ┆ 2               ┆ 2017-07-09     │\n",
       "│     ┆            ┆      ┆           ┆       ┆                 ┆                 ┆ 00:09:04       │\n",
       "│ 83  ┆ 1          ┆ VLS  ┆ Meriadeck ┆ 1     ┆ 18              ┆ 2               ┆ 2017-07-09     │\n",
       "│     ┆            ┆      ┆           ┆       ┆                 ┆                 ┆ 00:14:03       │\n",
       "│ 83  ┆ 1          ┆ VLS  ┆ Meriadeck ┆ 1     ┆ 18              ┆ 2               ┆ 2017-07-09     │\n",
       "│     ┆            ┆      ┆           ┆       ┆                 ┆                 ┆ 00:19:04       │\n",
       "│ …   ┆ …          ┆ …    ┆ …         ┆ …     ┆ …               ┆ …               ┆ …              │\n",
       "│ 176 ┆ 174        ┆ VLS  ┆ Darwin    ┆ 1     ┆ 1               ┆ 19              ┆ 2017-09-26     │\n",
       "│     ┆            ┆      ┆           ┆       ┆                 ┆                 ┆ 14:39:02       │\n",
       "│ 176 ┆ 174        ┆ VLS  ┆ Darwin    ┆ 1     ┆ 0               ┆ 20              ┆ 2017-09-26     │\n",
       "│     ┆            ┆      ┆           ┆       ┆                 ┆                 ┆ 14:44:05       │\n",
       "│ 176 ┆ 174        ┆ VLS  ┆ Darwin    ┆ 1     ┆ 0               ┆ 20              ┆ 2017-09-26     │\n",
       "│     ┆            ┆      ┆           ┆       ┆                 ┆                 ┆ 14:49:05       │\n",
       "│ 176 ┆ 174        ┆ VLS  ┆ Darwin    ┆ 1     ┆ 0               ┆ 20              ┆ 2017-09-26     │\n",
       "│     ┆            ┆      ┆           ┆       ┆                 ┆                 ┆ 14:54:04       │\n",
       "│ 176 ┆ 174        ┆ VLS  ┆ Darwin    ┆ 1     ┆ 0               ┆ 20              ┆ 2017-09-26     │\n",
       "│     ┆            ┆      ┆           ┆       ┆                 ┆                 ┆ 14:59:04       │\n",
       "└─────┴────────────┴──────┴───────────┴───────┴─────────────────┴─────────────────┴────────────────┘"
      ]
     },
     "execution_count": 14,
     "metadata": {},
     "output_type": "execute_result"
    }
   ],
   "source": [
    "activite"
   ]
  },
  {
   "cell_type": "code",
   "execution_count": 15,
   "metadata": {},
   "outputs": [
    {
     "data": {
      "text/plain": [
       "Schema([('gid', UInt8),\n",
       "        ('station_id', UInt8),\n",
       "        ('type', Categorical(ordering='physical')),\n",
       "        ('name', String),\n",
       "        ('state', String),\n",
       "        ('available_stands', UInt8),\n",
       "        ('available_bikes', UInt8),\n",
       "        ('date', Datetime(time_unit='us', time_zone=None))])"
      ]
     },
     "execution_count": 15,
     "metadata": {},
     "output_type": "execute_result"
    }
   ],
   "source": [
    "activite.collect_schema()"
   ]
  },
  {
   "cell_type": "code",
   "execution_count": null,
   "metadata": {},
   "outputs": [],
   "source": [
    "# La suite est du Pandas (wip)\n",
    "\n",
    "# TO DO\n",
    "# State est un string pour Polars, alors que c'était un categorical pour Pandas"
   ]
  },
  {
   "cell_type": "code",
   "execution_count": 48,
   "metadata": {},
   "outputs": [
    {
     "data": {
      "text/plain": [
       "(5630, 8)"
      ]
     },
     "execution_count": 48,
     "metadata": {},
     "output_type": "execute_result"
    }
   ],
   "source": [
    "list_station_id = [106, 22, 43, 102, 123]\n",
    "start_date = \"2017-07-10\"\n",
    "end_date = \"2017-07-14\"\n",
    "\n",
    "export = activite[\n",
    "    (activite[\"station_id\"].isin(list_station_id)) & (activite[\"date\"] >= start_date) & (activite[\"date\"] <= end_date)\n",
    "].copy()\n",
    "export.shape"
   ]
  },
  {
   "cell_type": "code",
   "execution_count": 49,
   "metadata": {},
   "outputs": [
    {
     "data": {
      "text/plain": [
       "array([ 22,  43, 102, 106, 123], dtype=uint8)"
      ]
     },
     "execution_count": 49,
     "metadata": {},
     "output_type": "execute_result"
    }
   ],
   "source": [
    "export.station_id.unique()"
   ]
  },
  {
   "cell_type": "code",
   "execution_count": 50,
   "metadata": {},
   "outputs": [
    {
     "data": {
      "text/html": [
       "<div>\n",
       "<style scoped>\n",
       "    .dataframe tbody tr th:only-of-type {\n",
       "        vertical-align: middle;\n",
       "    }\n",
       "\n",
       "    .dataframe tbody tr th {\n",
       "        vertical-align: top;\n",
       "    }\n",
       "\n",
       "    .dataframe thead th {\n",
       "        text-align: right;\n",
       "    }\n",
       "</style>\n",
       "<table border=\"1\" class=\"dataframe\">\n",
       "  <thead>\n",
       "    <tr style=\"text-align: right;\">\n",
       "      <th></th>\n",
       "      <th>gid</th>\n",
       "      <th>station_id</th>\n",
       "      <th>type</th>\n",
       "      <th>name</th>\n",
       "      <th>state</th>\n",
       "      <th>available_stands</th>\n",
       "      <th>available_bikes</th>\n",
       "      <th>date</th>\n",
       "    </tr>\n",
       "  </thead>\n",
       "  <tbody>\n",
       "    <tr>\n",
       "      <th>454307</th>\n",
       "      <td>92</td>\n",
       "      <td>22</td>\n",
       "      <td>VLS</td>\n",
       "      <td>Hotel de Ville</td>\n",
       "      <td>1</td>\n",
       "      <td>31</td>\n",
       "      <td>2</td>\n",
       "      <td>2017-07-10 00:04:04</td>\n",
       "    </tr>\n",
       "    <tr>\n",
       "      <th>454308</th>\n",
       "      <td>92</td>\n",
       "      <td>22</td>\n",
       "      <td>VLS</td>\n",
       "      <td>Hotel de Ville</td>\n",
       "      <td>1</td>\n",
       "      <td>33</td>\n",
       "      <td>0</td>\n",
       "      <td>2017-07-10 00:09:04</td>\n",
       "    </tr>\n",
       "    <tr>\n",
       "      <th>454309</th>\n",
       "      <td>92</td>\n",
       "      <td>22</td>\n",
       "      <td>VLS</td>\n",
       "      <td>Hotel de Ville</td>\n",
       "      <td>1</td>\n",
       "      <td>33</td>\n",
       "      <td>0</td>\n",
       "      <td>2017-07-10 00:14:05</td>\n",
       "    </tr>\n",
       "    <tr>\n",
       "      <th>454310</th>\n",
       "      <td>92</td>\n",
       "      <td>22</td>\n",
       "      <td>VLS</td>\n",
       "      <td>Hotel de Ville</td>\n",
       "      <td>1</td>\n",
       "      <td>33</td>\n",
       "      <td>0</td>\n",
       "      <td>2017-07-10 00:19:04</td>\n",
       "    </tr>\n",
       "    <tr>\n",
       "      <th>454311</th>\n",
       "      <td>92</td>\n",
       "      <td>22</td>\n",
       "      <td>VLS</td>\n",
       "      <td>Hotel de Ville</td>\n",
       "      <td>1</td>\n",
       "      <td>33</td>\n",
       "      <td>0</td>\n",
       "      <td>2017-07-10 00:24:05</td>\n",
       "    </tr>\n",
       "  </tbody>\n",
       "</table>\n",
       "</div>"
      ],
      "text/plain": [
       "        gid  station_id type            name state  available_stands  \\\n",
       "454307   92          22  VLS  Hotel de Ville     1                31   \n",
       "454308   92          22  VLS  Hotel de Ville     1                33   \n",
       "454309   92          22  VLS  Hotel de Ville     1                33   \n",
       "454310   92          22  VLS  Hotel de Ville     1                33   \n",
       "454311   92          22  VLS  Hotel de Ville     1                33   \n",
       "\n",
       "        available_bikes                date  \n",
       "454307                2 2017-07-10 00:04:04  \n",
       "454308                0 2017-07-10 00:09:04  \n",
       "454309                0 2017-07-10 00:14:05  \n",
       "454310                0 2017-07-10 00:19:04  \n",
       "454311                0 2017-07-10 00:24:05  "
      ]
     },
     "execution_count": 50,
     "metadata": {},
     "output_type": "execute_result"
    }
   ],
   "source": [
    "export.head()"
   ]
  },
  {
   "cell_type": "code",
   "execution_count": 51,
   "metadata": {},
   "outputs": [
    {
     "data": {
      "text/plain": [
       "gid                          uint8\n",
       "station_id                   uint8\n",
       "type                      category\n",
       "name                string[python]\n",
       "state                     category\n",
       "available_stands             uint8\n",
       "available_bikes              uint8\n",
       "date                datetime64[ns]\n",
       "dtype: object"
      ]
     },
     "execution_count": 51,
     "metadata": {},
     "output_type": "execute_result"
    }
   ],
   "source": [
    "export.dtypes"
   ]
  },
  {
   "cell_type": "code",
   "execution_count": 52,
   "metadata": {},
   "outputs": [],
   "source": [
    "# have to change some columns to simulate original data\n",
    "\n",
    "\n",
    "state_dict = {1: \"CONNECTEE\", 0: \"DECONNECTEE\"}\n",
    "export[\"state\"] = export[\"state\"].map(state_dict)\n",
    "\n",
    "export = export.rename(columns={\"station_id\": \"ident\", \"date\": \"ts\"})"
   ]
  },
  {
   "cell_type": "markdown",
   "metadata": {},
   "source": [
    "### Export des données de test"
   ]
  },
  {
   "cell_type": "code",
   "execution_count": 53,
   "metadata": {},
   "outputs": [],
   "source": [
    "export.to_csv(ROOT_TESTS_DATA + \"activite_data.csv\", index=False)"
   ]
  },
  {
   "cell_type": "code",
   "execution_count": 54,
   "metadata": {},
   "outputs": [],
   "source": [
    "result_read_df = read_activity_vcub(file_path=ROOT_TESTS_DATA + \"activite_data.csv\")"
   ]
  },
  {
   "cell_type": "code",
   "execution_count": 55,
   "metadata": {},
   "outputs": [],
   "source": [
    "export_test = activite[\n",
    "    (activite[\"station_id\"].isin(list_station_id)) & (activite[\"date\"] >= start_date) & (activite[\"date\"] <= end_date)\n",
    "].copy()"
   ]
  },
  {
   "cell_type": "code",
   "execution_count": 56,
   "metadata": {},
   "outputs": [],
   "source": [
    "pd.testing.assert_frame_equal(\n",
    "    result_read_df.reset_index(drop=True),\n",
    "    export_test.reset_index(drop=True),\n",
    "    check_categorical=False,\n",
    "    check_dtype=False,\n",
    ")"
   ]
  },
  {
   "cell_type": "code",
   "execution_count": 57,
   "metadata": {},
   "outputs": [
    {
     "data": {
      "text/html": [
       "<div>\n",
       "<style scoped>\n",
       "    .dataframe tbody tr th:only-of-type {\n",
       "        vertical-align: middle;\n",
       "    }\n",
       "\n",
       "    .dataframe tbody tr th {\n",
       "        vertical-align: top;\n",
       "    }\n",
       "\n",
       "    .dataframe thead th {\n",
       "        text-align: right;\n",
       "    }\n",
       "</style>\n",
       "<table border=\"1\" class=\"dataframe\">\n",
       "  <thead>\n",
       "    <tr style=\"text-align: right;\">\n",
       "      <th></th>\n",
       "      <th>gid</th>\n",
       "      <th>station_id</th>\n",
       "      <th>type</th>\n",
       "      <th>name</th>\n",
       "      <th>state</th>\n",
       "      <th>available_stands</th>\n",
       "      <th>available_bikes</th>\n",
       "      <th>date</th>\n",
       "    </tr>\n",
       "  </thead>\n",
       "  <tbody>\n",
       "    <tr>\n",
       "      <th>0</th>\n",
       "      <td>92</td>\n",
       "      <td>22</td>\n",
       "      <td>VLS</td>\n",
       "      <td>Hotel de Ville</td>\n",
       "      <td>1</td>\n",
       "      <td>31</td>\n",
       "      <td>2</td>\n",
       "      <td>2017-07-10 00:04:04</td>\n",
       "    </tr>\n",
       "    <tr>\n",
       "      <th>1</th>\n",
       "      <td>92</td>\n",
       "      <td>22</td>\n",
       "      <td>VLS</td>\n",
       "      <td>Hotel de Ville</td>\n",
       "      <td>1</td>\n",
       "      <td>33</td>\n",
       "      <td>0</td>\n",
       "      <td>2017-07-10 00:09:04</td>\n",
       "    </tr>\n",
       "    <tr>\n",
       "      <th>2</th>\n",
       "      <td>92</td>\n",
       "      <td>22</td>\n",
       "      <td>VLS</td>\n",
       "      <td>Hotel de Ville</td>\n",
       "      <td>1</td>\n",
       "      <td>33</td>\n",
       "      <td>0</td>\n",
       "      <td>2017-07-10 00:14:05</td>\n",
       "    </tr>\n",
       "    <tr>\n",
       "      <th>3</th>\n",
       "      <td>92</td>\n",
       "      <td>22</td>\n",
       "      <td>VLS</td>\n",
       "      <td>Hotel de Ville</td>\n",
       "      <td>1</td>\n",
       "      <td>33</td>\n",
       "      <td>0</td>\n",
       "      <td>2017-07-10 00:19:04</td>\n",
       "    </tr>\n",
       "    <tr>\n",
       "      <th>4</th>\n",
       "      <td>92</td>\n",
       "      <td>22</td>\n",
       "      <td>VLS</td>\n",
       "      <td>Hotel de Ville</td>\n",
       "      <td>1</td>\n",
       "      <td>33</td>\n",
       "      <td>0</td>\n",
       "      <td>2017-07-10 00:24:05</td>\n",
       "    </tr>\n",
       "  </tbody>\n",
       "</table>\n",
       "</div>"
      ],
      "text/plain": [
       "   gid  station_id type            name state  available_stands  \\\n",
       "0   92          22  VLS  Hotel de Ville     1                31   \n",
       "1   92          22  VLS  Hotel de Ville     1                33   \n",
       "2   92          22  VLS  Hotel de Ville     1                33   \n",
       "3   92          22  VLS  Hotel de Ville     1                33   \n",
       "4   92          22  VLS  Hotel de Ville     1                33   \n",
       "\n",
       "   available_bikes                date  \n",
       "0                2 2017-07-10 00:04:04  \n",
       "1                0 2017-07-10 00:09:04  \n",
       "2                0 2017-07-10 00:14:05  \n",
       "3                0 2017-07-10 00:19:04  \n",
       "4                0 2017-07-10 00:24:05  "
      ]
     },
     "execution_count": 57,
     "metadata": {},
     "output_type": "execute_result"
    }
   ],
   "source": [
    "result_read_df.reset_index(drop=True).head()"
   ]
  },
  {
   "cell_type": "code",
   "execution_count": 58,
   "metadata": {},
   "outputs": [
    {
     "data": {
      "text/html": [
       "<div>\n",
       "<style scoped>\n",
       "    .dataframe tbody tr th:only-of-type {\n",
       "        vertical-align: middle;\n",
       "    }\n",
       "\n",
       "    .dataframe tbody tr th {\n",
       "        vertical-align: top;\n",
       "    }\n",
       "\n",
       "    .dataframe thead th {\n",
       "        text-align: right;\n",
       "    }\n",
       "</style>\n",
       "<table border=\"1\" class=\"dataframe\">\n",
       "  <thead>\n",
       "    <tr style=\"text-align: right;\">\n",
       "      <th></th>\n",
       "      <th>gid</th>\n",
       "      <th>station_id</th>\n",
       "      <th>type</th>\n",
       "      <th>name</th>\n",
       "      <th>state</th>\n",
       "      <th>available_stands</th>\n",
       "      <th>available_bikes</th>\n",
       "      <th>date</th>\n",
       "    </tr>\n",
       "  </thead>\n",
       "  <tbody>\n",
       "    <tr>\n",
       "      <th>0</th>\n",
       "      <td>92</td>\n",
       "      <td>22</td>\n",
       "      <td>VLS</td>\n",
       "      <td>Hotel de Ville</td>\n",
       "      <td>1</td>\n",
       "      <td>31</td>\n",
       "      <td>2</td>\n",
       "      <td>2017-07-10 00:04:04</td>\n",
       "    </tr>\n",
       "    <tr>\n",
       "      <th>1</th>\n",
       "      <td>92</td>\n",
       "      <td>22</td>\n",
       "      <td>VLS</td>\n",
       "      <td>Hotel de Ville</td>\n",
       "      <td>1</td>\n",
       "      <td>33</td>\n",
       "      <td>0</td>\n",
       "      <td>2017-07-10 00:09:04</td>\n",
       "    </tr>\n",
       "    <tr>\n",
       "      <th>2</th>\n",
       "      <td>92</td>\n",
       "      <td>22</td>\n",
       "      <td>VLS</td>\n",
       "      <td>Hotel de Ville</td>\n",
       "      <td>1</td>\n",
       "      <td>33</td>\n",
       "      <td>0</td>\n",
       "      <td>2017-07-10 00:14:05</td>\n",
       "    </tr>\n",
       "    <tr>\n",
       "      <th>3</th>\n",
       "      <td>92</td>\n",
       "      <td>22</td>\n",
       "      <td>VLS</td>\n",
       "      <td>Hotel de Ville</td>\n",
       "      <td>1</td>\n",
       "      <td>33</td>\n",
       "      <td>0</td>\n",
       "      <td>2017-07-10 00:19:04</td>\n",
       "    </tr>\n",
       "    <tr>\n",
       "      <th>4</th>\n",
       "      <td>92</td>\n",
       "      <td>22</td>\n",
       "      <td>VLS</td>\n",
       "      <td>Hotel de Ville</td>\n",
       "      <td>1</td>\n",
       "      <td>33</td>\n",
       "      <td>0</td>\n",
       "      <td>2017-07-10 00:24:05</td>\n",
       "    </tr>\n",
       "  </tbody>\n",
       "</table>\n",
       "</div>"
      ],
      "text/plain": [
       "   gid  station_id type            name state  available_stands  \\\n",
       "0   92          22  VLS  Hotel de Ville     1                31   \n",
       "1   92          22  VLS  Hotel de Ville     1                33   \n",
       "2   92          22  VLS  Hotel de Ville     1                33   \n",
       "3   92          22  VLS  Hotel de Ville     1                33   \n",
       "4   92          22  VLS  Hotel de Ville     1                33   \n",
       "\n",
       "   available_bikes                date  \n",
       "0                2 2017-07-10 00:04:04  \n",
       "1                0 2017-07-10 00:09:04  \n",
       "2                0 2017-07-10 00:14:05  \n",
       "3                0 2017-07-10 00:19:04  \n",
       "4                0 2017-07-10 00:24:05  "
      ]
     },
     "execution_count": 58,
     "metadata": {},
     "output_type": "execute_result"
    }
   ],
   "source": [
    "export_test.reset_index(drop=True).head()"
   ]
  },
  {
   "cell_type": "markdown",
   "metadata": {},
   "source": [
    "# Amélioriation de la performance de la fonction "
   ]
  },
  {
   "cell_type": "markdown",
   "metadata": {},
   "source": [
    "cf : https://github.com/armgilles/vcub_keeper/issues/103"
   ]
  },
  {
   "cell_type": "code",
   "execution_count": 1,
   "metadata": {},
   "outputs": [],
   "source": [
    "import pandas as pd\n",
    "\n",
    "from vcub_keeper.config import ROOT_TESTS_DATA"
   ]
  },
  {
   "cell_type": "code",
   "execution_count": 2,
   "metadata": {},
   "outputs": [],
   "source": [
    "# Fonction de lecture des données de tests\n",
    "def read_json_data(file_name=\"data_test_api_from_bdx.json\"):\n",
    "    \"\"\"\n",
    "    Read test json data\n",
    "    From notebooks/04_tests/03_test_data_activite.ipynb\n",
    "    \"\"\"\n",
    "\n",
    "    # Loading data from data test (.json)\n",
    "    with open(ROOT_TESTS_DATA + file_name) as f:\n",
    "        station_json_loaded = json.load(f)\n",
    "    return station_json_loaded\n",
    "\n",
    "\n",
    "station_json_loaded = read_json_data()"
   ]
  },
  {
   "cell_type": "code",
   "execution_count": 95,
   "metadata": {},
   "outputs": [
    {
     "name": "stdout",
     "output_type": "stream",
     "text": [
      "23.9 ms ± 97.3 μs per loop (mean ± std. dev. of 50 runs, 10 loops each)\n"
     ]
    },
    {
     "data": {
      "text/plain": [
       "<TimeitResult : 23.9 ms ± 97.3 μs per loop (mean ± std. dev. of 50 runs, 10 loops each)>"
      ]
     },
     "execution_count": 95,
     "metadata": {},
     "output_type": "execute_result"
    }
   ],
   "source": [
    "%timeit -o -r 50 station_df_from_json = transform_json_api_bdx_station_data_to_df(station_json_loaded)"
   ]
  },
  {
   "cell_type": "code",
   "execution_count": 96,
   "metadata": {},
   "outputs": [
    {
     "data": {
      "text/plain": [
       "23.862433433532715"
      ]
     },
     "execution_count": 96,
     "metadata": {},
     "output_type": "execute_result"
    }
   ],
   "source": [
    "# min(_.timings) * 1_000"
   ]
  },
  {
   "cell_type": "code",
   "execution_count": null,
   "metadata": {},
   "outputs": [],
   "source": [
    "# Original : 25.5 ms ± 433 μs per loop (mean ± std. dev. of 50 runs, 10 loops each)\n",
    "# improve rename cols : 24.6 ms ± 994 μs per loop (mean ± std. dev. of 50 runs, 10 loops each)\n",
    "# delete a reset_index() : 24.2 ms ± 826 μs per loop (mean ± std. dev. of 50 runs, 10 loops each)\n",
    "# convert datetime utc=true by default : 23.9 ms ± 97.3 μs per loop (mean ± std. dev. of 50 runs, 10 loops each)"
   ]
  },
  {
   "cell_type": "code",
   "execution_count": 84,
   "metadata": {},
   "outputs": [],
   "source": [
    "# Test pour la lecture d'heure d'été et d'heure d'hiver\n",
    "dates = [\n",
    "    \"2023-03-10T01:00:00+01:00\",  # Hiver\n",
    "    \"2023-06-10T01:00:00+02:00\",  # Été\n",
    "    \"2023-12-10T01:00:00+01:00\",  # Hiver\n",
    "    \"2023-09-10T01:00:00+02:00\",  # Été\n",
    "]\n",
    "\n",
    "# dates = [datetime.fromisoformat(date) for date in dates]\n",
    "\n",
    "# Créer le DataFrame\n",
    "station_df = pd.DataFrame({\"date\": dates})"
   ]
  },
  {
   "cell_type": "code",
   "execution_count": 85,
   "metadata": {},
   "outputs": [
    {
     "data": {
      "text/html": [
       "<div>\n",
       "<style scoped>\n",
       "    .dataframe tbody tr th:only-of-type {\n",
       "        vertical-align: middle;\n",
       "    }\n",
       "\n",
       "    .dataframe tbody tr th {\n",
       "        vertical-align: top;\n",
       "    }\n",
       "\n",
       "    .dataframe thead th {\n",
       "        text-align: right;\n",
       "    }\n",
       "</style>\n",
       "<table border=\"1\" class=\"dataframe\">\n",
       "  <thead>\n",
       "    <tr style=\"text-align: right;\">\n",
       "      <th></th>\n",
       "      <th>date</th>\n",
       "    </tr>\n",
       "  </thead>\n",
       "  <tbody>\n",
       "    <tr>\n",
       "      <th>0</th>\n",
       "      <td>2023-03-10T01:00:00+01:00</td>\n",
       "    </tr>\n",
       "    <tr>\n",
       "      <th>1</th>\n",
       "      <td>2023-06-10T01:00:00+02:00</td>\n",
       "    </tr>\n",
       "    <tr>\n",
       "      <th>2</th>\n",
       "      <td>2023-12-10T01:00:00+01:00</td>\n",
       "    </tr>\n",
       "    <tr>\n",
       "      <th>3</th>\n",
       "      <td>2023-09-10T01:00:00+02:00</td>\n",
       "    </tr>\n",
       "  </tbody>\n",
       "</table>\n",
       "</div>"
      ],
      "text/plain": [
       "                        date\n",
       "0  2023-03-10T01:00:00+01:00\n",
       "1  2023-06-10T01:00:00+02:00\n",
       "2  2023-12-10T01:00:00+01:00\n",
       "3  2023-09-10T01:00:00+02:00"
      ]
     },
     "execution_count": 85,
     "metadata": {},
     "output_type": "execute_result"
    }
   ],
   "source": [
    "station_df"
   ]
  },
  {
   "cell_type": "code",
   "execution_count": 86,
   "metadata": {},
   "outputs": [
    {
     "data": {
      "text/plain": [
       "date    object\n",
       "dtype: object"
      ]
     },
     "execution_count": 86,
     "metadata": {},
     "output_type": "execute_result"
    }
   ],
   "source": [
    "station_df.dtypes"
   ]
  },
  {
   "cell_type": "code",
   "execution_count": 87,
   "metadata": {},
   "outputs": [],
   "source": [
    "station_df[\"date\"] = pd.to_datetime(station_df[\"date\"], utc=True)"
   ]
  },
  {
   "cell_type": "code",
   "execution_count": 88,
   "metadata": {},
   "outputs": [
    {
     "data": {
      "text/html": [
       "<div>\n",
       "<style scoped>\n",
       "    .dataframe tbody tr th:only-of-type {\n",
       "        vertical-align: middle;\n",
       "    }\n",
       "\n",
       "    .dataframe tbody tr th {\n",
       "        vertical-align: top;\n",
       "    }\n",
       "\n",
       "    .dataframe thead th {\n",
       "        text-align: right;\n",
       "    }\n",
       "</style>\n",
       "<table border=\"1\" class=\"dataframe\">\n",
       "  <thead>\n",
       "    <tr style=\"text-align: right;\">\n",
       "      <th></th>\n",
       "      <th>date</th>\n",
       "    </tr>\n",
       "  </thead>\n",
       "  <tbody>\n",
       "    <tr>\n",
       "      <th>0</th>\n",
       "      <td>2023-03-10 00:00:00+00:00</td>\n",
       "    </tr>\n",
       "    <tr>\n",
       "      <th>1</th>\n",
       "      <td>2023-06-09 23:00:00+00:00</td>\n",
       "    </tr>\n",
       "    <tr>\n",
       "      <th>2</th>\n",
       "      <td>2023-12-10 00:00:00+00:00</td>\n",
       "    </tr>\n",
       "    <tr>\n",
       "      <th>3</th>\n",
       "      <td>2023-09-09 23:00:00+00:00</td>\n",
       "    </tr>\n",
       "  </tbody>\n",
       "</table>\n",
       "</div>"
      ],
      "text/plain": [
       "                       date\n",
       "0 2023-03-10 00:00:00+00:00\n",
       "1 2023-06-09 23:00:00+00:00\n",
       "2 2023-12-10 00:00:00+00:00\n",
       "3 2023-09-09 23:00:00+00:00"
      ]
     },
     "execution_count": 88,
     "metadata": {},
     "output_type": "execute_result"
    }
   ],
   "source": [
    "station_df"
   ]
  },
  {
   "cell_type": "code",
   "execution_count": 89,
   "metadata": {},
   "outputs": [],
   "source": [
    "station_df[\"date\"] = station_df[\"date\"].dt.tz_convert(\"Europe/Paris\")"
   ]
  },
  {
   "cell_type": "code",
   "execution_count": 90,
   "metadata": {},
   "outputs": [
    {
     "data": {
      "text/html": [
       "<div>\n",
       "<style scoped>\n",
       "    .dataframe tbody tr th:only-of-type {\n",
       "        vertical-align: middle;\n",
       "    }\n",
       "\n",
       "    .dataframe tbody tr th {\n",
       "        vertical-align: top;\n",
       "    }\n",
       "\n",
       "    .dataframe thead th {\n",
       "        text-align: right;\n",
       "    }\n",
       "</style>\n",
       "<table border=\"1\" class=\"dataframe\">\n",
       "  <thead>\n",
       "    <tr style=\"text-align: right;\">\n",
       "      <th></th>\n",
       "      <th>date</th>\n",
       "    </tr>\n",
       "  </thead>\n",
       "  <tbody>\n",
       "    <tr>\n",
       "      <th>0</th>\n",
       "      <td>2023-03-10 01:00:00+01:00</td>\n",
       "    </tr>\n",
       "    <tr>\n",
       "      <th>1</th>\n",
       "      <td>2023-06-10 01:00:00+02:00</td>\n",
       "    </tr>\n",
       "    <tr>\n",
       "      <th>2</th>\n",
       "      <td>2023-12-10 01:00:00+01:00</td>\n",
       "    </tr>\n",
       "    <tr>\n",
       "      <th>3</th>\n",
       "      <td>2023-09-10 01:00:00+02:00</td>\n",
       "    </tr>\n",
       "  </tbody>\n",
       "</table>\n",
       "</div>"
      ],
      "text/plain": [
       "                       date\n",
       "0 2023-03-10 01:00:00+01:00\n",
       "1 2023-06-10 01:00:00+02:00\n",
       "2 2023-12-10 01:00:00+01:00\n",
       "3 2023-09-10 01:00:00+02:00"
      ]
     },
     "execution_count": 90,
     "metadata": {},
     "output_type": "execute_result"
    }
   ],
   "source": [
    "station_df"
   ]
  }
 ],
 "metadata": {
  "kernelspec": {
   "display_name": "vcub_keeper_py312",
   "language": "python",
   "name": "python3"
  },
  "language_info": {
   "codemirror_mode": {
    "name": "ipython",
    "version": 3
   },
   "file_extension": ".py",
   "mimetype": "text/x-python",
   "name": "python",
   "nbconvert_exporter": "python",
   "pygments_lexer": "ipython3",
   "version": "3.12.5"
  }
 },
 "nbformat": 4,
 "nbformat_minor": 2
}
