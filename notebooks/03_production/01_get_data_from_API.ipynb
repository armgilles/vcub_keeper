version https://git-lfs.github.com/spec/v1
oid sha256:5a6b2201846eb668a584599ede6093bfaf94ebc0a3ddeed788b22ef88aad25c0
size 344464
