version https://git-lfs.github.com/spec/v1
oid sha256:5b8f4fd0b4318d9af60481feaf53f251b3a2b8fa842ca0ca0a195dfcea87ac81
size 344394
