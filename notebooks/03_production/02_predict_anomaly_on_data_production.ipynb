version https://git-lfs.github.com/spec/v1
oid sha256:5e3ed1ac8a76e76398ae6308d352d07a9ffe1147aa26e8c6a1f78d51bddb21d6
size 3926598
