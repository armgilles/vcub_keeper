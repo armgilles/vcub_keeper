version https://git-lfs.github.com/spec/v1
oid sha256:39093bf0b70c8e3d2f2722d05be905ab8ce60a324fef09c5efcd038ac5bbb8a6
size 4467400
