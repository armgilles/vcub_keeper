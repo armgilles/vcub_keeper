{
 "cells": [
  {
   "cell_type": "markdown",
   "metadata": {
    "toc": true
   },
   "source": [
    "<h1>Table of Contents<span class=\"tocSkip\"></span></h1>\n",
    "<div class=\"toc\"><ul class=\"toc-item\"><li><span><a href=\"#Objectifs\" data-toc-modified-id=\"Objectifs-1\"><span class=\"toc-item-num\">1&nbsp;&nbsp;</span>Objectifs</a></span><ul class=\"toc-item\"><li><span><a href=\"#Fichiers-des-stations-:\" data-toc-modified-id=\"Fichiers-des-stations-:-1.1\"><span class=\"toc-item-num\">1.1&nbsp;&nbsp;</span>Fichiers des stations :</a></span><ul class=\"toc-item\"><li><span><a href=\"#Fonction-de-lecture\" data-toc-modified-id=\"Fonction-de-lecture-1.1.1\"><span class=\"toc-item-num\">1.1.1&nbsp;&nbsp;</span>Fonction de lecture</a></span></li><li><span><a href=\"#Industrialisation\" data-toc-modified-id=\"Industrialisation-1.1.2\"><span class=\"toc-item-num\">1.1.2&nbsp;&nbsp;</span>Industrialisation</a></span></li></ul></li><li><span><a href=\"#Fichier-activité-Vcub\" data-toc-modified-id=\"Fichier-activité-Vcub-1.2\"><span class=\"toc-item-num\">1.2&nbsp;&nbsp;</span>Fichier activité Vcub</a></span><ul class=\"toc-item\"><li><span><a href=\"#Fonction-de-lecture-:\" data-toc-modified-id=\"Fonction-de-lecture-:-1.2.1\"><span class=\"toc-item-num\">1.2.1&nbsp;&nbsp;</span>Fonction de lecture :</a></span></li><li><span><a href=\"#Industrialisation\" data-toc-modified-id=\"Industrialisation-1.2.2\"><span class=\"toc-item-num\">1.2.2&nbsp;&nbsp;</span>Industrialisation</a></span></li></ul></li></ul></li></ul></div>"
   ]
  },
  {
   "cell_type": "code",
   "execution_count": 66,
   "metadata": {
    "ExecuteTime": {
     "end_time": "2020-08-25T11:44:04.167753Z",
     "start_time": "2020-08-25T11:44:04.158785Z"
    }
   },
   "outputs": [
    {
     "name": "stdout",
     "output_type": "stream",
     "text": [
      "The autoreload extension is already loaded. To reload it, use:\n",
      "  %reload_ext autoreload\n"
     ]
    }
   ],
   "source": [
    "import pandas as pd\n",
    "import numpy as np\n",
    "\n",
    "%load_ext autoreload\n",
    "%autoreload 2"
   ]
  },
  {
   "cell_type": "markdown",
   "metadata": {},
   "source": [
    "## Objectifs"
   ]
  },
  {
   "cell_type": "markdown",
   "metadata": {},
   "source": [
    "- Lecture des données des vcub de Bordeaux.\n",
    "- Création de functions de lecture."
   ]
  },
  {
   "cell_type": "markdown",
   "metadata": {},
   "source": [
    "### Fichiers des stations : "
   ]
  },
  {
   "cell_type": "code",
   "execution_count": 67,
   "metadata": {
    "ExecuteTime": {
     "end_time": "2020-08-25T11:44:06.068051Z",
     "start_time": "2020-08-25T11:44:06.052102Z"
    }
   },
   "outputs": [],
   "source": [
    "file_path = \"../../data/bordeaux-stations.csv\"\n",
    "stations = pd.read_csv(file_path)"
   ]
  },
  {
   "cell_type": "code",
   "execution_count": 68,
   "metadata": {
    "ExecuteTime": {
     "end_time": "2020-08-25T11:44:06.269772Z",
     "start_time": "2020-08-25T11:44:06.255170Z"
    }
   },
   "outputs": [
    {
     "data": {
      "text/plain": [
       "(174, 4)"
      ]
     },
     "execution_count": 68,
     "metadata": {},
     "output_type": "execute_result"
    }
   ],
   "source": [
    "stations.shape"
   ]
  },
  {
   "cell_type": "code",
   "execution_count": 69,
   "metadata": {
    "ExecuteTime": {
     "end_time": "2020-08-25T11:44:06.530589Z",
     "start_time": "2020-08-25T11:44:06.515001Z"
    }
   },
   "outputs": [
    {
     "data": {
      "text/html": [
       "<div>\n",
       "<style scoped>\n",
       "    .dataframe tbody tr th:only-of-type {\n",
       "        vertical-align: middle;\n",
       "    }\n",
       "\n",
       "    .dataframe tbody tr th {\n",
       "        vertical-align: top;\n",
       "    }\n",
       "\n",
       "    .dataframe thead th {\n",
       "        text-align: right;\n",
       "    }\n",
       "</style>\n",
       "<table border=\"1\" class=\"dataframe\">\n",
       "  <thead>\n",
       "    <tr style=\"text-align: right;\">\n",
       "      <th></th>\n",
       "      <th>ident</th>\n",
       "      <th>nom</th>\n",
       "      <th>lat</th>\n",
       "      <th>lon</th>\n",
       "    </tr>\n",
       "  </thead>\n",
       "  <tbody>\n",
       "    <tr>\n",
       "      <th>0</th>\n",
       "      <td>138</td>\n",
       "      <td>Lycée Brémontier</td>\n",
       "      <td>44.824055</td>\n",
       "      <td>-0.570243</td>\n",
       "    </tr>\n",
       "    <tr>\n",
       "      <th>1</th>\n",
       "      <td>135</td>\n",
       "      <td>Eglise Ste Croix</td>\n",
       "      <td>44.831312</td>\n",
       "      <td>-0.561393</td>\n",
       "    </tr>\n",
       "    <tr>\n",
       "      <th>2</th>\n",
       "      <td>79</td>\n",
       "      <td>Buttinière</td>\n",
       "      <td>44.864276</td>\n",
       "      <td>-0.524200</td>\n",
       "    </tr>\n",
       "    <tr>\n",
       "      <th>3</th>\n",
       "      <td>3</td>\n",
       "      <td>Porte de Bourgogne</td>\n",
       "      <td>44.837789</td>\n",
       "      <td>-0.567156</td>\n",
       "    </tr>\n",
       "    <tr>\n",
       "      <th>4</th>\n",
       "      <td>8</td>\n",
       "      <td>Doyen Brus</td>\n",
       "      <td>44.800385</td>\n",
       "      <td>-0.609857</td>\n",
       "    </tr>\n",
       "  </tbody>\n",
       "</table>\n",
       "</div>"
      ],
      "text/plain": [
       "   ident                 nom        lat       lon\n",
       "0    138    Lycée Brémontier  44.824055 -0.570243\n",
       "1    135    Eglise Ste Croix  44.831312 -0.561393\n",
       "2     79          Buttinière  44.864276 -0.524200\n",
       "3      3  Porte de Bourgogne  44.837789 -0.567156\n",
       "4      8          Doyen Brus  44.800385 -0.609857"
      ]
     },
     "execution_count": 69,
     "metadata": {},
     "output_type": "execute_result"
    }
   ],
   "source": [
    "stations.head()"
   ]
  },
  {
   "cell_type": "code",
   "execution_count": 70,
   "metadata": {
    "ExecuteTime": {
     "end_time": "2020-08-25T11:44:07.273739Z",
     "start_time": "2020-08-25T11:44:07.151694Z"
    }
   },
   "outputs": [
    {
     "data": {
      "text/plain": [
       "<AxesSubplot:xlabel='lat', ylabel='lon'>"
      ]
     },
     "execution_count": 70,
     "metadata": {},
     "output_type": "execute_result"
    },
    {
     "data": {
      "image/png": "[encoded data removed]",
      "text/plain": [
       "<Figure size 432x288 with 1 Axes>"
      ]
     },
     "metadata": {
      "needs_background": "light"
     },
     "output_type": "display_data"
    }
   ],
   "source": [
    "stations.plot(kind='scatter', x='lat', y='lon')"
   ]
  },
  {
   "cell_type": "markdown",
   "metadata": {},
   "source": [
    "#### Fonction de lecture"
   ]
  },
  {
   "cell_type": "code",
   "execution_count": 71,
   "metadata": {
    "ExecuteTime": {
     "end_time": "2020-08-25T11:44:08.465883Z",
     "start_time": "2020-08-25T11:44:08.453674Z"
    }
   },
   "outputs": [],
   "source": [
    "def read_stations_attributes(file_path = \"../../data/bordeaux-stations.csv\"):\n",
    "    \"\"\"\n",
    "    Lecture du fichier sur les attributs des Vcub à Bordeaux\n",
    "    Modification par rapport au fichier original : \n",
    "        - Changement de nom des colonnnes :\n",
    "            - ident -> station_id\n",
    "    \n",
    "    Parameters\n",
    "    ----------\n",
    "    file_path : str\n",
    "        Chemin d'accès au fichiers source\n",
    "    \n",
    "    Returns\n",
    "    -------\n",
    "    activite : DataFrame\n",
    "        \n",
    "    Examples\n",
    "    --------\n",
    "    \n",
    "    stations = read_stations_attributes()\n",
    "    \"\"\"\n",
    "    \n",
    "    column_dtypes = {'ident': 'uint8',\n",
    "                     'nom': 'string',\n",
    "                    }\n",
    "\n",
    "\n",
    "    stations = pd.read_csv(file_path, dtype = column_dtypes)\n",
    "    \n",
    "    stations.rename(columns={'ident':'station_id'}, inplace=True)\n",
    "    return stations"
   ]
  },
  {
   "cell_type": "code",
   "execution_count": 72,
   "metadata": {
    "ExecuteTime": {
     "end_time": "2020-08-25T11:44:09.063165Z",
     "start_time": "2020-08-25T11:44:09.047512Z"
    }
   },
   "outputs": [],
   "source": [
    "stations = read_stations_attributes()"
   ]
  },
  {
   "cell_type": "code",
   "execution_count": 73,
   "metadata": {
    "ExecuteTime": {
     "end_time": "2020-08-25T11:44:09.480670Z",
     "start_time": "2020-08-25T11:44:09.463093Z"
    }
   },
   "outputs": [
    {
     "data": {
      "text/html": [
       "<div>\n",
       "<style scoped>\n",
       "    .dataframe tbody tr th:only-of-type {\n",
       "        vertical-align: middle;\n",
       "    }\n",
       "\n",
       "    .dataframe tbody tr th {\n",
       "        vertical-align: top;\n",
       "    }\n",
       "\n",
       "    .dataframe thead th {\n",
       "        text-align: right;\n",
       "    }\n",
       "</style>\n",
       "<table border=\"1\" class=\"dataframe\">\n",
       "  <thead>\n",
       "    <tr style=\"text-align: right;\">\n",
       "      <th></th>\n",
       "      <th>station_id</th>\n",
       "      <th>nom</th>\n",
       "      <th>lat</th>\n",
       "      <th>lon</th>\n",
       "    </tr>\n",
       "  </thead>\n",
       "  <tbody>\n",
       "    <tr>\n",
       "      <th>169</th>\n",
       "      <td>97</td>\n",
       "      <td>Fontaine d'Arlac</td>\n",
       "      <td>44.826504</td>\n",
       "      <td>-0.625774</td>\n",
       "    </tr>\n",
       "    <tr>\n",
       "      <th>170</th>\n",
       "      <td>100</td>\n",
       "      <td>Bruges Hôtel de Ville</td>\n",
       "      <td>44.881449</td>\n",
       "      <td>-0.613374</td>\n",
       "    </tr>\n",
       "    <tr>\n",
       "      <th>171</th>\n",
       "      <td>113</td>\n",
       "      <td>Barrière St Genès</td>\n",
       "      <td>44.822094</td>\n",
       "      <td>-0.581782</td>\n",
       "    </tr>\n",
       "    <tr>\n",
       "      <th>172</th>\n",
       "      <td>122</td>\n",
       "      <td>Place St Martial</td>\n",
       "      <td>44.858908</td>\n",
       "      <td>-0.565843</td>\n",
       "    </tr>\n",
       "    <tr>\n",
       "      <th>173</th>\n",
       "      <td>36</td>\n",
       "      <td>Libération</td>\n",
       "      <td>44.833235</td>\n",
       "      <td>-0.582833</td>\n",
       "    </tr>\n",
       "  </tbody>\n",
       "</table>\n",
       "</div>"
      ],
      "text/plain": [
       "     station_id                    nom        lat       lon\n",
       "169          97       Fontaine d'Arlac  44.826504 -0.625774\n",
       "170         100  Bruges Hôtel de Ville  44.881449 -0.613374\n",
       "171         113      Barrière St Genès  44.822094 -0.581782\n",
       "172         122       Place St Martial  44.858908 -0.565843\n",
       "173          36             Libération  44.833235 -0.582833"
      ]
     },
     "execution_count": 73,
     "metadata": {},
     "output_type": "execute_result"
    }
   ],
   "source": [
    "stations.tail()"
   ]
  },
  {
   "cell_type": "markdown",
   "metadata": {},
   "source": [
    "#### Industrialisation"
   ]
  },
  {
   "cell_type": "code",
   "execution_count": 113,
   "metadata": {
    "ExecuteTime": {
     "end_time": "2020-08-25T11:55:23.289501Z",
     "start_time": "2020-08-25T11:55:23.264420Z"
    }
   },
   "outputs": [],
   "source": [
    "from vcub_keeper.reader.reader import read_activity_vcub"
   ]
  },
  {
   "cell_type": "code",
   "execution_count": 114,
   "metadata": {
    "ExecuteTime": {
     "end_time": "2020-08-25T11:55:23.445049Z",
     "start_time": "2020-08-25T11:55:23.432608Z"
    }
   },
   "outputs": [],
   "source": [
    "stations = read_stations_attributes()"
   ]
  },
  {
   "cell_type": "code",
   "execution_count": 115,
   "metadata": {
    "ExecuteTime": {
     "end_time": "2020-08-25T11:55:23.599102Z",
     "start_time": "2020-08-25T11:55:23.583108Z"
    }
   },
   "outputs": [
    {
     "data": {
      "text/html": [
       "<div>\n",
       "<style scoped>\n",
       "    .dataframe tbody tr th:only-of-type {\n",
       "        vertical-align: middle;\n",
       "    }\n",
       "\n",
       "    .dataframe tbody tr th {\n",
       "        vertical-align: top;\n",
       "    }\n",
       "\n",
       "    .dataframe thead th {\n",
       "        text-align: right;\n",
       "    }\n",
       "</style>\n",
       "<table border=\"1\" class=\"dataframe\">\n",
       "  <thead>\n",
       "    <tr style=\"text-align: right;\">\n",
       "      <th></th>\n",
       "      <th>station_id</th>\n",
       "      <th>nom</th>\n",
       "      <th>lat</th>\n",
       "      <th>lon</th>\n",
       "    </tr>\n",
       "  </thead>\n",
       "  <tbody>\n",
       "    <tr>\n",
       "      <th>169</th>\n",
       "      <td>97</td>\n",
       "      <td>Fontaine d'Arlac</td>\n",
       "      <td>44.826504</td>\n",
       "      <td>-0.625774</td>\n",
       "    </tr>\n",
       "    <tr>\n",
       "      <th>170</th>\n",
       "      <td>100</td>\n",
       "      <td>Bruges Hôtel de Ville</td>\n",
       "      <td>44.881449</td>\n",
       "      <td>-0.613374</td>\n",
       "    </tr>\n",
       "    <tr>\n",
       "      <th>171</th>\n",
       "      <td>113</td>\n",
       "      <td>Barrière St Genès</td>\n",
       "      <td>44.822094</td>\n",
       "      <td>-0.581782</td>\n",
       "    </tr>\n",
       "    <tr>\n",
       "      <th>172</th>\n",
       "      <td>122</td>\n",
       "      <td>Place St Martial</td>\n",
       "      <td>44.858908</td>\n",
       "      <td>-0.565843</td>\n",
       "    </tr>\n",
       "    <tr>\n",
       "      <th>173</th>\n",
       "      <td>36</td>\n",
       "      <td>Libération</td>\n",
       "      <td>44.833235</td>\n",
       "      <td>-0.582833</td>\n",
       "    </tr>\n",
       "  </tbody>\n",
       "</table>\n",
       "</div>"
      ],
      "text/plain": [
       "     station_id                    nom        lat       lon\n",
       "169          97       Fontaine d'Arlac  44.826504 -0.625774\n",
       "170         100  Bruges Hôtel de Ville  44.881449 -0.613374\n",
       "171         113      Barrière St Genès  44.822094 -0.581782\n",
       "172         122       Place St Martial  44.858908 -0.565843\n",
       "173          36             Libération  44.833235 -0.582833"
      ]
     },
     "execution_count": 115,
     "metadata": {},
     "output_type": "execute_result"
    }
   ],
   "source": [
    "stations.tail()"
   ]
  },
  {
   "cell_type": "markdown",
   "metadata": {},
   "source": [
    "### Fichier activité Vcub"
   ]
  },
  {
   "cell_type": "code",
   "execution_count": 77,
   "metadata": {
    "ExecuteTime": {
     "end_time": "2020-08-25T11:44:25.332755Z",
     "start_time": "2020-08-25T11:44:22.942753Z"
    }
   },
   "outputs": [],
   "source": [
    "file_path = \"../../data/bordeaux.csv\"\n",
    "activite = pd.read_csv(file_path, parse_dates=[\"ts\"])"
   ]
  },
  {
   "cell_type": "code",
   "execution_count": 78,
   "metadata": {
    "ExecuteTime": {
     "end_time": "2020-08-25T11:44:25.346900Z",
     "start_time": "2020-08-25T11:44:25.333857Z"
    }
   },
   "outputs": [
    {
     "data": {
      "text/html": [
       "<div>\n",
       "<style scoped>\n",
       "    .dataframe tbody tr th:only-of-type {\n",
       "        vertical-align: middle;\n",
       "    }\n",
       "\n",
       "    .dataframe tbody tr th {\n",
       "        vertical-align: top;\n",
       "    }\n",
       "\n",
       "    .dataframe thead th {\n",
       "        text-align: right;\n",
       "    }\n",
       "</style>\n",
       "<table border=\"1\" class=\"dataframe\">\n",
       "  <thead>\n",
       "    <tr style=\"text-align: right;\">\n",
       "      <th></th>\n",
       "      <th>gid</th>\n",
       "      <th>ident</th>\n",
       "      <th>type</th>\n",
       "      <th>name</th>\n",
       "      <th>state</th>\n",
       "      <th>available_stand</th>\n",
       "      <th>available_bike</th>\n",
       "      <th>ts</th>\n",
       "    </tr>\n",
       "  </thead>\n",
       "  <tbody>\n",
       "    <tr>\n",
       "      <th>0</th>\n",
       "      <td>83</td>\n",
       "      <td>1</td>\n",
       "      <td>VLS</td>\n",
       "      <td>Meriadeck</td>\n",
       "      <td>CONNECTEE</td>\n",
       "      <td>18</td>\n",
       "      <td>2</td>\n",
       "      <td>2017-07-09 00:03:04</td>\n",
       "    </tr>\n",
       "    <tr>\n",
       "      <th>1</th>\n",
       "      <td>84</td>\n",
       "      <td>2</td>\n",
       "      <td>VLS</td>\n",
       "      <td>St Bruno</td>\n",
       "      <td>CONNECTEE</td>\n",
       "      <td>7</td>\n",
       "      <td>13</td>\n",
       "      <td>2017-07-09 00:03:04</td>\n",
       "    </tr>\n",
       "    <tr>\n",
       "      <th>2</th>\n",
       "      <td>41</td>\n",
       "      <td>3</td>\n",
       "      <td>VLS</td>\n",
       "      <td>Place Tartas</td>\n",
       "      <td>CONNECTEE</td>\n",
       "      <td>17</td>\n",
       "      <td>1</td>\n",
       "      <td>2017-07-09 00:03:04</td>\n",
       "    </tr>\n",
       "    <tr>\n",
       "      <th>3</th>\n",
       "      <td>42</td>\n",
       "      <td>4</td>\n",
       "      <td>VLS</td>\n",
       "      <td>St Seurin</td>\n",
       "      <td>CONNECTEE</td>\n",
       "      <td>18</td>\n",
       "      <td>2</td>\n",
       "      <td>2017-07-09 00:03:04</td>\n",
       "    </tr>\n",
       "    <tr>\n",
       "      <th>4</th>\n",
       "      <td>43</td>\n",
       "      <td>5</td>\n",
       "      <td>VLS</td>\n",
       "      <td>Place Gambetta</td>\n",
       "      <td>CONNECTEE</td>\n",
       "      <td>37</td>\n",
       "      <td>2</td>\n",
       "      <td>2017-07-09 00:03:04</td>\n",
       "    </tr>\n",
       "  </tbody>\n",
       "</table>\n",
       "</div>"
      ],
      "text/plain": [
       "   gid  ident type            name      state  available_stand  \\\n",
       "0   83      1  VLS       Meriadeck  CONNECTEE               18   \n",
       "1   84      2  VLS        St Bruno  CONNECTEE                7   \n",
       "2   41      3  VLS    Place Tartas  CONNECTEE               17   \n",
       "3   42      4  VLS       St Seurin  CONNECTEE               18   \n",
       "4   43      5  VLS  Place Gambetta  CONNECTEE               37   \n",
       "\n",
       "   available_bike                  ts  \n",
       "0               2 2017-07-09 00:03:04  \n",
       "1              13 2017-07-09 00:03:04  \n",
       "2               1 2017-07-09 00:03:04  \n",
       "3               2 2017-07-09 00:03:04  \n",
       "4               2 2017-07-09 00:03:04  "
      ]
     },
     "execution_count": 78,
     "metadata": {},
     "output_type": "execute_result"
    }
   ],
   "source": [
    "activite.head()"
   ]
  },
  {
   "cell_type": "code",
   "execution_count": 79,
   "metadata": {
    "ExecuteTime": {
     "end_time": "2020-08-25T11:44:25.441228Z",
     "start_time": "2020-08-25T11:44:25.348053Z"
    }
   },
   "outputs": [
    {
     "data": {
      "text/html": [
       "<div>\n",
       "<style scoped>\n",
       "    .dataframe tbody tr th:only-of-type {\n",
       "        vertical-align: middle;\n",
       "    }\n",
       "\n",
       "    .dataframe tbody tr th {\n",
       "        vertical-align: top;\n",
       "    }\n",
       "\n",
       "    .dataframe thead th {\n",
       "        text-align: right;\n",
       "    }\n",
       "</style>\n",
       "<table border=\"1\" class=\"dataframe\">\n",
       "  <thead>\n",
       "    <tr style=\"text-align: right;\">\n",
       "      <th></th>\n",
       "      <th>gid</th>\n",
       "      <th>ident</th>\n",
       "      <th>type</th>\n",
       "      <th>name</th>\n",
       "      <th>state</th>\n",
       "      <th>available_stand</th>\n",
       "      <th>available_bike</th>\n",
       "      <th>ts</th>\n",
       "    </tr>\n",
       "  </thead>\n",
       "  <tbody>\n",
       "    <tr>\n",
       "      <th>3761875</th>\n",
       "      <td>173</td>\n",
       "      <td>170</td>\n",
       "      <td>VLS</td>\n",
       "      <td>Lucien Faure</td>\n",
       "      <td>CONNECTEE</td>\n",
       "      <td>8</td>\n",
       "      <td>11</td>\n",
       "      <td>2017-09-26 14:59:04</td>\n",
       "    </tr>\n",
       "    <tr>\n",
       "      <th>3761876</th>\n",
       "      <td>171</td>\n",
       "      <td>171</td>\n",
       "      <td>VLS</td>\n",
       "      <td>Pl. Amedee Larrieu</td>\n",
       "      <td>CONNECTEE</td>\n",
       "      <td>20</td>\n",
       "      <td>0</td>\n",
       "      <td>2017-09-26 14:59:04</td>\n",
       "    </tr>\n",
       "    <tr>\n",
       "      <th>3761877</th>\n",
       "      <td>174</td>\n",
       "      <td>172</td>\n",
       "      <td>VLS</td>\n",
       "      <td>La Cite du Vin</td>\n",
       "      <td>CONNECTEE</td>\n",
       "      <td>1</td>\n",
       "      <td>19</td>\n",
       "      <td>2017-09-26 14:59:04</td>\n",
       "    </tr>\n",
       "    <tr>\n",
       "      <th>3761878</th>\n",
       "      <td>175</td>\n",
       "      <td>173</td>\n",
       "      <td>VLS</td>\n",
       "      <td>Rue Achard</td>\n",
       "      <td>CONNECTEE</td>\n",
       "      <td>12</td>\n",
       "      <td>7</td>\n",
       "      <td>2017-09-26 14:59:04</td>\n",
       "    </tr>\n",
       "    <tr>\n",
       "      <th>3761879</th>\n",
       "      <td>176</td>\n",
       "      <td>174</td>\n",
       "      <td>VLS</td>\n",
       "      <td>Darwin</td>\n",
       "      <td>CONNECTEE</td>\n",
       "      <td>0</td>\n",
       "      <td>20</td>\n",
       "      <td>2017-09-26 14:59:04</td>\n",
       "    </tr>\n",
       "  </tbody>\n",
       "</table>\n",
       "</div>"
      ],
      "text/plain": [
       "         gid  ident type                name      state  available_stand  \\\n",
       "3761875  173    170  VLS        Lucien Faure  CONNECTEE                8   \n",
       "3761876  171    171  VLS  Pl. Amedee Larrieu  CONNECTEE               20   \n",
       "3761877  174    172  VLS      La Cite du Vin  CONNECTEE                1   \n",
       "3761878  175    173  VLS          Rue Achard  CONNECTEE               12   \n",
       "3761879  176    174  VLS              Darwin  CONNECTEE                0   \n",
       "\n",
       "         available_bike                  ts  \n",
       "3761875              11 2017-09-26 14:59:04  \n",
       "3761876               0 2017-09-26 14:59:04  \n",
       "3761877              19 2017-09-26 14:59:04  \n",
       "3761878               7 2017-09-26 14:59:04  \n",
       "3761879              20 2017-09-26 14:59:04  "
      ]
     },
     "execution_count": 79,
     "metadata": {},
     "output_type": "execute_result"
    }
   ],
   "source": [
    "activite.tail()"
   ]
  },
  {
   "cell_type": "code",
   "execution_count": 80,
   "metadata": {
    "ExecuteTime": {
     "end_time": "2020-08-25T11:44:25.534401Z",
     "start_time": "2020-08-25T11:44:25.442650Z"
    }
   },
   "outputs": [
    {
     "data": {
      "text/plain": [
       "gid                         int64\n",
       "ident                       int64\n",
       "type                       object\n",
       "name                       object\n",
       "state                      object\n",
       "available_stand             int64\n",
       "available_bike              int64\n",
       "ts                 datetime64[ns]\n",
       "dtype: object"
      ]
     },
     "execution_count": 80,
     "metadata": {},
     "output_type": "execute_result"
    }
   ],
   "source": [
    "activite.dtypes"
   ]
  },
  {
   "cell_type": "code",
   "execution_count": 81,
   "metadata": {
    "ExecuteTime": {
     "end_time": "2020-08-25T11:44:25.916118Z",
     "start_time": "2020-08-25T11:44:25.535956Z"
    }
   },
   "outputs": [
    {
     "data": {
      "text/html": [
       "<div>\n",
       "<style scoped>\n",
       "    .dataframe tbody tr th:only-of-type {\n",
       "        vertical-align: middle;\n",
       "    }\n",
       "\n",
       "    .dataframe tbody tr th {\n",
       "        vertical-align: top;\n",
       "    }\n",
       "\n",
       "    .dataframe thead th {\n",
       "        text-align: right;\n",
       "    }\n",
       "</style>\n",
       "<table border=\"1\" class=\"dataframe\">\n",
       "  <thead>\n",
       "    <tr style=\"text-align: right;\">\n",
       "      <th></th>\n",
       "      <th>gid</th>\n",
       "      <th>ident</th>\n",
       "      <th>available_stand</th>\n",
       "      <th>available_bike</th>\n",
       "    </tr>\n",
       "  </thead>\n",
       "  <tbody>\n",
       "    <tr>\n",
       "      <th>count</th>\n",
       "      <td>3.761880e+06</td>\n",
       "      <td>3.761880e+06</td>\n",
       "      <td>3.761880e+06</td>\n",
       "      <td>3.761880e+06</td>\n",
       "    </tr>\n",
       "    <tr>\n",
       "      <th>mean</th>\n",
       "      <td>8.790230e+01</td>\n",
       "      <td>8.750000e+01</td>\n",
       "      <td>1.118367e+01</td>\n",
       "      <td>8.838549e+00</td>\n",
       "    </tr>\n",
       "    <tr>\n",
       "      <th>std</th>\n",
       "      <td>5.078858e+01</td>\n",
       "      <td>5.022865e+01</td>\n",
       "      <td>7.289902e+00</td>\n",
       "      <td>6.720721e+00</td>\n",
       "    </tr>\n",
       "    <tr>\n",
       "      <th>min</th>\n",
       "      <td>1.000000e+00</td>\n",
       "      <td>1.000000e+00</td>\n",
       "      <td>0.000000e+00</td>\n",
       "      <td>0.000000e+00</td>\n",
       "    </tr>\n",
       "    <tr>\n",
       "      <th>25%</th>\n",
       "      <td>4.400000e+01</td>\n",
       "      <td>4.400000e+01</td>\n",
       "      <td>6.000000e+00</td>\n",
       "      <td>4.000000e+00</td>\n",
       "    </tr>\n",
       "    <tr>\n",
       "      <th>50%</th>\n",
       "      <td>8.750000e+01</td>\n",
       "      <td>8.750000e+01</td>\n",
       "      <td>1.100000e+01</td>\n",
       "      <td>8.000000e+00</td>\n",
       "    </tr>\n",
       "    <tr>\n",
       "      <th>75%</th>\n",
       "      <td>1.310000e+02</td>\n",
       "      <td>1.310000e+02</td>\n",
       "      <td>1.500000e+01</td>\n",
       "      <td>1.300000e+01</td>\n",
       "    </tr>\n",
       "    <tr>\n",
       "      <th>max</th>\n",
       "      <td>1.760000e+02</td>\n",
       "      <td>1.740000e+02</td>\n",
       "      <td>4.400000e+01</td>\n",
       "      <td>4.500000e+01</td>\n",
       "    </tr>\n",
       "  </tbody>\n",
       "</table>\n",
       "</div>"
      ],
      "text/plain": [
       "                gid         ident  available_stand  available_bike\n",
       "count  3.761880e+06  3.761880e+06     3.761880e+06    3.761880e+06\n",
       "mean   8.790230e+01  8.750000e+01     1.118367e+01    8.838549e+00\n",
       "std    5.078858e+01  5.022865e+01     7.289902e+00    6.720721e+00\n",
       "min    1.000000e+00  1.000000e+00     0.000000e+00    0.000000e+00\n",
       "25%    4.400000e+01  4.400000e+01     6.000000e+00    4.000000e+00\n",
       "50%    8.750000e+01  8.750000e+01     1.100000e+01    8.000000e+00\n",
       "75%    1.310000e+02  1.310000e+02     1.500000e+01    1.300000e+01\n",
       "max    1.760000e+02  1.740000e+02     4.400000e+01    4.500000e+01"
      ]
     },
     "execution_count": 81,
     "metadata": {},
     "output_type": "execute_result"
    }
   ],
   "source": [
    "activite.describe()"
   ]
  },
  {
   "cell_type": "code",
   "execution_count": 82,
   "metadata": {
    "ExecuteTime": {
     "end_time": "2020-08-25T11:44:27.420281Z",
     "start_time": "2020-08-25T11:44:26.677272Z"
    }
   },
   "outputs": [
    {
     "name": "stdout",
     "output_type": "stream",
     "text": [
      "<class 'pandas.core.frame.DataFrame'>\n",
      "RangeIndex: 3761880 entries, 0 to 3761879\n",
      "Data columns (total 8 columns):\n",
      " #   Column           Dtype         \n",
      "---  ------           -----         \n",
      " 0   gid              int64         \n",
      " 1   ident            int64         \n",
      " 2   type             object        \n",
      " 3   name             object        \n",
      " 4   state            object        \n",
      " 5   available_stand  int64         \n",
      " 6   available_bike   int64         \n",
      " 7   ts               datetime64[ns]\n",
      "dtypes: datetime64[ns](1), int64(4), object(3)\n",
      "memory usage: 852.4 MB\n"
     ]
    }
   ],
   "source": [
    "activite.info(memory_usage='deep')"
   ]
  },
  {
   "cell_type": "code",
   "execution_count": 83,
   "metadata": {
    "ExecuteTime": {
     "end_time": "2020-08-25T11:44:28.102573Z",
     "start_time": "2020-08-25T11:44:27.937054Z"
    }
   },
   "outputs": [
    {
     "data": {
      "text/html": [
       "<div>\n",
       "<style scoped>\n",
       "    .dataframe tbody tr th:only-of-type {\n",
       "        vertical-align: middle;\n",
       "    }\n",
       "\n",
       "    .dataframe tbody tr th {\n",
       "        vertical-align: top;\n",
       "    }\n",
       "\n",
       "    .dataframe thead th {\n",
       "        text-align: right;\n",
       "    }\n",
       "</style>\n",
       "<table border=\"1\" class=\"dataframe\">\n",
       "  <thead>\n",
       "    <tr style=\"text-align: right;\">\n",
       "      <th></th>\n",
       "      <th>gid</th>\n",
       "      <th>ident</th>\n",
       "      <th>type</th>\n",
       "      <th>name</th>\n",
       "      <th>state</th>\n",
       "      <th>available_stand</th>\n",
       "      <th>available_bike</th>\n",
       "      <th>ts</th>\n",
       "    </tr>\n",
       "  </thead>\n",
       "  <tbody>\n",
       "    <tr>\n",
       "      <th>2745754</th>\n",
       "      <td>57</td>\n",
       "      <td>35</td>\n",
       "      <td>VLS</td>\n",
       "      <td>Pl. Marie Brizard</td>\n",
       "      <td>DECONNECTEE</td>\n",
       "      <td>1</td>\n",
       "      <td>0</td>\n",
       "      <td>2017-09-06 06:14:03</td>\n",
       "    </tr>\n",
       "    <tr>\n",
       "      <th>1659720</th>\n",
       "      <td>123</td>\n",
       "      <td>109</td>\n",
       "      <td>VLS</td>\n",
       "      <td>Barriere St Genes</td>\n",
       "      <td>CONNECTEE</td>\n",
       "      <td>9</td>\n",
       "      <td>27</td>\n",
       "      <td>2017-08-15 14:04:04</td>\n",
       "    </tr>\n",
       "    <tr>\n",
       "      <th>1381564</th>\n",
       "      <td>43</td>\n",
       "      <td>5</td>\n",
       "      <td>VLS</td>\n",
       "      <td>Place Gambetta</td>\n",
       "      <td>CONNECTEE</td>\n",
       "      <td>39</td>\n",
       "      <td>1</td>\n",
       "      <td>2017-08-09 20:05:04</td>\n",
       "    </tr>\n",
       "    <tr>\n",
       "      <th>718831</th>\n",
       "      <td>60</td>\n",
       "      <td>38</td>\n",
       "      <td>VLS</td>\n",
       "      <td>Pl. Charles Gruet</td>\n",
       "      <td>CONNECTEE</td>\n",
       "      <td>5</td>\n",
       "      <td>11</td>\n",
       "      <td>2017-07-24 06:44:04</td>\n",
       "    </tr>\n",
       "    <tr>\n",
       "      <th>2139480</th>\n",
       "      <td>145</td>\n",
       "      <td>151</td>\n",
       "      <td>VLS+</td>\n",
       "      <td>Dravemont</td>\n",
       "      <td>CONNECTEE</td>\n",
       "      <td>11</td>\n",
       "      <td>9</td>\n",
       "      <td>2017-08-25 03:49:03</td>\n",
       "    </tr>\n",
       "  </tbody>\n",
       "</table>\n",
       "</div>"
      ],
      "text/plain": [
       "         gid  ident  type               name        state  available_stand  \\\n",
       "2745754   57     35   VLS  Pl. Marie Brizard  DECONNECTEE                1   \n",
       "1659720  123    109   VLS  Barriere St Genes    CONNECTEE                9   \n",
       "1381564   43      5   VLS     Place Gambetta    CONNECTEE               39   \n",
       "718831    60     38   VLS  Pl. Charles Gruet    CONNECTEE                5   \n",
       "2139480  145    151  VLS+          Dravemont    CONNECTEE               11   \n",
       "\n",
       "         available_bike                  ts  \n",
       "2745754               0 2017-09-06 06:14:03  \n",
       "1659720              27 2017-08-15 14:04:04  \n",
       "1381564               1 2017-08-09 20:05:04  \n",
       "718831               11 2017-07-24 06:44:04  \n",
       "2139480               9 2017-08-25 03:49:03  "
      ]
     },
     "execution_count": 83,
     "metadata": {},
     "output_type": "execute_result"
    }
   ],
   "source": [
    "activite.sample(5)"
   ]
  },
  {
   "cell_type": "code",
   "execution_count": 84,
   "metadata": {
    "ExecuteTime": {
     "end_time": "2020-08-25T11:44:29.731302Z",
     "start_time": "2020-08-25T11:44:29.719037Z"
    }
   },
   "outputs": [
    {
     "data": {
      "text/plain": [
       "Index(['gid', 'ident', 'type', 'name', 'state', 'available_stand',\n",
       "       'available_bike', 'ts'],\n",
       "      dtype='object')"
      ]
     },
     "execution_count": 84,
     "metadata": {},
     "output_type": "execute_result"
    }
   ],
   "source": [
    "activite.columns"
   ]
  },
  {
   "cell_type": "code",
   "execution_count": 85,
   "metadata": {
    "ExecuteTime": {
     "end_time": "2020-08-25T11:44:32.775526Z",
     "start_time": "2020-08-25T11:44:30.150479Z"
    }
   },
   "outputs": [],
   "source": [
    "column_dtypes = {'gid': 'uint8',\n",
    "                 'ident': 'uint8',\n",
    "                 'type': 'category',\n",
    "                 'name': 'string',\n",
    "                 'state': 'category',\n",
    "                 'available_stand': 'uint8',\n",
    "                 'available_bike': 'uint8'}\n",
    "\n",
    "file_path = \"../../data/bordeaux.csv\"\n",
    "activite = pd.read_csv(file_path, parse_dates=[\"ts\"], dtype = column_dtypes)"
   ]
  },
  {
   "cell_type": "code",
   "execution_count": 86,
   "metadata": {
    "ExecuteTime": {
     "end_time": "2020-08-25T11:44:33.031129Z",
     "start_time": "2020-08-25T11:44:32.776623Z"
    }
   },
   "outputs": [
    {
     "name": "stdout",
     "output_type": "stream",
     "text": [
      "<class 'pandas.core.frame.DataFrame'>\n",
      "RangeIndex: 3761880 entries, 0 to 3761879\n",
      "Data columns (total 8 columns):\n",
      " #   Column           Dtype         \n",
      "---  ------           -----         \n",
      " 0   gid              uint8         \n",
      " 1   ident            uint8         \n",
      " 2   type             category      \n",
      " 3   name             string        \n",
      " 4   state            category      \n",
      " 5   available_stand  uint8         \n",
      " 6   available_bike   uint8         \n",
      " 7   ts               datetime64[ns]\n",
      "dtypes: category(2), datetime64[ns](1), string(1), uint8(4)\n",
      "memory usage: 305.7 MB\n"
     ]
    }
   ],
   "source": [
    "activite.info(memory_usage='deep')"
   ]
  },
  {
   "cell_type": "markdown",
   "metadata": {},
   "source": [
    "#### Fonction de lecture : "
   ]
  },
  {
   "cell_type": "code",
   "execution_count": 116,
   "metadata": {
    "ExecuteTime": {
     "end_time": "2020-08-25T11:55:34.173151Z",
     "start_time": "2020-08-25T11:55:34.156426Z"
    }
   },
   "outputs": [],
   "source": [
    "def read_activity_vcub(file_path = \"../../data/bordeaux.csv\"):\n",
    "    \"\"\"\n",
    "    Lecture du fichier temporelle sur l'activité des Vcub à Bordeaux\n",
    "    Modification par rapport au fichier original : \n",
    "        - Modification des type du DataFrame\n",
    "        - Mapping de la colonne 'state'\n",
    "        - Changement de nom des colonnnes :\n",
    "            - ident -> station_id\n",
    "            - ts -> date\n",
    "        - Triage du DataFrame par rapport à la station_id et à la date.\n",
    "    Parameters\n",
    "    ----------\n",
    "    file_path : str\n",
    "        Chemin d'accès au fichiers source\n",
    "    \n",
    "    Returns\n",
    "    -------\n",
    "    activite : DataFrame\n",
    "        \n",
    "    Examples\n",
    "    --------\n",
    "    \n",
    "    activite = read_activity_vcub()\n",
    "    \"\"\"\n",
    "    \n",
    "    column_dtypes = {'gid': 'uint8',\n",
    "                     'ident': 'uint8',\n",
    "                     'type': 'category',\n",
    "                     'name': 'string',\n",
    "                     'state': 'category',\n",
    "                     'available_stand': 'uint8',\n",
    "                     'available_bike': 'uint8'}\n",
    "    \n",
    "    state_dict = {'CONNECTEE' : 1,\n",
    "                  'DECONNECTEE' : 0\n",
    "                 }\n",
    "\n",
    "    activite = pd.read_csv(file_path, parse_dates=[\"ts\"], dtype = column_dtypes)\n",
    "    \n",
    "    activite['state'] = activite['state'].map(state_dict)\n",
    "    \n",
    "    # Renaming colomns\n",
    "    activite.rename(columns={'ident':'station_id'}, inplace=True)\n",
    "    activite.rename(columns={'ts':'date'}, inplace=True)\n",
    "    \n",
    "    # Sorting DataFrame on station_id & date\n",
    "    activite.sort_values(['station_id', 'date'], ascending=[1, 1], inplace=True)\n",
    "    \n",
    "    # Reset index\n",
    "    activite.reset_index(inplace=True, drop=True)\n",
    "    \n",
    "    return activite"
   ]
  },
  {
   "cell_type": "code",
   "execution_count": 117,
   "metadata": {
    "ExecuteTime": {
     "end_time": "2020-08-25T11:55:38.366848Z",
     "start_time": "2020-08-25T11:55:34.562762Z"
    }
   },
   "outputs": [],
   "source": [
    "activite = read_activity_vcub()"
   ]
  },
  {
   "cell_type": "code",
   "execution_count": 110,
   "metadata": {
    "ExecuteTime": {
     "end_time": "2020-08-25T11:54:22.731677Z",
     "start_time": "2020-08-25T11:54:22.723368Z"
    }
   },
   "outputs": [
    {
     "data": {
      "text/plain": [
       "(3761880, 8)"
      ]
     },
     "execution_count": 110,
     "metadata": {},
     "output_type": "execute_result"
    }
   ],
   "source": [
    "activite.shape"
   ]
  },
  {
   "cell_type": "code",
   "execution_count": 111,
   "metadata": {
    "ExecuteTime": {
     "end_time": "2020-08-25T11:54:23.064451Z",
     "start_time": "2020-08-25T11:54:22.732678Z"
    }
   },
   "outputs": [
    {
     "name": "stdout",
     "output_type": "stream",
     "text": [
      "<class 'pandas.core.frame.DataFrame'>\n",
      "RangeIndex: 3761880 entries, 0 to 3761879\n",
      "Data columns (total 8 columns):\n",
      " #   Column           Dtype         \n",
      "---  ------           -----         \n",
      " 0   gid              uint8         \n",
      " 1   station_id       uint8         \n",
      " 2   type             category      \n",
      " 3   name             string        \n",
      " 4   state            category      \n",
      " 5   available_stand  uint8         \n",
      " 6   available_bike   uint8         \n",
      " 7   date             datetime64[ns]\n",
      "dtypes: category(2), datetime64[ns](1), string(1), uint8(4)\n",
      "memory usage: 305.7 MB\n"
     ]
    }
   ],
   "source": [
    "activite.info(memory_usage='deep')"
   ]
  },
  {
   "cell_type": "code",
   "execution_count": 112,
   "metadata": {
    "ExecuteTime": {
     "end_time": "2020-08-25T11:54:23.155054Z",
     "start_time": "2020-08-25T11:54:23.065580Z"
    }
   },
   "outputs": [
    {
     "data": {
      "text/html": [
       "<div>\n",
       "<style scoped>\n",
       "    .dataframe tbody tr th:only-of-type {\n",
       "        vertical-align: middle;\n",
       "    }\n",
       "\n",
       "    .dataframe tbody tr th {\n",
       "        vertical-align: top;\n",
       "    }\n",
       "\n",
       "    .dataframe thead th {\n",
       "        text-align: right;\n",
       "    }\n",
       "</style>\n",
       "<table border=\"1\" class=\"dataframe\">\n",
       "  <thead>\n",
       "    <tr style=\"text-align: right;\">\n",
       "      <th></th>\n",
       "      <th>gid</th>\n",
       "      <th>station_id</th>\n",
       "      <th>type</th>\n",
       "      <th>name</th>\n",
       "      <th>state</th>\n",
       "      <th>available_stand</th>\n",
       "      <th>available_bike</th>\n",
       "      <th>date</th>\n",
       "    </tr>\n",
       "  </thead>\n",
       "  <tbody>\n",
       "    <tr>\n",
       "      <th>0</th>\n",
       "      <td>83</td>\n",
       "      <td>1</td>\n",
       "      <td>VLS</td>\n",
       "      <td>Meriadeck</td>\n",
       "      <td>1</td>\n",
       "      <td>18</td>\n",
       "      <td>2</td>\n",
       "      <td>2017-07-09 00:03:04</td>\n",
       "    </tr>\n",
       "    <tr>\n",
       "      <th>1</th>\n",
       "      <td>83</td>\n",
       "      <td>1</td>\n",
       "      <td>VLS</td>\n",
       "      <td>Meriadeck</td>\n",
       "      <td>1</td>\n",
       "      <td>18</td>\n",
       "      <td>2</td>\n",
       "      <td>2017-07-09 00:04:04</td>\n",
       "    </tr>\n",
       "    <tr>\n",
       "      <th>2</th>\n",
       "      <td>83</td>\n",
       "      <td>1</td>\n",
       "      <td>VLS</td>\n",
       "      <td>Meriadeck</td>\n",
       "      <td>1</td>\n",
       "      <td>18</td>\n",
       "      <td>2</td>\n",
       "      <td>2017-07-09 00:09:04</td>\n",
       "    </tr>\n",
       "    <tr>\n",
       "      <th>3</th>\n",
       "      <td>83</td>\n",
       "      <td>1</td>\n",
       "      <td>VLS</td>\n",
       "      <td>Meriadeck</td>\n",
       "      <td>1</td>\n",
       "      <td>18</td>\n",
       "      <td>2</td>\n",
       "      <td>2017-07-09 00:14:03</td>\n",
       "    </tr>\n",
       "    <tr>\n",
       "      <th>4</th>\n",
       "      <td>83</td>\n",
       "      <td>1</td>\n",
       "      <td>VLS</td>\n",
       "      <td>Meriadeck</td>\n",
       "      <td>1</td>\n",
       "      <td>18</td>\n",
       "      <td>2</td>\n",
       "      <td>2017-07-09 00:19:04</td>\n",
       "    </tr>\n",
       "  </tbody>\n",
       "</table>\n",
       "</div>"
      ],
      "text/plain": [
       "   gid  station_id type       name state  available_stand  available_bike  \\\n",
       "0   83           1  VLS  Meriadeck     1               18               2   \n",
       "1   83           1  VLS  Meriadeck     1               18               2   \n",
       "2   83           1  VLS  Meriadeck     1               18               2   \n",
       "3   83           1  VLS  Meriadeck     1               18               2   \n",
       "4   83           1  VLS  Meriadeck     1               18               2   \n",
       "\n",
       "                 date  \n",
       "0 2017-07-09 00:03:04  \n",
       "1 2017-07-09 00:04:04  \n",
       "2 2017-07-09 00:09:04  \n",
       "3 2017-07-09 00:14:03  \n",
       "4 2017-07-09 00:19:04  "
      ]
     },
     "execution_count": 112,
     "metadata": {},
     "output_type": "execute_result"
    }
   ],
   "source": [
    "activite.head()"
   ]
  },
  {
   "cell_type": "markdown",
   "metadata": {},
   "source": [
    "#### Industrialisation"
   ]
  },
  {
   "cell_type": "code",
   "execution_count": 118,
   "metadata": {
    "ExecuteTime": {
     "end_time": "2020-08-25T11:55:48.238303Z",
     "start_time": "2020-08-25T11:55:48.219564Z"
    }
   },
   "outputs": [],
   "source": [
    "from vcub_keeper.reader.reader import read_activity_vcub"
   ]
  },
  {
   "cell_type": "code",
   "execution_count": 119,
   "metadata": {
    "ExecuteTime": {
     "end_time": "2020-08-25T11:55:52.176499Z",
     "start_time": "2020-08-25T11:55:48.362577Z"
    }
   },
   "outputs": [],
   "source": [
    "activite = read_activity_vcub()"
   ]
  },
  {
   "cell_type": "code",
   "execution_count": 120,
   "metadata": {
    "ExecuteTime": {
     "end_time": "2020-08-25T11:55:52.190716Z",
     "start_time": "2020-08-25T11:55:52.177612Z"
    }
   },
   "outputs": [
    {
     "data": {
      "text/html": [
       "<div>\n",
       "<style scoped>\n",
       "    .dataframe tbody tr th:only-of-type {\n",
       "        vertical-align: middle;\n",
       "    }\n",
       "\n",
       "    .dataframe tbody tr th {\n",
       "        vertical-align: top;\n",
       "    }\n",
       "\n",
       "    .dataframe thead th {\n",
       "        text-align: right;\n",
       "    }\n",
       "</style>\n",
       "<table border=\"1\" class=\"dataframe\">\n",
       "  <thead>\n",
       "    <tr style=\"text-align: right;\">\n",
       "      <th></th>\n",
       "      <th>gid</th>\n",
       "      <th>station_id</th>\n",
       "      <th>type</th>\n",
       "      <th>name</th>\n",
       "      <th>state</th>\n",
       "      <th>available_stand</th>\n",
       "      <th>available_bike</th>\n",
       "      <th>date</th>\n",
       "    </tr>\n",
       "  </thead>\n",
       "  <tbody>\n",
       "    <tr>\n",
       "      <th>0</th>\n",
       "      <td>83</td>\n",
       "      <td>1</td>\n",
       "      <td>VLS</td>\n",
       "      <td>Meriadeck</td>\n",
       "      <td>1</td>\n",
       "      <td>18</td>\n",
       "      <td>2</td>\n",
       "      <td>2017-07-09 00:03:04</td>\n",
       "    </tr>\n",
       "    <tr>\n",
       "      <th>1</th>\n",
       "      <td>83</td>\n",
       "      <td>1</td>\n",
       "      <td>VLS</td>\n",
       "      <td>Meriadeck</td>\n",
       "      <td>1</td>\n",
       "      <td>18</td>\n",
       "      <td>2</td>\n",
       "      <td>2017-07-09 00:04:04</td>\n",
       "    </tr>\n",
       "    <tr>\n",
       "      <th>2</th>\n",
       "      <td>83</td>\n",
       "      <td>1</td>\n",
       "      <td>VLS</td>\n",
       "      <td>Meriadeck</td>\n",
       "      <td>1</td>\n",
       "      <td>18</td>\n",
       "      <td>2</td>\n",
       "      <td>2017-07-09 00:09:04</td>\n",
       "    </tr>\n",
       "    <tr>\n",
       "      <th>3</th>\n",
       "      <td>83</td>\n",
       "      <td>1</td>\n",
       "      <td>VLS</td>\n",
       "      <td>Meriadeck</td>\n",
       "      <td>1</td>\n",
       "      <td>18</td>\n",
       "      <td>2</td>\n",
       "      <td>2017-07-09 00:14:03</td>\n",
       "    </tr>\n",
       "    <tr>\n",
       "      <th>4</th>\n",
       "      <td>83</td>\n",
       "      <td>1</td>\n",
       "      <td>VLS</td>\n",
       "      <td>Meriadeck</td>\n",
       "      <td>1</td>\n",
       "      <td>18</td>\n",
       "      <td>2</td>\n",
       "      <td>2017-07-09 00:19:04</td>\n",
       "    </tr>\n",
       "  </tbody>\n",
       "</table>\n",
       "</div>"
      ],
      "text/plain": [
       "   gid  station_id type       name state  available_stand  available_bike  \\\n",
       "0   83           1  VLS  Meriadeck     1               18               2   \n",
       "1   83           1  VLS  Meriadeck     1               18               2   \n",
       "2   83           1  VLS  Meriadeck     1               18               2   \n",
       "3   83           1  VLS  Meriadeck     1               18               2   \n",
       "4   83           1  VLS  Meriadeck     1               18               2   \n",
       "\n",
       "                 date  \n",
       "0 2017-07-09 00:03:04  \n",
       "1 2017-07-09 00:04:04  \n",
       "2 2017-07-09 00:09:04  \n",
       "3 2017-07-09 00:14:03  \n",
       "4 2017-07-09 00:19:04  "
      ]
     },
     "execution_count": 120,
     "metadata": {},
     "output_type": "execute_result"
    }
   ],
   "source": [
    "activite.head()"
   ]
  },
  {
   "cell_type": "code",
   "execution_count": 121,
   "metadata": {
    "ExecuteTime": {
     "end_time": "2020-08-25T11:55:52.294160Z",
     "start_time": "2020-08-25T11:55:52.191917Z"
    }
   },
   "outputs": [
    {
     "data": {
      "text/html": [
       "<div>\n",
       "<style scoped>\n",
       "    .dataframe tbody tr th:only-of-type {\n",
       "        vertical-align: middle;\n",
       "    }\n",
       "\n",
       "    .dataframe tbody tr th {\n",
       "        vertical-align: top;\n",
       "    }\n",
       "\n",
       "    .dataframe thead th {\n",
       "        text-align: right;\n",
       "    }\n",
       "</style>\n",
       "<table border=\"1\" class=\"dataframe\">\n",
       "  <thead>\n",
       "    <tr style=\"text-align: right;\">\n",
       "      <th></th>\n",
       "      <th>gid</th>\n",
       "      <th>station_id</th>\n",
       "      <th>type</th>\n",
       "      <th>name</th>\n",
       "      <th>state</th>\n",
       "      <th>available_stand</th>\n",
       "      <th>available_bike</th>\n",
       "      <th>date</th>\n",
       "    </tr>\n",
       "  </thead>\n",
       "  <tbody>\n",
       "    <tr>\n",
       "      <th>3761875</th>\n",
       "      <td>176</td>\n",
       "      <td>174</td>\n",
       "      <td>VLS</td>\n",
       "      <td>Darwin</td>\n",
       "      <td>1</td>\n",
       "      <td>1</td>\n",
       "      <td>19</td>\n",
       "      <td>2017-09-26 14:39:02</td>\n",
       "    </tr>\n",
       "    <tr>\n",
       "      <th>3761876</th>\n",
       "      <td>176</td>\n",
       "      <td>174</td>\n",
       "      <td>VLS</td>\n",
       "      <td>Darwin</td>\n",
       "      <td>1</td>\n",
       "      <td>0</td>\n",
       "      <td>20</td>\n",
       "      <td>2017-09-26 14:44:05</td>\n",
       "    </tr>\n",
       "    <tr>\n",
       "      <th>3761877</th>\n",
       "      <td>176</td>\n",
       "      <td>174</td>\n",
       "      <td>VLS</td>\n",
       "      <td>Darwin</td>\n",
       "      <td>1</td>\n",
       "      <td>0</td>\n",
       "      <td>20</td>\n",
       "      <td>2017-09-26 14:49:05</td>\n",
       "    </tr>\n",
       "    <tr>\n",
       "      <th>3761878</th>\n",
       "      <td>176</td>\n",
       "      <td>174</td>\n",
       "      <td>VLS</td>\n",
       "      <td>Darwin</td>\n",
       "      <td>1</td>\n",
       "      <td>0</td>\n",
       "      <td>20</td>\n",
       "      <td>2017-09-26 14:54:04</td>\n",
       "    </tr>\n",
       "    <tr>\n",
       "      <th>3761879</th>\n",
       "      <td>176</td>\n",
       "      <td>174</td>\n",
       "      <td>VLS</td>\n",
       "      <td>Darwin</td>\n",
       "      <td>1</td>\n",
       "      <td>0</td>\n",
       "      <td>20</td>\n",
       "      <td>2017-09-26 14:59:04</td>\n",
       "    </tr>\n",
       "  </tbody>\n",
       "</table>\n",
       "</div>"
      ],
      "text/plain": [
       "         gid  station_id type    name state  available_stand  available_bike  \\\n",
       "3761875  176         174  VLS  Darwin     1                1              19   \n",
       "3761876  176         174  VLS  Darwin     1                0              20   \n",
       "3761877  176         174  VLS  Darwin     1                0              20   \n",
       "3761878  176         174  VLS  Darwin     1                0              20   \n",
       "3761879  176         174  VLS  Darwin     1                0              20   \n",
       "\n",
       "                       date  \n",
       "3761875 2017-09-26 14:39:02  \n",
       "3761876 2017-09-26 14:44:05  \n",
       "3761877 2017-09-26 14:49:05  \n",
       "3761878 2017-09-26 14:54:04  \n",
       "3761879 2017-09-26 14:59:04  "
      ]
     },
     "execution_count": 121,
     "metadata": {},
     "output_type": "execute_result"
    }
   ],
   "source": [
    "activite.tail()"
   ]
  },
  {
   "cell_type": "code",
   "execution_count": 122,
   "metadata": {
    "ExecuteTime": {
     "end_time": "2020-08-25T11:55:52.495988Z",
     "start_time": "2020-08-25T11:55:52.295829Z"
    }
   },
   "outputs": [],
   "source": [
    "activite['available_bike_shift'] = \\\n",
    "    activite.groupby('station_id')['available_bike'].shift(1)\n",
    "\n",
    "activite['available_bike_shift'] = activite['available_bike_shift'].fillna(0)\n",
    "\n",
    "activite['transactions'] = np.abs(activite['available_bike'] - activite['available_bike_shift'])"
   ]
  },
  {
   "cell_type": "code",
   "execution_count": 126,
   "metadata": {
    "ExecuteTime": {
     "end_time": "2020-08-25T11:56:27.674643Z",
     "start_time": "2020-08-25T11:56:27.639277Z"
    }
   },
   "outputs": [
    {
     "data": {
      "text/html": [
       "<div>\n",
       "<style scoped>\n",
       "    .dataframe tbody tr th:only-of-type {\n",
       "        vertical-align: middle;\n",
       "    }\n",
       "\n",
       "    .dataframe tbody tr th {\n",
       "        vertical-align: top;\n",
       "    }\n",
       "\n",
       "    .dataframe thead th {\n",
       "        text-align: right;\n",
       "    }\n",
       "</style>\n",
       "<table border=\"1\" class=\"dataframe\">\n",
       "  <thead>\n",
       "    <tr style=\"text-align: right;\">\n",
       "      <th></th>\n",
       "      <th>gid</th>\n",
       "      <th>station_id</th>\n",
       "      <th>type</th>\n",
       "      <th>name</th>\n",
       "      <th>state</th>\n",
       "      <th>available_stand</th>\n",
       "      <th>available_bike</th>\n",
       "      <th>date</th>\n",
       "      <th>available_bike_shift</th>\n",
       "      <th>transactions</th>\n",
       "    </tr>\n",
       "  </thead>\n",
       "  <tbody>\n",
       "    <tr>\n",
       "      <th>134</th>\n",
       "      <td>83</td>\n",
       "      <td>1</td>\n",
       "      <td>VLS</td>\n",
       "      <td>Meriadeck</td>\n",
       "      <td>1</td>\n",
       "      <td>14</td>\n",
       "      <td>6</td>\n",
       "      <td>2017-07-09 11:09:04</td>\n",
       "      <td>9.0</td>\n",
       "      <td>3.0</td>\n",
       "    </tr>\n",
       "    <tr>\n",
       "      <th>189</th>\n",
       "      <td>83</td>\n",
       "      <td>1</td>\n",
       "      <td>VLS</td>\n",
       "      <td>Meriadeck</td>\n",
       "      <td>1</td>\n",
       "      <td>17</td>\n",
       "      <td>3</td>\n",
       "      <td>2017-07-09 15:49:03</td>\n",
       "      <td>0.0</td>\n",
       "      <td>3.0</td>\n",
       "    </tr>\n",
       "    <tr>\n",
       "      <th>391</th>\n",
       "      <td>83</td>\n",
       "      <td>1</td>\n",
       "      <td>VLS</td>\n",
       "      <td>Meriadeck</td>\n",
       "      <td>1</td>\n",
       "      <td>0</td>\n",
       "      <td>20</td>\n",
       "      <td>2017-07-10 08:44:04</td>\n",
       "      <td>17.0</td>\n",
       "      <td>3.0</td>\n",
       "    </tr>\n",
       "    <tr>\n",
       "      <th>416</th>\n",
       "      <td>83</td>\n",
       "      <td>1</td>\n",
       "      <td>VLS</td>\n",
       "      <td>Meriadeck</td>\n",
       "      <td>1</td>\n",
       "      <td>0</td>\n",
       "      <td>20</td>\n",
       "      <td>2017-07-10 10:49:20</td>\n",
       "      <td>17.0</td>\n",
       "      <td>3.0</td>\n",
       "    </tr>\n",
       "    <tr>\n",
       "      <th>421</th>\n",
       "      <td>83</td>\n",
       "      <td>1</td>\n",
       "      <td>VLS</td>\n",
       "      <td>Meriadeck</td>\n",
       "      <td>1</td>\n",
       "      <td>3</td>\n",
       "      <td>17</td>\n",
       "      <td>2017-07-10 11:13:23</td>\n",
       "      <td>20.0</td>\n",
       "      <td>3.0</td>\n",
       "    </tr>\n",
       "    <tr>\n",
       "      <th>...</th>\n",
       "      <td>...</td>\n",
       "      <td>...</td>\n",
       "      <td>...</td>\n",
       "      <td>...</td>\n",
       "      <td>...</td>\n",
       "      <td>...</td>\n",
       "      <td>...</td>\n",
       "      <td>...</td>\n",
       "      <td>...</td>\n",
       "      <td>...</td>\n",
       "    </tr>\n",
       "    <tr>\n",
       "      <th>3761584</th>\n",
       "      <td>176</td>\n",
       "      <td>174</td>\n",
       "      <td>VLS</td>\n",
       "      <td>Darwin</td>\n",
       "      <td>1</td>\n",
       "      <td>1</td>\n",
       "      <td>19</td>\n",
       "      <td>2017-09-25 14:09:03</td>\n",
       "      <td>16.0</td>\n",
       "      <td>3.0</td>\n",
       "    </tr>\n",
       "    <tr>\n",
       "      <th>3761612</th>\n",
       "      <td>176</td>\n",
       "      <td>174</td>\n",
       "      <td>VLS</td>\n",
       "      <td>Darwin</td>\n",
       "      <td>1</td>\n",
       "      <td>3</td>\n",
       "      <td>17</td>\n",
       "      <td>2017-09-25 16:29:04</td>\n",
       "      <td>13.0</td>\n",
       "      <td>4.0</td>\n",
       "    </tr>\n",
       "    <tr>\n",
       "      <th>3761620</th>\n",
       "      <td>176</td>\n",
       "      <td>174</td>\n",
       "      <td>VLS</td>\n",
       "      <td>Darwin</td>\n",
       "      <td>1</td>\n",
       "      <td>6</td>\n",
       "      <td>14</td>\n",
       "      <td>2017-09-25 17:09:04</td>\n",
       "      <td>17.0</td>\n",
       "      <td>3.0</td>\n",
       "    </tr>\n",
       "    <tr>\n",
       "      <th>3761638</th>\n",
       "      <td>176</td>\n",
       "      <td>174</td>\n",
       "      <td>VLS</td>\n",
       "      <td>Darwin</td>\n",
       "      <td>1</td>\n",
       "      <td>13</td>\n",
       "      <td>7</td>\n",
       "      <td>2017-09-25 18:39:04</td>\n",
       "      <td>0.0</td>\n",
       "      <td>7.0</td>\n",
       "    </tr>\n",
       "    <tr>\n",
       "      <th>3761663</th>\n",
       "      <td>176</td>\n",
       "      <td>174</td>\n",
       "      <td>VLS</td>\n",
       "      <td>Darwin</td>\n",
       "      <td>1</td>\n",
       "      <td>17</td>\n",
       "      <td>3</td>\n",
       "      <td>2017-09-25 20:44:05</td>\n",
       "      <td>6.0</td>\n",
       "      <td>3.0</td>\n",
       "    </tr>\n",
       "  </tbody>\n",
       "</table>\n",
       "<p>52792 rows × 10 columns</p>\n",
       "</div>"
      ],
      "text/plain": [
       "         gid  station_id type       name state  available_stand  \\\n",
       "134       83           1  VLS  Meriadeck     1               14   \n",
       "189       83           1  VLS  Meriadeck     1               17   \n",
       "391       83           1  VLS  Meriadeck     1                0   \n",
       "416       83           1  VLS  Meriadeck     1                0   \n",
       "421       83           1  VLS  Meriadeck     1                3   \n",
       "...      ...         ...  ...        ...   ...              ...   \n",
       "3761584  176         174  VLS     Darwin     1                1   \n",
       "3761612  176         174  VLS     Darwin     1                3   \n",
       "3761620  176         174  VLS     Darwin     1                6   \n",
       "3761638  176         174  VLS     Darwin     1               13   \n",
       "3761663  176         174  VLS     Darwin     1               17   \n",
       "\n",
       "         available_bike                date  available_bike_shift  \\\n",
       "134                   6 2017-07-09 11:09:04                   9.0   \n",
       "189                   3 2017-07-09 15:49:03                   0.0   \n",
       "391                  20 2017-07-10 08:44:04                  17.0   \n",
       "416                  20 2017-07-10 10:49:20                  17.0   \n",
       "421                  17 2017-07-10 11:13:23                  20.0   \n",
       "...                 ...                 ...                   ...   \n",
       "3761584              19 2017-09-25 14:09:03                  16.0   \n",
       "3761612              17 2017-09-25 16:29:04                  13.0   \n",
       "3761620              14 2017-09-25 17:09:04                  17.0   \n",
       "3761638               7 2017-09-25 18:39:04                   0.0   \n",
       "3761663               3 2017-09-25 20:44:05                   6.0   \n",
       "\n",
       "         transactions  \n",
       "134               3.0  \n",
       "189               3.0  \n",
       "391               3.0  \n",
       "416               3.0  \n",
       "421               3.0  \n",
       "...               ...  \n",
       "3761584           3.0  \n",
       "3761612           4.0  \n",
       "3761620           3.0  \n",
       "3761638           7.0  \n",
       "3761663           3.0  \n",
       "\n",
       "[52792 rows x 10 columns]"
      ]
     },
     "execution_count": 126,
     "metadata": {},
     "output_type": "execute_result"
    }
   ],
   "source": [
    "activite[activite.transactions >= 3]"
   ]
  },
  {
   "cell_type": "code",
   "execution_count": 127,
   "metadata": {
    "ExecuteTime": {
     "end_time": "2020-08-25T11:56:40.373293Z",
     "start_time": "2020-08-25T11:56:40.346650Z"
    }
   },
   "outputs": [
    {
     "data": {
      "text/html": [
       "<div>\n",
       "<style scoped>\n",
       "    .dataframe tbody tr th:only-of-type {\n",
       "        vertical-align: middle;\n",
       "    }\n",
       "\n",
       "    .dataframe tbody tr th {\n",
       "        vertical-align: top;\n",
       "    }\n",
       "\n",
       "    .dataframe thead th {\n",
       "        text-align: right;\n",
       "    }\n",
       "</style>\n",
       "<table border=\"1\" class=\"dataframe\">\n",
       "  <thead>\n",
       "    <tr style=\"text-align: right;\">\n",
       "      <th></th>\n",
       "      <th>gid</th>\n",
       "      <th>station_id</th>\n",
       "      <th>type</th>\n",
       "      <th>name</th>\n",
       "      <th>state</th>\n",
       "      <th>available_stand</th>\n",
       "      <th>available_bike</th>\n",
       "      <th>date</th>\n",
       "      <th>available_bike_shift</th>\n",
       "      <th>transactions</th>\n",
       "    </tr>\n",
       "  </thead>\n",
       "  <tbody>\n",
       "    <tr>\n",
       "      <th>3761633</th>\n",
       "      <td>176</td>\n",
       "      <td>174</td>\n",
       "      <td>VLS</td>\n",
       "      <td>Darwin</td>\n",
       "      <td>1</td>\n",
       "      <td>20</td>\n",
       "      <td>0</td>\n",
       "      <td>2017-09-25 18:14:04</td>\n",
       "      <td>0.0</td>\n",
       "      <td>0.0</td>\n",
       "    </tr>\n",
       "    <tr>\n",
       "      <th>3761634</th>\n",
       "      <td>176</td>\n",
       "      <td>174</td>\n",
       "      <td>VLS</td>\n",
       "      <td>Darwin</td>\n",
       "      <td>1</td>\n",
       "      <td>20</td>\n",
       "      <td>0</td>\n",
       "      <td>2017-09-25 18:19:02</td>\n",
       "      <td>0.0</td>\n",
       "      <td>0.0</td>\n",
       "    </tr>\n",
       "    <tr>\n",
       "      <th>3761635</th>\n",
       "      <td>176</td>\n",
       "      <td>174</td>\n",
       "      <td>VLS</td>\n",
       "      <td>Darwin</td>\n",
       "      <td>1</td>\n",
       "      <td>20</td>\n",
       "      <td>0</td>\n",
       "      <td>2017-09-25 18:24:04</td>\n",
       "      <td>0.0</td>\n",
       "      <td>0.0</td>\n",
       "    </tr>\n",
       "    <tr>\n",
       "      <th>3761636</th>\n",
       "      <td>176</td>\n",
       "      <td>174</td>\n",
       "      <td>VLS</td>\n",
       "      <td>Darwin</td>\n",
       "      <td>1</td>\n",
       "      <td>20</td>\n",
       "      <td>0</td>\n",
       "      <td>2017-09-25 18:29:05</td>\n",
       "      <td>0.0</td>\n",
       "      <td>0.0</td>\n",
       "    </tr>\n",
       "    <tr>\n",
       "      <th>3761637</th>\n",
       "      <td>176</td>\n",
       "      <td>174</td>\n",
       "      <td>VLS</td>\n",
       "      <td>Darwin</td>\n",
       "      <td>1</td>\n",
       "      <td>20</td>\n",
       "      <td>0</td>\n",
       "      <td>2017-09-25 18:34:04</td>\n",
       "      <td>0.0</td>\n",
       "      <td>0.0</td>\n",
       "    </tr>\n",
       "    <tr>\n",
       "      <th>3761638</th>\n",
       "      <td>176</td>\n",
       "      <td>174</td>\n",
       "      <td>VLS</td>\n",
       "      <td>Darwin</td>\n",
       "      <td>1</td>\n",
       "      <td>13</td>\n",
       "      <td>7</td>\n",
       "      <td>2017-09-25 18:39:04</td>\n",
       "      <td>0.0</td>\n",
       "      <td>7.0</td>\n",
       "    </tr>\n",
       "    <tr>\n",
       "      <th>3761639</th>\n",
       "      <td>176</td>\n",
       "      <td>174</td>\n",
       "      <td>VLS</td>\n",
       "      <td>Darwin</td>\n",
       "      <td>1</td>\n",
       "      <td>12</td>\n",
       "      <td>8</td>\n",
       "      <td>2017-09-25 18:44:04</td>\n",
       "      <td>7.0</td>\n",
       "      <td>1.0</td>\n",
       "    </tr>\n",
       "    <tr>\n",
       "      <th>3761640</th>\n",
       "      <td>176</td>\n",
       "      <td>174</td>\n",
       "      <td>VLS</td>\n",
       "      <td>Darwin</td>\n",
       "      <td>1</td>\n",
       "      <td>12</td>\n",
       "      <td>8</td>\n",
       "      <td>2017-09-25 18:49:03</td>\n",
       "      <td>8.0</td>\n",
       "      <td>0.0</td>\n",
       "    </tr>\n",
       "    <tr>\n",
       "      <th>3761641</th>\n",
       "      <td>176</td>\n",
       "      <td>174</td>\n",
       "      <td>VLS</td>\n",
       "      <td>Darwin</td>\n",
       "      <td>1</td>\n",
       "      <td>12</td>\n",
       "      <td>8</td>\n",
       "      <td>2017-09-25 18:54:05</td>\n",
       "      <td>8.0</td>\n",
       "      <td>0.0</td>\n",
       "    </tr>\n",
       "    <tr>\n",
       "      <th>3761642</th>\n",
       "      <td>176</td>\n",
       "      <td>174</td>\n",
       "      <td>VLS</td>\n",
       "      <td>Darwin</td>\n",
       "      <td>1</td>\n",
       "      <td>12</td>\n",
       "      <td>8</td>\n",
       "      <td>2017-09-25 18:59:03</td>\n",
       "      <td>8.0</td>\n",
       "      <td>0.0</td>\n",
       "    </tr>\n",
       "  </tbody>\n",
       "</table>\n",
       "</div>"
      ],
      "text/plain": [
       "         gid  station_id type    name state  available_stand  available_bike  \\\n",
       "3761633  176         174  VLS  Darwin     1               20               0   \n",
       "3761634  176         174  VLS  Darwin     1               20               0   \n",
       "3761635  176         174  VLS  Darwin     1               20               0   \n",
       "3761636  176         174  VLS  Darwin     1               20               0   \n",
       "3761637  176         174  VLS  Darwin     1               20               0   \n",
       "3761638  176         174  VLS  Darwin     1               13               7   \n",
       "3761639  176         174  VLS  Darwin     1               12               8   \n",
       "3761640  176         174  VLS  Darwin     1               12               8   \n",
       "3761641  176         174  VLS  Darwin     1               12               8   \n",
       "3761642  176         174  VLS  Darwin     1               12               8   \n",
       "\n",
       "                       date  available_bike_shift  transactions  \n",
       "3761633 2017-09-25 18:14:04                   0.0           0.0  \n",
       "3761634 2017-09-25 18:19:02                   0.0           0.0  \n",
       "3761635 2017-09-25 18:24:04                   0.0           0.0  \n",
       "3761636 2017-09-25 18:29:05                   0.0           0.0  \n",
       "3761637 2017-09-25 18:34:04                   0.0           0.0  \n",
       "3761638 2017-09-25 18:39:04                   0.0           7.0  \n",
       "3761639 2017-09-25 18:44:04                   7.0           1.0  \n",
       "3761640 2017-09-25 18:49:03                   8.0           0.0  \n",
       "3761641 2017-09-25 18:54:05                   8.0           0.0  \n",
       "3761642 2017-09-25 18:59:03                   8.0           0.0  "
      ]
     },
     "execution_count": 127,
     "metadata": {},
     "output_type": "execute_result"
    }
   ],
   "source": [
    "activite[activite.index >= 3761638 - 5].head(10)"
   ]
  },
  {
   "cell_type": "code",
   "execution_count": null,
   "metadata": {},
   "outputs": [],
   "source": []
  }
 ],
 "metadata": {
  "kernelspec": {
   "display_name": "Python [conda env:vcub_keeper] *",
   "language": "python",
   "name": "conda-env-vcub_keeper-py"
  },
  "language_info": {
   "codemirror_mode": {
    "name": "ipython",
    "version": 3
   },
   "file_extension": ".py",
   "mimetype": "text/x-python",
   "name": "python",
   "nbconvert_exporter": "python",
   "pygments_lexer": "ipython3",
   "version": "3.8.5"
  },
  "toc": {
   "base_numbering": 1,
   "nav_menu": {},
   "number_sections": true,
   "sideBar": true,
   "skip_h1_title": false,
   "title_cell": "Table of Contents",
   "title_sidebar": "Contents",
   "toc_cell": true,
   "toc_position": {
    "height": "calc(100% - 180px)",
    "left": "10px",
    "top": "150px",
    "width": "320px"
   },
   "toc_section_display": true,
   "toc_window_display": false
  }
 },
 "nbformat": 4,
 "nbformat_minor": 4
}
