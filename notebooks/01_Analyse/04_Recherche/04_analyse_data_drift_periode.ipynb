{
 "cells": [
  {
   "cell_type": "code",
   "execution_count": 7,
   "metadata": {
    "ExecuteTime": {
     "end_time": "2020-10-19T14:33:36.659064Z",
     "start_time": "2020-10-19T14:33:35.865723Z"
    }
   },
   "outputs": [
    {
     "name": "stdout",
     "output_type": "stream",
     "text": [
      "The autoreload extension is already loaded. To reload it, use:\n",
      "  %reload_ext autoreload\n"
     ]
    }
   ],
   "source": [
    "import pandas as pd\n",
    "\n",
    "from vcub_keeper.config import *\n",
    "from vcub_keeper.reader.reader import *\n",
    "from vcub_keeper.reader.reader_utils import filter_periode\n",
    "from vcub_keeper.production.data import get_data_from_api_by_station, transform_json_station_data_to_df\n",
    "from vcub_keeper.transform.features_factory import *\n",
    "\n",
    "from eurybia import SmartDrift\n",
    "\n",
    "import matplotlib.pyplot as plt\n",
    "import seaborn as sns\n",
    "sns.set_style('whitegrid')\n",
    "%matplotlib inline\n",
    "\n",
    "%load_ext autoreload\n",
    "%autoreload 2\n",
    "\n",
    "pd.options.display.max_rows = 500\n",
    "pd.options.display.max_columns = 500"
   ]
  },
  {
   "cell_type": "markdown",
   "metadata": {},
   "source": [
    "## Objectifs "
   ]
  },
  {
   "cell_type": "markdown",
   "metadata": {},
   "source": [
    "- Analyser s'il y a un changement d'activité entre 2019 et la période du Covid.\n",
    "- Analyser s'il y a un changement d'activité entre 2019 et une périodes plus normal (cf. après septembre 2021).\n",
    "- Prendre en compte qu'il y a des stations où il y a peu d'activité (non monitoré par les algo)."
   ]
  },
  {
   "cell_type": "markdown",
   "metadata": {},
   "source": [
    "# Période du Covid"
   ]
  },
  {
   "cell_type": "code",
   "execution_count": 8,
   "metadata": {},
   "outputs": [],
   "source": [
    "# Obtenir les id des stations\n",
    "station_profile = read_station_profile(path_directory=ROOT_DATA_REF)"
   ]
  },
  {
   "cell_type": "code",
   "execution_count": 11,
   "metadata": {},
   "outputs": [
    {
     "name": "stderr",
     "output_type": "stream",
     "text": [
      "INFO:numexpr.utils:NumExpr defaulting to 8 threads.\n"
     ]
    }
   ],
   "source": [
    "# Get data from API\n",
    "start_date='2019-01-01' # Année normale\n",
    "stop_date='2020-12-31' # Année Covid\n",
    "\n",
    "\n",
    "# list des station vcub\n",
    "list_station_id = station_profile['station_id'].unique()\n",
    "\n",
    "# +/- 13 min de query API\n",
    "station_json = get_data_from_api_by_station(station_id=list_station_id, \n",
    "                                            start_date=start_date,\n",
    "                                            stop_date=stop_date)\n",
    "\n",
    "station_df = transform_json_station_data_to_df(station_json)"
   ]
  },
  {
   "cell_type": "code",
   "execution_count": null,
   "metadata": {},
   "outputs": [],
   "source": []
  },
  {
   "cell_type": "code",
   "execution_count": 76,
   "metadata": {},
   "outputs": [],
   "source": [
    "station_df = get_consecutive_no_transactions_out(station_df)"
   ]
  },
  {
   "cell_type": "code",
   "execution_count": 77,
   "metadata": {},
   "outputs": [
    {
     "data": {
      "text/plain": [
       "(18830394, 11)"
      ]
     },
     "execution_count": 77,
     "metadata": {},
     "output_type": "execute_result"
    }
   ],
   "source": [
    "station_df.shape"
   ]
  },
  {
   "cell_type": "code",
   "execution_count": 78,
   "metadata": {},
   "outputs": [
    {
     "data": {
      "text/html": [
       "<div>\n",
       "<style scoped>\n",
       "    .dataframe tbody tr th:only-of-type {\n",
       "        vertical-align: middle;\n",
       "    }\n",
       "\n",
       "    .dataframe tbody tr th {\n",
       "        vertical-align: top;\n",
       "    }\n",
       "\n",
       "    .dataframe thead th {\n",
       "        text-align: right;\n",
       "    }\n",
       "</style>\n",
       "<table border=\"1\" class=\"dataframe\">\n",
       "  <thead>\n",
       "    <tr style=\"text-align: right;\">\n",
       "      <th></th>\n",
       "      <th>station_id</th>\n",
       "      <th>date</th>\n",
       "      <th>available_stands</th>\n",
       "      <th>available_bikes</th>\n",
       "      <th>status</th>\n",
       "      <th>transactions_in</th>\n",
       "      <th>transactions_out</th>\n",
       "      <th>transactions_all</th>\n",
       "      <th>date_day</th>\n",
       "      <th>year</th>\n",
       "      <th>consecutive_no_transactions_out</th>\n",
       "    </tr>\n",
       "  </thead>\n",
       "  <tbody>\n",
       "    <tr>\n",
       "      <th>0</th>\n",
       "      <td>1</td>\n",
       "      <td>2019-01-02 11:50:00</td>\n",
       "      <td>18.0</td>\n",
       "      <td>14.0</td>\n",
       "      <td>1.0</td>\n",
       "      <td>0.0</td>\n",
       "      <td>0.0</td>\n",
       "      <td>0.0</td>\n",
       "      <td>2019-01-02</td>\n",
       "      <td>2019</td>\n",
       "      <td>0</td>\n",
       "    </tr>\n",
       "    <tr>\n",
       "      <th>1</th>\n",
       "      <td>1</td>\n",
       "      <td>2019-01-02 12:00:00</td>\n",
       "      <td>18.0</td>\n",
       "      <td>14.0</td>\n",
       "      <td>1.0</td>\n",
       "      <td>0.0</td>\n",
       "      <td>0.0</td>\n",
       "      <td>0.0</td>\n",
       "      <td>2019-01-02</td>\n",
       "      <td>2019</td>\n",
       "      <td>1</td>\n",
       "    </tr>\n",
       "    <tr>\n",
       "      <th>2</th>\n",
       "      <td>1</td>\n",
       "      <td>2019-01-02 12:10:00</td>\n",
       "      <td>18.0</td>\n",
       "      <td>14.0</td>\n",
       "      <td>1.0</td>\n",
       "      <td>0.0</td>\n",
       "      <td>0.0</td>\n",
       "      <td>0.0</td>\n",
       "      <td>2019-01-02</td>\n",
       "      <td>2019</td>\n",
       "      <td>2</td>\n",
       "    </tr>\n",
       "    <tr>\n",
       "      <th>3</th>\n",
       "      <td>1</td>\n",
       "      <td>2019-01-02 12:20:00</td>\n",
       "      <td>14.0</td>\n",
       "      <td>18.0</td>\n",
       "      <td>1.0</td>\n",
       "      <td>4.0</td>\n",
       "      <td>0.0</td>\n",
       "      <td>4.0</td>\n",
       "      <td>2019-01-02</td>\n",
       "      <td>2019</td>\n",
       "      <td>3</td>\n",
       "    </tr>\n",
       "    <tr>\n",
       "      <th>4</th>\n",
       "      <td>1</td>\n",
       "      <td>2019-01-02 12:30:00</td>\n",
       "      <td>14.0</td>\n",
       "      <td>18.0</td>\n",
       "      <td>1.0</td>\n",
       "      <td>0.0</td>\n",
       "      <td>0.0</td>\n",
       "      <td>0.0</td>\n",
       "      <td>2019-01-02</td>\n",
       "      <td>2019</td>\n",
       "      <td>4</td>\n",
       "    </tr>\n",
       "  </tbody>\n",
       "</table>\n",
       "</div>"
      ],
      "text/plain": [
       "   station_id                date  available_stands  available_bikes  status  \\\n",
       "0           1 2019-01-02 11:50:00              18.0             14.0     1.0   \n",
       "1           1 2019-01-02 12:00:00              18.0             14.0     1.0   \n",
       "2           1 2019-01-02 12:10:00              18.0             14.0     1.0   \n",
       "3           1 2019-01-02 12:20:00              14.0             18.0     1.0   \n",
       "4           1 2019-01-02 12:30:00              14.0             18.0     1.0   \n",
       "\n",
       "   transactions_in  transactions_out  transactions_all    date_day  year  \\\n",
       "0              0.0               0.0               0.0  2019-01-02  2019   \n",
       "1              0.0               0.0               0.0  2019-01-02  2019   \n",
       "2              0.0               0.0               0.0  2019-01-02  2019   \n",
       "3              4.0               0.0               4.0  2019-01-02  2019   \n",
       "4              0.0               0.0               0.0  2019-01-02  2019   \n",
       "\n",
       "   consecutive_no_transactions_out  \n",
       "0                                0  \n",
       "1                                1  \n",
       "2                                2  \n",
       "3                                3  \n",
       "4                                4  "
      ]
     },
     "execution_count": 78,
     "metadata": {},
     "output_type": "execute_result"
    }
   ],
   "source": [
    "station_df.head()"
   ]
  },
  {
   "cell_type": "code",
   "execution_count": 79,
   "metadata": {},
   "outputs": [
    {
     "data": {
      "text/plain": [
       "2020    9563739\n",
       "2019    9266655\n",
       "Name: date, dtype: int64"
      ]
     },
     "execution_count": 79,
     "metadata": {},
     "output_type": "execute_result"
    }
   ],
   "source": [
    "station_df.date.dt.year.value_counts()"
   ]
  },
  {
   "cell_type": "markdown",
   "metadata": {},
   "source": [
    "Afin de comparer une année \"normale\" d'activité Vcub (Cf 2019) avec une année Covid (2020), on compare par jours et par station Vcub leurs activités.\n",
    "\n",
    "Pour respecter la temporalité, on ne prend que les données qui sont supérieures au 17 mars (date du 1er confinement en France 17 mars 2020)"
   ]
  },
  {
   "cell_type": "code",
   "execution_count": 149,
   "metadata": {},
   "outputs": [],
   "source": [
    "station_df['date_day'] = station_df['date'].dt.date"
   ]
  },
  {
   "cell_type": "code",
   "execution_count": 85,
   "metadata": {},
   "outputs": [],
   "source": [
    "# transactions_in : on sommes les dépôts de Vcub à la journée\n",
    "# transactions_out : on sommes les prise de Vcub à la journée\n",
    "# consecutive_no_transactions_out : on prend le maximum de temps (10min) ou aucun prise de Vcub n'a été faite durant la journée.\n",
    "station_agg_day_df = \\\n",
    "    station_df.groupby(['date_day', 'station_id'], as_index=False)[['transactions_in', \n",
    "                                                                    'transactions_out',\n",
    "                                                                    'consecutive_no_transactions_out']].agg({'transactions_in': 'sum',\n",
    "                                                                                                             'transactions_out': 'sum',\n",
    "                                                                                                             'consecutive_no_transactions_out': 'max'})\n",
    "\n",
    "station_agg_day_df['date_day'] = station_agg_day_df['date_day'].astype(str)\n",
    "station_agg_day_df['year'] = station_agg_day_df['date_day'].apply(lambda x: x[0:4])\n",
    "\n",
    "# Création de features temporelle\n",
    "station_agg_day_df['month'] = pd.to_numeric(station_agg_day_df['date_day'].apply(lambda x: x[5:7]))"
   ]
  },
  {
   "cell_type": "code",
   "execution_count": 86,
   "metadata": {},
   "outputs": [
    {
     "data": {
      "text/html": [
       "<div>\n",
       "<style scoped>\n",
       "    .dataframe tbody tr th:only-of-type {\n",
       "        vertical-align: middle;\n",
       "    }\n",
       "\n",
       "    .dataframe tbody tr th {\n",
       "        vertical-align: top;\n",
       "    }\n",
       "\n",
       "    .dataframe thead th {\n",
       "        text-align: right;\n",
       "    }\n",
       "</style>\n",
       "<table border=\"1\" class=\"dataframe\">\n",
       "  <thead>\n",
       "    <tr style=\"text-align: right;\">\n",
       "      <th></th>\n",
       "      <th>date_day</th>\n",
       "      <th>station_id</th>\n",
       "      <th>transactions_in</th>\n",
       "      <th>transactions_out</th>\n",
       "      <th>consecutive_no_transactions_out</th>\n",
       "      <th>year</th>\n",
       "      <th>month</th>\n",
       "    </tr>\n",
       "  </thead>\n",
       "  <tbody>\n",
       "    <tr>\n",
       "      <th>0</th>\n",
       "      <td>2019-01-02</td>\n",
       "      <td>1</td>\n",
       "      <td>35.0</td>\n",
       "      <td>32.0</td>\n",
       "      <td>15</td>\n",
       "      <td>2019</td>\n",
       "      <td>1</td>\n",
       "    </tr>\n",
       "    <tr>\n",
       "      <th>1</th>\n",
       "      <td>2019-01-02</td>\n",
       "      <td>2</td>\n",
       "      <td>23.0</td>\n",
       "      <td>15.0</td>\n",
       "      <td>16</td>\n",
       "      <td>2019</td>\n",
       "      <td>1</td>\n",
       "    </tr>\n",
       "    <tr>\n",
       "      <th>2</th>\n",
       "      <td>2019-01-02</td>\n",
       "      <td>3</td>\n",
       "      <td>19.0</td>\n",
       "      <td>16.0</td>\n",
       "      <td>26</td>\n",
       "      <td>2019</td>\n",
       "      <td>1</td>\n",
       "    </tr>\n",
       "    <tr>\n",
       "      <th>3</th>\n",
       "      <td>2019-01-02</td>\n",
       "      <td>4</td>\n",
       "      <td>16.0</td>\n",
       "      <td>30.0</td>\n",
       "      <td>14</td>\n",
       "      <td>2019</td>\n",
       "      <td>1</td>\n",
       "    </tr>\n",
       "    <tr>\n",
       "      <th>4</th>\n",
       "      <td>2019-01-02</td>\n",
       "      <td>6</td>\n",
       "      <td>11.0</td>\n",
       "      <td>18.0</td>\n",
       "      <td>11</td>\n",
       "      <td>2019</td>\n",
       "      <td>1</td>\n",
       "    </tr>\n",
       "    <tr>\n",
       "      <th>...</th>\n",
       "      <td>...</td>\n",
       "      <td>...</td>\n",
       "      <td>...</td>\n",
       "      <td>...</td>\n",
       "      <td>...</td>\n",
       "      <td>...</td>\n",
       "      <td>...</td>\n",
       "    </tr>\n",
       "    <tr>\n",
       "      <th>131031</th>\n",
       "      <td>2020-12-31</td>\n",
       "      <td>180</td>\n",
       "      <td>0.0</td>\n",
       "      <td>0.0</td>\n",
       "      <td>931</td>\n",
       "      <td>2020</td>\n",
       "      <td>12</td>\n",
       "    </tr>\n",
       "    <tr>\n",
       "      <th>131032</th>\n",
       "      <td>2020-12-31</td>\n",
       "      <td>181</td>\n",
       "      <td>0.0</td>\n",
       "      <td>0.0</td>\n",
       "      <td>187</td>\n",
       "      <td>2020</td>\n",
       "      <td>12</td>\n",
       "    </tr>\n",
       "    <tr>\n",
       "      <th>131033</th>\n",
       "      <td>2020-12-31</td>\n",
       "      <td>182</td>\n",
       "      <td>0.0</td>\n",
       "      <td>0.0</td>\n",
       "      <td>186</td>\n",
       "      <td>2020</td>\n",
       "      <td>12</td>\n",
       "    </tr>\n",
       "    <tr>\n",
       "      <th>131034</th>\n",
       "      <td>2020-12-31</td>\n",
       "      <td>183</td>\n",
       "      <td>0.0</td>\n",
       "      <td>0.0</td>\n",
       "      <td>163</td>\n",
       "      <td>2020</td>\n",
       "      <td>12</td>\n",
       "    </tr>\n",
       "    <tr>\n",
       "      <th>131035</th>\n",
       "      <td>2020-12-31</td>\n",
       "      <td>251</td>\n",
       "      <td>0.0</td>\n",
       "      <td>0.0</td>\n",
       "      <td>34</td>\n",
       "      <td>2020</td>\n",
       "      <td>12</td>\n",
       "    </tr>\n",
       "  </tbody>\n",
       "</table>\n",
       "<p>131036 rows × 7 columns</p>\n",
       "</div>"
      ],
      "text/plain": [
       "          date_day  station_id  transactions_in  transactions_out  \\\n",
       "0       2019-01-02           1             35.0              32.0   \n",
       "1       2019-01-02           2             23.0              15.0   \n",
       "2       2019-01-02           3             19.0              16.0   \n",
       "3       2019-01-02           4             16.0              30.0   \n",
       "4       2019-01-02           6             11.0              18.0   \n",
       "...            ...         ...              ...               ...   \n",
       "131031  2020-12-31         180              0.0               0.0   \n",
       "131032  2020-12-31         181              0.0               0.0   \n",
       "131033  2020-12-31         182              0.0               0.0   \n",
       "131034  2020-12-31         183              0.0               0.0   \n",
       "131035  2020-12-31         251              0.0               0.0   \n",
       "\n",
       "        consecutive_no_transactions_out  year  month  \n",
       "0                                    15  2019      1  \n",
       "1                                    16  2019      1  \n",
       "2                                    26  2019      1  \n",
       "3                                    14  2019      1  \n",
       "4                                    11  2019      1  \n",
       "...                                 ...   ...    ...  \n",
       "131031                              931  2020     12  \n",
       "131032                              187  2020     12  \n",
       "131033                              186  2020     12  \n",
       "131034                              163  2020     12  \n",
       "131035                               34  2020     12  \n",
       "\n",
       "[131036 rows x 7 columns]"
      ]
     },
     "execution_count": 86,
     "metadata": {},
     "output_type": "execute_result"
    }
   ],
   "source": [
    "station_agg_day_df"
   ]
  },
  {
   "cell_type": "code",
   "execution_count": 87,
   "metadata": {},
   "outputs": [],
   "source": [
    "baseline_df = station_agg_day_df[station_agg_day_df['year'] == \"2019\"]    # Notre année normale afin de comparer l'activité des station Vcub\n",
    "covid_year_df = station_agg_day_df[station_agg_day_df['year'] == \"2020\"]  # Année Covid\n",
    "\n",
    "# On respecte la même temporalité pour 2 DataFrame\n",
    "baseline_df = baseline_df[baseline_df['date_day'] >= \"2019-03-17\"]\n",
    "covid_year_df = covid_year_df[covid_year_df['date_day'] >= \"2020-03-17\"]\n"
   ]
  },
  {
   "cell_type": "code",
   "execution_count": 88,
   "metadata": {},
   "outputs": [
    {
     "data": {
      "text/html": [
       "<div>\n",
       "<style scoped>\n",
       "    .dataframe tbody tr th:only-of-type {\n",
       "        vertical-align: middle;\n",
       "    }\n",
       "\n",
       "    .dataframe tbody tr th {\n",
       "        vertical-align: top;\n",
       "    }\n",
       "\n",
       "    .dataframe thead th {\n",
       "        text-align: right;\n",
       "    }\n",
       "</style>\n",
       "<table border=\"1\" class=\"dataframe\">\n",
       "  <thead>\n",
       "    <tr style=\"text-align: right;\">\n",
       "      <th></th>\n",
       "      <th>date_day</th>\n",
       "      <th>station_id</th>\n",
       "      <th>transactions_in</th>\n",
       "      <th>transactions_out</th>\n",
       "      <th>consecutive_no_transactions_out</th>\n",
       "      <th>year</th>\n",
       "      <th>month</th>\n",
       "    </tr>\n",
       "  </thead>\n",
       "  <tbody>\n",
       "    <tr>\n",
       "      <th>78077</th>\n",
       "      <td>2020-03-17</td>\n",
       "      <td>1</td>\n",
       "      <td>26.0</td>\n",
       "      <td>14.0</td>\n",
       "      <td>71</td>\n",
       "      <td>2020</td>\n",
       "      <td>3</td>\n",
       "    </tr>\n",
       "    <tr>\n",
       "      <th>78078</th>\n",
       "      <td>2020-03-17</td>\n",
       "      <td>2</td>\n",
       "      <td>8.0</td>\n",
       "      <td>13.0</td>\n",
       "      <td>51</td>\n",
       "      <td>2020</td>\n",
       "      <td>3</td>\n",
       "    </tr>\n",
       "    <tr>\n",
       "      <th>78079</th>\n",
       "      <td>2020-03-17</td>\n",
       "      <td>3</td>\n",
       "      <td>9.0</td>\n",
       "      <td>6.0</td>\n",
       "      <td>56</td>\n",
       "      <td>2020</td>\n",
       "      <td>3</td>\n",
       "    </tr>\n",
       "    <tr>\n",
       "      <th>78080</th>\n",
       "      <td>2020-03-17</td>\n",
       "      <td>4</td>\n",
       "      <td>12.0</td>\n",
       "      <td>12.0</td>\n",
       "      <td>10</td>\n",
       "      <td>2020</td>\n",
       "      <td>3</td>\n",
       "    </tr>\n",
       "    <tr>\n",
       "      <th>78081</th>\n",
       "      <td>2020-03-17</td>\n",
       "      <td>5</td>\n",
       "      <td>14.0</td>\n",
       "      <td>18.0</td>\n",
       "      <td>57</td>\n",
       "      <td>2020</td>\n",
       "      <td>3</td>\n",
       "    </tr>\n",
       "  </tbody>\n",
       "</table>\n",
       "</div>"
      ],
      "text/plain": [
       "         date_day  station_id  transactions_in  transactions_out  \\\n",
       "78077  2020-03-17           1             26.0              14.0   \n",
       "78078  2020-03-17           2              8.0              13.0   \n",
       "78079  2020-03-17           3              9.0               6.0   \n",
       "78080  2020-03-17           4             12.0              12.0   \n",
       "78081  2020-03-17           5             14.0              18.0   \n",
       "\n",
       "       consecutive_no_transactions_out  year  month  \n",
       "78077                               71  2020      3  \n",
       "78078                               51  2020      3  \n",
       "78079                               56  2020      3  \n",
       "78080                               10  2020      3  \n",
       "78081                               57  2020      3  "
      ]
     },
     "execution_count": 88,
     "metadata": {},
     "output_type": "execute_result"
    }
   ],
   "source": [
    "covid_year_df.head()"
   ]
  },
  {
   "cell_type": "code",
   "execution_count": 89,
   "metadata": {},
   "outputs": [
    {
     "data": {
      "text/html": [
       "<div>\n",
       "<style scoped>\n",
       "    .dataframe tbody tr th:only-of-type {\n",
       "        vertical-align: middle;\n",
       "    }\n",
       "\n",
       "    .dataframe tbody tr th {\n",
       "        vertical-align: top;\n",
       "    }\n",
       "\n",
       "    .dataframe thead th {\n",
       "        text-align: right;\n",
       "    }\n",
       "</style>\n",
       "<table border=\"1\" class=\"dataframe\">\n",
       "  <thead>\n",
       "    <tr style=\"text-align: right;\">\n",
       "      <th></th>\n",
       "      <th>date_day</th>\n",
       "      <th>station_id</th>\n",
       "      <th>transactions_in</th>\n",
       "      <th>transactions_out</th>\n",
       "      <th>consecutive_no_transactions_out</th>\n",
       "      <th>year</th>\n",
       "      <th>month</th>\n",
       "    </tr>\n",
       "  </thead>\n",
       "  <tbody>\n",
       "    <tr>\n",
       "      <th>78077</th>\n",
       "      <td>2020-03-17</td>\n",
       "      <td>1</td>\n",
       "      <td>26.0</td>\n",
       "      <td>14.0</td>\n",
       "      <td>71</td>\n",
       "      <td>2020</td>\n",
       "      <td>3</td>\n",
       "    </tr>\n",
       "    <tr>\n",
       "      <th>78078</th>\n",
       "      <td>2020-03-17</td>\n",
       "      <td>2</td>\n",
       "      <td>8.0</td>\n",
       "      <td>13.0</td>\n",
       "      <td>51</td>\n",
       "      <td>2020</td>\n",
       "      <td>3</td>\n",
       "    </tr>\n",
       "    <tr>\n",
       "      <th>78079</th>\n",
       "      <td>2020-03-17</td>\n",
       "      <td>3</td>\n",
       "      <td>9.0</td>\n",
       "      <td>6.0</td>\n",
       "      <td>56</td>\n",
       "      <td>2020</td>\n",
       "      <td>3</td>\n",
       "    </tr>\n",
       "    <tr>\n",
       "      <th>78080</th>\n",
       "      <td>2020-03-17</td>\n",
       "      <td>4</td>\n",
       "      <td>12.0</td>\n",
       "      <td>12.0</td>\n",
       "      <td>10</td>\n",
       "      <td>2020</td>\n",
       "      <td>3</td>\n",
       "    </tr>\n",
       "    <tr>\n",
       "      <th>78081</th>\n",
       "      <td>2020-03-17</td>\n",
       "      <td>5</td>\n",
       "      <td>14.0</td>\n",
       "      <td>18.0</td>\n",
       "      <td>57</td>\n",
       "      <td>2020</td>\n",
       "      <td>3</td>\n",
       "    </tr>\n",
       "  </tbody>\n",
       "</table>\n",
       "</div>"
      ],
      "text/plain": [
       "         date_day  station_id  transactions_in  transactions_out  \\\n",
       "78077  2020-03-17           1             26.0              14.0   \n",
       "78078  2020-03-17           2              8.0              13.0   \n",
       "78079  2020-03-17           3              9.0               6.0   \n",
       "78080  2020-03-17           4             12.0              12.0   \n",
       "78081  2020-03-17           5             14.0              18.0   \n",
       "\n",
       "       consecutive_no_transactions_out  year  month  \n",
       "78077                               71  2020      3  \n",
       "78078                               51  2020      3  \n",
       "78079                               56  2020      3  \n",
       "78080                               10  2020      3  \n",
       "78081                               57  2020      3  "
      ]
     },
     "execution_count": 89,
     "metadata": {},
     "output_type": "execute_result"
    }
   ],
   "source": [
    "covid_year_df[covid_year_df['date_day'] >= \"2020-03-17\"].head()"
   ]
  },
  {
   "cell_type": "code",
   "execution_count": 93,
   "metadata": {},
   "outputs": [],
   "source": [
    "FEATURE_TO_ANALYSE = ['transactions_in', 'transactions_out', 'consecutive_no_transactions_out', 'station_id', 'month']\n",
    "\n",
    "SD = SmartDrift(df_current=covid_year_df[FEATURE_TO_ANALYSE],\n",
    "                df_baseline=baseline_df[FEATURE_TO_ANALYSE],\n",
    "                )"
   ]
  },
  {
   "cell_type": "code",
   "execution_count": 94,
   "metadata": {},
   "outputs": [
    {
     "name": "stdout",
     "output_type": "stream",
     "text": [
      "The computed AUC on the X_test used to build datadrift_classifier is equal to: 0.7551099716789643\n"
     ]
    }
   ],
   "source": [
    "SD.compile(full_validation=True,\n",
    "           date_compile_auc = '01/01/2020',       # Optional: useful when computing the drift for a time that is not now\n",
    "           datadrift_file = \"active_covid.csv\"    # Optional: name of the csv file that contains the performance history of data drift\n",
    "            )"
   ]
  },
  {
   "cell_type": "code",
   "execution_count": 95,
   "metadata": {},
   "outputs": [
    {
     "data": {
      "text/markdown": [
       "Report saved to ./analyse_vcub_activite_covid_period.html. To upload and share your report, create a free Datapane account by running `!datapane signup`."
      ],
      "text/plain": [
       "<IPython.core.display.Markdown object>"
      ]
     },
     "metadata": {},
     "output_type": "display_data"
    }
   ],
   "source": [
    "SD.generate_report(\n",
    "    output_file='analyse_vcub_activite_covid_period.html',\n",
    "    title_story=\"Comparatif de l'activité station Vcub entre 2019 et 2020 (année Covid)\",\n",
    "    title_description=\"\"\"Actvité Data drift 2020 Covid\"\"\" # Optional: add a subtitle to describe report\n",
    "    )"
   ]
  },
  {
   "cell_type": "markdown",
   "metadata": {},
   "source": [
    "# Analyse avant Covid et après Covid"
   ]
  },
  {
   "cell_type": "markdown",
   "metadata": {},
   "source": [
    "Le but est d'analyser les différences qu'il peut y avoir sur l'activité des stations Vcub avant le Covid et après (à partir de Septembre 2021). \n",
    "\n",
    "Il peut y avoir de nombreux changement socio / démographique qui ont eu lieu entre ces 2 moments comme le télétravail, l'achat d'un vélo, déménagement etc..."
   ]
  },
  {
   "cell_type": "code",
   "execution_count": 138,
   "metadata": {},
   "outputs": [],
   "source": []
  },
  {
   "cell_type": "code",
   "execution_count": 96,
   "metadata": {},
   "outputs": [],
   "source": [
    "# Get data from API pour période après Covid.\n",
    "start_date='2021-09-01' \n",
    "stop_date='2022-05-01' \n",
    "\n",
    "# list des station vcub\n",
    "list_station_id = station_profile['station_id'].unique()\n",
    "\n",
    "# List des station vcub que l'on monitor (avec un activité assez élevé afin de détecter des possibles anomalie)\n",
    "list_station_id_pred = \\\n",
    "    station_profile[station_profile['mean'] >= THRESHOLD_PROFILE_STATION]['station_id'].unique()\n",
    "\n",
    "\n",
    "# +/- 3 min de query API\n",
    "station_json = get_data_from_api_by_station(station_id=list_station_id, \n",
    "                                            start_date=start_date,\n",
    "                                            stop_date=stop_date)\n",
    "\n",
    "after_covid_df = transform_json_station_data_to_df(station_json)"
   ]
  },
  {
   "cell_type": "code",
   "execution_count": 97,
   "metadata": {},
   "outputs": [
    {
     "data": {
      "text/html": [
       "<div>\n",
       "<style scoped>\n",
       "    .dataframe tbody tr th:only-of-type {\n",
       "        vertical-align: middle;\n",
       "    }\n",
       "\n",
       "    .dataframe tbody tr th {\n",
       "        vertical-align: top;\n",
       "    }\n",
       "\n",
       "    .dataframe thead th {\n",
       "        text-align: right;\n",
       "    }\n",
       "</style>\n",
       "<table border=\"1\" class=\"dataframe\">\n",
       "  <thead>\n",
       "    <tr style=\"text-align: right;\">\n",
       "      <th></th>\n",
       "      <th>station_id</th>\n",
       "      <th>date</th>\n",
       "      <th>available_stands</th>\n",
       "      <th>available_bikes</th>\n",
       "      <th>status</th>\n",
       "      <th>transactions_in</th>\n",
       "      <th>transactions_out</th>\n",
       "      <th>transactions_all</th>\n",
       "    </tr>\n",
       "  </thead>\n",
       "  <tbody>\n",
       "    <tr>\n",
       "      <th>0</th>\n",
       "      <td>1</td>\n",
       "      <td>2021-09-09 14:40:00</td>\n",
       "      <td>18.0</td>\n",
       "      <td>14.0</td>\n",
       "      <td>1.0</td>\n",
       "      <td>0.0</td>\n",
       "      <td>0.0</td>\n",
       "      <td>0.0</td>\n",
       "    </tr>\n",
       "    <tr>\n",
       "      <th>1</th>\n",
       "      <td>1</td>\n",
       "      <td>2021-09-09 14:50:00</td>\n",
       "      <td>18.0</td>\n",
       "      <td>14.0</td>\n",
       "      <td>1.0</td>\n",
       "      <td>0.0</td>\n",
       "      <td>0.0</td>\n",
       "      <td>0.0</td>\n",
       "    </tr>\n",
       "    <tr>\n",
       "      <th>2</th>\n",
       "      <td>1</td>\n",
       "      <td>2021-09-09 15:00:00</td>\n",
       "      <td>18.0</td>\n",
       "      <td>14.0</td>\n",
       "      <td>1.0</td>\n",
       "      <td>0.0</td>\n",
       "      <td>0.0</td>\n",
       "      <td>0.0</td>\n",
       "    </tr>\n",
       "    <tr>\n",
       "      <th>3</th>\n",
       "      <td>1</td>\n",
       "      <td>2021-09-09 15:10:00</td>\n",
       "      <td>18.0</td>\n",
       "      <td>14.0</td>\n",
       "      <td>1.0</td>\n",
       "      <td>0.0</td>\n",
       "      <td>0.0</td>\n",
       "      <td>0.0</td>\n",
       "    </tr>\n",
       "    <tr>\n",
       "      <th>4</th>\n",
       "      <td>1</td>\n",
       "      <td>2021-09-09 15:20:00</td>\n",
       "      <td>18.0</td>\n",
       "      <td>14.0</td>\n",
       "      <td>1.0</td>\n",
       "      <td>0.0</td>\n",
       "      <td>0.0</td>\n",
       "      <td>0.0</td>\n",
       "    </tr>\n",
       "  </tbody>\n",
       "</table>\n",
       "</div>"
      ],
      "text/plain": [
       "   station_id                date  available_stands  available_bikes  status  \\\n",
       "0           1 2021-09-09 14:40:00              18.0             14.0     1.0   \n",
       "1           1 2021-09-09 14:50:00              18.0             14.0     1.0   \n",
       "2           1 2021-09-09 15:00:00              18.0             14.0     1.0   \n",
       "3           1 2021-09-09 15:10:00              18.0             14.0     1.0   \n",
       "4           1 2021-09-09 15:20:00              18.0             14.0     1.0   \n",
       "\n",
       "   transactions_in  transactions_out  transactions_all  \n",
       "0              0.0               0.0               0.0  \n",
       "1              0.0               0.0               0.0  \n",
       "2              0.0               0.0               0.0  \n",
       "3              0.0               0.0               0.0  \n",
       "4              0.0               0.0               0.0  "
      ]
     },
     "execution_count": 97,
     "metadata": {},
     "output_type": "execute_result"
    }
   ],
   "source": [
    "after_covid_df.head()"
   ]
  },
  {
   "cell_type": "code",
   "execution_count": 99,
   "metadata": {},
   "outputs": [],
   "source": [
    "after_covid_df['year_month'] = after_covid_df.date.dt.strftime('%Y-%m')"
   ]
  },
  {
   "cell_type": "code",
   "execution_count": 104,
   "metadata": {},
   "outputs": [
    {
     "data": {
      "text/plain": [
       "2021-10    816912\n",
       "2022-01    812448\n",
       "2021-12    812448\n",
       "2021-11    788330\n",
       "2022-02    566566\n",
       "2021-09    563640\n",
       "Name: year_month, dtype: int64"
      ]
     },
     "execution_count": 104,
     "metadata": {},
     "output_type": "execute_result"
    }
   ],
   "source": [
    "after_covid_df['year_month'].value_counts()"
   ]
  },
  {
   "cell_type": "markdown",
   "metadata": {},
   "source": [
    "Il y a pas mal de trou de données dans l'API d'Oslandia (absence de données à partir du 22/02/2022). On va donc prendre la même période pour 2019 (du 09/20219 au 22/02/2020)"
   ]
  },
  {
   "cell_type": "code",
   "execution_count": 126,
   "metadata": {},
   "outputs": [],
   "source": [
    "# Get data from API pour période avant Covid.\n",
    "start_date='2019-09-01' \n",
    "stop_date='2020-02-22' \n",
    "\n",
    "# list des station vcub\n",
    "list_station_id = station_profile['station_id'].unique()\n",
    "\n",
    "# +/- 3 min de query API\n",
    "station_json = get_data_from_api_by_station(station_id=list_station_id, \n",
    "                                            start_date=start_date,\n",
    "                                            stop_date=stop_date)\n",
    "\n",
    "before_covid_df = transform_json_station_data_to_df(station_json)"
   ]
  },
  {
   "cell_type": "code",
   "execution_count": 127,
   "metadata": {},
   "outputs": [
    {
     "data": {
      "text/plain": [
       "2020-01    779889\n",
       "2019-12    773895\n",
       "2019-10    757250\n",
       "2019-11    741376\n",
       "2019-09    728034\n",
       "2020-02    533889\n",
       "Name: year_month, dtype: int64"
      ]
     },
     "execution_count": 127,
     "metadata": {},
     "output_type": "execute_result"
    }
   ],
   "source": [
    "before_covid_df['year_month'] = before_covid_df.date.dt.strftime('%Y-%m')\n",
    "before_covid_df['year_month'].value_counts()"
   ]
  },
  {
   "cell_type": "code",
   "execution_count": 128,
   "metadata": {},
   "outputs": [],
   "source": [
    "def process_dataframe_to_analyse(data):\n",
    "    \"\"\"\n",
    "    To not duplicated code \n",
    "    \n",
    "    \"\"\"\n",
    "    # Create feature\n",
    "    data = get_consecutive_no_transactions_out(data)\n",
    "\n",
    "    # Date format yyyy-mm-dd\n",
    "    data['date_day'] = data['date'].dt.date\n",
    "\n",
    "\n",
    "    # transactions_in : on sommes les dépôts de Vcub à la journée\n",
    "    # transactions_out : on sommes les prise de Vcub à la journée\n",
    "    # consecutive_no_transactions_out : on prend le maximum de temps (10min) ou aucun prise de Vcub n'a été faite durant la journée.\n",
    "    data_agg = \\\n",
    "        data.groupby(['date_day', 'station_id'], as_index=False)[['transactions_in', \n",
    "                                                                  'transactions_out',\n",
    "                                                                  'consecutive_no_transactions_out']].agg({'transactions_in': 'sum',\n",
    "                                                                                                           'transactions_out': 'sum',\n",
    "                                                                                                           'consecutive_no_transactions_out': 'max'})\n",
    "\n",
    "    data_agg['date_day'] = data_agg['date_day'].astype(str)\n",
    "    data_agg['year'] = data_agg['date_day'].apply(lambda x: x[0:4])\n",
    "\n",
    "    # Création de features temporelle\n",
    "    data_agg['month'] = pd.to_numeric(data_agg['date_day'].apply(lambda x: x[5:7]))\n",
    "\n",
    "    return data_agg\n",
    "\n",
    "before_covid_agg_df = process_dataframe_to_analyse(data=before_covid_df)\n",
    "after_covid_agg_df = process_dataframe_to_analyse(data=after_covid_df)"
   ]
  },
  {
   "cell_type": "code",
   "execution_count": 129,
   "metadata": {},
   "outputs": [
    {
     "data": {
      "text/html": [
       "<div>\n",
       "<style scoped>\n",
       "    .dataframe tbody tr th:only-of-type {\n",
       "        vertical-align: middle;\n",
       "    }\n",
       "\n",
       "    .dataframe tbody tr th {\n",
       "        vertical-align: top;\n",
       "    }\n",
       "\n",
       "    .dataframe thead th {\n",
       "        text-align: right;\n",
       "    }\n",
       "</style>\n",
       "<table border=\"1\" class=\"dataframe\">\n",
       "  <thead>\n",
       "    <tr style=\"text-align: right;\">\n",
       "      <th></th>\n",
       "      <th>date_day</th>\n",
       "      <th>station_id</th>\n",
       "      <th>transactions_in</th>\n",
       "      <th>transactions_out</th>\n",
       "      <th>consecutive_no_transactions_out</th>\n",
       "      <th>year</th>\n",
       "      <th>month</th>\n",
       "    </tr>\n",
       "  </thead>\n",
       "  <tbody>\n",
       "    <tr>\n",
       "      <th>29966</th>\n",
       "      <td>2020-02-21</td>\n",
       "      <td>176</td>\n",
       "      <td>9.0</td>\n",
       "      <td>7.0</td>\n",
       "      <td>59</td>\n",
       "      <td>2020</td>\n",
       "      <td>2</td>\n",
       "    </tr>\n",
       "    <tr>\n",
       "      <th>29967</th>\n",
       "      <td>2020-02-21</td>\n",
       "      <td>177</td>\n",
       "      <td>13.0</td>\n",
       "      <td>7.0</td>\n",
       "      <td>13</td>\n",
       "      <td>2020</td>\n",
       "      <td>2</td>\n",
       "    </tr>\n",
       "    <tr>\n",
       "      <th>29968</th>\n",
       "      <td>2020-02-21</td>\n",
       "      <td>178</td>\n",
       "      <td>9.0</td>\n",
       "      <td>19.0</td>\n",
       "      <td>54</td>\n",
       "      <td>2020</td>\n",
       "      <td>2</td>\n",
       "    </tr>\n",
       "    <tr>\n",
       "      <th>29969</th>\n",
       "      <td>2020-02-21</td>\n",
       "      <td>179</td>\n",
       "      <td>12.0</td>\n",
       "      <td>13.0</td>\n",
       "      <td>45</td>\n",
       "      <td>2020</td>\n",
       "      <td>2</td>\n",
       "    </tr>\n",
       "    <tr>\n",
       "      <th>29970</th>\n",
       "      <td>2020-02-21</td>\n",
       "      <td>180</td>\n",
       "      <td>0.0</td>\n",
       "      <td>0.0</td>\n",
       "      <td>188</td>\n",
       "      <td>2020</td>\n",
       "      <td>2</td>\n",
       "    </tr>\n",
       "  </tbody>\n",
       "</table>\n",
       "</div>"
      ],
      "text/plain": [
       "         date_day  station_id  transactions_in  transactions_out  \\\n",
       "29966  2020-02-21         176              9.0               7.0   \n",
       "29967  2020-02-21         177             13.0               7.0   \n",
       "29968  2020-02-21         178              9.0              19.0   \n",
       "29969  2020-02-21         179             12.0              13.0   \n",
       "29970  2020-02-21         180              0.0               0.0   \n",
       "\n",
       "       consecutive_no_transactions_out  year  month  \n",
       "29966                               59  2020      2  \n",
       "29967                               13  2020      2  \n",
       "29968                               54  2020      2  \n",
       "29969                               45  2020      2  \n",
       "29970                              188  2020      2  "
      ]
     },
     "execution_count": 129,
     "metadata": {},
     "output_type": "execute_result"
    }
   ],
   "source": [
    "before_covid_agg_df.tail()"
   ]
  },
  {
   "cell_type": "code",
   "execution_count": 130,
   "metadata": {},
   "outputs": [
    {
     "data": {
      "text/html": [
       "<div>\n",
       "<style scoped>\n",
       "    .dataframe tbody tr th:only-of-type {\n",
       "        vertical-align: middle;\n",
       "    }\n",
       "\n",
       "    .dataframe tbody tr th {\n",
       "        vertical-align: top;\n",
       "    }\n",
       "\n",
       "    .dataframe thead th {\n",
       "        text-align: right;\n",
       "    }\n",
       "</style>\n",
       "<table border=\"1\" class=\"dataframe\">\n",
       "  <thead>\n",
       "    <tr style=\"text-align: right;\">\n",
       "      <th></th>\n",
       "      <th>date_day</th>\n",
       "      <th>station_id</th>\n",
       "      <th>transactions_in</th>\n",
       "      <th>transactions_out</th>\n",
       "      <th>consecutive_no_transactions_out</th>\n",
       "      <th>year</th>\n",
       "      <th>month</th>\n",
       "    </tr>\n",
       "  </thead>\n",
       "  <tbody>\n",
       "    <tr>\n",
       "      <th>30457</th>\n",
       "      <td>2022-02-22</td>\n",
       "      <td>180</td>\n",
       "      <td>0.0</td>\n",
       "      <td>0.0</td>\n",
       "      <td>170</td>\n",
       "      <td>2022</td>\n",
       "      <td>2</td>\n",
       "    </tr>\n",
       "    <tr>\n",
       "      <th>30458</th>\n",
       "      <td>2022-02-22</td>\n",
       "      <td>181</td>\n",
       "      <td>1.0</td>\n",
       "      <td>5.0</td>\n",
       "      <td>117</td>\n",
       "      <td>2022</td>\n",
       "      <td>2</td>\n",
       "    </tr>\n",
       "    <tr>\n",
       "      <th>30459</th>\n",
       "      <td>2022-02-22</td>\n",
       "      <td>182</td>\n",
       "      <td>0.0</td>\n",
       "      <td>0.0</td>\n",
       "      <td>281</td>\n",
       "      <td>2022</td>\n",
       "      <td>2</td>\n",
       "    </tr>\n",
       "    <tr>\n",
       "      <th>30460</th>\n",
       "      <td>2022-02-22</td>\n",
       "      <td>183</td>\n",
       "      <td>0.0</td>\n",
       "      <td>0.0</td>\n",
       "      <td>162</td>\n",
       "      <td>2022</td>\n",
       "      <td>2</td>\n",
       "    </tr>\n",
       "    <tr>\n",
       "      <th>30461</th>\n",
       "      <td>2022-02-22</td>\n",
       "      <td>251</td>\n",
       "      <td>5.0</td>\n",
       "      <td>5.0</td>\n",
       "      <td>55</td>\n",
       "      <td>2022</td>\n",
       "      <td>2</td>\n",
       "    </tr>\n",
       "  </tbody>\n",
       "</table>\n",
       "</div>"
      ],
      "text/plain": [
       "         date_day  station_id  transactions_in  transactions_out  \\\n",
       "30457  2022-02-22         180              0.0               0.0   \n",
       "30458  2022-02-22         181              1.0               5.0   \n",
       "30459  2022-02-22         182              0.0               0.0   \n",
       "30460  2022-02-22         183              0.0               0.0   \n",
       "30461  2022-02-22         251              5.0               5.0   \n",
       "\n",
       "       consecutive_no_transactions_out  year  month  \n",
       "30457                              170  2022      2  \n",
       "30458                              117  2022      2  \n",
       "30459                              281  2022      2  \n",
       "30460                              162  2022      2  \n",
       "30461                               55  2022      2  "
      ]
     },
     "execution_count": 130,
     "metadata": {},
     "output_type": "execute_result"
    }
   ],
   "source": [
    "after_covid_agg_df.tail()"
   ]
  },
  {
   "cell_type": "code",
   "execution_count": 146,
   "metadata": {},
   "outputs": [],
   "source": [
    "FEATURE_TO_ANALYSE = ['transactions_in', 'transactions_out', 'consecutive_no_transactions_out', 'station_id', 'month']\n",
    "\n",
    "# Analyse de l'ensemble des stations Vcub\n",
    "# SD = SmartDrift(df_current=after_covid_agg_df[FEATURE_TO_ANALYSE],\n",
    "#                 df_baseline=before_covid_agg_df[FEATURE_TO_ANALYSE],\n",
    "#                 )\n",
    "\n",
    "# Analyse sur les stations que l'on monitor (+/- 65 stations)\n",
    "SD = SmartDrift(df_current=after_covid_agg_df[after_covid_agg_df['station_id'].isin(list_station_id_pred)][FEATURE_TO_ANALYSE],\n",
    "                df_baseline=before_covid_agg_df[before_covid_agg_df['station_id'].isin(list_station_id_pred)][FEATURE_TO_ANALYSE],\n",
    "                )"
   ]
  },
  {
   "cell_type": "code",
   "execution_count": 145,
   "metadata": {},
   "outputs": [
    {
     "data": {
      "text/html": [
       "<div>\n",
       "<style scoped>\n",
       "    .dataframe tbody tr th:only-of-type {\n",
       "        vertical-align: middle;\n",
       "    }\n",
       "\n",
       "    .dataframe tbody tr th {\n",
       "        vertical-align: top;\n",
       "    }\n",
       "\n",
       "    .dataframe thead th {\n",
       "        text-align: right;\n",
       "    }\n",
       "</style>\n",
       "<table border=\"1\" class=\"dataframe\">\n",
       "  <thead>\n",
       "    <tr style=\"text-align: right;\">\n",
       "      <th></th>\n",
       "      <th>transactions_in</th>\n",
       "      <th>transactions_out</th>\n",
       "      <th>consecutive_no_transactions_out</th>\n",
       "      <th>station_id</th>\n",
       "      <th>month</th>\n",
       "    </tr>\n",
       "  </thead>\n",
       "  <tbody>\n",
       "    <tr>\n",
       "      <th>0</th>\n",
       "      <td>13.0</td>\n",
       "      <td>22.0</td>\n",
       "      <td>13</td>\n",
       "      <td>1</td>\n",
       "      <td>9</td>\n",
       "    </tr>\n",
       "    <tr>\n",
       "      <th>1</th>\n",
       "      <td>13.0</td>\n",
       "      <td>21.0</td>\n",
       "      <td>10</td>\n",
       "      <td>2</td>\n",
       "      <td>9</td>\n",
       "    </tr>\n",
       "    <tr>\n",
       "      <th>2</th>\n",
       "      <td>15.0</td>\n",
       "      <td>17.0</td>\n",
       "      <td>15</td>\n",
       "      <td>3</td>\n",
       "      <td>9</td>\n",
       "    </tr>\n",
       "    <tr>\n",
       "      <th>3</th>\n",
       "      <td>19.0</td>\n",
       "      <td>13.0</td>\n",
       "      <td>15</td>\n",
       "      <td>4</td>\n",
       "      <td>9</td>\n",
       "    </tr>\n",
       "    <tr>\n",
       "      <th>4</th>\n",
       "      <td>39.0</td>\n",
       "      <td>39.0</td>\n",
       "      <td>6</td>\n",
       "      <td>5</td>\n",
       "      <td>9</td>\n",
       "    </tr>\n",
       "    <tr>\n",
       "      <th>...</th>\n",
       "      <td>...</td>\n",
       "      <td>...</td>\n",
       "      <td>...</td>\n",
       "      <td>...</td>\n",
       "      <td>...</td>\n",
       "    </tr>\n",
       "    <tr>\n",
       "      <th>30414</th>\n",
       "      <td>6.0</td>\n",
       "      <td>7.0</td>\n",
       "      <td>54</td>\n",
       "      <td>135</td>\n",
       "      <td>2</td>\n",
       "    </tr>\n",
       "    <tr>\n",
       "      <th>30415</th>\n",
       "      <td>10.0</td>\n",
       "      <td>11.0</td>\n",
       "      <td>46</td>\n",
       "      <td>136</td>\n",
       "      <td>2</td>\n",
       "    </tr>\n",
       "    <tr>\n",
       "      <th>30417</th>\n",
       "      <td>11.0</td>\n",
       "      <td>17.0</td>\n",
       "      <td>30</td>\n",
       "      <td>139</td>\n",
       "      <td>2</td>\n",
       "    </tr>\n",
       "    <tr>\n",
       "      <th>30449</th>\n",
       "      <td>22.0</td>\n",
       "      <td>15.0</td>\n",
       "      <td>42</td>\n",
       "      <td>172</td>\n",
       "      <td>2</td>\n",
       "    </tr>\n",
       "    <tr>\n",
       "      <th>30451</th>\n",
       "      <td>20.0</td>\n",
       "      <td>18.0</td>\n",
       "      <td>66</td>\n",
       "      <td>174</td>\n",
       "      <td>2</td>\n",
       "    </tr>\n",
       "  </tbody>\n",
       "</table>\n",
       "<p>10855 rows × 5 columns</p>\n",
       "</div>"
      ],
      "text/plain": [
       "       transactions_in  transactions_out  consecutive_no_transactions_out  \\\n",
       "0                 13.0              22.0                               13   \n",
       "1                 13.0              21.0                               10   \n",
       "2                 15.0              17.0                               15   \n",
       "3                 19.0              13.0                               15   \n",
       "4                 39.0              39.0                                6   \n",
       "...                ...               ...                              ...   \n",
       "30414              6.0               7.0                               54   \n",
       "30415             10.0              11.0                               46   \n",
       "30417             11.0              17.0                               30   \n",
       "30449             22.0              15.0                               42   \n",
       "30451             20.0              18.0                               66   \n",
       "\n",
       "       station_id  month  \n",
       "0               1      9  \n",
       "1               2      9  \n",
       "2               3      9  \n",
       "3               4      9  \n",
       "4               5      9  \n",
       "...           ...    ...  \n",
       "30414         135      2  \n",
       "30415         136      2  \n",
       "30417         139      2  \n",
       "30449         172      2  \n",
       "30451         174      2  \n",
       "\n",
       "[10855 rows x 5 columns]"
      ]
     },
     "execution_count": 145,
     "metadata": {},
     "output_type": "execute_result"
    }
   ],
   "source": [
    "after_covid_agg_df[after_covid_agg_df['station_id'].isin(list_station_id_pred)][FEATURE_TO_ANALYSE]"
   ]
  },
  {
   "cell_type": "code",
   "execution_count": 147,
   "metadata": {},
   "outputs": [
    {
     "name": "stdout",
     "output_type": "stream",
     "text": [
      "The computed AUC on the X_test used to build datadrift_classifier is equal to: 0.7061915204678363\n",
      "before_and_after_station_pred_covid.csv did not exist and was created. \n"
     ]
    }
   ],
   "source": [
    "SD.compile(full_validation=True,\n",
    "           date_compile_auc = '02/03/2022',       # Optional: useful when computing the drift for a time that is not now\n",
    "           datadrift_file = \"before_and_after_station_pred_covid.csv\"    # Optional: name of the csv file that contains the performance history of data drift\n",
    "            )"
   ]
  },
  {
   "cell_type": "code",
   "execution_count": 148,
   "metadata": {},
   "outputs": [
    {
     "data": {
      "text/markdown": [
       "Report saved to ./analyse_vcub_activite_station_pred_before_and_after_covid_period.html. To upload and share your report, create a free Datapane account by running `!datapane signup`."
      ],
      "text/plain": [
       "<IPython.core.display.Markdown object>"
      ]
     },
     "metadata": {},
     "output_type": "display_data"
    }
   ],
   "source": [
    "SD.generate_report(\n",
    "    output_file='analyse_vcub_activite_station_pred_before_and_after_covid_period.html',\n",
    "    title_story=\"Comparatif de l'activité des stations monitorées Vcub avant (01/09/2019 au 22/02/2020) et après le covid (01/09/2021 au 22/02/2022)\",\n",
    "    title_description=\"\"\"Activité Vcub drift avant et après Covid\"\"\" # Optional: add a subtitle to describe report\n",
    "    )"
   ]
  },
  {
   "cell_type": "markdown",
   "metadata": {},
   "source": [
    "**Conclusion :**\n",
    "\n",
    "- Sur l'ensemble des stations Vcub, l'AUC classifier Datadrift est de 0.68\n",
    "- Sur les stations qui sont monitoré par vcub_keeper (les plus actives), l'AUC du classifier Datadrift monte à 0.70\n",
    "\n",
    "\n",
    "C'est surtout la variable `consecutive_no_transactions_out` qui permet de différencier l'activité avant et après Covid avec en moyenne un temps d'absence de prise de vélo pour une station Vcub plus long après le Covid. On remarque aussi que les `transactions_in` et `transactions_out` (dépôt et prise de Vcub) sont moins fréquents après le Covid qu'avant (redondant avec l'absence cumulée de prise de Vucb `consecutive_no_transactions_out`)"
   ]
  },
  {
   "cell_type": "markdown",
   "metadata": {},
   "source": [
    "## Analyse par station"
   ]
  },
  {
   "cell_type": "code",
   "execution_count": 153,
   "metadata": {},
   "outputs": [],
   "source": [
    "#after_covid_agg_df[after_covid_agg_df['station_id'] == 37][FEATURE_TO_ANALYSE]"
   ]
  },
  {
   "cell_type": "code",
   "execution_count": 231,
   "metadata": {},
   "outputs": [
    {
     "name": "stdout",
     "output_type": "stream",
     "text": [
      "Station N°124 : 0.6695652173913044\n"
     ]
    },
    {
     "data": {
      "text/markdown": [
       "Report saved to ./drift_by_station/analyse_vcub_activite_station_pred_before_and_after_covid_period_station_124.html. To upload and share your report, create a free Datapane account by running `!datapane signup`."
      ],
      "text/plain": [
       "<IPython.core.display.Markdown object>"
      ]
     },
     "metadata": {},
     "output_type": "display_data"
    },
    {
     "name": "stdout",
     "output_type": "stream",
     "text": [
      "Station N°15 : 0.6945652173913043\n"
     ]
    },
    {
     "data": {
      "text/markdown": [
       "Report saved to ./drift_by_station/analyse_vcub_activite_station_pred_before_and_after_covid_period_station_15.html. To upload and share your report, create a free Datapane account by running `!datapane signup`."
      ],
      "text/plain": [
       "<IPython.core.display.Markdown object>"
      ]
     },
     "metadata": {},
     "output_type": "display_data"
    },
    {
     "name": "stdout",
     "output_type": "stream",
     "text": [
      "Station N°60 : 0.6978260869565216\n"
     ]
    },
    {
     "data": {
      "text/markdown": [
       "Report saved to ./drift_by_station/analyse_vcub_activite_station_pred_before_and_after_covid_period_station_60.html. To upload and share your report, create a free Datapane account by running `!datapane signup`."
      ],
      "text/plain": [
       "<IPython.core.display.Markdown object>"
      ]
     },
     "metadata": {},
     "output_type": "display_data"
    },
    {
     "name": "stdout",
     "output_type": "stream",
     "text": [
      "Station N°18 : 0.7369565217391305\n"
     ]
    },
    {
     "data": {
      "text/markdown": [
       "Report saved to ./drift_by_station/analyse_vcub_activite_station_pred_before_and_after_covid_period_station_18.html. To upload and share your report, create a free Datapane account by running `!datapane signup`."
      ],
      "text/plain": [
       "<IPython.core.display.Markdown object>"
      ]
     },
     "metadata": {},
     "output_type": "display_data"
    },
    {
     "name": "stdout",
     "output_type": "stream",
     "text": [
      "Station N°10 : 0.6961956521739131\n"
     ]
    },
    {
     "data": {
      "text/markdown": [
       "Report saved to ./drift_by_station/analyse_vcub_activite_station_pred_before_and_after_covid_period_station_10.html. To upload and share your report, create a free Datapane account by running `!datapane signup`."
      ],
      "text/plain": [
       "<IPython.core.display.Markdown object>"
      ]
     },
     "metadata": {},
     "output_type": "display_data"
    },
    {
     "name": "stdout",
     "output_type": "stream",
     "text": [
      "Station N°68 : 0.7722826086956521\n"
     ]
    },
    {
     "data": {
      "text/markdown": [
       "Report saved to ./drift_by_station/analyse_vcub_activite_station_pred_before_and_after_covid_period_station_68.html. To upload and share your report, create a free Datapane account by running `!datapane signup`."
      ],
      "text/plain": [
       "<IPython.core.display.Markdown object>"
      ]
     },
     "metadata": {},
     "output_type": "display_data"
    },
    {
     "name": "stdout",
     "output_type": "stream",
     "text": [
      "Station N°130 : 0.6451086956521739\n"
     ]
    },
    {
     "data": {
      "text/markdown": [
       "Report saved to ./drift_by_station/analyse_vcub_activite_station_pred_before_and_after_covid_period_station_130.html. To upload and share your report, create a free Datapane account by running `!datapane signup`."
      ],
      "text/plain": [
       "<IPython.core.display.Markdown object>"
      ]
     },
     "metadata": {},
     "output_type": "display_data"
    },
    {
     "name": "stdout",
     "output_type": "stream",
     "text": [
      "Station N°2 : 0.7260869565217392\n"
     ]
    },
    {
     "data": {
      "text/markdown": [
       "Report saved to ./drift_by_station/analyse_vcub_activite_station_pred_before_and_after_covid_period_station_2.html. To upload and share your report, create a free Datapane account by running `!datapane signup`."
      ],
      "text/plain": [
       "<IPython.core.display.Markdown object>"
      ]
     },
     "metadata": {},
     "output_type": "display_data"
    },
    {
     "name": "stdout",
     "output_type": "stream",
     "text": [
      "Station N°105 : 0.6793478260869565\n"
     ]
    },
    {
     "data": {
      "text/markdown": [
       "Report saved to ./drift_by_station/analyse_vcub_activite_station_pred_before_and_after_covid_period_station_105.html. To upload and share your report, create a free Datapane account by running `!datapane signup`."
      ],
      "text/plain": [
       "<IPython.core.display.Markdown object>"
      ]
     },
     "metadata": {},
     "output_type": "display_data"
    },
    {
     "name": "stdout",
     "output_type": "stream",
     "text": [
      "Station N°120 : 0.7619565217391304\n"
     ]
    },
    {
     "data": {
      "text/markdown": [
       "Report saved to ./drift_by_station/analyse_vcub_activite_station_pred_before_and_after_covid_period_station_120.html. To upload and share your report, create a free Datapane account by running `!datapane signup`."
      ],
      "text/plain": [
       "<IPython.core.display.Markdown object>"
      ]
     },
     "metadata": {},
     "output_type": "display_data"
    },
    {
     "name": "stdout",
     "output_type": "stream",
     "text": [
      "Station N°11 : 0.6527173913043478\n"
     ]
    },
    {
     "data": {
      "text/markdown": [
       "Report saved to ./drift_by_station/analyse_vcub_activite_station_pred_before_and_after_covid_period_station_11.html. To upload and share your report, create a free Datapane account by running `!datapane signup`."
      ],
      "text/plain": [
       "<IPython.core.display.Markdown object>"
      ]
     },
     "metadata": {},
     "output_type": "display_data"
    },
    {
     "name": "stdout",
     "output_type": "stream",
     "text": [
      "Station N°110 : 0.6326086956521738\n"
     ]
    },
    {
     "data": {
      "text/markdown": [
       "Report saved to ./drift_by_station/analyse_vcub_activite_station_pred_before_and_after_covid_period_station_110.html. To upload and share your report, create a free Datapane account by running `!datapane signup`."
      ],
      "text/plain": [
       "<IPython.core.display.Markdown object>"
      ]
     },
     "metadata": {},
     "output_type": "display_data"
    },
    {
     "name": "stdout",
     "output_type": "stream",
     "text": [
      "Station N°9 : 0.6853260869565218\n"
     ]
    },
    {
     "data": {
      "text/markdown": [
       "Report saved to ./drift_by_station/analyse_vcub_activite_station_pred_before_and_after_covid_period_station_9.html. To upload and share your report, create a free Datapane account by running `!datapane signup`."
      ],
      "text/plain": [
       "<IPython.core.display.Markdown object>"
      ]
     },
     "metadata": {},
     "output_type": "display_data"
    },
    {
     "name": "stdout",
     "output_type": "stream",
     "text": [
      "Station N°23 : 0.7054347826086956\n"
     ]
    },
    {
     "data": {
      "text/markdown": [
       "Report saved to ./drift_by_station/analyse_vcub_activite_station_pred_before_and_after_covid_period_station_23.html. To upload and share your report, create a free Datapane account by running `!datapane signup`."
      ],
      "text/plain": [
       "<IPython.core.display.Markdown object>"
      ]
     },
     "metadata": {},
     "output_type": "display_data"
    },
    {
     "name": "stdout",
     "output_type": "stream",
     "text": [
      "Station N°3 : 0.6701086956521738\n"
     ]
    },
    {
     "data": {
      "text/markdown": [
       "Report saved to ./drift_by_station/analyse_vcub_activite_station_pred_before_and_after_covid_period_station_3.html. To upload and share your report, create a free Datapane account by running `!datapane signup`."
      ],
      "text/plain": [
       "<IPython.core.display.Markdown object>"
      ]
     },
     "metadata": {},
     "output_type": "display_data"
    },
    {
     "name": "stdout",
     "output_type": "stream",
     "text": [
      "Station N°16 : 0.6619565217391303\n"
     ]
    },
    {
     "data": {
      "text/markdown": [
       "Report saved to ./drift_by_station/analyse_vcub_activite_station_pred_before_and_after_covid_period_station_16.html. To upload and share your report, create a free Datapane account by running `!datapane signup`."
      ],
      "text/plain": [
       "<IPython.core.display.Markdown object>"
      ]
     },
     "metadata": {},
     "output_type": "display_data"
    },
    {
     "name": "stdout",
     "output_type": "stream",
     "text": [
      "Pas assez de point de comparaison pour la station N°20\n",
      "Station N°136 : 0.8989130434782608\n"
     ]
    },
    {
     "data": {
      "text/markdown": [
       "Report saved to ./drift_by_station/analyse_vcub_activite_station_pred_before_and_after_covid_period_station_136.html. To upload and share your report, create a free Datapane account by running `!datapane signup`."
      ],
      "text/plain": [
       "<IPython.core.display.Markdown object>"
      ]
     },
     "metadata": {},
     "output_type": "display_data"
    },
    {
     "name": "stdout",
     "output_type": "stream",
     "text": [
      "Pas assez de point de comparaison pour la station N°42\n",
      "Station N°21 : 0.7989130434782609\n"
     ]
    },
    {
     "data": {
      "text/markdown": [
       "Report saved to ./drift_by_station/analyse_vcub_activite_station_pred_before_and_after_covid_period_station_21.html. To upload and share your report, create a free Datapane account by running `!datapane signup`."
      ],
      "text/plain": [
       "<IPython.core.display.Markdown object>"
      ]
     },
     "metadata": {},
     "output_type": "display_data"
    },
    {
     "name": "stdout",
     "output_type": "stream",
     "text": [
      "Station N°131 : 0.5690051753881541\n"
     ]
    },
    {
     "data": {
      "text/markdown": [
       "Report saved to ./drift_by_station/analyse_vcub_activite_station_pred_before_and_after_covid_period_station_131.html. To upload and share your report, create a free Datapane account by running `!datapane signup`."
      ],
      "text/plain": [
       "<IPython.core.display.Markdown object>"
      ]
     },
     "metadata": {},
     "output_type": "display_data"
    },
    {
     "name": "stdout",
     "output_type": "stream",
     "text": [
      "Station N°59 : 0.7711956521739131\n"
     ]
    },
    {
     "data": {
      "text/markdown": [
       "Report saved to ./drift_by_station/analyse_vcub_activite_station_pred_before_and_after_covid_period_station_59.html. To upload and share your report, create a free Datapane account by running `!datapane signup`."
      ],
      "text/plain": [
       "<IPython.core.display.Markdown object>"
      ]
     },
     "metadata": {},
     "output_type": "display_data"
    },
    {
     "name": "stdout",
     "output_type": "stream",
     "text": [
      "Station N°45 : 0.6434782608695652\n"
     ]
    },
    {
     "data": {
      "text/markdown": [
       "Report saved to ./drift_by_station/analyse_vcub_activite_station_pred_before_and_after_covid_period_station_45.html. To upload and share your report, create a free Datapane account by running `!datapane signup`."
      ],
      "text/plain": [
       "<IPython.core.display.Markdown object>"
      ]
     },
     "metadata": {},
     "output_type": "display_data"
    },
    {
     "name": "stdout",
     "output_type": "stream",
     "text": [
      "Station N°172 : 0.5918478260869565\n"
     ]
    },
    {
     "data": {
      "text/markdown": [
       "Report saved to ./drift_by_station/analyse_vcub_activite_station_pred_before_and_after_covid_period_station_172.html. To upload and share your report, create a free Datapane account by running `!datapane signup`."
      ],
      "text/plain": [
       "<IPython.core.display.Markdown object>"
      ]
     },
     "metadata": {},
     "output_type": "display_data"
    },
    {
     "name": "stdout",
     "output_type": "stream",
     "text": [
      "Station N°6 : 0.7695652173913043\n"
     ]
    },
    {
     "data": {
      "text/markdown": [
       "Report saved to ./drift_by_station/analyse_vcub_activite_station_pred_before_and_after_covid_period_station_6.html. To upload and share your report, create a free Datapane account by running `!datapane signup`."
      ],
      "text/plain": [
       "<IPython.core.display.Markdown object>"
      ]
     },
     "metadata": {},
     "output_type": "display_data"
    },
    {
     "name": "stdout",
     "output_type": "stream",
     "text": [
      "Station N°24 : 0.6559782608695652\n"
     ]
    },
    {
     "data": {
      "text/markdown": [
       "Report saved to ./drift_by_station/analyse_vcub_activite_station_pred_before_and_after_covid_period_station_24.html. To upload and share your report, create a free Datapane account by running `!datapane signup`."
      ],
      "text/plain": [
       "<IPython.core.display.Markdown object>"
      ]
     },
     "metadata": {},
     "output_type": "display_data"
    },
    {
     "name": "stdout",
     "output_type": "stream",
     "text": [
      "Station N°36 : 0.6711956521739131\n"
     ]
    },
    {
     "data": {
      "text/markdown": [
       "Report saved to ./drift_by_station/analyse_vcub_activite_station_pred_before_and_after_covid_period_station_36.html. To upload and share your report, create a free Datapane account by running `!datapane signup`."
      ],
      "text/plain": [
       "<IPython.core.display.Markdown object>"
      ]
     },
     "metadata": {},
     "output_type": "display_data"
    },
    {
     "name": "stdout",
     "output_type": "stream",
     "text": [
      "Station N°108 : 0.6668478260869566\n"
     ]
    },
    {
     "data": {
      "text/markdown": [
       "Report saved to ./drift_by_station/analyse_vcub_activite_station_pred_before_and_after_covid_period_station_108.html. To upload and share your report, create a free Datapane account by running `!datapane signup`."
      ],
      "text/plain": [
       "<IPython.core.display.Markdown object>"
      ]
     },
     "metadata": {},
     "output_type": "display_data"
    },
    {
     "name": "stdout",
     "output_type": "stream",
     "text": [
      "Station N°19 : 0.7913043478260869\n"
     ]
    },
    {
     "data": {
      "text/markdown": [
       "Report saved to ./drift_by_station/analyse_vcub_activite_station_pred_before_and_after_covid_period_station_19.html. To upload and share your report, create a free Datapane account by running `!datapane signup`."
      ],
      "text/plain": [
       "<IPython.core.display.Markdown object>"
      ]
     },
     "metadata": {},
     "output_type": "display_data"
    },
    {
     "name": "stdout",
     "output_type": "stream",
     "text": [
      "Station N°125 : 0.7820652173913043\n"
     ]
    },
    {
     "data": {
      "text/markdown": [
       "Report saved to ./drift_by_station/analyse_vcub_activite_station_pred_before_and_after_covid_period_station_125.html. To upload and share your report, create a free Datapane account by running `!datapane signup`."
      ],
      "text/plain": [
       "<IPython.core.display.Markdown object>"
      ]
     },
     "metadata": {},
     "output_type": "display_data"
    },
    {
     "name": "stdout",
     "output_type": "stream",
     "text": [
      "Station N°135 : 0.6168478260869565\n"
     ]
    },
    {
     "data": {
      "text/markdown": [
       "Report saved to ./drift_by_station/analyse_vcub_activite_station_pred_before_and_after_covid_period_station_135.html. To upload and share your report, create a free Datapane account by running `!datapane signup`."
      ],
      "text/plain": [
       "<IPython.core.display.Markdown object>"
      ]
     },
     "metadata": {},
     "output_type": "display_data"
    },
    {
     "name": "stdout",
     "output_type": "stream",
     "text": [
      "Station N°37 : 0.7989130434782609\n"
     ]
    },
    {
     "data": {
      "text/markdown": [
       "Report saved to ./drift_by_station/analyse_vcub_activite_station_pred_before_and_after_covid_period_station_37.html. To upload and share your report, create a free Datapane account by running `!datapane signup`."
      ],
      "text/plain": [
       "<IPython.core.display.Markdown object>"
      ]
     },
     "metadata": {},
     "output_type": "display_data"
    },
    {
     "name": "stdout",
     "output_type": "stream",
     "text": [
      "Station N°139 : 0.7679347826086957\n"
     ]
    },
    {
     "data": {
      "text/markdown": [
       "Report saved to ./drift_by_station/analyse_vcub_activite_station_pred_before_and_after_covid_period_station_139.html. To upload and share your report, create a free Datapane account by running `!datapane signup`."
      ],
      "text/plain": [
       "<IPython.core.display.Markdown object>"
      ]
     },
     "metadata": {},
     "output_type": "display_data"
    },
    {
     "name": "stdout",
     "output_type": "stream",
     "text": [
      "Station N°99 : 0.7429347826086957\n"
     ]
    },
    {
     "data": {
      "text/markdown": [
       "Report saved to ./drift_by_station/analyse_vcub_activite_station_pred_before_and_after_covid_period_station_99.html. To upload and share your report, create a free Datapane account by running `!datapane signup`."
      ],
      "text/plain": [
       "<IPython.core.display.Markdown object>"
      ]
     },
     "metadata": {},
     "output_type": "display_data"
    },
    {
     "name": "stdout",
     "output_type": "stream",
     "text": [
      "Station N°28 : 0.6711956521739131\n"
     ]
    },
    {
     "data": {
      "text/markdown": [
       "Report saved to ./drift_by_station/analyse_vcub_activite_station_pred_before_and_after_covid_period_station_28.html. To upload and share your report, create a free Datapane account by running `!datapane signup`."
      ],
      "text/plain": [
       "<IPython.core.display.Markdown object>"
      ]
     },
     "metadata": {},
     "output_type": "display_data"
    },
    {
     "name": "stdout",
     "output_type": "stream",
     "text": [
      "Station N°57 : 0.7663043478260869\n"
     ]
    },
    {
     "data": {
      "text/markdown": [
       "Report saved to ./drift_by_station/analyse_vcub_activite_station_pred_before_and_after_covid_period_station_57.html. To upload and share your report, create a free Datapane account by running `!datapane signup`."
      ],
      "text/plain": [
       "<IPython.core.display.Markdown object>"
      ]
     },
     "metadata": {},
     "output_type": "display_data"
    },
    {
     "name": "stdout",
     "output_type": "stream",
     "text": [
      "Station N°7 : 0.7880434782608696\n"
     ]
    },
    {
     "data": {
      "text/markdown": [
       "Report saved to ./drift_by_station/analyse_vcub_activite_station_pred_before_and_after_covid_period_station_7.html. To upload and share your report, create a free Datapane account by running `!datapane signup`."
      ],
      "text/plain": [
       "<IPython.core.display.Markdown object>"
      ]
     },
     "metadata": {},
     "output_type": "display_data"
    },
    {
     "name": "stdout",
     "output_type": "stream",
     "text": [
      "Station N°98 : 0.6902173913043479\n"
     ]
    },
    {
     "data": {
      "text/markdown": [
       "Report saved to ./drift_by_station/analyse_vcub_activite_station_pred_before_and_after_covid_period_station_98.html. To upload and share your report, create a free Datapane account by running `!datapane signup`."
      ],
      "text/plain": [
       "<IPython.core.display.Markdown object>"
      ]
     },
     "metadata": {},
     "output_type": "display_data"
    },
    {
     "name": "stdout",
     "output_type": "stream",
     "text": [
      "Station N°8 : 0.7554347826086957\n"
     ]
    },
    {
     "data": {
      "text/markdown": [
       "Report saved to ./drift_by_station/analyse_vcub_activite_station_pred_before_and_after_covid_period_station_8.html. To upload and share your report, create a free Datapane account by running `!datapane signup`."
      ],
      "text/plain": [
       "<IPython.core.display.Markdown object>"
      ]
     },
     "metadata": {},
     "output_type": "display_data"
    },
    {
     "name": "stdout",
     "output_type": "stream",
     "text": [
      "Station N°41 : 0.8505434782608696\n"
     ]
    },
    {
     "data": {
      "text/markdown": [
       "Report saved to ./drift_by_station/analyse_vcub_activite_station_pred_before_and_after_covid_period_station_41.html. To upload and share your report, create a free Datapane account by running `!datapane signup`."
      ],
      "text/plain": [
       "<IPython.core.display.Markdown object>"
      ]
     },
     "metadata": {},
     "output_type": "display_data"
    },
    {
     "name": "stdout",
     "output_type": "stream",
     "text": [
      "Station N°40 : 0.7103260869565217\n"
     ]
    },
    {
     "data": {
      "text/markdown": [
       "Report saved to ./drift_by_station/analyse_vcub_activite_station_pred_before_and_after_covid_period_station_40.html. To upload and share your report, create a free Datapane account by running `!datapane signup`."
      ],
      "text/plain": [
       "<IPython.core.display.Markdown object>"
      ]
     },
     "metadata": {},
     "output_type": "display_data"
    },
    {
     "name": "stdout",
     "output_type": "stream",
     "text": [
      "Station N°58 : 0.6635869565217392\n"
     ]
    },
    {
     "data": {
      "text/markdown": [
       "Report saved to ./drift_by_station/analyse_vcub_activite_station_pred_before_and_after_covid_period_station_58.html. To upload and share your report, create a free Datapane account by running `!datapane signup`."
      ],
      "text/plain": [
       "<IPython.core.display.Markdown object>"
      ]
     },
     "metadata": {},
     "output_type": "display_data"
    },
    {
     "name": "stdout",
     "output_type": "stream",
     "text": [
      "Station N°55 : 0.7913043478260869\n"
     ]
    },
    {
     "data": {
      "text/markdown": [
       "Report saved to ./drift_by_station/analyse_vcub_activite_station_pred_before_and_after_covid_period_station_55.html. To upload and share your report, create a free Datapane account by running `!datapane signup`."
      ],
      "text/plain": [
       "<IPython.core.display.Markdown object>"
      ]
     },
     "metadata": {},
     "output_type": "display_data"
    },
    {
     "name": "stdout",
     "output_type": "stream",
     "text": [
      "Station N°109 : 0.6092391304347826\n"
     ]
    },
    {
     "data": {
      "text/markdown": [
       "Report saved to ./drift_by_station/analyse_vcub_activite_station_pred_before_and_after_covid_period_station_109.html. To upload and share your report, create a free Datapane account by running `!datapane signup`."
      ],
      "text/plain": [
       "<IPython.core.display.Markdown object>"
      ]
     },
     "metadata": {},
     "output_type": "display_data"
    },
    {
     "name": "stdout",
     "output_type": "stream",
     "text": [
      "Station N°1 : 0.8021739130434783\n"
     ]
    },
    {
     "data": {
      "text/markdown": [
       "Report saved to ./drift_by_station/analyse_vcub_activite_station_pred_before_and_after_covid_period_station_1.html. To upload and share your report, create a free Datapane account by running `!datapane signup`."
      ],
      "text/plain": [
       "<IPython.core.display.Markdown object>"
      ]
     },
     "metadata": {},
     "output_type": "display_data"
    },
    {
     "name": "stdout",
     "output_type": "stream",
     "text": [
      "Station N°4 : 0.6978260869565216\n"
     ]
    },
    {
     "data": {
      "text/markdown": [
       "Report saved to ./drift_by_station/analyse_vcub_activite_station_pred_before_and_after_covid_period_station_4.html. To upload and share your report, create a free Datapane account by running `!datapane signup`."
      ],
      "text/plain": [
       "<IPython.core.display.Markdown object>"
      ]
     },
     "metadata": {},
     "output_type": "display_data"
    },
    {
     "name": "stdout",
     "output_type": "stream",
     "text": [
      "Station N°100 : 0.6902173913043479\n"
     ]
    },
    {
     "data": {
      "text/markdown": [
       "Report saved to ./drift_by_station/analyse_vcub_activite_station_pred_before_and_after_covid_period_station_100.html. To upload and share your report, create a free Datapane account by running `!datapane signup`."
      ],
      "text/plain": [
       "<IPython.core.display.Markdown object>"
      ]
     },
     "metadata": {},
     "output_type": "display_data"
    },
    {
     "name": "stdout",
     "output_type": "stream",
     "text": [
      "Station N°134 : 0.6792084726867336\n"
     ]
    },
    {
     "data": {
      "text/markdown": [
       "Report saved to ./drift_by_station/analyse_vcub_activite_station_pred_before_and_after_covid_period_station_134.html. To upload and share your report, create a free Datapane account by running `!datapane signup`."
      ],
      "text/plain": [
       "<IPython.core.display.Markdown object>"
      ]
     },
     "metadata": {},
     "output_type": "display_data"
    },
    {
     "name": "stdout",
     "output_type": "stream",
     "text": [
      "Station N°174 : 0.5763656633221851\n"
     ]
    },
    {
     "data": {
      "text/markdown": [
       "Report saved to ./drift_by_station/analyse_vcub_activite_station_pred_before_and_after_covid_period_station_174.html. To upload and share your report, create a free Datapane account by running `!datapane signup`."
      ],
      "text/plain": [
       "<IPython.core.display.Markdown object>"
      ]
     },
     "metadata": {},
     "output_type": "display_data"
    },
    {
     "name": "stdout",
     "output_type": "stream",
     "text": [
      "Station N°101 : 0.5608695652173914\n"
     ]
    },
    {
     "data": {
      "text/markdown": [
       "Report saved to ./drift_by_station/analyse_vcub_activite_station_pred_before_and_after_covid_period_station_101.html. To upload and share your report, create a free Datapane account by running `!datapane signup`."
      ],
      "text/plain": [
       "<IPython.core.display.Markdown object>"
      ]
     },
     "metadata": {},
     "output_type": "display_data"
    },
    {
     "name": "stdout",
     "output_type": "stream",
     "text": [
      "Station N°56 : 0.6358695652173912\n"
     ]
    },
    {
     "data": {
      "text/markdown": [
       "Report saved to ./drift_by_station/analyse_vcub_activite_station_pred_before_and_after_covid_period_station_56.html. To upload and share your report, create a free Datapane account by running `!datapane signup`."
      ],
      "text/plain": [
       "<IPython.core.display.Markdown object>"
      ]
     },
     "metadata": {},
     "output_type": "display_data"
    },
    {
     "name": "stdout",
     "output_type": "stream",
     "text": [
      "Station N°104 : 0.683695652173913\n"
     ]
    },
    {
     "data": {
      "text/markdown": [
       "Report saved to ./drift_by_station/analyse_vcub_activite_station_pred_before_and_after_covid_period_station_104.html. To upload and share your report, create a free Datapane account by running `!datapane signup`."
      ],
      "text/plain": [
       "<IPython.core.display.Markdown object>"
      ]
     },
     "metadata": {},
     "output_type": "display_data"
    },
    {
     "name": "stdout",
     "output_type": "stream",
     "text": [
      "Station N°43 : 0.7228260869565217\n"
     ]
    },
    {
     "data": {
      "text/markdown": [
       "Report saved to ./drift_by_station/analyse_vcub_activite_station_pred_before_and_after_covid_period_station_43.html. To upload and share your report, create a free Datapane account by running `!datapane signup`."
      ],
      "text/plain": [
       "<IPython.core.display.Markdown object>"
      ]
     },
     "metadata": {},
     "output_type": "display_data"
    },
    {
     "name": "stdout",
     "output_type": "stream",
     "text": [
      "Station N°54 : 0.7152173913043479\n"
     ]
    },
    {
     "data": {
      "text/markdown": [
       "Report saved to ./drift_by_station/analyse_vcub_activite_station_pred_before_and_after_covid_period_station_54.html. To upload and share your report, create a free Datapane account by running `!datapane signup`."
      ],
      "text/plain": [
       "<IPython.core.display.Markdown object>"
      ]
     },
     "metadata": {},
     "output_type": "display_data"
    },
    {
     "name": "stdout",
     "output_type": "stream",
     "text": [
      "Station N°44 : 0.7304347826086957\n"
     ]
    },
    {
     "data": {
      "text/markdown": [
       "Report saved to ./drift_by_station/analyse_vcub_activite_station_pred_before_and_after_covid_period_station_44.html. To upload and share your report, create a free Datapane account by running `!datapane signup`."
      ],
      "text/plain": [
       "<IPython.core.display.Markdown object>"
      ]
     },
     "metadata": {},
     "output_type": "display_data"
    },
    {
     "name": "stdout",
     "output_type": "stream",
     "text": [
      "Station N°102 : 0.6902173913043479\n"
     ]
    },
    {
     "data": {
      "text/markdown": [
       "Report saved to ./drift_by_station/analyse_vcub_activite_station_pred_before_and_after_covid_period_station_102.html. To upload and share your report, create a free Datapane account by running `!datapane signup`."
      ],
      "text/plain": [
       "<IPython.core.display.Markdown object>"
      ]
     },
     "metadata": {},
     "output_type": "display_data"
    },
    {
     "name": "stdout",
     "output_type": "stream",
     "text": [
      "Station N°133 : 0.7320652173913043\n"
     ]
    },
    {
     "data": {
      "text/markdown": [
       "Report saved to ./drift_by_station/analyse_vcub_activite_station_pred_before_and_after_covid_period_station_133.html. To upload and share your report, create a free Datapane account by running `!datapane signup`."
      ],
      "text/plain": [
       "<IPython.core.display.Markdown object>"
      ]
     },
     "metadata": {},
     "output_type": "display_data"
    },
    {
     "name": "stdout",
     "output_type": "stream",
     "text": [
      "Station N°103 : 0.8239130434782609\n"
     ]
    },
    {
     "data": {
      "text/markdown": [
       "Report saved to ./drift_by_station/analyse_vcub_activite_station_pred_before_and_after_covid_period_station_103.html. To upload and share your report, create a free Datapane account by running `!datapane signup`."
      ],
      "text/plain": [
       "<IPython.core.display.Markdown object>"
      ]
     },
     "metadata": {},
     "output_type": "display_data"
    },
    {
     "name": "stdout",
     "output_type": "stream",
     "text": [
      "Station N°5 : 0.7165991902834008\n"
     ]
    },
    {
     "data": {
      "text/markdown": [
       "Report saved to ./drift_by_station/analyse_vcub_activite_station_pred_before_and_after_covid_period_station_5.html. To upload and share your report, create a free Datapane account by running `!datapane signup`."
      ],
      "text/plain": [
       "<IPython.core.display.Markdown object>"
      ]
     },
     "metadata": {},
     "output_type": "display_data"
    },
    {
     "name": "stdout",
     "output_type": "stream",
     "text": [
      "Station N°127 : 0.6244565217391304\n"
     ]
    },
    {
     "data": {
      "text/markdown": [
       "Report saved to ./drift_by_station/analyse_vcub_activite_station_pred_before_and_after_covid_period_station_127.html. To upload and share your report, create a free Datapane account by running `!datapane signup`."
      ],
      "text/plain": [
       "<IPython.core.display.Markdown object>"
      ]
     },
     "metadata": {},
     "output_type": "display_data"
    },
    {
     "name": "stdout",
     "output_type": "stream",
     "text": [
      "Station N°65 : 0.7070652173913043\n"
     ]
    },
    {
     "data": {
      "text/markdown": [
       "Report saved to ./drift_by_station/analyse_vcub_activite_station_pred_before_and_after_covid_period_station_65.html. To upload and share your report, create a free Datapane account by running `!datapane signup`."
      ],
      "text/plain": [
       "<IPython.core.display.Markdown object>"
      ]
     },
     "metadata": {},
     "output_type": "display_data"
    },
    {
     "name": "stdout",
     "output_type": "stream",
     "text": [
      "Station N°22 : 0.7304347826086957\n"
     ]
    },
    {
     "data": {
      "text/markdown": [
       "Report saved to ./drift_by_station/analyse_vcub_activite_station_pred_before_and_after_covid_period_station_22.html. To upload and share your report, create a free Datapane account by running `!datapane signup`."
      ],
      "text/plain": [
       "<IPython.core.display.Markdown object>"
      ]
     },
     "metadata": {},
     "output_type": "display_data"
    },
    {
     "name": "stdout",
     "output_type": "stream",
     "text": [
      "Station N°123 : 0.7989130434782609\n"
     ]
    },
    {
     "data": {
      "text/markdown": [
       "Report saved to ./drift_by_station/analyse_vcub_activite_station_pred_before_and_after_covid_period_station_123.html. To upload and share your report, create a free Datapane account by running `!datapane signup`."
      ],
      "text/plain": [
       "<IPython.core.display.Markdown object>"
      ]
     },
     "metadata": {},
     "output_type": "display_data"
    },
    {
     "name": "stdout",
     "output_type": "stream",
     "text": [
      "Station N°39 : 0.7663043478260869\n"
     ]
    },
    {
     "data": {
      "text/markdown": [
       "Report saved to ./drift_by_station/analyse_vcub_activite_station_pred_before_and_after_covid_period_station_39.html. To upload and share your report, create a free Datapane account by running `!datapane signup`."
      ],
      "text/plain": [
       "<IPython.core.display.Markdown object>"
      ]
     },
     "metadata": {},
     "output_type": "display_data"
    },
    {
     "name": "stdout",
     "output_type": "stream",
     "text": [
      "Station N°106 : 0.7521739130434782\n"
     ]
    },
    {
     "data": {
      "text/markdown": [
       "Report saved to ./drift_by_station/analyse_vcub_activite_station_pred_before_and_after_covid_period_station_106.html. To upload and share your report, create a free Datapane account by running `!datapane signup`."
      ],
      "text/plain": [
       "<IPython.core.display.Markdown object>"
      ]
     },
     "metadata": {},
     "output_type": "display_data"
    }
   ],
   "source": [
    "FEATURE_TO_ANALYSE = ['transactions_in', 'transactions_out', 'consecutive_no_transactions_out','month']\n",
    "data_dict = []\n",
    "\n",
    "for station_id in list_station_id_pred:\n",
    "\n",
    "    df_current =  after_covid_agg_df[after_covid_agg_df['station_id'] == station_id][FEATURE_TO_ANALYSE]\n",
    "    df_baseline = before_covid_agg_df[before_covid_agg_df['station_id'] == station_id][FEATURE_TO_ANALYSE]\n",
    "\n",
    "    if (len(df_baseline) <= 50) or (len(df_current) <= 50):\n",
    "        print(\"Pas assez de point de comparaison pour la station N°\" + str(station_id))\n",
    "    else:\n",
    "        SD = SmartDrift(df_current=df_current,\n",
    "                        df_baseline=df_baseline,\n",
    "                        )\n",
    "        SD.compile(full_validation=True)\n",
    "        print(\"Station N°\"+ str(station_id) + \" : \" + str(SD.auc))\n",
    "        data_dict.append({'station_id' : station_id, 'auc': SD.auc})\n",
    "\n",
    "        # Reporting\n",
    "        output_file_name = \"drift_by_station/analyse_vcub_activite_station_pred_before_and_after_covid_period_station_\" +\\\n",
    "            str(station_id) + \".html\"\n",
    "        SD.generate_report(\n",
    "        output_file=output_file_name,\n",
    "        title_story=\"Comparatif de l'activité des stations monitorées Vcub avant (01/09/2019 au 22/02/2020) et après le covid (01/09/2021 au 22/02/2022)\",\n",
    "        title_description=\"\"\"Activité Vcub drift avant et après Covid\"\"\", # Optional: add a subtitle to describe report\n",
    "        #working_dir=\"drift_by_station\"\n",
    "        )"
   ]
  },
  {
   "cell_type": "code",
   "execution_count": 236,
   "metadata": {},
   "outputs": [
    {
     "data": {
      "text/html": [
       "<div>\n",
       "<style scoped>\n",
       "    .dataframe tbody tr th:only-of-type {\n",
       "        vertical-align: middle;\n",
       "    }\n",
       "\n",
       "    .dataframe tbody tr th {\n",
       "        vertical-align: top;\n",
       "    }\n",
       "\n",
       "    .dataframe thead th {\n",
       "        text-align: right;\n",
       "    }\n",
       "</style>\n",
       "<table border=\"1\" class=\"dataframe\">\n",
       "  <thead>\n",
       "    <tr style=\"text-align: right;\">\n",
       "      <th></th>\n",
       "      <th>station_id</th>\n",
       "      <th>auc</th>\n",
       "    </tr>\n",
       "  </thead>\n",
       "  <tbody>\n",
       "    <tr>\n",
       "      <th>16</th>\n",
       "      <td>136</td>\n",
       "      <td>0.898913</td>\n",
       "    </tr>\n",
       "    <tr>\n",
       "      <th>37</th>\n",
       "      <td>41</td>\n",
       "      <td>0.850543</td>\n",
       "    </tr>\n",
       "    <tr>\n",
       "      <th>55</th>\n",
       "      <td>103</td>\n",
       "      <td>0.823913</td>\n",
       "    </tr>\n",
       "    <tr>\n",
       "      <th>42</th>\n",
       "      <td>1</td>\n",
       "      <td>0.802174</td>\n",
       "    </tr>\n",
       "    <tr>\n",
       "      <th>17</th>\n",
       "      <td>21</td>\n",
       "      <td>0.798913</td>\n",
       "    </tr>\n",
       "    <tr>\n",
       "      <th>29</th>\n",
       "      <td>37</td>\n",
       "      <td>0.798913</td>\n",
       "    </tr>\n",
       "    <tr>\n",
       "      <th>60</th>\n",
       "      <td>123</td>\n",
       "      <td>0.798913</td>\n",
       "    </tr>\n",
       "    <tr>\n",
       "      <th>40</th>\n",
       "      <td>55</td>\n",
       "      <td>0.791304</td>\n",
       "    </tr>\n",
       "    <tr>\n",
       "      <th>26</th>\n",
       "      <td>19</td>\n",
       "      <td>0.791304</td>\n",
       "    </tr>\n",
       "    <tr>\n",
       "      <th>34</th>\n",
       "      <td>7</td>\n",
       "      <td>0.788043</td>\n",
       "    </tr>\n",
       "    <tr>\n",
       "      <th>27</th>\n",
       "      <td>125</td>\n",
       "      <td>0.782065</td>\n",
       "    </tr>\n",
       "    <tr>\n",
       "      <th>5</th>\n",
       "      <td>68</td>\n",
       "      <td>0.772283</td>\n",
       "    </tr>\n",
       "    <tr>\n",
       "      <th>19</th>\n",
       "      <td>59</td>\n",
       "      <td>0.771196</td>\n",
       "    </tr>\n",
       "    <tr>\n",
       "      <th>22</th>\n",
       "      <td>6</td>\n",
       "      <td>0.769565</td>\n",
       "    </tr>\n",
       "    <tr>\n",
       "      <th>30</th>\n",
       "      <td>139</td>\n",
       "      <td>0.767935</td>\n",
       "    </tr>\n",
       "    <tr>\n",
       "      <th>33</th>\n",
       "      <td>57</td>\n",
       "      <td>0.766304</td>\n",
       "    </tr>\n",
       "    <tr>\n",
       "      <th>61</th>\n",
       "      <td>39</td>\n",
       "      <td>0.766304</td>\n",
       "    </tr>\n",
       "    <tr>\n",
       "      <th>9</th>\n",
       "      <td>120</td>\n",
       "      <td>0.761957</td>\n",
       "    </tr>\n",
       "    <tr>\n",
       "      <th>36</th>\n",
       "      <td>8</td>\n",
       "      <td>0.755435</td>\n",
       "    </tr>\n",
       "    <tr>\n",
       "      <th>62</th>\n",
       "      <td>106</td>\n",
       "      <td>0.752174</td>\n",
       "    </tr>\n",
       "    <tr>\n",
       "      <th>31</th>\n",
       "      <td>99</td>\n",
       "      <td>0.742935</td>\n",
       "    </tr>\n",
       "    <tr>\n",
       "      <th>3</th>\n",
       "      <td>18</td>\n",
       "      <td>0.736957</td>\n",
       "    </tr>\n",
       "    <tr>\n",
       "      <th>54</th>\n",
       "      <td>133</td>\n",
       "      <td>0.732065</td>\n",
       "    </tr>\n",
       "    <tr>\n",
       "      <th>52</th>\n",
       "      <td>44</td>\n",
       "      <td>0.730435</td>\n",
       "    </tr>\n",
       "    <tr>\n",
       "      <th>59</th>\n",
       "      <td>22</td>\n",
       "      <td>0.730435</td>\n",
       "    </tr>\n",
       "    <tr>\n",
       "      <th>7</th>\n",
       "      <td>2</td>\n",
       "      <td>0.726087</td>\n",
       "    </tr>\n",
       "    <tr>\n",
       "      <th>50</th>\n",
       "      <td>43</td>\n",
       "      <td>0.722826</td>\n",
       "    </tr>\n",
       "    <tr>\n",
       "      <th>56</th>\n",
       "      <td>5</td>\n",
       "      <td>0.716599</td>\n",
       "    </tr>\n",
       "    <tr>\n",
       "      <th>51</th>\n",
       "      <td>54</td>\n",
       "      <td>0.715217</td>\n",
       "    </tr>\n",
       "    <tr>\n",
       "      <th>38</th>\n",
       "      <td>40</td>\n",
       "      <td>0.710326</td>\n",
       "    </tr>\n",
       "    <tr>\n",
       "      <th>58</th>\n",
       "      <td>65</td>\n",
       "      <td>0.707065</td>\n",
       "    </tr>\n",
       "    <tr>\n",
       "      <th>13</th>\n",
       "      <td>23</td>\n",
       "      <td>0.705435</td>\n",
       "    </tr>\n",
       "    <tr>\n",
       "      <th>2</th>\n",
       "      <td>60</td>\n",
       "      <td>0.697826</td>\n",
       "    </tr>\n",
       "    <tr>\n",
       "      <th>43</th>\n",
       "      <td>4</td>\n",
       "      <td>0.697826</td>\n",
       "    </tr>\n",
       "    <tr>\n",
       "      <th>4</th>\n",
       "      <td>10</td>\n",
       "      <td>0.696196</td>\n",
       "    </tr>\n",
       "    <tr>\n",
       "      <th>1</th>\n",
       "      <td>15</td>\n",
       "      <td>0.694565</td>\n",
       "    </tr>\n",
       "    <tr>\n",
       "      <th>53</th>\n",
       "      <td>102</td>\n",
       "      <td>0.690217</td>\n",
       "    </tr>\n",
       "    <tr>\n",
       "      <th>35</th>\n",
       "      <td>98</td>\n",
       "      <td>0.690217</td>\n",
       "    </tr>\n",
       "    <tr>\n",
       "      <th>44</th>\n",
       "      <td>100</td>\n",
       "      <td>0.690217</td>\n",
       "    </tr>\n",
       "    <tr>\n",
       "      <th>12</th>\n",
       "      <td>9</td>\n",
       "      <td>0.685326</td>\n",
       "    </tr>\n",
       "    <tr>\n",
       "      <th>49</th>\n",
       "      <td>104</td>\n",
       "      <td>0.683696</td>\n",
       "    </tr>\n",
       "    <tr>\n",
       "      <th>8</th>\n",
       "      <td>105</td>\n",
       "      <td>0.679348</td>\n",
       "    </tr>\n",
       "    <tr>\n",
       "      <th>45</th>\n",
       "      <td>134</td>\n",
       "      <td>0.679208</td>\n",
       "    </tr>\n",
       "    <tr>\n",
       "      <th>32</th>\n",
       "      <td>28</td>\n",
       "      <td>0.671196</td>\n",
       "    </tr>\n",
       "    <tr>\n",
       "      <th>24</th>\n",
       "      <td>36</td>\n",
       "      <td>0.671196</td>\n",
       "    </tr>\n",
       "    <tr>\n",
       "      <th>14</th>\n",
       "      <td>3</td>\n",
       "      <td>0.670109</td>\n",
       "    </tr>\n",
       "    <tr>\n",
       "      <th>0</th>\n",
       "      <td>124</td>\n",
       "      <td>0.669565</td>\n",
       "    </tr>\n",
       "    <tr>\n",
       "      <th>25</th>\n",
       "      <td>108</td>\n",
       "      <td>0.666848</td>\n",
       "    </tr>\n",
       "    <tr>\n",
       "      <th>39</th>\n",
       "      <td>58</td>\n",
       "      <td>0.663587</td>\n",
       "    </tr>\n",
       "    <tr>\n",
       "      <th>15</th>\n",
       "      <td>16</td>\n",
       "      <td>0.661957</td>\n",
       "    </tr>\n",
       "    <tr>\n",
       "      <th>23</th>\n",
       "      <td>24</td>\n",
       "      <td>0.655978</td>\n",
       "    </tr>\n",
       "    <tr>\n",
       "      <th>10</th>\n",
       "      <td>11</td>\n",
       "      <td>0.652717</td>\n",
       "    </tr>\n",
       "    <tr>\n",
       "      <th>6</th>\n",
       "      <td>130</td>\n",
       "      <td>0.645109</td>\n",
       "    </tr>\n",
       "    <tr>\n",
       "      <th>20</th>\n",
       "      <td>45</td>\n",
       "      <td>0.643478</td>\n",
       "    </tr>\n",
       "    <tr>\n",
       "      <th>48</th>\n",
       "      <td>56</td>\n",
       "      <td>0.635870</td>\n",
       "    </tr>\n",
       "    <tr>\n",
       "      <th>11</th>\n",
       "      <td>110</td>\n",
       "      <td>0.632609</td>\n",
       "    </tr>\n",
       "    <tr>\n",
       "      <th>57</th>\n",
       "      <td>127</td>\n",
       "      <td>0.624457</td>\n",
       "    </tr>\n",
       "    <tr>\n",
       "      <th>28</th>\n",
       "      <td>135</td>\n",
       "      <td>0.616848</td>\n",
       "    </tr>\n",
       "    <tr>\n",
       "      <th>41</th>\n",
       "      <td>109</td>\n",
       "      <td>0.609239</td>\n",
       "    </tr>\n",
       "    <tr>\n",
       "      <th>21</th>\n",
       "      <td>172</td>\n",
       "      <td>0.591848</td>\n",
       "    </tr>\n",
       "    <tr>\n",
       "      <th>46</th>\n",
       "      <td>174</td>\n",
       "      <td>0.576366</td>\n",
       "    </tr>\n",
       "    <tr>\n",
       "      <th>18</th>\n",
       "      <td>131</td>\n",
       "      <td>0.569005</td>\n",
       "    </tr>\n",
       "    <tr>\n",
       "      <th>47</th>\n",
       "      <td>101</td>\n",
       "      <td>0.560870</td>\n",
       "    </tr>\n",
       "  </tbody>\n",
       "</table>\n",
       "</div>"
      ],
      "text/plain": [
       "    station_id       auc\n",
       "16         136  0.898913\n",
       "37          41  0.850543\n",
       "55         103  0.823913\n",
       "42           1  0.802174\n",
       "17          21  0.798913\n",
       "29          37  0.798913\n",
       "60         123  0.798913\n",
       "40          55  0.791304\n",
       "26          19  0.791304\n",
       "34           7  0.788043\n",
       "27         125  0.782065\n",
       "5           68  0.772283\n",
       "19          59  0.771196\n",
       "22           6  0.769565\n",
       "30         139  0.767935\n",
       "33          57  0.766304\n",
       "61          39  0.766304\n",
       "9          120  0.761957\n",
       "36           8  0.755435\n",
       "62         106  0.752174\n",
       "31          99  0.742935\n",
       "3           18  0.736957\n",
       "54         133  0.732065\n",
       "52          44  0.730435\n",
       "59          22  0.730435\n",
       "7            2  0.726087\n",
       "50          43  0.722826\n",
       "56           5  0.716599\n",
       "51          54  0.715217\n",
       "38          40  0.710326\n",
       "58          65  0.707065\n",
       "13          23  0.705435\n",
       "2           60  0.697826\n",
       "43           4  0.697826\n",
       "4           10  0.696196\n",
       "1           15  0.694565\n",
       "53         102  0.690217\n",
       "35          98  0.690217\n",
       "44         100  0.690217\n",
       "12           9  0.685326\n",
       "49         104  0.683696\n",
       "8          105  0.679348\n",
       "45         134  0.679208\n",
       "32          28  0.671196\n",
       "24          36  0.671196\n",
       "14           3  0.670109\n",
       "0          124  0.669565\n",
       "25         108  0.666848\n",
       "39          58  0.663587\n",
       "15          16  0.661957\n",
       "23          24  0.655978\n",
       "10          11  0.652717\n",
       "6          130  0.645109\n",
       "20          45  0.643478\n",
       "48          56  0.635870\n",
       "11         110  0.632609\n",
       "57         127  0.624457\n",
       "28         135  0.616848\n",
       "41         109  0.609239\n",
       "21         172  0.591848\n",
       "46         174  0.576366\n",
       "18         131  0.569005\n",
       "47         101  0.560870"
      ]
     },
     "execution_count": 236,
     "metadata": {},
     "output_type": "execute_result"
    }
   ],
   "source": [
    "drift_by_station_df = pd.DataFrame(data_dict).sort_values('auc', ascending=0)\n",
    "drift_by_station_df"
   ]
  },
  {
   "cell_type": "code",
   "execution_count": 242,
   "metadata": {},
   "outputs": [
    {
     "data": {
      "text/plain": [
       "(4, 2)"
      ]
     },
     "execution_count": 242,
     "metadata": {},
     "output_type": "execute_result"
    }
   ],
   "source": [
    "drift_by_station_df[drift_by_station_df['auc'] <= 0.6].shape"
   ]
  },
  {
   "cell_type": "code",
   "execution_count": null,
   "metadata": {},
   "outputs": [],
   "source": []
  }
 ],
 "metadata": {
  "interpreter": {
   "hash": "fed283c316bdff65bb0e6fa0ac400ca324e239091c2425959241ec6ed8e34148"
  },
  "kernelspec": {
   "display_name": "Python [conda env:vcub_keeper] *",
   "language": "python",
   "name": "python3"
  },
  "language_info": {
   "codemirror_mode": {
    "name": "ipython",
    "version": 3
   },
   "file_extension": ".py",
   "mimetype": "text/x-python",
   "name": "python",
   "nbconvert_exporter": "python",
   "pygments_lexer": "ipython3",
   "version": "3.8.5"
  },
  "toc": {
   "base_numbering": 1,
   "nav_menu": {},
   "number_sections": true,
   "sideBar": true,
   "skip_h1_title": false,
   "title_cell": "Table of Contents",
   "title_sidebar": "Contents",
   "toc_cell": false,
   "toc_position": {},
   "toc_section_display": true,
   "toc_window_display": true
  }
 },
 "nbformat": 4,
 "nbformat_minor": 4
}
