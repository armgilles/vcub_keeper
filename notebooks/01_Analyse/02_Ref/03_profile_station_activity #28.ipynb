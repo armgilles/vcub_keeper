version https://git-lfs.github.com/spec/v1
oid sha256:67ed87aaf87286aafa472848c0bc4d3e1384c077bc200dd8dc0194b84416ea6a
size 7082398
