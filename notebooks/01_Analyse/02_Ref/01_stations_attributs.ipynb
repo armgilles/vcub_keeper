{
 "cells": [
  {
   "cell_type": "markdown",
   "metadata": {
    "toc": true
   },
   "source": [
    "<h1>Table of Contents<span class=\"tocSkip\"></span></h1>\n",
    "<div class=\"toc\"><ul class=\"toc-item\"><li><ul class=\"toc-item\"><li><span><a href=\"#Objectifs\" data-toc-modified-id=\"Objectifs-0.1\"><span class=\"toc-item-num\">0.1&nbsp;&nbsp;</span>Objectifs</a></span></li></ul></li><li><span><a href=\"#Dev\" data-toc-modified-id=\"Dev-1\"><span class=\"toc-item-num\">1&nbsp;&nbsp;</span>Dev</a></span></li><li><span><a href=\"#Industrialisation\" data-toc-modified-id=\"Industrialisation-2\"><span class=\"toc-item-num\">2&nbsp;&nbsp;</span>Industrialisation</a></span></li><li><span><a href=\"#OLD-Code\" data-toc-modified-id=\"OLD-Code-3\"><span class=\"toc-item-num\">3&nbsp;&nbsp;</span>OLD Code</a></span><ul class=\"toc-item\"><li><span><a href=\"#Dev-OLD\" data-toc-modified-id=\"Dev-OLD-3.1\"><span class=\"toc-item-num\">3.1&nbsp;&nbsp;</span>Dev OLD</a></span><ul class=\"toc-item\"><li><ul class=\"toc-item\"><li><span><a href=\"#Fonction-de-lecture-OLD\" data-toc-modified-id=\"Fonction-de-lecture-OLD-3.1.0.1\"><span class=\"toc-item-num\">3.1.0.1&nbsp;&nbsp;</span>Fonction de lecture OLD</a></span></li></ul></li></ul></li><li><span><a href=\"#Industrialisation-OLD\" data-toc-modified-id=\"Industrialisation-OLD-3.2\"><span class=\"toc-item-num\">3.2&nbsp;&nbsp;</span>Industrialisation OLD</a></span></li></ul></li></ul></div>"
   ]
  },
  {
   "cell_type": "code",
   "execution_count": 71,
   "metadata": {
    "ExecuteTime": {
     "end_time": "2021-04-15T15:20:38.964476Z",
     "start_time": "2021-04-15T15:20:38.946220Z"
    }
   },
   "outputs": [
    {
     "name": "stdout",
     "output_type": "stream",
     "text": [
      "The autoreload extension is already loaded. To reload it, use:\n",
      "  %reload_ext autoreload\n"
     ]
    }
   ],
   "source": [
    "import pandas as pd\n",
    "import numpy as np\n",
    "\n",
    "from vcub_keeper.config import ROOT_DATA_REF\n",
    "\n",
    "%load_ext autoreload\n",
    "%autoreload 2"
   ]
  },
  {
   "cell_type": "markdown",
   "metadata": {},
   "source": [
    "## Objectifs"
   ]
  },
  {
   "cell_type": "markdown",
   "metadata": {
    "ExecuteTime": {
     "end_time": "2020-08-27T13:23:19.602174Z",
     "start_time": "2020-08-27T13:23:19.587107Z"
    }
   },
   "source": [
    "- Téléchargement des données des attributs des stations Vcub via open data.\n",
    "- Modification de la structure / Naming afin de coller avec l'ancien fichier `tb_stvel_p.csv` (issue git https://github.com/armgilles/vcub_keeper/issues/50).\n",
    "- Export des données dans `ROOT_DATA_REF`.\n",
    "- Lecture du fichier sur les références des stations Vcub à Bordeaux\n",
    "- Industrialiser"
   ]
  },
  {
   "cell_type": "markdown",
   "metadata": {},
   "source": [
    "*L'ancien code est noté par `OLD`*"
   ]
  },
  {
   "cell_type": "markdown",
   "metadata": {
    "ExecuteTime": {
     "end_time": "2021-04-15T14:28:50.203419Z",
     "start_time": "2021-04-15T14:28:50.200494Z"
    }
   },
   "source": [
    "# Dev"
   ]
  },
  {
   "cell_type": "code",
   "execution_count": 41,
   "metadata": {
    "ExecuteTime": {
     "end_time": "2021-04-15T14:41:58.515123Z",
     "start_time": "2021-04-15T14:41:58.500273Z"
    }
   },
   "outputs": [],
   "source": [
    "URL_DATA_STATION = \"https://opendata.bordeaux-metropole.fr/explore/dataset/ci_vcub_p/download/?format=csv&timezone=Europe/Berlin&lang=fr&use_labels_for_header=true&csv_separator=%3B\""
   ]
  },
  {
   "cell_type": "code",
   "execution_count": 42,
   "metadata": {
    "ExecuteTime": {
     "end_time": "2021-04-15T14:42:00.127595Z",
     "start_time": "2021-04-15T14:41:58.739848Z"
    }
   },
   "outputs": [],
   "source": [
    "# Lecture des données via URL\n",
    "\n",
    "column_dtypes = {'IDENT': 'uint8'}\n",
    "usecols = ['Geo Point', 'Geo Shape', 'commune', 'IDENT',\n",
    "           'TYPE', 'NOM', 'NBPLACES', 'NBVELOS']\n",
    "\n",
    "\n",
    "\n",
    "stations = pd.read_csv(URL_DATA_STATION, sep=\";\",\n",
    "                       dtype=column_dtypes, usecols=usecols)"
   ]
  },
  {
   "cell_type": "code",
   "execution_count": 43,
   "metadata": {
    "ExecuteTime": {
     "end_time": "2021-04-15T14:42:00.143025Z",
     "start_time": "2021-04-15T14:42:00.128976Z"
    }
   },
   "outputs": [
    {
     "data": {
      "text/html": [
       "<div>\n",
       "<style scoped>\n",
       "    .dataframe tbody tr th:only-of-type {\n",
       "        vertical-align: middle;\n",
       "    }\n",
       "\n",
       "    .dataframe tbody tr th {\n",
       "        vertical-align: top;\n",
       "    }\n",
       "\n",
       "    .dataframe thead th {\n",
       "        text-align: right;\n",
       "    }\n",
       "</style>\n",
       "<table border=\"1\" class=\"dataframe\">\n",
       "  <thead>\n",
       "    <tr style=\"text-align: right;\">\n",
       "      <th></th>\n",
       "      <th>Geo Point</th>\n",
       "      <th>Geo Shape</th>\n",
       "      <th>commune</th>\n",
       "      <th>IDENT</th>\n",
       "      <th>TYPE</th>\n",
       "      <th>NOM</th>\n",
       "      <th>NBPLACES</th>\n",
       "      <th>NBVELOS</th>\n",
       "    </tr>\n",
       "  </thead>\n",
       "  <tbody>\n",
       "    <tr>\n",
       "      <th>178</th>\n",
       "      <td>44.947134,-0.605732</td>\n",
       "      <td>{\"type\": \"Point\", \"coordinates\": [-0.605732, 4...</td>\n",
       "      <td>Parempuyre</td>\n",
       "      <td>180</td>\n",
       "      <td>VLS+</td>\n",
       "      <td>L'Art Y Show</td>\n",
       "      <td>10</td>\n",
       "      <td>10</td>\n",
       "    </tr>\n",
       "    <tr>\n",
       "      <th>179</th>\n",
       "      <td>44.866214,-0.60529</td>\n",
       "      <td>{\"type\": \"Point\", \"coordinates\": [-0.60529, 44...</td>\n",
       "      <td>Le Bouscat</td>\n",
       "      <td>181</td>\n",
       "      <td>VLS+</td>\n",
       "      <td>Mairie du Bouscat</td>\n",
       "      <td>11</td>\n",
       "      <td>9</td>\n",
       "    </tr>\n",
       "    <tr>\n",
       "      <th>180</th>\n",
       "      <td>44.873805,-0.629383</td>\n",
       "      <td>{\"type\": \"Point\", \"coordinates\": [-0.629383, 4...</td>\n",
       "      <td>Le Bouscat</td>\n",
       "      <td>182</td>\n",
       "      <td>VLS+</td>\n",
       "      <td>Hippodrome</td>\n",
       "      <td>6</td>\n",
       "      <td>14</td>\n",
       "    </tr>\n",
       "    <tr>\n",
       "      <th>181</th>\n",
       "      <td>44.892104,-0.667966</td>\n",
       "      <td>{\"type\": \"Point\", \"coordinates\": [-0.667966, 4...</td>\n",
       "      <td>Eysines</td>\n",
       "      <td>183</td>\n",
       "      <td>VLS+</td>\n",
       "      <td>Cantinolle</td>\n",
       "      <td>12</td>\n",
       "      <td>8</td>\n",
       "    </tr>\n",
       "    <tr>\n",
       "      <th>182</th>\n",
       "      <td>44.823285,-0.554574</td>\n",
       "      <td>{\"type\": \"Point\", \"coordinates\": [-0.554574, 4...</td>\n",
       "      <td>Bordeaux</td>\n",
       "      <td>251</td>\n",
       "      <td>VLS</td>\n",
       "      <td>Belcier Gare</td>\n",
       "      <td>22</td>\n",
       "      <td>18</td>\n",
       "    </tr>\n",
       "  </tbody>\n",
       "</table>\n",
       "</div>"
      ],
      "text/plain": [
       "               Geo Point                                          Geo Shape  \\\n",
       "178  44.947134,-0.605732  {\"type\": \"Point\", \"coordinates\": [-0.605732, 4...   \n",
       "179   44.866214,-0.60529  {\"type\": \"Point\", \"coordinates\": [-0.60529, 44...   \n",
       "180  44.873805,-0.629383  {\"type\": \"Point\", \"coordinates\": [-0.629383, 4...   \n",
       "181  44.892104,-0.667966  {\"type\": \"Point\", \"coordinates\": [-0.667966, 4...   \n",
       "182  44.823285,-0.554574  {\"type\": \"Point\", \"coordinates\": [-0.554574, 4...   \n",
       "\n",
       "        commune  IDENT  TYPE                NOM  NBPLACES  NBVELOS  \n",
       "178  Parempuyre    180  VLS+       L'Art Y Show        10       10  \n",
       "179  Le Bouscat    181  VLS+  Mairie du Bouscat        11        9  \n",
       "180  Le Bouscat    182  VLS+         Hippodrome         6       14  \n",
       "181     Eysines    183  VLS+         Cantinolle        12        8  \n",
       "182    Bordeaux    251   VLS       Belcier Gare        22       18  "
      ]
     },
     "execution_count": 43,
     "metadata": {},
     "output_type": "execute_result"
    }
   ],
   "source": [
    "stations.tail()"
   ]
  },
  {
   "cell_type": "code",
   "execution_count": 44,
   "metadata": {
    "ExecuteTime": {
     "end_time": "2021-04-15T14:42:00.245036Z",
     "start_time": "2021-04-15T14:42:00.144592Z"
    }
   },
   "outputs": [
    {
     "data": {
      "text/html": [
       "<div>\n",
       "<style scoped>\n",
       "    .dataframe tbody tr th:only-of-type {\n",
       "        vertical-align: middle;\n",
       "    }\n",
       "\n",
       "    .dataframe tbody tr th {\n",
       "        vertical-align: top;\n",
       "    }\n",
       "\n",
       "    .dataframe thead th {\n",
       "        text-align: right;\n",
       "    }\n",
       "</style>\n",
       "<table border=\"1\" class=\"dataframe\">\n",
       "  <thead>\n",
       "    <tr style=\"text-align: right;\">\n",
       "      <th></th>\n",
       "      <th>Geo Point</th>\n",
       "      <th>Geo Shape</th>\n",
       "      <th>commune</th>\n",
       "      <th>IDENT</th>\n",
       "      <th>TYPE</th>\n",
       "      <th>NOM</th>\n",
       "      <th>NBPLACES</th>\n",
       "      <th>NBVELOS</th>\n",
       "    </tr>\n",
       "  </thead>\n",
       "  <tbody>\n",
       "    <tr>\n",
       "      <th>178</th>\n",
       "      <td>44.947134,-0.605732</td>\n",
       "      <td>{\"type\": \"Point\", \"coordinates\": [-0.605732, 4...</td>\n",
       "      <td>Parempuyre</td>\n",
       "      <td>180</td>\n",
       "      <td>VLS+</td>\n",
       "      <td>L'Art Y Show</td>\n",
       "      <td>10</td>\n",
       "      <td>10</td>\n",
       "    </tr>\n",
       "    <tr>\n",
       "      <th>179</th>\n",
       "      <td>44.866214,-0.60529</td>\n",
       "      <td>{\"type\": \"Point\", \"coordinates\": [-0.60529, 44...</td>\n",
       "      <td>Le Bouscat</td>\n",
       "      <td>181</td>\n",
       "      <td>VLS+</td>\n",
       "      <td>Mairie du Bouscat</td>\n",
       "      <td>11</td>\n",
       "      <td>9</td>\n",
       "    </tr>\n",
       "    <tr>\n",
       "      <th>180</th>\n",
       "      <td>44.873805,-0.629383</td>\n",
       "      <td>{\"type\": \"Point\", \"coordinates\": [-0.629383, 4...</td>\n",
       "      <td>Le Bouscat</td>\n",
       "      <td>182</td>\n",
       "      <td>VLS+</td>\n",
       "      <td>Hippodrome</td>\n",
       "      <td>6</td>\n",
       "      <td>14</td>\n",
       "    </tr>\n",
       "    <tr>\n",
       "      <th>181</th>\n",
       "      <td>44.892104,-0.667966</td>\n",
       "      <td>{\"type\": \"Point\", \"coordinates\": [-0.667966, 4...</td>\n",
       "      <td>Eysines</td>\n",
       "      <td>183</td>\n",
       "      <td>VLS+</td>\n",
       "      <td>Cantinolle</td>\n",
       "      <td>12</td>\n",
       "      <td>8</td>\n",
       "    </tr>\n",
       "    <tr>\n",
       "      <th>182</th>\n",
       "      <td>44.823285,-0.554574</td>\n",
       "      <td>{\"type\": \"Point\", \"coordinates\": [-0.554574, 4...</td>\n",
       "      <td>Bordeaux</td>\n",
       "      <td>251</td>\n",
       "      <td>VLS</td>\n",
       "      <td>Belcier Gare</td>\n",
       "      <td>22</td>\n",
       "      <td>18</td>\n",
       "    </tr>\n",
       "  </tbody>\n",
       "</table>\n",
       "</div>"
      ],
      "text/plain": [
       "               Geo Point                                          Geo Shape  \\\n",
       "178  44.947134,-0.605732  {\"type\": \"Point\", \"coordinates\": [-0.605732, 4...   \n",
       "179   44.866214,-0.60529  {\"type\": \"Point\", \"coordinates\": [-0.60529, 44...   \n",
       "180  44.873805,-0.629383  {\"type\": \"Point\", \"coordinates\": [-0.629383, 4...   \n",
       "181  44.892104,-0.667966  {\"type\": \"Point\", \"coordinates\": [-0.667966, 4...   \n",
       "182  44.823285,-0.554574  {\"type\": \"Point\", \"coordinates\": [-0.554574, 4...   \n",
       "\n",
       "        commune  IDENT  TYPE                NOM  NBPLACES  NBVELOS  \n",
       "178  Parempuyre    180  VLS+       L'Art Y Show        10       10  \n",
       "179  Le Bouscat    181  VLS+  Mairie du Bouscat        11        9  \n",
       "180  Le Bouscat    182  VLS+         Hippodrome         6       14  \n",
       "181     Eysines    183  VLS+         Cantinolle        12        8  \n",
       "182    Bordeaux    251   VLS       Belcier Gare        22       18  "
      ]
     },
     "execution_count": 44,
     "metadata": {},
     "output_type": "execute_result"
    }
   ],
   "source": [
    "stations.tail()"
   ]
  },
  {
   "cell_type": "code",
   "execution_count": 45,
   "metadata": {
    "ExecuteTime": {
     "end_time": "2021-04-15T14:42:00.320007Z",
     "start_time": "2021-04-15T14:42:00.246757Z"
    }
   },
   "outputs": [],
   "source": [
    "# Calcul total stand by station\n",
    "stations['total_stand'] = stations['NBPLACES'] + stations['NBVELOS']"
   ]
  },
  {
   "cell_type": "code",
   "execution_count": 46,
   "metadata": {
    "ExecuteTime": {
     "end_time": "2021-04-15T14:42:00.405809Z",
     "start_time": "2021-04-15T14:42:00.321355Z"
    }
   },
   "outputs": [],
   "source": [
    "# Create lon / lat\n",
    "stations['lat'] = stations['Geo Point'].apply(lambda x : x.split(',')[0])\n",
    "stations['lat'] = stations['lat'].astype(float)\n",
    "stations['lon'] = stations['Geo Point'].apply(lambda x : x.split(',')[1])\n",
    "stations['lon'] = stations['lon'].astype(float)"
   ]
  },
  {
   "cell_type": "code",
   "execution_count": 47,
   "metadata": {
    "ExecuteTime": {
     "end_time": "2021-04-15T14:42:00.532780Z",
     "start_time": "2021-04-15T14:42:00.523814Z"
    }
   },
   "outputs": [],
   "source": [
    "# Naming\n",
    "# commune -> COMMUNE\n",
    "stations.rename(columns={'commune':'COMMUNE'}, inplace=True)\n",
    "\n",
    "# IDENT -> station_id\n",
    "stations.rename(columns={'IDENT':'station_id'}, inplace=True)\n",
    "\n",
    "# TYPE -> TYPEA\n",
    "stations.rename(columns={'TYPE':'TYPEA'}, inplace=True)\n"
   ]
  },
  {
   "cell_type": "code",
   "execution_count": 49,
   "metadata": {
    "ExecuteTime": {
     "end_time": "2021-04-15T14:43:33.786577Z",
     "start_time": "2021-04-15T14:43:33.771000Z"
    }
   },
   "outputs": [],
   "source": [
    "# Filter \n",
    "col_to_export = ['Geo Point', 'Geo Shape', 'COMMUNE', 'total_stand', 'NOM', 'TYPEA',\n",
    "                 'station_id', 'lat', 'lon']\n",
    "\n",
    "stations = stations[col_to_export]"
   ]
  },
  {
   "cell_type": "code",
   "execution_count": 50,
   "metadata": {
    "ExecuteTime": {
     "end_time": "2021-04-15T14:43:34.356277Z",
     "start_time": "2021-04-15T14:43:34.333727Z"
    }
   },
   "outputs": [
    {
     "data": {
      "text/html": [
       "<div>\n",
       "<style scoped>\n",
       "    .dataframe tbody tr th:only-of-type {\n",
       "        vertical-align: middle;\n",
       "    }\n",
       "\n",
       "    .dataframe tbody tr th {\n",
       "        vertical-align: top;\n",
       "    }\n",
       "\n",
       "    .dataframe thead th {\n",
       "        text-align: right;\n",
       "    }\n",
       "</style>\n",
       "<table border=\"1\" class=\"dataframe\">\n",
       "  <thead>\n",
       "    <tr style=\"text-align: right;\">\n",
       "      <th></th>\n",
       "      <th>Geo Point</th>\n",
       "      <th>Geo Shape</th>\n",
       "      <th>COMMUNE</th>\n",
       "      <th>total_stand</th>\n",
       "      <th>NOM</th>\n",
       "      <th>TYPEA</th>\n",
       "      <th>station_id</th>\n",
       "      <th>lat</th>\n",
       "      <th>lon</th>\n",
       "    </tr>\n",
       "  </thead>\n",
       "  <tbody>\n",
       "    <tr>\n",
       "      <th>0</th>\n",
       "      <td>44.83803,-0.58437</td>\n",
       "      <td>{\"type\": \"Point\", \"coordinates\": [-0.58437, 44...</td>\n",
       "      <td>Bordeaux</td>\n",
       "      <td>33</td>\n",
       "      <td>Meriadeck</td>\n",
       "      <td>VLS</td>\n",
       "      <td>1</td>\n",
       "      <td>44.838030</td>\n",
       "      <td>-0.584370</td>\n",
       "    </tr>\n",
       "    <tr>\n",
       "      <th>1</th>\n",
       "      <td>44.83784,-0.59028</td>\n",
       "      <td>{\"type\": \"Point\", \"coordinates\": [-0.59028, 44...</td>\n",
       "      <td>Bordeaux</td>\n",
       "      <td>20</td>\n",
       "      <td>St Bruno</td>\n",
       "      <td>VLS</td>\n",
       "      <td>2</td>\n",
       "      <td>44.837840</td>\n",
       "      <td>-0.590280</td>\n",
       "    </tr>\n",
       "    <tr>\n",
       "      <th>2</th>\n",
       "      <td>44.840813,-0.593233</td>\n",
       "      <td>{\"type\": \"Point\", \"coordinates\": [-0.593233, 4...</td>\n",
       "      <td>Bordeaux</td>\n",
       "      <td>28</td>\n",
       "      <td>Piscine Judaique</td>\n",
       "      <td>VLS</td>\n",
       "      <td>3</td>\n",
       "      <td>44.840813</td>\n",
       "      <td>-0.593233</td>\n",
       "    </tr>\n",
       "    <tr>\n",
       "      <th>3</th>\n",
       "      <td>44.84221,-0.58482</td>\n",
       "      <td>{\"type\": \"Point\", \"coordinates\": [-0.58482, 44...</td>\n",
       "      <td>Bordeaux</td>\n",
       "      <td>20</td>\n",
       "      <td>St Seurin</td>\n",
       "      <td>VLS</td>\n",
       "      <td>4</td>\n",
       "      <td>44.842210</td>\n",
       "      <td>-0.584820</td>\n",
       "    </tr>\n",
       "    <tr>\n",
       "      <th>4</th>\n",
       "      <td>44.840712,-0.581124</td>\n",
       "      <td>{\"type\": \"Point\", \"coordinates\": [-0.581124, 4...</td>\n",
       "      <td>Bordeaux</td>\n",
       "      <td>40</td>\n",
       "      <td>Place Gambetta</td>\n",
       "      <td>VLS</td>\n",
       "      <td>5</td>\n",
       "      <td>44.840712</td>\n",
       "      <td>-0.581124</td>\n",
       "    </tr>\n",
       "    <tr>\n",
       "      <th>...</th>\n",
       "      <td>...</td>\n",
       "      <td>...</td>\n",
       "      <td>...</td>\n",
       "      <td>...</td>\n",
       "      <td>...</td>\n",
       "      <td>...</td>\n",
       "      <td>...</td>\n",
       "      <td>...</td>\n",
       "      <td>...</td>\n",
       "    </tr>\n",
       "    <tr>\n",
       "      <th>178</th>\n",
       "      <td>44.947134,-0.605732</td>\n",
       "      <td>{\"type\": \"Point\", \"coordinates\": [-0.605732, 4...</td>\n",
       "      <td>Parempuyre</td>\n",
       "      <td>20</td>\n",
       "      <td>L'Art Y Show</td>\n",
       "      <td>VLS+</td>\n",
       "      <td>180</td>\n",
       "      <td>44.947134</td>\n",
       "      <td>-0.605732</td>\n",
       "    </tr>\n",
       "    <tr>\n",
       "      <th>179</th>\n",
       "      <td>44.866214,-0.60529</td>\n",
       "      <td>{\"type\": \"Point\", \"coordinates\": [-0.60529, 44...</td>\n",
       "      <td>Le Bouscat</td>\n",
       "      <td>20</td>\n",
       "      <td>Mairie du Bouscat</td>\n",
       "      <td>VLS+</td>\n",
       "      <td>181</td>\n",
       "      <td>44.866214</td>\n",
       "      <td>-0.605290</td>\n",
       "    </tr>\n",
       "    <tr>\n",
       "      <th>180</th>\n",
       "      <td>44.873805,-0.629383</td>\n",
       "      <td>{\"type\": \"Point\", \"coordinates\": [-0.629383, 4...</td>\n",
       "      <td>Le Bouscat</td>\n",
       "      <td>20</td>\n",
       "      <td>Hippodrome</td>\n",
       "      <td>VLS+</td>\n",
       "      <td>182</td>\n",
       "      <td>44.873805</td>\n",
       "      <td>-0.629383</td>\n",
       "    </tr>\n",
       "    <tr>\n",
       "      <th>181</th>\n",
       "      <td>44.892104,-0.667966</td>\n",
       "      <td>{\"type\": \"Point\", \"coordinates\": [-0.667966, 4...</td>\n",
       "      <td>Eysines</td>\n",
       "      <td>20</td>\n",
       "      <td>Cantinolle</td>\n",
       "      <td>VLS+</td>\n",
       "      <td>183</td>\n",
       "      <td>44.892104</td>\n",
       "      <td>-0.667966</td>\n",
       "    </tr>\n",
       "    <tr>\n",
       "      <th>182</th>\n",
       "      <td>44.823285,-0.554574</td>\n",
       "      <td>{\"type\": \"Point\", \"coordinates\": [-0.554574, 4...</td>\n",
       "      <td>Bordeaux</td>\n",
       "      <td>40</td>\n",
       "      <td>Belcier Gare</td>\n",
       "      <td>VLS</td>\n",
       "      <td>251</td>\n",
       "      <td>44.823285</td>\n",
       "      <td>-0.554574</td>\n",
       "    </tr>\n",
       "  </tbody>\n",
       "</table>\n",
       "<p>183 rows × 9 columns</p>\n",
       "</div>"
      ],
      "text/plain": [
       "               Geo Point                                          Geo Shape  \\\n",
       "0      44.83803,-0.58437  {\"type\": \"Point\", \"coordinates\": [-0.58437, 44...   \n",
       "1      44.83784,-0.59028  {\"type\": \"Point\", \"coordinates\": [-0.59028, 44...   \n",
       "2    44.840813,-0.593233  {\"type\": \"Point\", \"coordinates\": [-0.593233, 4...   \n",
       "3      44.84221,-0.58482  {\"type\": \"Point\", \"coordinates\": [-0.58482, 44...   \n",
       "4    44.840712,-0.581124  {\"type\": \"Point\", \"coordinates\": [-0.581124, 4...   \n",
       "..                   ...                                                ...   \n",
       "178  44.947134,-0.605732  {\"type\": \"Point\", \"coordinates\": [-0.605732, 4...   \n",
       "179   44.866214,-0.60529  {\"type\": \"Point\", \"coordinates\": [-0.60529, 44...   \n",
       "180  44.873805,-0.629383  {\"type\": \"Point\", \"coordinates\": [-0.629383, 4...   \n",
       "181  44.892104,-0.667966  {\"type\": \"Point\", \"coordinates\": [-0.667966, 4...   \n",
       "182  44.823285,-0.554574  {\"type\": \"Point\", \"coordinates\": [-0.554574, 4...   \n",
       "\n",
       "        COMMUNE  total_stand                NOM TYPEA  station_id        lat  \\\n",
       "0      Bordeaux           33          Meriadeck   VLS           1  44.838030   \n",
       "1      Bordeaux           20           St Bruno   VLS           2  44.837840   \n",
       "2      Bordeaux           28   Piscine Judaique   VLS           3  44.840813   \n",
       "3      Bordeaux           20          St Seurin   VLS           4  44.842210   \n",
       "4      Bordeaux           40     Place Gambetta   VLS           5  44.840712   \n",
       "..          ...          ...                ...   ...         ...        ...   \n",
       "178  Parempuyre           20       L'Art Y Show  VLS+         180  44.947134   \n",
       "179  Le Bouscat           20  Mairie du Bouscat  VLS+         181  44.866214   \n",
       "180  Le Bouscat           20         Hippodrome  VLS+         182  44.873805   \n",
       "181     Eysines           20         Cantinolle  VLS+         183  44.892104   \n",
       "182    Bordeaux           40       Belcier Gare   VLS         251  44.823285   \n",
       "\n",
       "          lon  \n",
       "0   -0.584370  \n",
       "1   -0.590280  \n",
       "2   -0.593233  \n",
       "3   -0.584820  \n",
       "4   -0.581124  \n",
       "..        ...  \n",
       "178 -0.605732  \n",
       "179 -0.605290  \n",
       "180 -0.629383  \n",
       "181 -0.667966  \n",
       "182 -0.554574  \n",
       "\n",
       "[183 rows x 9 columns]"
      ]
     },
     "execution_count": 50,
     "metadata": {},
     "output_type": "execute_result"
    }
   ],
   "source": [
    "stations"
   ]
  },
  {
   "cell_type": "code",
   "execution_count": 51,
   "metadata": {
    "ExecuteTime": {
     "end_time": "2021-04-15T14:47:14.893864Z",
     "start_time": "2021-04-15T14:47:14.842148Z"
    }
   },
   "outputs": [],
   "source": [
    "# Export \n",
    "file_export = \"station_attribute.csv\"\n",
    "stations.to_csv(ROOT_DATA_REF+file_export, index=False, encoding='UTF-8')"
   ]
  },
  {
   "cell_type": "markdown",
   "metadata": {},
   "source": [
    "# Industrialisation"
   ]
  },
  {
   "cell_type": "code",
   "execution_count": 64,
   "metadata": {
    "ExecuteTime": {
     "end_time": "2021-04-15T14:58:54.914061Z",
     "start_time": "2021-04-15T14:58:54.899730Z"
    }
   },
   "outputs": [],
   "source": [
    "def create_station_attribute(path_directory):\n",
    "    \"\"\"\n",
    "    Création du fichier de référence des attributs des stations Vcub de l'agglomération de Bordeaux\n",
    "    suite à la modification de l'accès open-data des données précédentes\n",
    "    (https://github.com/armgilles/vcub_keeper/issues/50).\n",
    "    Export le fichier dans \"path_directory\" en .csv.\n",
    "\n",
    "    Parameters\n",
    "    ----------\n",
    "    path_directory : str\n",
    "        chemin d'accès (ROOT_DATA_REF)\n",
    "\n",
    "    Returns\n",
    "    -------\n",
    "    None\n",
    "    Examples\n",
    "    --------\n",
    "\n",
    "    create_station_attribute(path_directory=ROOT_DATA_REF)\n",
    "    \"\"\"\n",
    "\n",
    "    URL_DATA_STATION = \"https://opendata.bordeaux-metropole.fr/explore/dataset/ci_vcub_p/download/?format=csv&timezone=Europe/Berlin&lang=fr&use_labels_for_header=true&csv_separator=%3B\"\n",
    "\n",
    "    # Lecture des données via URL\n",
    "    column_dtypes = {'IDENT': 'uint8'}\n",
    "    usecols = ['Geo Point', 'Geo Shape', 'commune', 'IDENT',\n",
    "               'TYPE', 'NOM', 'NBPLACES', 'NBVELOS']\n",
    "\n",
    "    stations = pd.read_csv(URL_DATA_STATION, sep=\";\",\n",
    "                           dtype=column_dtypes, usecols=usecols)\n",
    "\n",
    "    # Calcul du nombre de stand par station\n",
    "    stations['total_stand'] = stations['NBPLACES'] + stations['NBVELOS']\n",
    "\n",
    "    # Create lon / lat\n",
    "    stations['lat'] = stations['Geo Point'].apply(lambda x: x.split(',')[0])\n",
    "    stations['lat'] = stations['lat'].astype(float)\n",
    "    stations['lon'] = stations['Geo Point'].apply(lambda x: x.split(',')[1])\n",
    "    stations['lon'] = stations['lon'].astype(float)\n",
    "\n",
    "    # Naming\n",
    "    # commune -> COMMUNE\n",
    "    stations.rename(columns={'commune': 'COMMUNE'}, inplace=True)\n",
    "\n",
    "    # IDENT -> station_id\n",
    "    stations.rename(columns={'IDENT': 'station_id'}, inplace=True)\n",
    "\n",
    "    # TYPE -> TYPEA\n",
    "    stations.rename(columns={'TYPE': 'TYPEA'}, inplace=True)\n",
    "\n",
    "    # Filter columns\n",
    "    col_to_export = ['Geo Point', 'Geo Shape', 'COMMUNE', 'total_stand', 'NOM', 'TYPEA',\n",
    "                     'station_id', 'lat', 'lon']\n",
    "\n",
    "    stations = stations[col_to_export]\n",
    "\n",
    "    # Export\n",
    "    file_export = \"station_attribute.csv\"\n",
    "    stations.to_csv(ROOT_DATA_REF+file_export, index=False, encoding='UTF-8')\n",
    "\n",
    "    \n",
    "def read_stations_attributes(path_directory, file_name=\"station_attribute.csv\"):\n",
    "    \"\"\"\n",
    "    Lecture du fichier sur les attributs des Vcub à Bordeaux. Ce fichier provient de\n",
    "    create.creator.py - create_station_attribute()\n",
    "\n",
    "    Parameters\n",
    "    ----------\n",
    "    path_directory : str\n",
    "        chemin d'accès (ROOT_DATA_REF)\n",
    "    file_name : str\n",
    "        Nom du fichier\n",
    "\n",
    "    Returns\n",
    "    -------\n",
    "    activite : DataFrame\n",
    "\n",
    "    Examples\n",
    "    --------\n",
    "\n",
    "    stations = read_stations_attributes(path_directory=ROOT_DATA_REF)\n",
    "    \"\"\"\n",
    "\n",
    "    column_dtypes = {'station_id': 'uint8'}\n",
    "\n",
    "    stations = pd.read_csv(path_directory+file_name, sep=',',\n",
    "                           dtype=column_dtypes)\n",
    "\n",
    "    return stations\n",
    "    "
   ]
  },
  {
   "cell_type": "code",
   "execution_count": 73,
   "metadata": {
    "ExecuteTime": {
     "end_time": "2021-04-15T15:22:28.074122Z",
     "start_time": "2021-04-15T15:22:28.025293Z"
    }
   },
   "outputs": [],
   "source": [
    "from vcub_keeper.create.creator import create_station_attribute\n",
    "from vcub_keeper.reader.reader import read_stations_attributes"
   ]
  },
  {
   "cell_type": "code",
   "execution_count": 74,
   "metadata": {
    "ExecuteTime": {
     "end_time": "2021-04-15T15:22:30.054208Z",
     "start_time": "2021-04-15T15:22:29.666221Z"
    }
   },
   "outputs": [],
   "source": [
    "create_station_attribute(path_directory=ROOT_DATA_REF)"
   ]
  },
  {
   "cell_type": "code",
   "execution_count": 75,
   "metadata": {
    "ExecuteTime": {
     "end_time": "2021-04-15T15:22:42.403612Z",
     "start_time": "2021-04-15T15:22:42.385564Z"
    }
   },
   "outputs": [],
   "source": [
    "stations = read_stations_attributes(path_directory=ROOT_DATA_REF)"
   ]
  },
  {
   "cell_type": "code",
   "execution_count": 77,
   "metadata": {
    "ExecuteTime": {
     "end_time": "2021-04-15T15:22:49.662821Z",
     "start_time": "2021-04-15T15:22:49.646112Z"
    }
   },
   "outputs": [
    {
     "data": {
      "text/plain": [
       "(183, 9)"
      ]
     },
     "execution_count": 77,
     "metadata": {},
     "output_type": "execute_result"
    }
   ],
   "source": [
    "stations.shape"
   ]
  },
  {
   "cell_type": "code",
   "execution_count": 78,
   "metadata": {
    "ExecuteTime": {
     "end_time": "2021-04-15T15:22:51.475236Z",
     "start_time": "2021-04-15T15:22:51.449971Z"
    }
   },
   "outputs": [
    {
     "data": {
      "text/html": [
       "<div>\n",
       "<style scoped>\n",
       "    .dataframe tbody tr th:only-of-type {\n",
       "        vertical-align: middle;\n",
       "    }\n",
       "\n",
       "    .dataframe tbody tr th {\n",
       "        vertical-align: top;\n",
       "    }\n",
       "\n",
       "    .dataframe thead th {\n",
       "        text-align: right;\n",
       "    }\n",
       "</style>\n",
       "<table border=\"1\" class=\"dataframe\">\n",
       "  <thead>\n",
       "    <tr style=\"text-align: right;\">\n",
       "      <th></th>\n",
       "      <th>Geo Point</th>\n",
       "      <th>Geo Shape</th>\n",
       "      <th>COMMUNE</th>\n",
       "      <th>total_stand</th>\n",
       "      <th>NOM</th>\n",
       "      <th>TYPEA</th>\n",
       "      <th>station_id</th>\n",
       "      <th>lat</th>\n",
       "      <th>lon</th>\n",
       "    </tr>\n",
       "  </thead>\n",
       "  <tbody>\n",
       "    <tr>\n",
       "      <th>0</th>\n",
       "      <td>44.83803,-0.58437</td>\n",
       "      <td>{\"type\": \"Point\", \"coordinates\": [-0.58437, 44...</td>\n",
       "      <td>Bordeaux</td>\n",
       "      <td>33</td>\n",
       "      <td>Meriadeck</td>\n",
       "      <td>VLS</td>\n",
       "      <td>1</td>\n",
       "      <td>44.838030</td>\n",
       "      <td>-0.584370</td>\n",
       "    </tr>\n",
       "    <tr>\n",
       "      <th>1</th>\n",
       "      <td>44.83784,-0.59028</td>\n",
       "      <td>{\"type\": \"Point\", \"coordinates\": [-0.59028, 44...</td>\n",
       "      <td>Bordeaux</td>\n",
       "      <td>20</td>\n",
       "      <td>St Bruno</td>\n",
       "      <td>VLS</td>\n",
       "      <td>2</td>\n",
       "      <td>44.837840</td>\n",
       "      <td>-0.590280</td>\n",
       "    </tr>\n",
       "    <tr>\n",
       "      <th>2</th>\n",
       "      <td>44.840813,-0.593233</td>\n",
       "      <td>{\"type\": \"Point\", \"coordinates\": [-0.593233, 4...</td>\n",
       "      <td>Bordeaux</td>\n",
       "      <td>28</td>\n",
       "      <td>Piscine Judaique</td>\n",
       "      <td>VLS</td>\n",
       "      <td>3</td>\n",
       "      <td>44.840813</td>\n",
       "      <td>-0.593233</td>\n",
       "    </tr>\n",
       "    <tr>\n",
       "      <th>3</th>\n",
       "      <td>44.84221,-0.58482</td>\n",
       "      <td>{\"type\": \"Point\", \"coordinates\": [-0.58482, 44...</td>\n",
       "      <td>Bordeaux</td>\n",
       "      <td>20</td>\n",
       "      <td>St Seurin</td>\n",
       "      <td>VLS</td>\n",
       "      <td>4</td>\n",
       "      <td>44.842210</td>\n",
       "      <td>-0.584820</td>\n",
       "    </tr>\n",
       "    <tr>\n",
       "      <th>4</th>\n",
       "      <td>44.840712,-0.581124</td>\n",
       "      <td>{\"type\": \"Point\", \"coordinates\": [-0.581124, 4...</td>\n",
       "      <td>Bordeaux</td>\n",
       "      <td>40</td>\n",
       "      <td>Place Gambetta</td>\n",
       "      <td>VLS</td>\n",
       "      <td>5</td>\n",
       "      <td>44.840712</td>\n",
       "      <td>-0.581124</td>\n",
       "    </tr>\n",
       "    <tr>\n",
       "      <th>...</th>\n",
       "      <td>...</td>\n",
       "      <td>...</td>\n",
       "      <td>...</td>\n",
       "      <td>...</td>\n",
       "      <td>...</td>\n",
       "      <td>...</td>\n",
       "      <td>...</td>\n",
       "      <td>...</td>\n",
       "      <td>...</td>\n",
       "    </tr>\n",
       "    <tr>\n",
       "      <th>178</th>\n",
       "      <td>44.947134,-0.605732</td>\n",
       "      <td>{\"type\": \"Point\", \"coordinates\": [-0.605732, 4...</td>\n",
       "      <td>Parempuyre</td>\n",
       "      <td>20</td>\n",
       "      <td>L'Art Y Show</td>\n",
       "      <td>VLS+</td>\n",
       "      <td>180</td>\n",
       "      <td>44.947134</td>\n",
       "      <td>-0.605732</td>\n",
       "    </tr>\n",
       "    <tr>\n",
       "      <th>179</th>\n",
       "      <td>44.866214,-0.60529</td>\n",
       "      <td>{\"type\": \"Point\", \"coordinates\": [-0.60529, 44...</td>\n",
       "      <td>Le Bouscat</td>\n",
       "      <td>20</td>\n",
       "      <td>Mairie du Bouscat</td>\n",
       "      <td>VLS+</td>\n",
       "      <td>181</td>\n",
       "      <td>44.866214</td>\n",
       "      <td>-0.605290</td>\n",
       "    </tr>\n",
       "    <tr>\n",
       "      <th>180</th>\n",
       "      <td>44.873805,-0.629383</td>\n",
       "      <td>{\"type\": \"Point\", \"coordinates\": [-0.629383, 4...</td>\n",
       "      <td>Le Bouscat</td>\n",
       "      <td>20</td>\n",
       "      <td>Hippodrome</td>\n",
       "      <td>VLS+</td>\n",
       "      <td>182</td>\n",
       "      <td>44.873805</td>\n",
       "      <td>-0.629383</td>\n",
       "    </tr>\n",
       "    <tr>\n",
       "      <th>181</th>\n",
       "      <td>44.892104,-0.667966</td>\n",
       "      <td>{\"type\": \"Point\", \"coordinates\": [-0.667966, 4...</td>\n",
       "      <td>Eysines</td>\n",
       "      <td>20</td>\n",
       "      <td>Cantinolle</td>\n",
       "      <td>VLS+</td>\n",
       "      <td>183</td>\n",
       "      <td>44.892104</td>\n",
       "      <td>-0.667966</td>\n",
       "    </tr>\n",
       "    <tr>\n",
       "      <th>182</th>\n",
       "      <td>44.823285,-0.554574</td>\n",
       "      <td>{\"type\": \"Point\", \"coordinates\": [-0.554574, 4...</td>\n",
       "      <td>Bordeaux</td>\n",
       "      <td>40</td>\n",
       "      <td>Belcier Gare</td>\n",
       "      <td>VLS</td>\n",
       "      <td>251</td>\n",
       "      <td>44.823285</td>\n",
       "      <td>-0.554574</td>\n",
       "    </tr>\n",
       "  </tbody>\n",
       "</table>\n",
       "<p>183 rows × 9 columns</p>\n",
       "</div>"
      ],
      "text/plain": [
       "               Geo Point                                          Geo Shape  \\\n",
       "0      44.83803,-0.58437  {\"type\": \"Point\", \"coordinates\": [-0.58437, 44...   \n",
       "1      44.83784,-0.59028  {\"type\": \"Point\", \"coordinates\": [-0.59028, 44...   \n",
       "2    44.840813,-0.593233  {\"type\": \"Point\", \"coordinates\": [-0.593233, 4...   \n",
       "3      44.84221,-0.58482  {\"type\": \"Point\", \"coordinates\": [-0.58482, 44...   \n",
       "4    44.840712,-0.581124  {\"type\": \"Point\", \"coordinates\": [-0.581124, 4...   \n",
       "..                   ...                                                ...   \n",
       "178  44.947134,-0.605732  {\"type\": \"Point\", \"coordinates\": [-0.605732, 4...   \n",
       "179   44.866214,-0.60529  {\"type\": \"Point\", \"coordinates\": [-0.60529, 44...   \n",
       "180  44.873805,-0.629383  {\"type\": \"Point\", \"coordinates\": [-0.629383, 4...   \n",
       "181  44.892104,-0.667966  {\"type\": \"Point\", \"coordinates\": [-0.667966, 4...   \n",
       "182  44.823285,-0.554574  {\"type\": \"Point\", \"coordinates\": [-0.554574, 4...   \n",
       "\n",
       "        COMMUNE  total_stand                NOM TYPEA  station_id        lat  \\\n",
       "0      Bordeaux           33          Meriadeck   VLS           1  44.838030   \n",
       "1      Bordeaux           20           St Bruno   VLS           2  44.837840   \n",
       "2      Bordeaux           28   Piscine Judaique   VLS           3  44.840813   \n",
       "3      Bordeaux           20          St Seurin   VLS           4  44.842210   \n",
       "4      Bordeaux           40     Place Gambetta   VLS           5  44.840712   \n",
       "..          ...          ...                ...   ...         ...        ...   \n",
       "178  Parempuyre           20       L'Art Y Show  VLS+         180  44.947134   \n",
       "179  Le Bouscat           20  Mairie du Bouscat  VLS+         181  44.866214   \n",
       "180  Le Bouscat           20         Hippodrome  VLS+         182  44.873805   \n",
       "181     Eysines           20         Cantinolle  VLS+         183  44.892104   \n",
       "182    Bordeaux           40       Belcier Gare   VLS         251  44.823285   \n",
       "\n",
       "          lon  \n",
       "0   -0.584370  \n",
       "1   -0.590280  \n",
       "2   -0.593233  \n",
       "3   -0.584820  \n",
       "4   -0.581124  \n",
       "..        ...  \n",
       "178 -0.605732  \n",
       "179 -0.605290  \n",
       "180 -0.629383  \n",
       "181 -0.667966  \n",
       "182 -0.554574  \n",
       "\n",
       "[183 rows x 9 columns]"
      ]
     },
     "execution_count": 78,
     "metadata": {},
     "output_type": "execute_result"
    }
   ],
   "source": [
    "stations"
   ]
  },
  {
   "cell_type": "code",
   "execution_count": 79,
   "metadata": {
    "ExecuteTime": {
     "end_time": "2021-04-15T15:22:52.365108Z",
     "start_time": "2021-04-15T15:22:52.239630Z"
    }
   },
   "outputs": [
    {
     "data": {
      "text/plain": [
       "<AxesSubplot:xlabel='lat', ylabel='lon'>"
      ]
     },
     "execution_count": 79,
     "metadata": {},
     "output_type": "execute_result"
    },
    {
     "data": {
      "image/png": "[encoded data removed]",
      "text/plain": [
       "<Figure size 432x288 with 1 Axes>"
      ]
     },
     "metadata": {
      "needs_background": "light"
     },
     "output_type": "display_data"
    }
   ],
   "source": [
    "stations.plot(kind='scatter', x='lat', y='lon')"
   ]
  },
  {
   "cell_type": "markdown",
   "metadata": {},
   "source": [
    "# OLD Code"
   ]
  },
  {
   "cell_type": "markdown",
   "metadata": {},
   "source": [
    "## Dev OLD"
   ]
  },
  {
   "cell_type": "code",
   "execution_count": 36,
   "metadata": {
    "ExecuteTime": {
     "end_time": "2021-04-15T14:41:34.129220Z",
     "start_time": "2021-04-15T14:41:34.109770Z"
    }
   },
   "outputs": [],
   "source": [
    "file_name = \"tb_stvel_p.csv\"\n",
    "column_dtypes = {'NUMSTAT': 'uint8'}\n",
    "\n",
    "usecols = ['Geo Point', 'Geo Shape', 'COMMUNE', 'NBSUPPOR',\n",
    "          'NOM', 'TYPEA', 'ADRESSE', 'TARIF', 'NUMSTAT']\n",
    "stations = pd.read_csv(ROOT_DATA_REF+file_name, sep=';',\n",
    "                           dtype=column_dtypes, usecols=usecols)\n",
    "\n",
    "# Naming\n",
    "stations.rename(columns={'NBSUPPOR': 'total_stand'}, inplace=True)\n",
    "stations.rename(columns={'NUMSTAT': 'station_id'}, inplace=True)\n",
    "\n",
    "# Create lon / lat\n",
    "stations['lat'] = stations['Geo Point'].apply(lambda x : x.split(',')[0])\n",
    "stations['lat'] = stations['lat'].astype(float)\n",
    "stations['lon'] = stations['Geo Point'].apply(lambda x : x.split(',')[1])\n",
    "stations['lon'] = stations['lon'].astype(float)"
   ]
  },
  {
   "cell_type": "code",
   "execution_count": 37,
   "metadata": {
    "ExecuteTime": {
     "end_time": "2021-04-15T14:41:34.588570Z",
     "start_time": "2021-04-15T14:41:34.575848Z"
    }
   },
   "outputs": [
    {
     "data": {
      "text/plain": [
       "(174, 11)"
      ]
     },
     "execution_count": 37,
     "metadata": {},
     "output_type": "execute_result"
    }
   ],
   "source": [
    "stations.shape"
   ]
  },
  {
   "cell_type": "code",
   "execution_count": 38,
   "metadata": {
    "ExecuteTime": {
     "end_time": "2021-04-15T14:41:37.567477Z",
     "start_time": "2021-04-15T14:41:37.547628Z"
    }
   },
   "outputs": [
    {
     "data": {
      "text/html": [
       "<div>\n",
       "<style scoped>\n",
       "    .dataframe tbody tr th:only-of-type {\n",
       "        vertical-align: middle;\n",
       "    }\n",
       "\n",
       "    .dataframe tbody tr th {\n",
       "        vertical-align: top;\n",
       "    }\n",
       "\n",
       "    .dataframe thead th {\n",
       "        text-align: right;\n",
       "    }\n",
       "</style>\n",
       "<table border=\"1\" class=\"dataframe\">\n",
       "  <thead>\n",
       "    <tr style=\"text-align: right;\">\n",
       "      <th></th>\n",
       "      <th>Geo Point</th>\n",
       "      <th>Geo Shape</th>\n",
       "      <th>COMMUNE</th>\n",
       "      <th>total_stand</th>\n",
       "      <th>NOM</th>\n",
       "      <th>TYPEA</th>\n",
       "      <th>ADRESSE</th>\n",
       "      <th>TARIF</th>\n",
       "      <th>station_id</th>\n",
       "      <th>lat</th>\n",
       "      <th>lon</th>\n",
       "    </tr>\n",
       "  </thead>\n",
       "  <tbody>\n",
       "    <tr>\n",
       "      <th>0</th>\n",
       "      <td>44.8351755,-0.5720497</td>\n",
       "      <td>{\"type\": \"Point\", \"coordinates\": [-0.5720497, ...</td>\n",
       "      <td>BORDEAUX</td>\n",
       "      <td>17</td>\n",
       "      <td>Grosse Cloche (fermée depuis le 26/09/2016. Ré...</td>\n",
       "      <td>VCUB</td>\n",
       "      <td>12 place de la Ferme de Richemont</td>\n",
       "      <td>VLS</td>\n",
       "      <td>104</td>\n",
       "      <td>44.835175</td>\n",
       "      <td>-0.572050</td>\n",
       "    </tr>\n",
       "    <tr>\n",
       "      <th>1</th>\n",
       "      <td>44.8723721,-0.5906954</td>\n",
       "      <td>{\"type\": \"Point\", \"coordinates\": [-0.5906954, ...</td>\n",
       "      <td>BRUGES</td>\n",
       "      <td>20</td>\n",
       "      <td>Bruges La Vache</td>\n",
       "      <td>VCUB</td>\n",
       "      <td>Rue Léopold Laplante</td>\n",
       "      <td>VLS PLUS</td>\n",
       "      <td>169</td>\n",
       "      <td>44.872372</td>\n",
       "      <td>-0.590695</td>\n",
       "    </tr>\n",
       "    <tr>\n",
       "      <th>2</th>\n",
       "      <td>44.8500962,-0.5855819</td>\n",
       "      <td>{\"type\": \"Point\", \"coordinates\": [-0.5855819, ...</td>\n",
       "      <td>BORDEAUX</td>\n",
       "      <td>16</td>\n",
       "      <td>Place Marie Brizard (supprimée le 11 mars 2016...</td>\n",
       "      <td>VCUB</td>\n",
       "      <td>209 rue Fondaudège</td>\n",
       "      <td>VLS</td>\n",
       "      <td>35</td>\n",
       "      <td>44.850096</td>\n",
       "      <td>-0.585582</td>\n",
       "    </tr>\n",
       "    <tr>\n",
       "      <th>3</th>\n",
       "      <td>44.8492876,-0.4966899</td>\n",
       "      <td>{\"type\": \"Point\", \"coordinates\": [-0.4966899, ...</td>\n",
       "      <td>ARTIGUES-PRES-BORDEAUX</td>\n",
       "      <td>19</td>\n",
       "      <td>Artigues Feydeau</td>\n",
       "      <td>VCUB</td>\n",
       "      <td>22 Boulevard Feydeau</td>\n",
       "      <td>VLS PLUS</td>\n",
       "      <td>150</td>\n",
       "      <td>44.849288</td>\n",
       "      <td>-0.496690</td>\n",
       "    </tr>\n",
       "    <tr>\n",
       "      <th>4</th>\n",
       "      <td>44.7821503,-0.5661566</td>\n",
       "      <td>{\"type\": \"Point\", \"coordinates\": [-0.5661566, ...</td>\n",
       "      <td>VILLENAVE-D'ORNON</td>\n",
       "      <td>21</td>\n",
       "      <td>Pont de la Maye (retirée le 19 novembre 2015 e...</td>\n",
       "      <td>VCUB</td>\n",
       "      <td>face au 564 route de Toulouse</td>\n",
       "      <td>VLS PLUS</td>\n",
       "      <td>76</td>\n",
       "      <td>44.782150</td>\n",
       "      <td>-0.566157</td>\n",
       "    </tr>\n",
       "  </tbody>\n",
       "</table>\n",
       "</div>"
      ],
      "text/plain": [
       "               Geo Point                                          Geo Shape  \\\n",
       "0  44.8351755,-0.5720497  {\"type\": \"Point\", \"coordinates\": [-0.5720497, ...   \n",
       "1  44.8723721,-0.5906954  {\"type\": \"Point\", \"coordinates\": [-0.5906954, ...   \n",
       "2  44.8500962,-0.5855819  {\"type\": \"Point\", \"coordinates\": [-0.5855819, ...   \n",
       "3  44.8492876,-0.4966899  {\"type\": \"Point\", \"coordinates\": [-0.4966899, ...   \n",
       "4  44.7821503,-0.5661566  {\"type\": \"Point\", \"coordinates\": [-0.5661566, ...   \n",
       "\n",
       "                  COMMUNE  total_stand  \\\n",
       "0                BORDEAUX           17   \n",
       "1                  BRUGES           20   \n",
       "2                BORDEAUX           16   \n",
       "3  ARTIGUES-PRES-BORDEAUX           19   \n",
       "4       VILLENAVE-D'ORNON           21   \n",
       "\n",
       "                                                 NOM TYPEA  \\\n",
       "0  Grosse Cloche (fermée depuis le 26/09/2016. Ré...  VCUB   \n",
       "1                                    Bruges La Vache  VCUB   \n",
       "2  Place Marie Brizard (supprimée le 11 mars 2016...  VCUB   \n",
       "3                                   Artigues Feydeau  VCUB   \n",
       "4  Pont de la Maye (retirée le 19 novembre 2015 e...  VCUB   \n",
       "\n",
       "                             ADRESSE     TARIF  station_id        lat  \\\n",
       "0  12 place de la Ferme de Richemont       VLS         104  44.835175   \n",
       "1               Rue Léopold Laplante  VLS PLUS         169  44.872372   \n",
       "2                 209 rue Fondaudège       VLS          35  44.850096   \n",
       "3               22 Boulevard Feydeau  VLS PLUS         150  44.849288   \n",
       "4      face au 564 route de Toulouse  VLS PLUS          76  44.782150   \n",
       "\n",
       "        lon  \n",
       "0 -0.572050  \n",
       "1 -0.590695  \n",
       "2 -0.585582  \n",
       "3 -0.496690  \n",
       "4 -0.566157  "
      ]
     },
     "execution_count": 38,
     "metadata": {},
     "output_type": "execute_result"
    }
   ],
   "source": [
    "stations.head()"
   ]
  },
  {
   "cell_type": "code",
   "execution_count": 40,
   "metadata": {
    "ExecuteTime": {
     "end_time": "2021-04-15T14:41:44.338425Z",
     "start_time": "2021-04-15T14:41:44.322964Z"
    }
   },
   "outputs": [
    {
     "data": {
      "text/plain": [
       "Index(['Geo Point', 'Geo Shape', 'COMMUNE', 'total_stand', 'NOM', 'TYPEA',\n",
       "       'ADRESSE', 'TARIF', 'station_id', 'lat', 'lon'],\n",
       "      dtype='object')"
      ]
     },
     "execution_count": 40,
     "metadata": {},
     "output_type": "execute_result"
    }
   ],
   "source": [
    "stations.columns"
   ]
  },
  {
   "cell_type": "code",
   "execution_count": 6,
   "metadata": {
    "ExecuteTime": {
     "end_time": "2020-08-27T15:05:50.481182Z",
     "start_time": "2020-08-27T15:05:50.200122Z"
    }
   },
   "outputs": [
    {
     "data": {
      "text/plain": [
       "<AxesSubplot:xlabel='lat', ylabel='lon'>"
      ]
     },
     "execution_count": 6,
     "metadata": {},
     "output_type": "execute_result"
    },
    {
     "data": {
      "image/png": "[encoded data removed]",
      "text/plain": [
       "<Figure size 432x288 with 1 Axes>"
      ]
     },
     "metadata": {
      "needs_background": "light"
     },
     "output_type": "display_data"
    }
   ],
   "source": [
    "stations.plot(kind='scatter', x='lat', y='lon')"
   ]
  },
  {
   "cell_type": "markdown",
   "metadata": {},
   "source": [
    "#### Fonction de lecture OLD"
   ]
  },
  {
   "cell_type": "code",
   "execution_count": 12,
   "metadata": {
    "ExecuteTime": {
     "end_time": "2020-11-08T10:20:00.445446Z",
     "start_time": "2020-11-08T10:20:00.426604Z"
    }
   },
   "outputs": [],
   "source": [
    "def read_stations_attributes(path_directory, file_name=\"tb_stvel_p.csv\"):\n",
    "    \"\"\"\n",
    "    Lecture du fichier sur les attributs des Vcub à Bordeaux.\n",
    "    Ce fichier est situé dans ROOT_DATA_REF\n",
    "    Modification par rapport au fichier original : \n",
    "        - Changement de nom des colonnnes :\n",
    "            - NBSUPPOR -> total_stand\n",
    "            - NUMSTAT -> station_id\n",
    "        - Création des features lon & lat features from 'Geo Point'\n",
    "    \n",
    "    Parameters\n",
    "    ----------\n",
    "    path_directory : str\n",
    "        chemin d'accès (ROOT_DATA_REF)\n",
    "    file_name : str\n",
    "        Nom du fichier\n",
    "    \n",
    "    Returns\n",
    "    -------\n",
    "    activite : DataFrame\n",
    "        \n",
    "    Examples\n",
    "    --------\n",
    "    \n",
    "    stations = read_stations_attributes(path_directory=ROOT_DATA_REF)\n",
    "    \"\"\"\n",
    "    \n",
    "    column_dtypes = {'NUMSTAT': 'uint8'}\n",
    "    usecols = ['Geo Point', 'Geo Shape', 'COMMUNE', 'NBSUPPOR',\n",
    "              'NOM', 'TYPEA', 'ADRESSE', 'TARIF', 'NUMSTAT']\n",
    "    \n",
    "    stations = pd.read_csv(path_directory+file_name, sep=';',\n",
    "                           dtype=column_dtypes, usecols=usecols)\n",
    "\n",
    "    # Naming\n",
    "    stations.rename(columns={'NBSUPPOR': 'total_stand'}, inplace=True)\n",
    "    stations.rename(columns={'NUMSTAT': 'station_id'}, inplace=True)\n",
    "\n",
    "    # Create lon / lat\n",
    "    stations['lat'] = stations['Geo Point'].apply(lambda x : x.split(',')[0])\n",
    "    stations['lat'] = stations['lat'].astype(float)\n",
    "    stations['lon'] = stations['Geo Point'].apply(lambda x : x.split(',')[1])\n",
    "    stations['lon'] = stations['lon'].astype(float)\n",
    "    \n",
    "    return stations"
   ]
  },
  {
   "cell_type": "code",
   "execution_count": 8,
   "metadata": {
    "ExecuteTime": {
     "end_time": "2020-08-27T15:05:52.931933Z",
     "start_time": "2020-08-27T15:05:52.912635Z"
    }
   },
   "outputs": [],
   "source": [
    "stations = read_stations_attributes()"
   ]
  },
  {
   "cell_type": "code",
   "execution_count": 9,
   "metadata": {
    "ExecuteTime": {
     "end_time": "2020-08-27T15:05:53.228504Z",
     "start_time": "2020-08-27T15:05:53.207466Z"
    }
   },
   "outputs": [
    {
     "data": {
      "text/html": [
       "<div>\n",
       "<style scoped>\n",
       "    .dataframe tbody tr th:only-of-type {\n",
       "        vertical-align: middle;\n",
       "    }\n",
       "\n",
       "    .dataframe tbody tr th {\n",
       "        vertical-align: top;\n",
       "    }\n",
       "\n",
       "    .dataframe thead th {\n",
       "        text-align: right;\n",
       "    }\n",
       "</style>\n",
       "<table border=\"1\" class=\"dataframe\">\n",
       "  <thead>\n",
       "    <tr style=\"text-align: right;\">\n",
       "      <th></th>\n",
       "      <th>Geo Point</th>\n",
       "      <th>Geo Shape</th>\n",
       "      <th>COMMUNE</th>\n",
       "      <th>total_stand</th>\n",
       "      <th>NOM</th>\n",
       "      <th>TYPEA</th>\n",
       "      <th>ADRESSE</th>\n",
       "      <th>TARIF</th>\n",
       "      <th>station_id</th>\n",
       "      <th>lat</th>\n",
       "      <th>lon</th>\n",
       "    </tr>\n",
       "  </thead>\n",
       "  <tbody>\n",
       "    <tr>\n",
       "      <th>169</th>\n",
       "      <td>44.8059145,-0.6023231</td>\n",
       "      <td>{\"type\": \"Point\", \"coordinates\": [-0.6023231, ...</td>\n",
       "      <td>TALENCE</td>\n",
       "      <td>40</td>\n",
       "      <td>Arts et Métiers</td>\n",
       "      <td>VCUB</td>\n",
       "      <td>av des Facultés, derrière la station Tram.</td>\n",
       "      <td>VLS</td>\n",
       "      <td>112</td>\n",
       "      <td>44.805915</td>\n",
       "      <td>-0.602323</td>\n",
       "    </tr>\n",
       "    <tr>\n",
       "      <th>170</th>\n",
       "      <td>44.8669415,-0.5760778</td>\n",
       "      <td>{\"type\": \"Point\", \"coordinates\": [-0.5760778, ...</td>\n",
       "      <td>LE BOUSCAT</td>\n",
       "      <td>20</td>\n",
       "      <td>Le Bouscat Ravezies</td>\n",
       "      <td>VCUB</td>\n",
       "      <td>allée de Boutaut, au niveau du P+R</td>\n",
       "      <td>VLS</td>\n",
       "      <td>118</td>\n",
       "      <td>44.866942</td>\n",
       "      <td>-0.576078</td>\n",
       "    </tr>\n",
       "    <tr>\n",
       "      <th>171</th>\n",
       "      <td>44.826297,-0.5570718</td>\n",
       "      <td>{\"type\": \"Point\", \"coordinates\": [-0.5570718, ...</td>\n",
       "      <td>BORDEAUX</td>\n",
       "      <td>22</td>\n",
       "      <td>Gare St Jean</td>\n",
       "      <td>VCUB</td>\n",
       "      <td>rue St Vincent de Paul (terminus bus)</td>\n",
       "      <td>VLS</td>\n",
       "      <td>127</td>\n",
       "      <td>44.826297</td>\n",
       "      <td>-0.557072</td>\n",
       "    </tr>\n",
       "    <tr>\n",
       "      <th>172</th>\n",
       "      <td>44.8282573,-0.5623689</td>\n",
       "      <td>{\"type\": \"Point\", \"coordinates\": [-0.5623689, ...</td>\n",
       "      <td>BORDEAUX</td>\n",
       "      <td>25</td>\n",
       "      <td>Place André Meunier (fermée le 16/11/2016. Réo...</td>\n",
       "      <td>VCUB</td>\n",
       "      <td>Cours Barbey, à l'angle avec le cours de la Marne</td>\n",
       "      <td>VLS</td>\n",
       "      <td>137</td>\n",
       "      <td>44.828257</td>\n",
       "      <td>-0.562369</td>\n",
       "    </tr>\n",
       "    <tr>\n",
       "      <th>173</th>\n",
       "      <td>44.7968805,-0.6018689</td>\n",
       "      <td>{\"type\": \"Point\", \"coordinates\": [-0.6018689, ...</td>\n",
       "      <td>TALENCE</td>\n",
       "      <td>20</td>\n",
       "      <td>Ecole de Management</td>\n",
       "      <td>VCUB</td>\n",
       "      <td>cours de la Libération, devant BEM</td>\n",
       "      <td>VLS</td>\n",
       "      <td>113</td>\n",
       "      <td>44.796881</td>\n",
       "      <td>-0.601869</td>\n",
       "    </tr>\n",
       "  </tbody>\n",
       "</table>\n",
       "</div>"
      ],
      "text/plain": [
       "                 Geo Point                                          Geo Shape  \\\n",
       "169  44.8059145,-0.6023231  {\"type\": \"Point\", \"coordinates\": [-0.6023231, ...   \n",
       "170  44.8669415,-0.5760778  {\"type\": \"Point\", \"coordinates\": [-0.5760778, ...   \n",
       "171   44.826297,-0.5570718  {\"type\": \"Point\", \"coordinates\": [-0.5570718, ...   \n",
       "172  44.8282573,-0.5623689  {\"type\": \"Point\", \"coordinates\": [-0.5623689, ...   \n",
       "173  44.7968805,-0.6018689  {\"type\": \"Point\", \"coordinates\": [-0.6018689, ...   \n",
       "\n",
       "        COMMUNE  total_stand  \\\n",
       "169     TALENCE           40   \n",
       "170  LE BOUSCAT           20   \n",
       "171    BORDEAUX           22   \n",
       "172    BORDEAUX           25   \n",
       "173     TALENCE           20   \n",
       "\n",
       "                                                   NOM TYPEA  \\\n",
       "169                                    Arts et Métiers  VCUB   \n",
       "170                                Le Bouscat Ravezies  VCUB   \n",
       "171                                       Gare St Jean  VCUB   \n",
       "172  Place André Meunier (fermée le 16/11/2016. Réo...  VCUB   \n",
       "173                                Ecole de Management  VCUB   \n",
       "\n",
       "                                               ADRESSE TARIF  station_id  \\\n",
       "169         av des Facultés, derrière la station Tram.   VLS         112   \n",
       "170                 allée de Boutaut, au niveau du P+R   VLS         118   \n",
       "171              rue St Vincent de Paul (terminus bus)   VLS         127   \n",
       "172  Cours Barbey, à l'angle avec le cours de la Marne   VLS         137   \n",
       "173                 cours de la Libération, devant BEM   VLS         113   \n",
       "\n",
       "           lat       lon  \n",
       "169  44.805915 -0.602323  \n",
       "170  44.866942 -0.576078  \n",
       "171  44.826297 -0.557072  \n",
       "172  44.828257 -0.562369  \n",
       "173  44.796881 -0.601869  "
      ]
     },
     "execution_count": 9,
     "metadata": {},
     "output_type": "execute_result"
    }
   ],
   "source": [
    "stations.tail()"
   ]
  },
  {
   "cell_type": "markdown",
   "metadata": {},
   "source": [
    "## Industrialisation OLD"
   ]
  },
  {
   "cell_type": "code",
   "execution_count": 8,
   "metadata": {
    "ExecuteTime": {
     "end_time": "2020-11-08T10:16:49.522416Z",
     "start_time": "2020-11-08T10:16:49.507813Z"
    }
   },
   "outputs": [],
   "source": [
    "from vcub_keeper.reader.reader import read_stations_attributes\n",
    "from vcub_keeper.config import ROOT_DATA_REF"
   ]
  },
  {
   "cell_type": "code",
   "execution_count": 9,
   "metadata": {
    "ExecuteTime": {
     "end_time": "2020-11-08T10:16:51.854248Z",
     "start_time": "2020-11-08T10:16:51.836562Z"
    }
   },
   "outputs": [],
   "source": [
    "stations = read_stations_attributes(path_directory=ROOT_DATA_REF)"
   ]
  },
  {
   "cell_type": "code",
   "execution_count": 10,
   "metadata": {
    "ExecuteTime": {
     "end_time": "2020-11-08T10:16:53.016630Z",
     "start_time": "2020-11-08T10:16:52.994477Z"
    },
    "scrolled": true
   },
   "outputs": [
    {
     "data": {
      "text/html": [
       "<div>\n",
       "<style scoped>\n",
       "    .dataframe tbody tr th:only-of-type {\n",
       "        vertical-align: middle;\n",
       "    }\n",
       "\n",
       "    .dataframe tbody tr th {\n",
       "        vertical-align: top;\n",
       "    }\n",
       "\n",
       "    .dataframe thead th {\n",
       "        text-align: right;\n",
       "    }\n",
       "</style>\n",
       "<table border=\"1\" class=\"dataframe\">\n",
       "  <thead>\n",
       "    <tr style=\"text-align: right;\">\n",
       "      <th></th>\n",
       "      <th>Geo Point</th>\n",
       "      <th>Geo Shape</th>\n",
       "      <th>COMMUNE</th>\n",
       "      <th>total_stand</th>\n",
       "      <th>NOM</th>\n",
       "      <th>TYPEA</th>\n",
       "      <th>ADRESSE</th>\n",
       "      <th>TARIF</th>\n",
       "      <th>station_id</th>\n",
       "      <th>lat</th>\n",
       "      <th>lon</th>\n",
       "    </tr>\n",
       "  </thead>\n",
       "  <tbody>\n",
       "    <tr>\n",
       "      <th>0</th>\n",
       "      <td>44.8351755,-0.5720497</td>\n",
       "      <td>{\"type\": \"Point\", \"coordinates\": [-0.5720497, ...</td>\n",
       "      <td>BORDEAUX</td>\n",
       "      <td>17</td>\n",
       "      <td>Grosse Cloche (fermée depuis le 26/09/2016. Ré...</td>\n",
       "      <td>VCUB</td>\n",
       "      <td>12 place de la Ferme de Richemont</td>\n",
       "      <td>VLS</td>\n",
       "      <td>104</td>\n",
       "      <td>44.835175</td>\n",
       "      <td>-0.572050</td>\n",
       "    </tr>\n",
       "    <tr>\n",
       "      <th>1</th>\n",
       "      <td>44.8723721,-0.5906954</td>\n",
       "      <td>{\"type\": \"Point\", \"coordinates\": [-0.5906954, ...</td>\n",
       "      <td>BRUGES</td>\n",
       "      <td>20</td>\n",
       "      <td>Bruges La Vache</td>\n",
       "      <td>VCUB</td>\n",
       "      <td>Rue Léopold Laplante</td>\n",
       "      <td>VLS PLUS</td>\n",
       "      <td>169</td>\n",
       "      <td>44.872372</td>\n",
       "      <td>-0.590695</td>\n",
       "    </tr>\n",
       "    <tr>\n",
       "      <th>2</th>\n",
       "      <td>44.8500962,-0.5855819</td>\n",
       "      <td>{\"type\": \"Point\", \"coordinates\": [-0.5855819, ...</td>\n",
       "      <td>BORDEAUX</td>\n",
       "      <td>16</td>\n",
       "      <td>Place Marie Brizard (supprimée le 11 mars 2016...</td>\n",
       "      <td>VCUB</td>\n",
       "      <td>209 rue Fondaudège</td>\n",
       "      <td>VLS</td>\n",
       "      <td>35</td>\n",
       "      <td>44.850096</td>\n",
       "      <td>-0.585582</td>\n",
       "    </tr>\n",
       "    <tr>\n",
       "      <th>3</th>\n",
       "      <td>44.8492876,-0.4966899</td>\n",
       "      <td>{\"type\": \"Point\", \"coordinates\": [-0.4966899, ...</td>\n",
       "      <td>ARTIGUES-PRES-BORDEAUX</td>\n",
       "      <td>19</td>\n",
       "      <td>Artigues Feydeau</td>\n",
       "      <td>VCUB</td>\n",
       "      <td>22 Boulevard Feydeau</td>\n",
       "      <td>VLS PLUS</td>\n",
       "      <td>150</td>\n",
       "      <td>44.849288</td>\n",
       "      <td>-0.496690</td>\n",
       "    </tr>\n",
       "    <tr>\n",
       "      <th>4</th>\n",
       "      <td>44.7821503,-0.5661566</td>\n",
       "      <td>{\"type\": \"Point\", \"coordinates\": [-0.5661566, ...</td>\n",
       "      <td>VILLENAVE-D'ORNON</td>\n",
       "      <td>21</td>\n",
       "      <td>Pont de la Maye (retirée le 19 novembre 2015 e...</td>\n",
       "      <td>VCUB</td>\n",
       "      <td>face au 564 route de Toulouse</td>\n",
       "      <td>VLS PLUS</td>\n",
       "      <td>76</td>\n",
       "      <td>44.782150</td>\n",
       "      <td>-0.566157</td>\n",
       "    </tr>\n",
       "  </tbody>\n",
       "</table>\n",
       "</div>"
      ],
      "text/plain": [
       "               Geo Point                                          Geo Shape  \\\n",
       "0  44.8351755,-0.5720497  {\"type\": \"Point\", \"coordinates\": [-0.5720497, ...   \n",
       "1  44.8723721,-0.5906954  {\"type\": \"Point\", \"coordinates\": [-0.5906954, ...   \n",
       "2  44.8500962,-0.5855819  {\"type\": \"Point\", \"coordinates\": [-0.5855819, ...   \n",
       "3  44.8492876,-0.4966899  {\"type\": \"Point\", \"coordinates\": [-0.4966899, ...   \n",
       "4  44.7821503,-0.5661566  {\"type\": \"Point\", \"coordinates\": [-0.5661566, ...   \n",
       "\n",
       "                  COMMUNE  total_stand  \\\n",
       "0                BORDEAUX           17   \n",
       "1                  BRUGES           20   \n",
       "2                BORDEAUX           16   \n",
       "3  ARTIGUES-PRES-BORDEAUX           19   \n",
       "4       VILLENAVE-D'ORNON           21   \n",
       "\n",
       "                                                 NOM TYPEA  \\\n",
       "0  Grosse Cloche (fermée depuis le 26/09/2016. Ré...  VCUB   \n",
       "1                                    Bruges La Vache  VCUB   \n",
       "2  Place Marie Brizard (supprimée le 11 mars 2016...  VCUB   \n",
       "3                                   Artigues Feydeau  VCUB   \n",
       "4  Pont de la Maye (retirée le 19 novembre 2015 e...  VCUB   \n",
       "\n",
       "                             ADRESSE     TARIF  station_id        lat  \\\n",
       "0  12 place de la Ferme de Richemont       VLS         104  44.835175   \n",
       "1               Rue Léopold Laplante  VLS PLUS         169  44.872372   \n",
       "2                 209 rue Fondaudège       VLS          35  44.850096   \n",
       "3               22 Boulevard Feydeau  VLS PLUS         150  44.849288   \n",
       "4      face au 564 route de Toulouse  VLS PLUS          76  44.782150   \n",
       "\n",
       "        lon  \n",
       "0 -0.572050  \n",
       "1 -0.590695  \n",
       "2 -0.585582  \n",
       "3 -0.496690  \n",
       "4 -0.566157  "
      ]
     },
     "execution_count": 10,
     "metadata": {},
     "output_type": "execute_result"
    }
   ],
   "source": [
    "stations.head()"
   ]
  },
  {
   "cell_type": "code",
   "execution_count": 11,
   "metadata": {
    "ExecuteTime": {
     "end_time": "2020-11-08T10:16:53.926902Z",
     "start_time": "2020-11-08T10:16:53.911882Z"
    }
   },
   "outputs": [
    {
     "data": {
      "text/plain": [
       "(174, 11)"
      ]
     },
     "execution_count": 11,
     "metadata": {},
     "output_type": "execute_result"
    }
   ],
   "source": [
    "stations.shape"
   ]
  }
 ],
 "metadata": {
  "kernelspec": {
   "display_name": "Python [conda env:vcub_keeper] *",
   "language": "python",
   "name": "conda-env-vcub_keeper-py"
  },
  "language_info": {
   "codemirror_mode": {
    "name": "ipython",
    "version": 3
   },
   "file_extension": ".py",
   "mimetype": "text/x-python",
   "name": "python",
   "nbconvert_exporter": "python",
   "pygments_lexer": "ipython3",
   "version": "3.8.5"
  },
  "toc": {
   "base_numbering": 1,
   "nav_menu": {},
   "number_sections": true,
   "sideBar": true,
   "skip_h1_title": false,
   "title_cell": "Table of Contents",
   "title_sidebar": "Contents",
   "toc_cell": true,
   "toc_position": {},
   "toc_section_display": true,
   "toc_window_display": true
  }
 },
 "nbformat": 4,
 "nbformat_minor": 4
}
