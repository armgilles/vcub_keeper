{
 "cells": [
  {
   "cell_type": "markdown",
   "metadata": {
    "toc": true
   },
   "source": [
    "<h1>Table of Contents<span class=\"tocSkip\"></span></h1>\n",
    "<div class=\"toc\"><ul class=\"toc-item\"><li><span><a href=\"#Objectifs\" data-toc-modified-id=\"Objectifs-1\"><span class=\"toc-item-num\">1&nbsp;&nbsp;</span>Objectifs</a></span></li><li><span><a href=\"#Dev\" data-toc-modified-id=\"Dev-2\"><span class=\"toc-item-num\">2&nbsp;&nbsp;</span>Dev</a></span><ul class=\"toc-item\"><li><ul class=\"toc-item\"><li><span><a href=\"#Fonction-de-lecture\" data-toc-modified-id=\"Fonction-de-lecture-2.0.1\"><span class=\"toc-item-num\">2.0.1&nbsp;&nbsp;</span>Fonction de lecture</a></span></li><li><span><a href=\"#Industrialisation\" data-toc-modified-id=\"Industrialisation-2.0.2\"><span class=\"toc-item-num\">2.0.2&nbsp;&nbsp;</span>Industrialisation</a></span></li></ul></li></ul></li></ul></div>"
   ]
  },
  {
   "cell_type": "code",
   "execution_count": 1,
   "metadata": {
    "ExecuteTime": {
     "end_time": "2020-08-27T15:05:43.451429Z",
     "start_time": "2020-08-27T15:05:43.235524Z"
    }
   },
   "outputs": [],
   "source": [
    "import pandas as pd\n",
    "import numpy as np\n",
    "\n",
    "from vcub_keeper.config import ROOT_DATA_REF\n",
    "\n",
    "%load_ext autoreload\n",
    "%autoreload 2"
   ]
  },
  {
   "cell_type": "markdown",
   "metadata": {},
   "source": [
    "## Objectifs "
   ]
  },
  {
   "cell_type": "markdown",
   "metadata": {
    "ExecuteTime": {
     "end_time": "2020-08-27T13:23:19.602174Z",
     "start_time": "2020-08-27T13:23:19.587107Z"
    }
   },
   "source": [
    "- Lecture du fichiers sur les références des stations Vcub à Bordeaux\n",
    "- Industraliser"
   ]
  },
  {
   "cell_type": "markdown",
   "metadata": {},
   "source": [
    "## Dev"
   ]
  },
  {
   "cell_type": "code",
   "execution_count": 2,
   "metadata": {
    "ExecuteTime": {
     "end_time": "2020-08-27T15:05:44.866884Z",
     "start_time": "2020-08-27T15:05:44.847621Z"
    }
   },
   "outputs": [],
   "source": [
    "file_name = \"tb_stvel_p.csv\"\n",
    "column_dtypes = {'NUMSTAT': 'uint8'}\n",
    "\n",
    "usecols = ['Geo Point', 'Geo Shape', 'COMMUNE', 'NBSUPPOR',\n",
    "          'NOM', 'TYPEA', 'ADRESSE', 'TARIF', 'NUMSTAT']\n",
    "stations = pd.read_csv(ROOT_DATA_REF+file_name, sep=';',\n",
    "                           dtype=column_dtypes, usecols=usecols)\n",
    "\n",
    "# Naming\n",
    "stations.rename(columns={'NBSUPPOR': 'total_stand'}, inplace=True)\n",
    "stations.rename(columns={'NUMSTAT': 'station_id'}, inplace=True)\n",
    "\n",
    "# Create lon / lat\n",
    "stations['lat'] = stations['Geo Point'].apply(lambda x : x.split(',')[0])\n",
    "stations['lat'] = stations['lat'].astype(float)\n",
    "stations['lon'] = stations['Geo Point'].apply(lambda x : x.split(',')[1])\n",
    "stations['lon'] = stations['lon'].astype(float)"
   ]
  },
  {
   "cell_type": "code",
   "execution_count": 3,
   "metadata": {
    "ExecuteTime": {
     "end_time": "2020-08-27T15:05:45.884703Z",
     "start_time": "2020-08-27T15:05:45.869005Z"
    }
   },
   "outputs": [
    {
     "data": {
      "text/plain": [
       "(174, 11)"
      ]
     },
     "execution_count": 3,
     "metadata": {},
     "output_type": "execute_result"
    }
   ],
   "source": [
    "stations.shape"
   ]
  },
  {
   "cell_type": "code",
   "execution_count": 4,
   "metadata": {
    "ExecuteTime": {
     "end_time": "2020-08-27T15:05:46.181357Z",
     "start_time": "2020-08-27T15:05:46.161601Z"
    }
   },
   "outputs": [
    {
     "data": {
      "text/html": [
       "<div>\n",
       "<style scoped>\n",
       "    .dataframe tbody tr th:only-of-type {\n",
       "        vertical-align: middle;\n",
       "    }\n",
       "\n",
       "    .dataframe tbody tr th {\n",
       "        vertical-align: top;\n",
       "    }\n",
       "\n",
       "    .dataframe thead th {\n",
       "        text-align: right;\n",
       "    }\n",
       "</style>\n",
       "<table border=\"1\" class=\"dataframe\">\n",
       "  <thead>\n",
       "    <tr style=\"text-align: right;\">\n",
       "      <th></th>\n",
       "      <th>Geo Point</th>\n",
       "      <th>Geo Shape</th>\n",
       "      <th>COMMUNE</th>\n",
       "      <th>total_stand</th>\n",
       "      <th>NOM</th>\n",
       "      <th>TYPEA</th>\n",
       "      <th>ADRESSE</th>\n",
       "      <th>TARIF</th>\n",
       "      <th>station_id</th>\n",
       "      <th>lat</th>\n",
       "      <th>lon</th>\n",
       "    </tr>\n",
       "  </thead>\n",
       "  <tbody>\n",
       "    <tr>\n",
       "      <th>0</th>\n",
       "      <td>44.8351755,-0.5720497</td>\n",
       "      <td>{\"type\": \"Point\", \"coordinates\": [-0.5720497, ...</td>\n",
       "      <td>BORDEAUX</td>\n",
       "      <td>17</td>\n",
       "      <td>Grosse Cloche (fermée depuis le 26/09/2016. Ré...</td>\n",
       "      <td>VCUB</td>\n",
       "      <td>12 place de la Ferme de Richemont</td>\n",
       "      <td>VLS</td>\n",
       "      <td>104</td>\n",
       "      <td>44.835175</td>\n",
       "      <td>-0.572050</td>\n",
       "    </tr>\n",
       "    <tr>\n",
       "      <th>1</th>\n",
       "      <td>44.8723721,-0.5906954</td>\n",
       "      <td>{\"type\": \"Point\", \"coordinates\": [-0.5906954, ...</td>\n",
       "      <td>BRUGES</td>\n",
       "      <td>20</td>\n",
       "      <td>Bruges La Vache</td>\n",
       "      <td>VCUB</td>\n",
       "      <td>Rue Léopold Laplante</td>\n",
       "      <td>VLS PLUS</td>\n",
       "      <td>169</td>\n",
       "      <td>44.872372</td>\n",
       "      <td>-0.590695</td>\n",
       "    </tr>\n",
       "    <tr>\n",
       "      <th>2</th>\n",
       "      <td>44.8500962,-0.5855819</td>\n",
       "      <td>{\"type\": \"Point\", \"coordinates\": [-0.5855819, ...</td>\n",
       "      <td>BORDEAUX</td>\n",
       "      <td>16</td>\n",
       "      <td>Place Marie Brizard (supprimée le 11 mars 2016...</td>\n",
       "      <td>VCUB</td>\n",
       "      <td>209 rue Fondaudège</td>\n",
       "      <td>VLS</td>\n",
       "      <td>35</td>\n",
       "      <td>44.850096</td>\n",
       "      <td>-0.585582</td>\n",
       "    </tr>\n",
       "    <tr>\n",
       "      <th>3</th>\n",
       "      <td>44.8492876,-0.4966899</td>\n",
       "      <td>{\"type\": \"Point\", \"coordinates\": [-0.4966899, ...</td>\n",
       "      <td>ARTIGUES-PRES-BORDEAUX</td>\n",
       "      <td>19</td>\n",
       "      <td>Artigues Feydeau</td>\n",
       "      <td>VCUB</td>\n",
       "      <td>22 Boulevard Feydeau</td>\n",
       "      <td>VLS PLUS</td>\n",
       "      <td>150</td>\n",
       "      <td>44.849288</td>\n",
       "      <td>-0.496690</td>\n",
       "    </tr>\n",
       "    <tr>\n",
       "      <th>4</th>\n",
       "      <td>44.7821503,-0.5661566</td>\n",
       "      <td>{\"type\": \"Point\", \"coordinates\": [-0.5661566, ...</td>\n",
       "      <td>VILLENAVE-D'ORNON</td>\n",
       "      <td>21</td>\n",
       "      <td>Pont de la Maye (retirée le 19 novembre 2015 e...</td>\n",
       "      <td>VCUB</td>\n",
       "      <td>face au 564 route de Toulouse</td>\n",
       "      <td>VLS PLUS</td>\n",
       "      <td>76</td>\n",
       "      <td>44.782150</td>\n",
       "      <td>-0.566157</td>\n",
       "    </tr>\n",
       "  </tbody>\n",
       "</table>\n",
       "</div>"
      ],
      "text/plain": [
       "               Geo Point                                          Geo Shape  \\\n",
       "0  44.8351755,-0.5720497  {\"type\": \"Point\", \"coordinates\": [-0.5720497, ...   \n",
       "1  44.8723721,-0.5906954  {\"type\": \"Point\", \"coordinates\": [-0.5906954, ...   \n",
       "2  44.8500962,-0.5855819  {\"type\": \"Point\", \"coordinates\": [-0.5855819, ...   \n",
       "3  44.8492876,-0.4966899  {\"type\": \"Point\", \"coordinates\": [-0.4966899, ...   \n",
       "4  44.7821503,-0.5661566  {\"type\": \"Point\", \"coordinates\": [-0.5661566, ...   \n",
       "\n",
       "                  COMMUNE  total_stand  \\\n",
       "0                BORDEAUX           17   \n",
       "1                  BRUGES           20   \n",
       "2                BORDEAUX           16   \n",
       "3  ARTIGUES-PRES-BORDEAUX           19   \n",
       "4       VILLENAVE-D'ORNON           21   \n",
       "\n",
       "                                                 NOM TYPEA  \\\n",
       "0  Grosse Cloche (fermée depuis le 26/09/2016. Ré...  VCUB   \n",
       "1                                    Bruges La Vache  VCUB   \n",
       "2  Place Marie Brizard (supprimée le 11 mars 2016...  VCUB   \n",
       "3                                   Artigues Feydeau  VCUB   \n",
       "4  Pont de la Maye (retirée le 19 novembre 2015 e...  VCUB   \n",
       "\n",
       "                             ADRESSE     TARIF  station_id        lat  \\\n",
       "0  12 place de la Ferme de Richemont       VLS         104  44.835175   \n",
       "1               Rue Léopold Laplante  VLS PLUS         169  44.872372   \n",
       "2                 209 rue Fondaudège       VLS          35  44.850096   \n",
       "3               22 Boulevard Feydeau  VLS PLUS         150  44.849288   \n",
       "4      face au 564 route de Toulouse  VLS PLUS          76  44.782150   \n",
       "\n",
       "        lon  \n",
       "0 -0.572050  \n",
       "1 -0.590695  \n",
       "2 -0.585582  \n",
       "3 -0.496690  \n",
       "4 -0.566157  "
      ]
     },
     "execution_count": 4,
     "metadata": {},
     "output_type": "execute_result"
    }
   ],
   "source": [
    "stations.head()"
   ]
  },
  {
   "cell_type": "code",
   "execution_count": 6,
   "metadata": {
    "ExecuteTime": {
     "end_time": "2020-08-27T15:05:50.481182Z",
     "start_time": "2020-08-27T15:05:50.200122Z"
    }
   },
   "outputs": [
    {
     "data": {
      "text/plain": [
       "<AxesSubplot:xlabel='lat', ylabel='lon'>"
      ]
     },
     "execution_count": 6,
     "metadata": {},
     "output_type": "execute_result"
    },
    {
     "data": {
      "image/png": "[encoded data removed]",
      "text/plain": [
       "<Figure size 432x288 with 1 Axes>"
      ]
     },
     "metadata": {
      "needs_background": "light"
     },
     "output_type": "display_data"
    }
   ],
   "source": [
    "stations.plot(kind='scatter', x='lat', y='lon')"
   ]
  },
  {
   "cell_type": "markdown",
   "metadata": {},
   "source": [
    "#### Fonction de lecture"
   ]
  },
  {
   "cell_type": "code",
   "execution_count": 7,
   "metadata": {
    "ExecuteTime": {
     "end_time": "2020-08-27T15:05:52.284008Z",
     "start_time": "2020-08-27T15:05:52.265886Z"
    }
   },
   "outputs": [],
   "source": [
    "def read_stations_attributes(file_name=\"tb_stvel_p.csv\"):\n",
    "    \"\"\"\n",
    "    Lecture du fichier sur les attributs des Vcub à Bordeaux.\n",
    "    Ce fichier est situé dans ROOT_DATA_REF\n",
    "    Modification par rapport au fichier original : \n",
    "        - Changement de nom des colonnnes :\n",
    "            - NBSUPPOR -> total_stand\n",
    "            - NUMSTAT -> station_id\n",
    "        - Création des features lon & lat features from 'Geo Point'\n",
    "    \n",
    "    Parameters\n",
    "    ----------\n",
    "    file_name : str\n",
    "        Nom du fichier\n",
    "    \n",
    "    Returns\n",
    "    -------\n",
    "    activite : DataFrame\n",
    "        \n",
    "    Examples\n",
    "    --------\n",
    "    \n",
    "    stations = read_stations_attributes()\n",
    "    \"\"\"\n",
    "    \n",
    "    column_dtypes = {'NUMSTAT': 'uint8'}\n",
    "    usecols = ['Geo Point', 'Geo Shape', 'COMMUNE', 'NBSUPPOR',\n",
    "              'NOM', 'TYPEA', 'ADRESSE', 'TARIF', 'NUMSTAT']\n",
    "    \n",
    "    stations = pd.read_csv(ROOT_DATA_REF+file_name, sep=';',\n",
    "                           dtype=column_dtypes, usecols=usecols)\n",
    "\n",
    "    # Naming\n",
    "    stations.rename(columns={'NBSUPPOR': 'total_stand'}, inplace=True)\n",
    "    stations.rename(columns={'NUMSTAT': 'station_id'}, inplace=True)\n",
    "\n",
    "    # Create lon / lat\n",
    "    stations['lat'] = stations['Geo Point'].apply(lambda x : x.split(',')[0])\n",
    "    stations['lat'] = stations['lat'].astype(float)\n",
    "    stations['lon'] = stations['Geo Point'].apply(lambda x : x.split(',')[1])\n",
    "    stations['lon'] = stations['lon'].astype(float)\n",
    "    \n",
    "    return stations"
   ]
  },
  {
   "cell_type": "code",
   "execution_count": 8,
   "metadata": {
    "ExecuteTime": {
     "end_time": "2020-08-27T15:05:52.931933Z",
     "start_time": "2020-08-27T15:05:52.912635Z"
    }
   },
   "outputs": [],
   "source": [
    "stations = read_stations_attributes()"
   ]
  },
  {
   "cell_type": "code",
   "execution_count": 9,
   "metadata": {
    "ExecuteTime": {
     "end_time": "2020-08-27T15:05:53.228504Z",
     "start_time": "2020-08-27T15:05:53.207466Z"
    }
   },
   "outputs": [
    {
     "data": {
      "text/html": [
       "<div>\n",
       "<style scoped>\n",
       "    .dataframe tbody tr th:only-of-type {\n",
       "        vertical-align: middle;\n",
       "    }\n",
       "\n",
       "    .dataframe tbody tr th {\n",
       "        vertical-align: top;\n",
       "    }\n",
       "\n",
       "    .dataframe thead th {\n",
       "        text-align: right;\n",
       "    }\n",
       "</style>\n",
       "<table border=\"1\" class=\"dataframe\">\n",
       "  <thead>\n",
       "    <tr style=\"text-align: right;\">\n",
       "      <th></th>\n",
       "      <th>Geo Point</th>\n",
       "      <th>Geo Shape</th>\n",
       "      <th>COMMUNE</th>\n",
       "      <th>total_stand</th>\n",
       "      <th>NOM</th>\n",
       "      <th>TYPEA</th>\n",
       "      <th>ADRESSE</th>\n",
       "      <th>TARIF</th>\n",
       "      <th>station_id</th>\n",
       "      <th>lat</th>\n",
       "      <th>lon</th>\n",
       "    </tr>\n",
       "  </thead>\n",
       "  <tbody>\n",
       "    <tr>\n",
       "      <th>169</th>\n",
       "      <td>44.8059145,-0.6023231</td>\n",
       "      <td>{\"type\": \"Point\", \"coordinates\": [-0.6023231, ...</td>\n",
       "      <td>TALENCE</td>\n",
       "      <td>40</td>\n",
       "      <td>Arts et Métiers</td>\n",
       "      <td>VCUB</td>\n",
       "      <td>av des Facultés, derrière la station Tram.</td>\n",
       "      <td>VLS</td>\n",
       "      <td>112</td>\n",
       "      <td>44.805915</td>\n",
       "      <td>-0.602323</td>\n",
       "    </tr>\n",
       "    <tr>\n",
       "      <th>170</th>\n",
       "      <td>44.8669415,-0.5760778</td>\n",
       "      <td>{\"type\": \"Point\", \"coordinates\": [-0.5760778, ...</td>\n",
       "      <td>LE BOUSCAT</td>\n",
       "      <td>20</td>\n",
       "      <td>Le Bouscat Ravezies</td>\n",
       "      <td>VCUB</td>\n",
       "      <td>allée de Boutaut, au niveau du P+R</td>\n",
       "      <td>VLS</td>\n",
       "      <td>118</td>\n",
       "      <td>44.866942</td>\n",
       "      <td>-0.576078</td>\n",
       "    </tr>\n",
       "    <tr>\n",
       "      <th>171</th>\n",
       "      <td>44.826297,-0.5570718</td>\n",
       "      <td>{\"type\": \"Point\", \"coordinates\": [-0.5570718, ...</td>\n",
       "      <td>BORDEAUX</td>\n",
       "      <td>22</td>\n",
       "      <td>Gare St Jean</td>\n",
       "      <td>VCUB</td>\n",
       "      <td>rue St Vincent de Paul (terminus bus)</td>\n",
       "      <td>VLS</td>\n",
       "      <td>127</td>\n",
       "      <td>44.826297</td>\n",
       "      <td>-0.557072</td>\n",
       "    </tr>\n",
       "    <tr>\n",
       "      <th>172</th>\n",
       "      <td>44.8282573,-0.5623689</td>\n",
       "      <td>{\"type\": \"Point\", \"coordinates\": [-0.5623689, ...</td>\n",
       "      <td>BORDEAUX</td>\n",
       "      <td>25</td>\n",
       "      <td>Place André Meunier (fermée le 16/11/2016. Réo...</td>\n",
       "      <td>VCUB</td>\n",
       "      <td>Cours Barbey, à l'angle avec le cours de la Marne</td>\n",
       "      <td>VLS</td>\n",
       "      <td>137</td>\n",
       "      <td>44.828257</td>\n",
       "      <td>-0.562369</td>\n",
       "    </tr>\n",
       "    <tr>\n",
       "      <th>173</th>\n",
       "      <td>44.7968805,-0.6018689</td>\n",
       "      <td>{\"type\": \"Point\", \"coordinates\": [-0.6018689, ...</td>\n",
       "      <td>TALENCE</td>\n",
       "      <td>20</td>\n",
       "      <td>Ecole de Management</td>\n",
       "      <td>VCUB</td>\n",
       "      <td>cours de la Libération, devant BEM</td>\n",
       "      <td>VLS</td>\n",
       "      <td>113</td>\n",
       "      <td>44.796881</td>\n",
       "      <td>-0.601869</td>\n",
       "    </tr>\n",
       "  </tbody>\n",
       "</table>\n",
       "</div>"
      ],
      "text/plain": [
       "                 Geo Point                                          Geo Shape  \\\n",
       "169  44.8059145,-0.6023231  {\"type\": \"Point\", \"coordinates\": [-0.6023231, ...   \n",
       "170  44.8669415,-0.5760778  {\"type\": \"Point\", \"coordinates\": [-0.5760778, ...   \n",
       "171   44.826297,-0.5570718  {\"type\": \"Point\", \"coordinates\": [-0.5570718, ...   \n",
       "172  44.8282573,-0.5623689  {\"type\": \"Point\", \"coordinates\": [-0.5623689, ...   \n",
       "173  44.7968805,-0.6018689  {\"type\": \"Point\", \"coordinates\": [-0.6018689, ...   \n",
       "\n",
       "        COMMUNE  total_stand  \\\n",
       "169     TALENCE           40   \n",
       "170  LE BOUSCAT           20   \n",
       "171    BORDEAUX           22   \n",
       "172    BORDEAUX           25   \n",
       "173     TALENCE           20   \n",
       "\n",
       "                                                   NOM TYPEA  \\\n",
       "169                                    Arts et Métiers  VCUB   \n",
       "170                                Le Bouscat Ravezies  VCUB   \n",
       "171                                       Gare St Jean  VCUB   \n",
       "172  Place André Meunier (fermée le 16/11/2016. Réo...  VCUB   \n",
       "173                                Ecole de Management  VCUB   \n",
       "\n",
       "                                               ADRESSE TARIF  station_id  \\\n",
       "169         av des Facultés, derrière la station Tram.   VLS         112   \n",
       "170                 allée de Boutaut, au niveau du P+R   VLS         118   \n",
       "171              rue St Vincent de Paul (terminus bus)   VLS         127   \n",
       "172  Cours Barbey, à l'angle avec le cours de la Marne   VLS         137   \n",
       "173                 cours de la Libération, devant BEM   VLS         113   \n",
       "\n",
       "           lat       lon  \n",
       "169  44.805915 -0.602323  \n",
       "170  44.866942 -0.576078  \n",
       "171  44.826297 -0.557072  \n",
       "172  44.828257 -0.562369  \n",
       "173  44.796881 -0.601869  "
      ]
     },
     "execution_count": 9,
     "metadata": {},
     "output_type": "execute_result"
    }
   ],
   "source": [
    "stations.tail()"
   ]
  },
  {
   "cell_type": "markdown",
   "metadata": {},
   "source": [
    "#### Industrialisation"
   ]
  },
  {
   "cell_type": "code",
   "execution_count": 10,
   "metadata": {
    "ExecuteTime": {
     "end_time": "2020-08-27T15:05:54.188590Z",
     "start_time": "2020-08-27T15:05:54.177584Z"
    }
   },
   "outputs": [],
   "source": [
    "from vcub_keeper.reader.reader import read_stations_attributes"
   ]
  },
  {
   "cell_type": "code",
   "execution_count": 11,
   "metadata": {
    "ExecuteTime": {
     "end_time": "2020-08-27T15:05:54.433462Z",
     "start_time": "2020-08-27T15:05:54.415841Z"
    }
   },
   "outputs": [],
   "source": [
    "stations = read_stations_attributes()"
   ]
  },
  {
   "cell_type": "code",
   "execution_count": 12,
   "metadata": {
    "ExecuteTime": {
     "end_time": "2020-08-27T15:05:54.578665Z",
     "start_time": "2020-08-27T15:05:54.558035Z"
    },
    "scrolled": true
   },
   "outputs": [
    {
     "data": {
      "text/html": [
       "<div>\n",
       "<style scoped>\n",
       "    .dataframe tbody tr th:only-of-type {\n",
       "        vertical-align: middle;\n",
       "    }\n",
       "\n",
       "    .dataframe tbody tr th {\n",
       "        vertical-align: top;\n",
       "    }\n",
       "\n",
       "    .dataframe thead th {\n",
       "        text-align: right;\n",
       "    }\n",
       "</style>\n",
       "<table border=\"1\" class=\"dataframe\">\n",
       "  <thead>\n",
       "    <tr style=\"text-align: right;\">\n",
       "      <th></th>\n",
       "      <th>Geo Point</th>\n",
       "      <th>Geo Shape</th>\n",
       "      <th>COMMUNE</th>\n",
       "      <th>total_stand</th>\n",
       "      <th>NOM</th>\n",
       "      <th>TYPEA</th>\n",
       "      <th>ADRESSE</th>\n",
       "      <th>TARIF</th>\n",
       "      <th>station_id</th>\n",
       "      <th>lat</th>\n",
       "      <th>lon</th>\n",
       "    </tr>\n",
       "  </thead>\n",
       "  <tbody>\n",
       "    <tr>\n",
       "      <th>0</th>\n",
       "      <td>44.8351755,-0.5720497</td>\n",
       "      <td>{\"type\": \"Point\", \"coordinates\": [-0.5720497, ...</td>\n",
       "      <td>BORDEAUX</td>\n",
       "      <td>17</td>\n",
       "      <td>Grosse Cloche (fermée depuis le 26/09/2016. Ré...</td>\n",
       "      <td>VCUB</td>\n",
       "      <td>12 place de la Ferme de Richemont</td>\n",
       "      <td>VLS</td>\n",
       "      <td>104</td>\n",
       "      <td>44.835175</td>\n",
       "      <td>-0.572050</td>\n",
       "    </tr>\n",
       "    <tr>\n",
       "      <th>1</th>\n",
       "      <td>44.8723721,-0.5906954</td>\n",
       "      <td>{\"type\": \"Point\", \"coordinates\": [-0.5906954, ...</td>\n",
       "      <td>BRUGES</td>\n",
       "      <td>20</td>\n",
       "      <td>Bruges La Vache</td>\n",
       "      <td>VCUB</td>\n",
       "      <td>Rue Léopold Laplante</td>\n",
       "      <td>VLS PLUS</td>\n",
       "      <td>169</td>\n",
       "      <td>44.872372</td>\n",
       "      <td>-0.590695</td>\n",
       "    </tr>\n",
       "    <tr>\n",
       "      <th>2</th>\n",
       "      <td>44.8500962,-0.5855819</td>\n",
       "      <td>{\"type\": \"Point\", \"coordinates\": [-0.5855819, ...</td>\n",
       "      <td>BORDEAUX</td>\n",
       "      <td>16</td>\n",
       "      <td>Place Marie Brizard (supprimée le 11 mars 2016...</td>\n",
       "      <td>VCUB</td>\n",
       "      <td>209 rue Fondaudège</td>\n",
       "      <td>VLS</td>\n",
       "      <td>35</td>\n",
       "      <td>44.850096</td>\n",
       "      <td>-0.585582</td>\n",
       "    </tr>\n",
       "    <tr>\n",
       "      <th>3</th>\n",
       "      <td>44.8492876,-0.4966899</td>\n",
       "      <td>{\"type\": \"Point\", \"coordinates\": [-0.4966899, ...</td>\n",
       "      <td>ARTIGUES-PRES-BORDEAUX</td>\n",
       "      <td>19</td>\n",
       "      <td>Artigues Feydeau</td>\n",
       "      <td>VCUB</td>\n",
       "      <td>22 Boulevard Feydeau</td>\n",
       "      <td>VLS PLUS</td>\n",
       "      <td>150</td>\n",
       "      <td>44.849288</td>\n",
       "      <td>-0.496690</td>\n",
       "    </tr>\n",
       "    <tr>\n",
       "      <th>4</th>\n",
       "      <td>44.7821503,-0.5661566</td>\n",
       "      <td>{\"type\": \"Point\", \"coordinates\": [-0.5661566, ...</td>\n",
       "      <td>VILLENAVE-D'ORNON</td>\n",
       "      <td>21</td>\n",
       "      <td>Pont de la Maye (retirée le 19 novembre 2015 e...</td>\n",
       "      <td>VCUB</td>\n",
       "      <td>face au 564 route de Toulouse</td>\n",
       "      <td>VLS PLUS</td>\n",
       "      <td>76</td>\n",
       "      <td>44.782150</td>\n",
       "      <td>-0.566157</td>\n",
       "    </tr>\n",
       "  </tbody>\n",
       "</table>\n",
       "</div>"
      ],
      "text/plain": [
       "               Geo Point                                          Geo Shape  \\\n",
       "0  44.8351755,-0.5720497  {\"type\": \"Point\", \"coordinates\": [-0.5720497, ...   \n",
       "1  44.8723721,-0.5906954  {\"type\": \"Point\", \"coordinates\": [-0.5906954, ...   \n",
       "2  44.8500962,-0.5855819  {\"type\": \"Point\", \"coordinates\": [-0.5855819, ...   \n",
       "3  44.8492876,-0.4966899  {\"type\": \"Point\", \"coordinates\": [-0.4966899, ...   \n",
       "4  44.7821503,-0.5661566  {\"type\": \"Point\", \"coordinates\": [-0.5661566, ...   \n",
       "\n",
       "                  COMMUNE  total_stand  \\\n",
       "0                BORDEAUX           17   \n",
       "1                  BRUGES           20   \n",
       "2                BORDEAUX           16   \n",
       "3  ARTIGUES-PRES-BORDEAUX           19   \n",
       "4       VILLENAVE-D'ORNON           21   \n",
       "\n",
       "                                                 NOM TYPEA  \\\n",
       "0  Grosse Cloche (fermée depuis le 26/09/2016. Ré...  VCUB   \n",
       "1                                    Bruges La Vache  VCUB   \n",
       "2  Place Marie Brizard (supprimée le 11 mars 2016...  VCUB   \n",
       "3                                   Artigues Feydeau  VCUB   \n",
       "4  Pont de la Maye (retirée le 19 novembre 2015 e...  VCUB   \n",
       "\n",
       "                             ADRESSE     TARIF  station_id        lat  \\\n",
       "0  12 place de la Ferme de Richemont       VLS         104  44.835175   \n",
       "1               Rue Léopold Laplante  VLS PLUS         169  44.872372   \n",
       "2                 209 rue Fondaudège       VLS          35  44.850096   \n",
       "3               22 Boulevard Feydeau  VLS PLUS         150  44.849288   \n",
       "4      face au 564 route de Toulouse  VLS PLUS          76  44.782150   \n",
       "\n",
       "        lon  \n",
       "0 -0.572050  \n",
       "1 -0.590695  \n",
       "2 -0.585582  \n",
       "3 -0.496690  \n",
       "4 -0.566157  "
      ]
     },
     "execution_count": 12,
     "metadata": {},
     "output_type": "execute_result"
    }
   ],
   "source": [
    "stations.head()"
   ]
  },
  {
   "cell_type": "code",
   "execution_count": 13,
   "metadata": {
    "ExecuteTime": {
     "end_time": "2020-08-27T15:05:55.185978Z",
     "start_time": "2020-08-27T15:05:55.174282Z"
    }
   },
   "outputs": [
    {
     "data": {
      "text/plain": [
       "(174, 11)"
      ]
     },
     "execution_count": 13,
     "metadata": {},
     "output_type": "execute_result"
    }
   ],
   "source": [
    "stations.shape"
   ]
  }
 ],
 "metadata": {
  "kernelspec": {
   "display_name": "Python [conda env:vcub_keeper] *",
   "language": "python",
   "name": "conda-env-vcub_keeper-py"
  },
  "language_info": {
   "codemirror_mode": {
    "name": "ipython",
    "version": 3
   },
   "file_extension": ".py",
   "mimetype": "text/x-python",
   "name": "python",
   "nbconvert_exporter": "python",
   "pygments_lexer": "ipython3",
   "version": "3.8.5"
  },
  "toc": {
   "base_numbering": 1,
   "nav_menu": {},
   "number_sections": true,
   "sideBar": true,
   "skip_h1_title": false,
   "title_cell": "Table of Contents",
   "title_sidebar": "Contents",
   "toc_cell": true,
   "toc_position": {},
   "toc_section_display": true,
   "toc_window_display": false
  }
 },
 "nbformat": 4,
 "nbformat_minor": 4
}
