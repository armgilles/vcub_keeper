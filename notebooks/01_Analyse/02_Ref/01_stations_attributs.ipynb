{
 "cells": [
  {
   "cell_type": "markdown",
   "metadata": {
    "toc": true
   },
   "source": [
    "<h1>Table of Contents<span class=\"tocSkip\"></span></h1>\n",
    "<div class=\"toc\"><ul class=\"toc-item\"><li><ul class=\"toc-item\"><li><span><a href=\"#Objectifs\" data-toc-modified-id=\"Objectifs-0.1\"><span class=\"toc-item-num\">0.1&nbsp;&nbsp;</span>Objectifs</a></span></li></ul></li><li><span><a href=\"#Dev\" data-toc-modified-id=\"Dev-1\"><span class=\"toc-item-num\">1&nbsp;&nbsp;</span>Dev</a></span></li><li><span><a href=\"#Industrialisation\" data-toc-modified-id=\"Industrialisation-2\"><span class=\"toc-item-num\">2&nbsp;&nbsp;</span>Industrialisation</a></span></li><li><span><a href=\"#OLD-Code\" data-toc-modified-id=\"OLD-Code-3\"><span class=\"toc-item-num\">3&nbsp;&nbsp;</span>OLD Code</a></span><ul class=\"toc-item\"><li><span><a href=\"#Dev-OLD\" data-toc-modified-id=\"Dev-OLD-3.1\"><span class=\"toc-item-num\">3.1&nbsp;&nbsp;</span>Dev OLD</a></span><ul class=\"toc-item\"><li><ul class=\"toc-item\"><li><span><a href=\"#Fonction-de-lecture-OLD\" data-toc-modified-id=\"Fonction-de-lecture-OLD-3.1.0.1\"><span class=\"toc-item-num\">3.1.0.1&nbsp;&nbsp;</span>Fonction de lecture OLD</a></span></li></ul></li></ul></li><li><span><a href=\"#Industrialisation-OLD\" data-toc-modified-id=\"Industrialisation-OLD-3.2\"><span class=\"toc-item-num\">3.2&nbsp;&nbsp;</span>Industrialisation OLD</a></span></li></ul></li></ul></div>"
   ]
  },
  {
   "cell_type": "code",
   "execution_count": 231,
   "metadata": {
    "ExecuteTime": {
     "end_time": "2021-04-15T15:20:38.964476Z",
     "start_time": "2021-04-15T15:20:38.946220Z"
    }
   },
   "outputs": [
    {
     "name": "stdout",
     "output_type": "stream",
     "text": [
      "The autoreload extension is already loaded. To reload it, use:\n",
      "  %reload_ext autoreload\n"
     ]
    }
   ],
   "source": [
    "import polars as pl\n",
    "\n",
    "from vcub_keeper.config import ROOT_DATA_REF\n",
    "\n",
    "%load_ext autoreload\n",
    "%autoreload 2"
   ]
  },
  {
   "cell_type": "markdown",
   "metadata": {},
   "source": [
    "## Objectifs"
   ]
  },
  {
   "cell_type": "markdown",
   "metadata": {
    "ExecuteTime": {
     "end_time": "2020-08-27T13:23:19.602174Z",
     "start_time": "2020-08-27T13:23:19.587107Z"
    }
   },
   "source": [
    "- Téléchargement des données des attributs des stations Vcub via open data.\n",
    "- Modification de la structure / Naming afin de coller avec l'ancien fichier `tb_stvel_p.csv` (issue git https://github.com/armgilles/vcub_keeper/issues/50).\n",
    "- Export des données dans `ROOT_DATA_REF`.\n",
    "- Lecture du fichier sur les références des stations Vcub à Bordeaux\n",
    "- Industrialiser"
   ]
  },
  {
   "cell_type": "markdown",
   "metadata": {},
   "source": [
    "*L'ancien code est noté par `OLD`*"
   ]
  },
  {
   "cell_type": "markdown",
   "metadata": {
    "ExecuteTime": {
     "end_time": "2021-04-15T14:28:50.203419Z",
     "start_time": "2021-04-15T14:28:50.200494Z"
    }
   },
   "source": [
    "# Dev"
   ]
  },
  {
   "cell_type": "code",
   "execution_count": 200,
   "metadata": {
    "ExecuteTime": {
     "end_time": "2021-04-15T14:41:58.515123Z",
     "start_time": "2021-04-15T14:41:58.500273Z"
    }
   },
   "outputs": [],
   "source": [
    "URL_DATA_STATION = \"https://opendata.bordeaux-metropole.fr/explore/dataset/ci_vcub_p/download/?format=csv&timezone=Europe/Berlin&lang=fr&use_labels_for_header=true&csv_separator=%3B\""
   ]
  },
  {
   "cell_type": "code",
   "execution_count": 203,
   "metadata": {
    "ExecuteTime": {
     "end_time": "2021-04-15T14:42:00.127595Z",
     "start_time": "2021-04-15T14:41:58.739848Z"
    }
   },
   "outputs": [],
   "source": [
    "# Lecture des données via URL\n",
    "\n",
    "column_dtypes = {\"IDENT\": pl.UInt16}\n",
    "usecols = [\"Geo Point\", \"Geo Shape\", \"commune\", \"IDENT\", \"TYPE\", \"NOM\", \"NBPLACES\", \"NBVELOS\"]\n",
    "\n",
    "\n",
    "stations = pl.read_csv(URL_DATA_STATION, separator=\";\", schema_overrides=column_dtypes, columns=usecols)"
   ]
  },
  {
   "cell_type": "code",
   "execution_count": 204,
   "metadata": {
    "ExecuteTime": {
     "end_time": "2021-04-15T14:42:00.143025Z",
     "start_time": "2021-04-15T14:42:00.128976Z"
    }
   },
   "outputs": [
    {
     "data": {
      "text/html": [
       "<div><style>\n",
       ".dataframe > thead > tr,\n",
       ".dataframe > tbody > tr {\n",
       "  text-align: right;\n",
       "  white-space: pre-wrap;\n",
       "}\n",
       "</style>\n",
       "<small>shape: (5, 8)</small><table border=\"1\" class=\"dataframe\"><thead><tr><th>Geo Point</th><th>Geo Shape</th><th>commune</th><th>IDENT</th><th>TYPE</th><th>NOM</th><th>NBPLACES</th><th>NBVELOS</th></tr><tr><td>str</td><td>str</td><td>str</td><td>u16</td><td>str</td><td>str</td><td>i64</td><td>i64</td></tr></thead><tbody><tr><td>&quot;44.843856,-0.55744&quot;</td><td>&quot;{&quot;coordinates&quot;: [-0.55744, 44.…</td><td>&quot;Bordeaux&quot;</td><td>567</td><td>&quot;VLS&quot;</td><td>&quot;S67&quot;</td><td>2</td><td>3</td></tr><tr><td>&quot;44.860149,-0.554283&quot;</td><td>&quot;{&quot;coordinates&quot;: [-0.554283, 44…</td><td>&quot;Bordeaux&quot;</td><td>598</td><td>&quot;VLS&quot;</td><td>&quot;S98&quot;</td><td>3</td><td>2</td></tr><tr><td>&quot;44.832614,-0.571034&quot;</td><td>&quot;{&quot;coordinates&quot;: [-0.571034, 44…</td><td>&quot;Bordeaux&quot;</td><td>605</td><td>&quot;VLS&quot;</td><td>&quot;S105&quot;</td><td>5</td><td>0</td></tr><tr><td>&quot;44.826202,-0.557041&quot;</td><td>&quot;{&quot;coordinates&quot;: [-0.557041, 44…</td><td>&quot;Bordeaux&quot;</td><td>627</td><td>&quot;VLS&quot;</td><td>&quot;S127&quot;</td><td>10</td><td>0</td></tr><tr><td>&quot;44.861715,-0.55157&quot;</td><td>&quot;{&quot;coordinates&quot;: [-0.55157, 44.…</td><td>&quot;Bordeaux&quot;</td><td>672</td><td>&quot;VLS&quot;</td><td>&quot;S172&quot;</td><td>8</td><td>2</td></tr></tbody></table></div>"
      ],
      "text/plain": [
       "shape: (5, 8)\n",
       "┌─────────────────────┬─────────────────┬──────────┬───────┬──────┬──────┬──────────┬─────────┐\n",
       "│ Geo Point           ┆ Geo Shape       ┆ commune  ┆ IDENT ┆ TYPE ┆ NOM  ┆ NBPLACES ┆ NBVELOS │\n",
       "│ ---                 ┆ ---             ┆ ---      ┆ ---   ┆ ---  ┆ ---  ┆ ---      ┆ ---     │\n",
       "│ str                 ┆ str             ┆ str      ┆ u16   ┆ str  ┆ str  ┆ i64      ┆ i64     │\n",
       "╞═════════════════════╪═════════════════╪══════════╪═══════╪══════╪══════╪══════════╪═════════╡\n",
       "│ 44.843856,-0.55744  ┆ {\"coordinates\": ┆ Bordeaux ┆ 567   ┆ VLS  ┆ S67  ┆ 2        ┆ 3       │\n",
       "│                     ┆ [-0.55744, 44.… ┆          ┆       ┆      ┆      ┆          ┆         │\n",
       "│ 44.860149,-0.554283 ┆ {\"coordinates\": ┆ Bordeaux ┆ 598   ┆ VLS  ┆ S98  ┆ 3        ┆ 2       │\n",
       "│                     ┆ [-0.554283, 44… ┆          ┆       ┆      ┆      ┆          ┆         │\n",
       "│ 44.832614,-0.571034 ┆ {\"coordinates\": ┆ Bordeaux ┆ 605   ┆ VLS  ┆ S105 ┆ 5        ┆ 0       │\n",
       "│                     ┆ [-0.571034, 44… ┆          ┆       ┆      ┆      ┆          ┆         │\n",
       "│ 44.826202,-0.557041 ┆ {\"coordinates\": ┆ Bordeaux ┆ 627   ┆ VLS  ┆ S127 ┆ 10       ┆ 0       │\n",
       "│                     ┆ [-0.557041, 44… ┆          ┆       ┆      ┆      ┆          ┆         │\n",
       "│ 44.861715,-0.55157  ┆ {\"coordinates\": ┆ Bordeaux ┆ 672   ┆ VLS  ┆ S172 ┆ 8        ┆ 2       │\n",
       "│                     ┆ [-0.55157, 44.… ┆          ┆       ┆      ┆      ┆          ┆         │\n",
       "└─────────────────────┴─────────────────┴──────────┴───────┴──────┴──────┴──────────┴─────────┘"
      ]
     },
     "execution_count": 204,
     "metadata": {},
     "output_type": "execute_result"
    }
   ],
   "source": [
    "stations.tail()"
   ]
  },
  {
   "cell_type": "code",
   "execution_count": 205,
   "metadata": {
    "ExecuteTime": {
     "end_time": "2021-04-15T14:42:00.245036Z",
     "start_time": "2021-04-15T14:42:00.144592Z"
    }
   },
   "outputs": [
    {
     "data": {
      "text/html": [
       "<div><style>\n",
       ".dataframe > thead > tr,\n",
       ".dataframe > tbody > tr {\n",
       "  text-align: right;\n",
       "  white-space: pre-wrap;\n",
       "}\n",
       "</style>\n",
       "<small>shape: (5, 8)</small><table border=\"1\" class=\"dataframe\"><thead><tr><th>Geo Point</th><th>Geo Shape</th><th>commune</th><th>IDENT</th><th>TYPE</th><th>NOM</th><th>NBPLACES</th><th>NBVELOS</th></tr><tr><td>str</td><td>str</td><td>str</td><td>u16</td><td>str</td><td>str</td><td>i64</td><td>i64</td></tr></thead><tbody><tr><td>&quot;44.843856,-0.55744&quot;</td><td>&quot;{&quot;coordinates&quot;: [-0.55744, 44.…</td><td>&quot;Bordeaux&quot;</td><td>567</td><td>&quot;VLS&quot;</td><td>&quot;S67&quot;</td><td>2</td><td>3</td></tr><tr><td>&quot;44.860149,-0.554283&quot;</td><td>&quot;{&quot;coordinates&quot;: [-0.554283, 44…</td><td>&quot;Bordeaux&quot;</td><td>598</td><td>&quot;VLS&quot;</td><td>&quot;S98&quot;</td><td>3</td><td>2</td></tr><tr><td>&quot;44.832614,-0.571034&quot;</td><td>&quot;{&quot;coordinates&quot;: [-0.571034, 44…</td><td>&quot;Bordeaux&quot;</td><td>605</td><td>&quot;VLS&quot;</td><td>&quot;S105&quot;</td><td>5</td><td>0</td></tr><tr><td>&quot;44.826202,-0.557041&quot;</td><td>&quot;{&quot;coordinates&quot;: [-0.557041, 44…</td><td>&quot;Bordeaux&quot;</td><td>627</td><td>&quot;VLS&quot;</td><td>&quot;S127&quot;</td><td>10</td><td>0</td></tr><tr><td>&quot;44.861715,-0.55157&quot;</td><td>&quot;{&quot;coordinates&quot;: [-0.55157, 44.…</td><td>&quot;Bordeaux&quot;</td><td>672</td><td>&quot;VLS&quot;</td><td>&quot;S172&quot;</td><td>8</td><td>2</td></tr></tbody></table></div>"
      ],
      "text/plain": [
       "shape: (5, 8)\n",
       "┌─────────────────────┬─────────────────┬──────────┬───────┬──────┬──────┬──────────┬─────────┐\n",
       "│ Geo Point           ┆ Geo Shape       ┆ commune  ┆ IDENT ┆ TYPE ┆ NOM  ┆ NBPLACES ┆ NBVELOS │\n",
       "│ ---                 ┆ ---             ┆ ---      ┆ ---   ┆ ---  ┆ ---  ┆ ---      ┆ ---     │\n",
       "│ str                 ┆ str             ┆ str      ┆ u16   ┆ str  ┆ str  ┆ i64      ┆ i64     │\n",
       "╞═════════════════════╪═════════════════╪══════════╪═══════╪══════╪══════╪══════════╪═════════╡\n",
       "│ 44.843856,-0.55744  ┆ {\"coordinates\": ┆ Bordeaux ┆ 567   ┆ VLS  ┆ S67  ┆ 2        ┆ 3       │\n",
       "│                     ┆ [-0.55744, 44.… ┆          ┆       ┆      ┆      ┆          ┆         │\n",
       "│ 44.860149,-0.554283 ┆ {\"coordinates\": ┆ Bordeaux ┆ 598   ┆ VLS  ┆ S98  ┆ 3        ┆ 2       │\n",
       "│                     ┆ [-0.554283, 44… ┆          ┆       ┆      ┆      ┆          ┆         │\n",
       "│ 44.832614,-0.571034 ┆ {\"coordinates\": ┆ Bordeaux ┆ 605   ┆ VLS  ┆ S105 ┆ 5        ┆ 0       │\n",
       "│                     ┆ [-0.571034, 44… ┆          ┆       ┆      ┆      ┆          ┆         │\n",
       "│ 44.826202,-0.557041 ┆ {\"coordinates\": ┆ Bordeaux ┆ 627   ┆ VLS  ┆ S127 ┆ 10       ┆ 0       │\n",
       "│                     ┆ [-0.557041, 44… ┆          ┆       ┆      ┆      ┆          ┆         │\n",
       "│ 44.861715,-0.55157  ┆ {\"coordinates\": ┆ Bordeaux ┆ 672   ┆ VLS  ┆ S172 ┆ 8        ┆ 2       │\n",
       "│                     ┆ [-0.55157, 44.… ┆          ┆       ┆      ┆      ┆          ┆         │\n",
       "└─────────────────────┴─────────────────┴──────────┴───────┴──────┴──────┴──────────┴─────────┘"
      ]
     },
     "execution_count": 205,
     "metadata": {},
     "output_type": "execute_result"
    }
   ],
   "source": [
    "stations.tail()"
   ]
  },
  {
   "cell_type": "code",
   "execution_count": 206,
   "metadata": {
    "ExecuteTime": {
     "end_time": "2021-04-15T14:42:00.320007Z",
     "start_time": "2021-04-15T14:42:00.246757Z"
    }
   },
   "outputs": [],
   "source": [
    "# Calcul total stand by station\n",
    "stations = stations.with_columns(total_stand=pl.col(\"NBPLACES\") + pl.col(\"NBVELOS\"))"
   ]
  },
  {
   "cell_type": "code",
   "execution_count": 207,
   "metadata": {
    "ExecuteTime": {
     "end_time": "2021-04-15T14:42:00.405809Z",
     "start_time": "2021-04-15T14:42:00.321355Z"
    }
   },
   "outputs": [],
   "source": [
    "# Create lon / lat\n",
    "stations = stations.with_columns(\n",
    "    pl.col(\"Geo Point\")\n",
    "    .str.split_exact(by=\",\", n=1)\n",
    "    .struct.rename_fields([\"lat\", \"lon\"])\n",
    "    .cast(pl.Float32)\n",
    "    .alias(\"fields\")\n",
    ").unnest(\"fields\")"
   ]
  },
  {
   "cell_type": "code",
   "execution_count": 208,
   "metadata": {
    "ExecuteTime": {
     "end_time": "2021-04-15T14:42:00.532780Z",
     "start_time": "2021-04-15T14:42:00.523814Z"
    }
   },
   "outputs": [],
   "source": [
    "# Naming\n",
    "stations = stations.rename({\"commune\": \"COMMUNE\", \"IDENT\": \"station_id\", \"TYPE\": \"TYPEA\"})"
   ]
  },
  {
   "cell_type": "code",
   "execution_count": 209,
   "metadata": {},
   "outputs": [
    {
     "data": {
      "text/html": [
       "<div><style>\n",
       ".dataframe > thead > tr,\n",
       ".dataframe > tbody > tr {\n",
       "  text-align: right;\n",
       "  white-space: pre-wrap;\n",
       "}\n",
       "</style>\n",
       "<small>shape: (5, 11)</small><table border=\"1\" class=\"dataframe\"><thead><tr><th>Geo Point</th><th>Geo Shape</th><th>COMMUNE</th><th>station_id</th><th>TYPEA</th><th>NOM</th><th>NBPLACES</th><th>NBVELOS</th><th>total_stand</th><th>lat</th><th>lon</th></tr><tr><td>str</td><td>str</td><td>str</td><td>u16</td><td>str</td><td>str</td><td>i64</td><td>i64</td><td>i64</td><td>f32</td><td>f32</td></tr></thead><tbody><tr><td>&quot;44.83803,-0.58437&quot;</td><td>&quot;{&quot;coordinates&quot;: [-0.58437, 44.…</td><td>&quot;Bordeaux&quot;</td><td>1</td><td>&quot;VLS&quot;</td><td>&quot;Meriadeck&quot;</td><td>27</td><td>16</td><td>43</td><td>44.838032</td><td>-0.58437</td></tr><tr><td>&quot;44.83784,-0.59028&quot;</td><td>&quot;{&quot;coordinates&quot;: [-0.59028, 44.…</td><td>&quot;Bordeaux&quot;</td><td>2</td><td>&quot;VLS&quot;</td><td>&quot;St Bruno&quot;</td><td>17</td><td>3</td><td>20</td><td>44.837841</td><td>-0.59028</td></tr><tr><td>&quot;44.840813,-0.593233&quot;</td><td>&quot;{&quot;coordinates&quot;: [-0.593233, 44…</td><td>&quot;Bordeaux&quot;</td><td>3</td><td>&quot;VLS&quot;</td><td>&quot;Piscine Judaique&quot;</td><td>23</td><td>3</td><td>26</td><td>44.840813</td><td>-0.593233</td></tr><tr><td>&quot;44.84221,-0.58482&quot;</td><td>&quot;{&quot;coordinates&quot;: [-0.58482, 44.…</td><td>&quot;Bordeaux&quot;</td><td>4</td><td>&quot;VLS&quot;</td><td>&quot;St Seurin&quot;</td><td>18</td><td>2</td><td>20</td><td>44.842209</td><td>-0.58482</td></tr><tr><td>&quot;44.840712,-0.581124&quot;</td><td>&quot;{&quot;coordinates&quot;: [-0.581124, 44…</td><td>&quot;Bordeaux&quot;</td><td>5</td><td>&quot;VLS&quot;</td><td>&quot;Place Gambetta&quot;</td><td>30</td><td>10</td><td>40</td><td>44.840714</td><td>-0.581124</td></tr></tbody></table></div>"
      ],
      "text/plain": [
       "shape: (5, 11)\n",
       "┌────────────┬────────────┬──────────┬───────────┬───┬─────────┬───────────┬───────────┬───────────┐\n",
       "│ Geo Point  ┆ Geo Shape  ┆ COMMUNE  ┆ station_i ┆ … ┆ NBVELOS ┆ total_sta ┆ lat       ┆ lon       │\n",
       "│ ---        ┆ ---        ┆ ---      ┆ d         ┆   ┆ ---     ┆ nd        ┆ ---       ┆ ---       │\n",
       "│ str        ┆ str        ┆ str      ┆ ---       ┆   ┆ i64     ┆ ---       ┆ f32       ┆ f32       │\n",
       "│            ┆            ┆          ┆ u16       ┆   ┆         ┆ i64       ┆           ┆           │\n",
       "╞════════════╪════════════╪══════════╪═══════════╪═══╪═════════╪═══════════╪═══════════╪═══════════╡\n",
       "│ 44.83803,- ┆ {\"coordina ┆ Bordeaux ┆ 1         ┆ … ┆ 16      ┆ 43        ┆ 44.838032 ┆ -0.58437  │\n",
       "│ 0.58437    ┆ tes\":      ┆          ┆           ┆   ┆         ┆           ┆           ┆           │\n",
       "│            ┆ [-0.58437, ┆          ┆           ┆   ┆         ┆           ┆           ┆           │\n",
       "│            ┆ 44.…       ┆          ┆           ┆   ┆         ┆           ┆           ┆           │\n",
       "│ 44.83784,- ┆ {\"coordina ┆ Bordeaux ┆ 2         ┆ … ┆ 3       ┆ 20        ┆ 44.837841 ┆ -0.59028  │\n",
       "│ 0.59028    ┆ tes\":      ┆          ┆           ┆   ┆         ┆           ┆           ┆           │\n",
       "│            ┆ [-0.59028, ┆          ┆           ┆   ┆         ┆           ┆           ┆           │\n",
       "│            ┆ 44.…       ┆          ┆           ┆   ┆         ┆           ┆           ┆           │\n",
       "│ 44.840813, ┆ {\"coordina ┆ Bordeaux ┆ 3         ┆ … ┆ 3       ┆ 26        ┆ 44.840813 ┆ -0.593233 │\n",
       "│ -0.593233  ┆ tes\": [-0. ┆          ┆           ┆   ┆         ┆           ┆           ┆           │\n",
       "│            ┆ 593233,    ┆          ┆           ┆   ┆         ┆           ┆           ┆           │\n",
       "│            ┆ 44…        ┆          ┆           ┆   ┆         ┆           ┆           ┆           │\n",
       "│ 44.84221,- ┆ {\"coordina ┆ Bordeaux ┆ 4         ┆ … ┆ 2       ┆ 20        ┆ 44.842209 ┆ -0.58482  │\n",
       "│ 0.58482    ┆ tes\":      ┆          ┆           ┆   ┆         ┆           ┆           ┆           │\n",
       "│            ┆ [-0.58482, ┆          ┆           ┆   ┆         ┆           ┆           ┆           │\n",
       "│            ┆ 44.…       ┆          ┆           ┆   ┆         ┆           ┆           ┆           │\n",
       "│ 44.840712, ┆ {\"coordina ┆ Bordeaux ┆ 5         ┆ … ┆ 10      ┆ 40        ┆ 44.840714 ┆ -0.581124 │\n",
       "│ -0.581124  ┆ tes\": [-0. ┆          ┆           ┆   ┆         ┆           ┆           ┆           │\n",
       "│            ┆ 581124,    ┆          ┆           ┆   ┆         ┆           ┆           ┆           │\n",
       "│            ┆ 44…        ┆          ┆           ┆   ┆         ┆           ┆           ┆           │\n",
       "└────────────┴────────────┴──────────┴───────────┴───┴─────────┴───────────┴───────────┴───────────┘"
      ]
     },
     "execution_count": 209,
     "metadata": {},
     "output_type": "execute_result"
    }
   ],
   "source": [
    "stations.head()"
   ]
  },
  {
   "cell_type": "code",
   "execution_count": 210,
   "metadata": {
    "ExecuteTime": {
     "end_time": "2021-04-15T14:43:33.786577Z",
     "start_time": "2021-04-15T14:43:33.771000Z"
    }
   },
   "outputs": [],
   "source": [
    "# Filter\n",
    "col_to_export = [\"Geo Point\", \"Geo Shape\", \"COMMUNE\", \"total_stand\", \"NOM\", \"TYPEA\", \"station_id\", \"lat\", \"lon\"]\n",
    "\n",
    "stations = stations.select(col_to_export)"
   ]
  },
  {
   "cell_type": "code",
   "execution_count": 211,
   "metadata": {
    "ExecuteTime": {
     "end_time": "2021-04-15T14:43:34.356277Z",
     "start_time": "2021-04-15T14:43:34.333727Z"
    }
   },
   "outputs": [
    {
     "data": {
      "text/html": [
       "<div><style>\n",
       ".dataframe > thead > tr,\n",
       ".dataframe > tbody > tr {\n",
       "  text-align: right;\n",
       "  white-space: pre-wrap;\n",
       "}\n",
       "</style>\n",
       "<small>shape: (190, 9)</small><table border=\"1\" class=\"dataframe\"><thead><tr><th>Geo Point</th><th>Geo Shape</th><th>COMMUNE</th><th>total_stand</th><th>NOM</th><th>TYPEA</th><th>station_id</th><th>lat</th><th>lon</th></tr><tr><td>str</td><td>str</td><td>str</td><td>i64</td><td>str</td><td>str</td><td>u16</td><td>f32</td><td>f32</td></tr></thead><tbody><tr><td>&quot;44.83803,-0.58437&quot;</td><td>&quot;{&quot;coordinates&quot;: [-0.58437, 44.…</td><td>&quot;Bordeaux&quot;</td><td>43</td><td>&quot;Meriadeck&quot;</td><td>&quot;VLS&quot;</td><td>1</td><td>44.838032</td><td>-0.58437</td></tr><tr><td>&quot;44.83784,-0.59028&quot;</td><td>&quot;{&quot;coordinates&quot;: [-0.59028, 44.…</td><td>&quot;Bordeaux&quot;</td><td>20</td><td>&quot;St Bruno&quot;</td><td>&quot;VLS&quot;</td><td>2</td><td>44.837841</td><td>-0.59028</td></tr><tr><td>&quot;44.840813,-0.593233&quot;</td><td>&quot;{&quot;coordinates&quot;: [-0.593233, 44…</td><td>&quot;Bordeaux&quot;</td><td>26</td><td>&quot;Piscine Judaique&quot;</td><td>&quot;VLS&quot;</td><td>3</td><td>44.840813</td><td>-0.593233</td></tr><tr><td>&quot;44.84221,-0.58482&quot;</td><td>&quot;{&quot;coordinates&quot;: [-0.58482, 44.…</td><td>&quot;Bordeaux&quot;</td><td>20</td><td>&quot;St Seurin&quot;</td><td>&quot;VLS&quot;</td><td>4</td><td>44.842209</td><td>-0.58482</td></tr><tr><td>&quot;44.840712,-0.581124&quot;</td><td>&quot;{&quot;coordinates&quot;: [-0.581124, 44…</td><td>&quot;Bordeaux&quot;</td><td>40</td><td>&quot;Place Gambetta&quot;</td><td>&quot;VLS&quot;</td><td>5</td><td>44.840714</td><td>-0.581124</td></tr><tr><td>&hellip;</td><td>&hellip;</td><td>&hellip;</td><td>&hellip;</td><td>&hellip;</td><td>&hellip;</td><td>&hellip;</td><td>&hellip;</td><td>&hellip;</td></tr><tr><td>&quot;44.843856,-0.55744&quot;</td><td>&quot;{&quot;coordinates&quot;: [-0.55744, 44.…</td><td>&quot;Bordeaux&quot;</td><td>5</td><td>&quot;S67&quot;</td><td>&quot;VLS&quot;</td><td>567</td><td>44.843857</td><td>-0.55744</td></tr><tr><td>&quot;44.860149,-0.554283&quot;</td><td>&quot;{&quot;coordinates&quot;: [-0.554283, 44…</td><td>&quot;Bordeaux&quot;</td><td>5</td><td>&quot;S98&quot;</td><td>&quot;VLS&quot;</td><td>598</td><td>44.860149</td><td>-0.554283</td></tr><tr><td>&quot;44.832614,-0.571034&quot;</td><td>&quot;{&quot;coordinates&quot;: [-0.571034, 44…</td><td>&quot;Bordeaux&quot;</td><td>5</td><td>&quot;S105&quot;</td><td>&quot;VLS&quot;</td><td>605</td><td>44.832615</td><td>-0.571034</td></tr><tr><td>&quot;44.826202,-0.557041&quot;</td><td>&quot;{&quot;coordinates&quot;: [-0.557041, 44…</td><td>&quot;Bordeaux&quot;</td><td>10</td><td>&quot;S127&quot;</td><td>&quot;VLS&quot;</td><td>627</td><td>44.826202</td><td>-0.557041</td></tr><tr><td>&quot;44.861715,-0.55157&quot;</td><td>&quot;{&quot;coordinates&quot;: [-0.55157, 44.…</td><td>&quot;Bordeaux&quot;</td><td>10</td><td>&quot;S172&quot;</td><td>&quot;VLS&quot;</td><td>672</td><td>44.861713</td><td>-0.55157</td></tr></tbody></table></div>"
      ],
      "text/plain": [
       "shape: (190, 9)\n",
       "┌────────────┬────────────┬──────────┬────────────┬───┬───────┬────────────┬───────────┬───────────┐\n",
       "│ Geo Point  ┆ Geo Shape  ┆ COMMUNE  ┆ total_stan ┆ … ┆ TYPEA ┆ station_id ┆ lat       ┆ lon       │\n",
       "│ ---        ┆ ---        ┆ ---      ┆ d          ┆   ┆ ---   ┆ ---        ┆ ---       ┆ ---       │\n",
       "│ str        ┆ str        ┆ str      ┆ ---        ┆   ┆ str   ┆ u16        ┆ f32       ┆ f32       │\n",
       "│            ┆            ┆          ┆ i64        ┆   ┆       ┆            ┆           ┆           │\n",
       "╞════════════╪════════════╪══════════╪════════════╪═══╪═══════╪════════════╪═══════════╪═══════════╡\n",
       "│ 44.83803,- ┆ {\"coordina ┆ Bordeaux ┆ 43         ┆ … ┆ VLS   ┆ 1          ┆ 44.838032 ┆ -0.58437  │\n",
       "│ 0.58437    ┆ tes\":      ┆          ┆            ┆   ┆       ┆            ┆           ┆           │\n",
       "│            ┆ [-0.58437, ┆          ┆            ┆   ┆       ┆            ┆           ┆           │\n",
       "│            ┆ 44.…       ┆          ┆            ┆   ┆       ┆            ┆           ┆           │\n",
       "│ 44.83784,- ┆ {\"coordina ┆ Bordeaux ┆ 20         ┆ … ┆ VLS   ┆ 2          ┆ 44.837841 ┆ -0.59028  │\n",
       "│ 0.59028    ┆ tes\":      ┆          ┆            ┆   ┆       ┆            ┆           ┆           │\n",
       "│            ┆ [-0.59028, ┆          ┆            ┆   ┆       ┆            ┆           ┆           │\n",
       "│            ┆ 44.…       ┆          ┆            ┆   ┆       ┆            ┆           ┆           │\n",
       "│ 44.840813, ┆ {\"coordina ┆ Bordeaux ┆ 26         ┆ … ┆ VLS   ┆ 3          ┆ 44.840813 ┆ -0.593233 │\n",
       "│ -0.593233  ┆ tes\": [-0. ┆          ┆            ┆   ┆       ┆            ┆           ┆           │\n",
       "│            ┆ 593233,    ┆          ┆            ┆   ┆       ┆            ┆           ┆           │\n",
       "│            ┆ 44…        ┆          ┆            ┆   ┆       ┆            ┆           ┆           │\n",
       "│ 44.84221,- ┆ {\"coordina ┆ Bordeaux ┆ 20         ┆ … ┆ VLS   ┆ 4          ┆ 44.842209 ┆ -0.58482  │\n",
       "│ 0.58482    ┆ tes\":      ┆          ┆            ┆   ┆       ┆            ┆           ┆           │\n",
       "│            ┆ [-0.58482, ┆          ┆            ┆   ┆       ┆            ┆           ┆           │\n",
       "│            ┆ 44.…       ┆          ┆            ┆   ┆       ┆            ┆           ┆           │\n",
       "│ 44.840712, ┆ {\"coordina ┆ Bordeaux ┆ 40         ┆ … ┆ VLS   ┆ 5          ┆ 44.840714 ┆ -0.581124 │\n",
       "│ -0.581124  ┆ tes\": [-0. ┆          ┆            ┆   ┆       ┆            ┆           ┆           │\n",
       "│            ┆ 581124,    ┆          ┆            ┆   ┆       ┆            ┆           ┆           │\n",
       "│            ┆ 44…        ┆          ┆            ┆   ┆       ┆            ┆           ┆           │\n",
       "│ …          ┆ …          ┆ …        ┆ …          ┆ … ┆ …     ┆ …          ┆ …         ┆ …         │\n",
       "│ 44.843856, ┆ {\"coordina ┆ Bordeaux ┆ 5          ┆ … ┆ VLS   ┆ 567        ┆ 44.843857 ┆ -0.55744  │\n",
       "│ -0.55744   ┆ tes\":      ┆          ┆            ┆   ┆       ┆            ┆           ┆           │\n",
       "│            ┆ [-0.55744, ┆          ┆            ┆   ┆       ┆            ┆           ┆           │\n",
       "│            ┆ 44.…       ┆          ┆            ┆   ┆       ┆            ┆           ┆           │\n",
       "│ 44.860149, ┆ {\"coordina ┆ Bordeaux ┆ 5          ┆ … ┆ VLS   ┆ 598        ┆ 44.860149 ┆ -0.554283 │\n",
       "│ -0.554283  ┆ tes\": [-0. ┆          ┆            ┆   ┆       ┆            ┆           ┆           │\n",
       "│            ┆ 554283,    ┆          ┆            ┆   ┆       ┆            ┆           ┆           │\n",
       "│            ┆ 44…        ┆          ┆            ┆   ┆       ┆            ┆           ┆           │\n",
       "│ 44.832614, ┆ {\"coordina ┆ Bordeaux ┆ 5          ┆ … ┆ VLS   ┆ 605        ┆ 44.832615 ┆ -0.571034 │\n",
       "│ -0.571034  ┆ tes\": [-0. ┆          ┆            ┆   ┆       ┆            ┆           ┆           │\n",
       "│            ┆ 571034,    ┆          ┆            ┆   ┆       ┆            ┆           ┆           │\n",
       "│            ┆ 44…        ┆          ┆            ┆   ┆       ┆            ┆           ┆           │\n",
       "│ 44.826202, ┆ {\"coordina ┆ Bordeaux ┆ 10         ┆ … ┆ VLS   ┆ 627        ┆ 44.826202 ┆ -0.557041 │\n",
       "│ -0.557041  ┆ tes\": [-0. ┆          ┆            ┆   ┆       ┆            ┆           ┆           │\n",
       "│            ┆ 557041,    ┆          ┆            ┆   ┆       ┆            ┆           ┆           │\n",
       "│            ┆ 44…        ┆          ┆            ┆   ┆       ┆            ┆           ┆           │\n",
       "│ 44.861715, ┆ {\"coordina ┆ Bordeaux ┆ 10         ┆ … ┆ VLS   ┆ 672        ┆ 44.861713 ┆ -0.55157  │\n",
       "│ -0.55157   ┆ tes\":      ┆          ┆            ┆   ┆       ┆            ┆           ┆           │\n",
       "│            ┆ [-0.55157, ┆          ┆            ┆   ┆       ┆            ┆           ┆           │\n",
       "│            ┆ 44.…       ┆          ┆            ┆   ┆       ┆            ┆           ┆           │\n",
       "└────────────┴────────────┴──────────┴────────────┴───┴───────┴────────────┴───────────┴───────────┘"
      ]
     },
     "execution_count": 211,
     "metadata": {},
     "output_type": "execute_result"
    }
   ],
   "source": [
    "stations"
   ]
  },
  {
   "cell_type": "code",
   "execution_count": 212,
   "metadata": {
    "ExecuteTime": {
     "end_time": "2021-04-15T14:47:14.893864Z",
     "start_time": "2021-04-15T14:47:14.842148Z"
    }
   },
   "outputs": [],
   "source": [
    "# Export\n",
    "file_export = \"station_attribute.csv\"\n",
    "stations.write_csv(ROOT_DATA_REF + file_export, separator=\";\")"
   ]
  },
  {
   "cell_type": "markdown",
   "metadata": {},
   "source": [
    "# Industrialisation"
   ]
  },
  {
   "cell_type": "code",
   "execution_count": 213,
   "metadata": {
    "ExecuteTime": {
     "end_time": "2021-04-15T15:22:28.074122Z",
     "start_time": "2021-04-15T15:22:28.025293Z"
    }
   },
   "outputs": [],
   "source": [
    "from vcub_keeper.create.creator import create_station_attribute\n",
    "from vcub_keeper.reader.reader import read_stations_attributes"
   ]
  },
  {
   "cell_type": "code",
   "execution_count": 214,
   "metadata": {
    "ExecuteTime": {
     "end_time": "2021-04-15T15:22:30.054208Z",
     "start_time": "2021-04-15T15:22:29.666221Z"
    }
   },
   "outputs": [],
   "source": [
    "create_station_attribute(path_directory=ROOT_DATA_REF)"
   ]
  },
  {
   "cell_type": "code",
   "execution_count": 217,
   "metadata": {
    "ExecuteTime": {
     "end_time": "2021-04-15T15:22:42.403612Z",
     "start_time": "2021-04-15T15:22:42.385564Z"
    }
   },
   "outputs": [],
   "source": [
    "stations = read_stations_attributes(path_directory=ROOT_DATA_REF)"
   ]
  },
  {
   "cell_type": "code",
   "execution_count": 223,
   "metadata": {},
   "outputs": [
    {
     "data": {
      "text/html": [
       "<div><style>\n",
       ".dataframe > thead > tr,\n",
       ".dataframe > tbody > tr {\n",
       "  text-align: right;\n",
       "  white-space: pre-wrap;\n",
       "}\n",
       "</style>\n",
       "<small>shape: (3, 9)</small><table border=\"1\" class=\"dataframe\"><thead><tr><th>Geo Point</th><th>Geo Shape</th><th>COMMUNE</th><th>total_stand</th><th>NOM</th><th>TYPEA</th><th>station_id</th><th>lat</th><th>lon</th></tr><tr><td>str</td><td>str</td><td>str</td><td>i64</td><td>str</td><td>str</td><td>u16</td><td>f64</td><td>f64</td></tr></thead><tbody><tr><td>&quot;44.83803,-0.58437&quot;</td><td>&quot;{&quot;coordinates&quot;: [-0.58437, 44.…</td><td>&quot;Bordeaux&quot;</td><td>43</td><td>&quot;Meriadeck&quot;</td><td>&quot;VLS&quot;</td><td>1</td><td>44.83803</td><td>-0.58437</td></tr><tr><td>&quot;44.83784,-0.59028&quot;</td><td>&quot;{&quot;coordinates&quot;: [-0.59028, 44.…</td><td>&quot;Bordeaux&quot;</td><td>20</td><td>&quot;St Bruno&quot;</td><td>&quot;VLS&quot;</td><td>2</td><td>44.83784</td><td>-0.59028</td></tr><tr><td>&quot;44.840813,-0.593233&quot;</td><td>&quot;{&quot;coordinates&quot;: [-0.593233, 44…</td><td>&quot;Bordeaux&quot;</td><td>26</td><td>&quot;Piscine Judaique&quot;</td><td>&quot;VLS&quot;</td><td>3</td><td>44.840813</td><td>-0.593233</td></tr></tbody></table></div>"
      ],
      "text/plain": [
       "shape: (3, 9)\n",
       "┌────────────┬────────────┬──────────┬────────────┬───┬───────┬────────────┬───────────┬───────────┐\n",
       "│ Geo Point  ┆ Geo Shape  ┆ COMMUNE  ┆ total_stan ┆ … ┆ TYPEA ┆ station_id ┆ lat       ┆ lon       │\n",
       "│ ---        ┆ ---        ┆ ---      ┆ d          ┆   ┆ ---   ┆ ---        ┆ ---       ┆ ---       │\n",
       "│ str        ┆ str        ┆ str      ┆ ---        ┆   ┆ str   ┆ u16        ┆ f64       ┆ f64       │\n",
       "│            ┆            ┆          ┆ i64        ┆   ┆       ┆            ┆           ┆           │\n",
       "╞════════════╪════════════╪══════════╪════════════╪═══╪═══════╪════════════╪═══════════╪═══════════╡\n",
       "│ 44.83803,- ┆ {\"coordina ┆ Bordeaux ┆ 43         ┆ … ┆ VLS   ┆ 1          ┆ 44.83803  ┆ -0.58437  │\n",
       "│ 0.58437    ┆ tes\":      ┆          ┆            ┆   ┆       ┆            ┆           ┆           │\n",
       "│            ┆ [-0.58437, ┆          ┆            ┆   ┆       ┆            ┆           ┆           │\n",
       "│            ┆ 44.…       ┆          ┆            ┆   ┆       ┆            ┆           ┆           │\n",
       "│ 44.83784,- ┆ {\"coordina ┆ Bordeaux ┆ 20         ┆ … ┆ VLS   ┆ 2          ┆ 44.83784  ┆ -0.59028  │\n",
       "│ 0.59028    ┆ tes\":      ┆          ┆            ┆   ┆       ┆            ┆           ┆           │\n",
       "│            ┆ [-0.59028, ┆          ┆            ┆   ┆       ┆            ┆           ┆           │\n",
       "│            ┆ 44.…       ┆          ┆            ┆   ┆       ┆            ┆           ┆           │\n",
       "│ 44.840813, ┆ {\"coordina ┆ Bordeaux ┆ 26         ┆ … ┆ VLS   ┆ 3          ┆ 44.840813 ┆ -0.593233 │\n",
       "│ -0.593233  ┆ tes\": [-0. ┆          ┆            ┆   ┆       ┆            ┆           ┆           │\n",
       "│            ┆ 593233,    ┆          ┆            ┆   ┆       ┆            ┆           ┆           │\n",
       "│            ┆ 44…        ┆          ┆            ┆   ┆       ┆            ┆           ┆           │\n",
       "└────────────┴────────────┴──────────┴────────────┴───┴───────┴────────────┴───────────┴───────────┘"
      ]
     },
     "execution_count": 223,
     "metadata": {},
     "output_type": "execute_result"
    }
   ],
   "source": [
    "stations.head(3)"
   ]
  },
  {
   "cell_type": "code",
   "execution_count": 224,
   "metadata": {
    "ExecuteTime": {
     "end_time": "2021-04-15T15:22:49.662821Z",
     "start_time": "2021-04-15T15:22:49.646112Z"
    }
   },
   "outputs": [
    {
     "data": {
      "text/plain": [
       "(190, 9)"
      ]
     },
     "execution_count": 224,
     "metadata": {},
     "output_type": "execute_result"
    }
   ],
   "source": [
    "stations.shape"
   ]
  },
  {
   "cell_type": "code",
   "execution_count": 225,
   "metadata": {
    "ExecuteTime": {
     "end_time": "2021-04-15T15:22:51.475236Z",
     "start_time": "2021-04-15T15:22:51.449971Z"
    }
   },
   "outputs": [
    {
     "data": {
      "text/html": [
       "<div><style>\n",
       ".dataframe > thead > tr,\n",
       ".dataframe > tbody > tr {\n",
       "  text-align: right;\n",
       "  white-space: pre-wrap;\n",
       "}\n",
       "</style>\n",
       "<small>shape: (190, 9)</small><table border=\"1\" class=\"dataframe\"><thead><tr><th>Geo Point</th><th>Geo Shape</th><th>COMMUNE</th><th>total_stand</th><th>NOM</th><th>TYPEA</th><th>station_id</th><th>lat</th><th>lon</th></tr><tr><td>str</td><td>str</td><td>str</td><td>i64</td><td>str</td><td>str</td><td>u16</td><td>f64</td><td>f64</td></tr></thead><tbody><tr><td>&quot;44.83803,-0.58437&quot;</td><td>&quot;{&quot;coordinates&quot;: [-0.58437, 44.…</td><td>&quot;Bordeaux&quot;</td><td>43</td><td>&quot;Meriadeck&quot;</td><td>&quot;VLS&quot;</td><td>1</td><td>44.83803</td><td>-0.58437</td></tr><tr><td>&quot;44.83784,-0.59028&quot;</td><td>&quot;{&quot;coordinates&quot;: [-0.59028, 44.…</td><td>&quot;Bordeaux&quot;</td><td>20</td><td>&quot;St Bruno&quot;</td><td>&quot;VLS&quot;</td><td>2</td><td>44.83784</td><td>-0.59028</td></tr><tr><td>&quot;44.840813,-0.593233&quot;</td><td>&quot;{&quot;coordinates&quot;: [-0.593233, 44…</td><td>&quot;Bordeaux&quot;</td><td>26</td><td>&quot;Piscine Judaique&quot;</td><td>&quot;VLS&quot;</td><td>3</td><td>44.840813</td><td>-0.593233</td></tr><tr><td>&quot;44.84221,-0.58482&quot;</td><td>&quot;{&quot;coordinates&quot;: [-0.58482, 44.…</td><td>&quot;Bordeaux&quot;</td><td>20</td><td>&quot;St Seurin&quot;</td><td>&quot;VLS&quot;</td><td>4</td><td>44.84221</td><td>-0.58482</td></tr><tr><td>&quot;44.840712,-0.581124&quot;</td><td>&quot;{&quot;coordinates&quot;: [-0.581124, 44…</td><td>&quot;Bordeaux&quot;</td><td>40</td><td>&quot;Place Gambetta&quot;</td><td>&quot;VLS&quot;</td><td>5</td><td>44.840714</td><td>-0.581124</td></tr><tr><td>&hellip;</td><td>&hellip;</td><td>&hellip;</td><td>&hellip;</td><td>&hellip;</td><td>&hellip;</td><td>&hellip;</td><td>&hellip;</td><td>&hellip;</td></tr><tr><td>&quot;44.843856,-0.55744&quot;</td><td>&quot;{&quot;coordinates&quot;: [-0.55744, 44.…</td><td>&quot;Bordeaux&quot;</td><td>5</td><td>&quot;S67&quot;</td><td>&quot;VLS&quot;</td><td>567</td><td>44.843857</td><td>-0.55744</td></tr><tr><td>&quot;44.860149,-0.554283&quot;</td><td>&quot;{&quot;coordinates&quot;: [-0.554283, 44…</td><td>&quot;Bordeaux&quot;</td><td>5</td><td>&quot;S98&quot;</td><td>&quot;VLS&quot;</td><td>598</td><td>44.86015</td><td>-0.554283</td></tr><tr><td>&quot;44.832614,-0.571034&quot;</td><td>&quot;{&quot;coordinates&quot;: [-0.571034, 44…</td><td>&quot;Bordeaux&quot;</td><td>5</td><td>&quot;S105&quot;</td><td>&quot;VLS&quot;</td><td>605</td><td>44.832615</td><td>-0.571034</td></tr><tr><td>&quot;44.826202,-0.557041&quot;</td><td>&quot;{&quot;coordinates&quot;: [-0.557041, 44…</td><td>&quot;Bordeaux&quot;</td><td>10</td><td>&quot;S127&quot;</td><td>&quot;VLS&quot;</td><td>627</td><td>44.826202</td><td>-0.557041</td></tr><tr><td>&quot;44.861715,-0.55157&quot;</td><td>&quot;{&quot;coordinates&quot;: [-0.55157, 44.…</td><td>&quot;Bordeaux&quot;</td><td>10</td><td>&quot;S172&quot;</td><td>&quot;VLS&quot;</td><td>672</td><td>44.861713</td><td>-0.55157</td></tr></tbody></table></div>"
      ],
      "text/plain": [
       "shape: (190, 9)\n",
       "┌────────────┬────────────┬──────────┬────────────┬───┬───────┬────────────┬───────────┬───────────┐\n",
       "│ Geo Point  ┆ Geo Shape  ┆ COMMUNE  ┆ total_stan ┆ … ┆ TYPEA ┆ station_id ┆ lat       ┆ lon       │\n",
       "│ ---        ┆ ---        ┆ ---      ┆ d          ┆   ┆ ---   ┆ ---        ┆ ---       ┆ ---       │\n",
       "│ str        ┆ str        ┆ str      ┆ ---        ┆   ┆ str   ┆ u16        ┆ f64       ┆ f64       │\n",
       "│            ┆            ┆          ┆ i64        ┆   ┆       ┆            ┆           ┆           │\n",
       "╞════════════╪════════════╪══════════╪════════════╪═══╪═══════╪════════════╪═══════════╪═══════════╡\n",
       "│ 44.83803,- ┆ {\"coordina ┆ Bordeaux ┆ 43         ┆ … ┆ VLS   ┆ 1          ┆ 44.83803  ┆ -0.58437  │\n",
       "│ 0.58437    ┆ tes\":      ┆          ┆            ┆   ┆       ┆            ┆           ┆           │\n",
       "│            ┆ [-0.58437, ┆          ┆            ┆   ┆       ┆            ┆           ┆           │\n",
       "│            ┆ 44.…       ┆          ┆            ┆   ┆       ┆            ┆           ┆           │\n",
       "│ 44.83784,- ┆ {\"coordina ┆ Bordeaux ┆ 20         ┆ … ┆ VLS   ┆ 2          ┆ 44.83784  ┆ -0.59028  │\n",
       "│ 0.59028    ┆ tes\":      ┆          ┆            ┆   ┆       ┆            ┆           ┆           │\n",
       "│            ┆ [-0.59028, ┆          ┆            ┆   ┆       ┆            ┆           ┆           │\n",
       "│            ┆ 44.…       ┆          ┆            ┆   ┆       ┆            ┆           ┆           │\n",
       "│ 44.840813, ┆ {\"coordina ┆ Bordeaux ┆ 26         ┆ … ┆ VLS   ┆ 3          ┆ 44.840813 ┆ -0.593233 │\n",
       "│ -0.593233  ┆ tes\": [-0. ┆          ┆            ┆   ┆       ┆            ┆           ┆           │\n",
       "│            ┆ 593233,    ┆          ┆            ┆   ┆       ┆            ┆           ┆           │\n",
       "│            ┆ 44…        ┆          ┆            ┆   ┆       ┆            ┆           ┆           │\n",
       "│ 44.84221,- ┆ {\"coordina ┆ Bordeaux ┆ 20         ┆ … ┆ VLS   ┆ 4          ┆ 44.84221  ┆ -0.58482  │\n",
       "│ 0.58482    ┆ tes\":      ┆          ┆            ┆   ┆       ┆            ┆           ┆           │\n",
       "│            ┆ [-0.58482, ┆          ┆            ┆   ┆       ┆            ┆           ┆           │\n",
       "│            ┆ 44.…       ┆          ┆            ┆   ┆       ┆            ┆           ┆           │\n",
       "│ 44.840712, ┆ {\"coordina ┆ Bordeaux ┆ 40         ┆ … ┆ VLS   ┆ 5          ┆ 44.840714 ┆ -0.581124 │\n",
       "│ -0.581124  ┆ tes\": [-0. ┆          ┆            ┆   ┆       ┆            ┆           ┆           │\n",
       "│            ┆ 581124,    ┆          ┆            ┆   ┆       ┆            ┆           ┆           │\n",
       "│            ┆ 44…        ┆          ┆            ┆   ┆       ┆            ┆           ┆           │\n",
       "│ …          ┆ …          ┆ …        ┆ …          ┆ … ┆ …     ┆ …          ┆ …         ┆ …         │\n",
       "│ 44.843856, ┆ {\"coordina ┆ Bordeaux ┆ 5          ┆ … ┆ VLS   ┆ 567        ┆ 44.843857 ┆ -0.55744  │\n",
       "│ -0.55744   ┆ tes\":      ┆          ┆            ┆   ┆       ┆            ┆           ┆           │\n",
       "│            ┆ [-0.55744, ┆          ┆            ┆   ┆       ┆            ┆           ┆           │\n",
       "│            ┆ 44.…       ┆          ┆            ┆   ┆       ┆            ┆           ┆           │\n",
       "│ 44.860149, ┆ {\"coordina ┆ Bordeaux ┆ 5          ┆ … ┆ VLS   ┆ 598        ┆ 44.86015  ┆ -0.554283 │\n",
       "│ -0.554283  ┆ tes\": [-0. ┆          ┆            ┆   ┆       ┆            ┆           ┆           │\n",
       "│            ┆ 554283,    ┆          ┆            ┆   ┆       ┆            ┆           ┆           │\n",
       "│            ┆ 44…        ┆          ┆            ┆   ┆       ┆            ┆           ┆           │\n",
       "│ 44.832614, ┆ {\"coordina ┆ Bordeaux ┆ 5          ┆ … ┆ VLS   ┆ 605        ┆ 44.832615 ┆ -0.571034 │\n",
       "│ -0.571034  ┆ tes\": [-0. ┆          ┆            ┆   ┆       ┆            ┆           ┆           │\n",
       "│            ┆ 571034,    ┆          ┆            ┆   ┆       ┆            ┆           ┆           │\n",
       "│            ┆ 44…        ┆          ┆            ┆   ┆       ┆            ┆           ┆           │\n",
       "│ 44.826202, ┆ {\"coordina ┆ Bordeaux ┆ 10         ┆ … ┆ VLS   ┆ 627        ┆ 44.826202 ┆ -0.557041 │\n",
       "│ -0.557041  ┆ tes\": [-0. ┆          ┆            ┆   ┆       ┆            ┆           ┆           │\n",
       "│            ┆ 557041,    ┆          ┆            ┆   ┆       ┆            ┆           ┆           │\n",
       "│            ┆ 44…        ┆          ┆            ┆   ┆       ┆            ┆           ┆           │\n",
       "│ 44.861715, ┆ {\"coordina ┆ Bordeaux ┆ 10         ┆ … ┆ VLS   ┆ 672        ┆ 44.861713 ┆ -0.55157  │\n",
       "│ -0.55157   ┆ tes\":      ┆          ┆            ┆   ┆       ┆            ┆           ┆           │\n",
       "│            ┆ [-0.55157, ┆          ┆            ┆   ┆       ┆            ┆           ┆           │\n",
       "│            ┆ 44.…       ┆          ┆            ┆   ┆       ┆            ┆           ┆           │\n",
       "└────────────┴────────────┴──────────┴────────────┴───┴───────┴────────────┴───────────┴───────────┘"
      ]
     },
     "execution_count": 225,
     "metadata": {},
     "output_type": "execute_result"
    }
   ],
   "source": [
    "stations"
   ]
  },
  {
   "cell_type": "code",
   "execution_count": null,
   "metadata": {
    "ExecuteTime": {
     "end_time": "2021-04-15T15:22:52.365108Z",
     "start_time": "2021-04-15T15:22:52.239630Z"
    }
   },
   "outputs": [],
   "source": [
    "import plotly.express as px\n",
    "\n",
    "px.scatter(\n",
    "    stations,\n",
    "    x=\"lat\",\n",
    "    y=\"lon\",\n",
    ")"
   ]
  }
 ],
 "metadata": {
  "interpreter": {
   "hash": "fed283c316bdff65bb0e6fa0ac400ca324e239091c2425959241ec6ed8e34148"
  },
  "kernelspec": {
   "display_name": "Python [conda env:vcub_keeper] *",
   "language": "python",
   "name": "python3"
  },
  "language_info": {
   "codemirror_mode": {
    "name": "ipython",
    "version": 3
   },
   "file_extension": ".py",
   "mimetype": "text/x-python",
   "name": "python",
   "nbconvert_exporter": "python",
   "pygments_lexer": "ipython3",
   "version": "3.12.5"
  },
  "toc": {
   "base_numbering": 1,
   "nav_menu": {},
   "number_sections": true,
   "sideBar": true,
   "skip_h1_title": false,
   "title_cell": "Table of Contents",
   "title_sidebar": "Contents",
   "toc_cell": true,
   "toc_position": {},
   "toc_section_display": true,
   "toc_window_display": true
  }
 },
 "nbformat": 4,
 "nbformat_minor": 4
}
