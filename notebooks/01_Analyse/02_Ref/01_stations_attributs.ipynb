version https://git-lfs.github.com/spec/v1
oid sha256:673c0e83cb939e5d8f3b57586dc5b9ef9ff4d82ba6ce65f7eb002f338fbf31f8
size 42282
