{
 "cells": [
  {
   "cell_type": "markdown",
   "metadata": {
    "toc": true
   },
   "source": [
    "<h1>Table of Contents<span class=\"tocSkip\"></span></h1>\n",
    "<div class=\"toc\"><ul class=\"toc-item\"><li><span><a href=\"#Objectif-:\" data-toc-modified-id=\"Objectif-:-1\"><span class=\"toc-item-num\">1&nbsp;&nbsp;</span>Objectif :</a></span></li><li><span><a href=\"#Dev\" data-toc-modified-id=\"Dev-2\"><span class=\"toc-item-num\">2&nbsp;&nbsp;</span>Dev</a></span></li><li><span><a href=\"#Industrialisation\" data-toc-modified-id=\"Industrialisation-3\"><span class=\"toc-item-num\">3&nbsp;&nbsp;</span>Industrialisation</a></span><ul class=\"toc-item\"><li><span><a href=\"#Script\" data-toc-modified-id=\"Script-3.1\"><span class=\"toc-item-num\">3.1&nbsp;&nbsp;</span>Script</a></span></li></ul></li><li><span><a href=\"#Analyse-de-la-feature\" data-toc-modified-id=\"Analyse-de-la-feature-4\"><span class=\"toc-item-num\">4&nbsp;&nbsp;</span>Analyse de la feature</a></span></li></ul></div>"
   ]
  },
  {
   "cell_type": "code",
   "execution_count": 1,
   "metadata": {
    "ExecuteTime": {
     "end_time": "2020-11-08T10:37:02.787360Z",
     "start_time": "2020-11-08T10:37:02.067147Z"
    }
   },
   "outputs": [],
   "source": [
    "import pandas as pd\n",
    "import numpy as np\n",
    "\n",
    "\n",
    "from vcub_keeper.reader.reader import *\n",
    "from vcub_keeper.visualisation import plot_station_activity\n",
    "\n",
    "import matplotlib.pyplot as plt\n",
    "import seaborn as sns\n",
    "sns.set_style('whitegrid')\n",
    "%matplotlib inline\n",
    "\n",
    "%load_ext autoreload\n",
    "%autoreload 2"
   ]
  },
  {
   "cell_type": "markdown",
   "metadata": {},
   "source": [
    "## Objectif :"
   ]
  },
  {
   "cell_type": "markdown",
   "metadata": {},
   "source": [
    "- Joindre les données d'activités des stations avec les données météo.\n",
    "- Industrialisation de la fonction.\n",
    "- Analyse des résultats.\n",
    "- [Issue Github](https://github.com/armgilles/vcub_keeper/issues/25)"
   ]
  },
  {
   "cell_type": "markdown",
   "metadata": {
    "ExecuteTime": {
     "end_time": "2020-08-25T14:42:39.310840Z",
     "start_time": "2020-08-25T14:42:39.296985Z"
    }
   },
   "source": [
    "## Dev"
   ]
  },
  {
   "cell_type": "code",
   "execution_count": 2,
   "metadata": {
    "ExecuteTime": {
     "end_time": "2020-11-08T10:37:22.180942Z",
     "start_time": "2020-11-08T10:37:19.237470Z"
    }
   },
   "outputs": [],
   "source": [
    "# Lecture de l'activité des stations\n",
    "ts_activity = read_time_serie_activity(path_directory=ROOT_DATA_CLEAN)\n",
    "\n",
    "# Lecture des données météo\n",
    "meteo = read_meteo(path_directory=ROOT_DATA_REF)"
   ]
  },
  {
   "cell_type": "code",
   "execution_count": 3,
   "metadata": {
    "ExecuteTime": {
     "end_time": "2020-11-08T10:37:22.195148Z",
     "start_time": "2020-11-08T10:37:22.182221Z"
    }
   },
   "outputs": [
    {
     "data": {
      "text/plain": [
       "(16564512, 8)"
      ]
     },
     "execution_count": 3,
     "metadata": {},
     "output_type": "execute_result"
    }
   ],
   "source": [
    "ts_activity.shape"
   ]
  },
  {
   "cell_type": "code",
   "execution_count": 26,
   "metadata": {
    "ExecuteTime": {
     "end_time": "2020-10-02T16:11:55.045272Z",
     "start_time": "2020-10-02T16:11:54.903533Z"
    }
   },
   "outputs": [
    {
     "data": {
      "text/html": [
       "<div>\n",
       "<style scoped>\n",
       "    .dataframe tbody tr th:only-of-type {\n",
       "        vertical-align: middle;\n",
       "    }\n",
       "\n",
       "    .dataframe tbody tr th {\n",
       "        vertical-align: top;\n",
       "    }\n",
       "\n",
       "    .dataframe thead th {\n",
       "        text-align: right;\n",
       "    }\n",
       "</style>\n",
       "<table border=\"1\" class=\"dataframe\">\n",
       "  <thead>\n",
       "    <tr style=\"text-align: right;\">\n",
       "      <th></th>\n",
       "      <th>station_id</th>\n",
       "      <th>date</th>\n",
       "      <th>available_stands</th>\n",
       "      <th>available_bikes</th>\n",
       "      <th>status</th>\n",
       "      <th>transactions_in</th>\n",
       "      <th>transactions_out</th>\n",
       "      <th>transactions_all</th>\n",
       "    </tr>\n",
       "  </thead>\n",
       "  <tbody>\n",
       "    <tr>\n",
       "      <th>0</th>\n",
       "      <td>1</td>\n",
       "      <td>2018-12-01 00:10:00</td>\n",
       "      <td>28.0</td>\n",
       "      <td>4.0</td>\n",
       "      <td>1.0</td>\n",
       "      <td>0.0</td>\n",
       "      <td>0.0</td>\n",
       "      <td>0.0</td>\n",
       "    </tr>\n",
       "    <tr>\n",
       "      <th>1</th>\n",
       "      <td>1</td>\n",
       "      <td>2018-12-01 00:20:00</td>\n",
       "      <td>28.0</td>\n",
       "      <td>4.0</td>\n",
       "      <td>1.0</td>\n",
       "      <td>0.0</td>\n",
       "      <td>0.0</td>\n",
       "      <td>0.0</td>\n",
       "    </tr>\n",
       "    <tr>\n",
       "      <th>2</th>\n",
       "      <td>1</td>\n",
       "      <td>2018-12-01 00:30:00</td>\n",
       "      <td>28.0</td>\n",
       "      <td>4.0</td>\n",
       "      <td>1.0</td>\n",
       "      <td>0.0</td>\n",
       "      <td>0.0</td>\n",
       "      <td>0.0</td>\n",
       "    </tr>\n",
       "    <tr>\n",
       "      <th>3</th>\n",
       "      <td>1</td>\n",
       "      <td>2018-12-01 00:40:00</td>\n",
       "      <td>27.0</td>\n",
       "      <td>5.0</td>\n",
       "      <td>1.0</td>\n",
       "      <td>1.0</td>\n",
       "      <td>0.0</td>\n",
       "      <td>1.0</td>\n",
       "    </tr>\n",
       "    <tr>\n",
       "      <th>4</th>\n",
       "      <td>1</td>\n",
       "      <td>2018-12-01 00:50:00</td>\n",
       "      <td>27.0</td>\n",
       "      <td>5.0</td>\n",
       "      <td>1.0</td>\n",
       "      <td>0.0</td>\n",
       "      <td>0.0</td>\n",
       "      <td>0.0</td>\n",
       "    </tr>\n",
       "  </tbody>\n",
       "</table>\n",
       "</div>"
      ],
      "text/plain": [
       "   station_id                date  available_stands  available_bikes  status  \\\n",
       "0           1 2018-12-01 00:10:00              28.0              4.0     1.0   \n",
       "1           1 2018-12-01 00:20:00              28.0              4.0     1.0   \n",
       "2           1 2018-12-01 00:30:00              28.0              4.0     1.0   \n",
       "3           1 2018-12-01 00:40:00              27.0              5.0     1.0   \n",
       "4           1 2018-12-01 00:50:00              27.0              5.0     1.0   \n",
       "\n",
       "   transactions_in  transactions_out  transactions_all  \n",
       "0              0.0               0.0               0.0  \n",
       "1              0.0               0.0               0.0  \n",
       "2              0.0               0.0               0.0  \n",
       "3              1.0               0.0               1.0  \n",
       "4              0.0               0.0               0.0  "
      ]
     },
     "execution_count": 26,
     "metadata": {},
     "output_type": "execute_result"
    }
   ],
   "source": [
    "ts_activity.head()"
   ]
  },
  {
   "cell_type": "code",
   "execution_count": 27,
   "metadata": {
    "ExecuteTime": {
     "end_time": "2020-10-02T16:11:55.127774Z",
     "start_time": "2020-10-02T16:11:55.046862Z"
    }
   },
   "outputs": [
    {
     "data": {
      "text/html": [
       "<div>\n",
       "<style scoped>\n",
       "    .dataframe tbody tr th:only-of-type {\n",
       "        vertical-align: middle;\n",
       "    }\n",
       "\n",
       "    .dataframe tbody tr th {\n",
       "        vertical-align: top;\n",
       "    }\n",
       "\n",
       "    .dataframe thead th {\n",
       "        text-align: right;\n",
       "    }\n",
       "</style>\n",
       "<table border=\"1\" class=\"dataframe\">\n",
       "  <thead>\n",
       "    <tr style=\"text-align: right;\">\n",
       "      <th></th>\n",
       "      <th>date</th>\n",
       "      <th>temperature</th>\n",
       "      <th>pressure</th>\n",
       "      <th>humidity</th>\n",
       "      <th>precipitation</th>\n",
       "      <th>wind_speed</th>\n",
       "    </tr>\n",
       "  </thead>\n",
       "  <tbody>\n",
       "    <tr>\n",
       "      <th>15787</th>\n",
       "      <td>2020-09-17 19:00:00</td>\n",
       "      <td>26.4</td>\n",
       "      <td>1006.2</td>\n",
       "      <td>39</td>\n",
       "      <td>0.0</td>\n",
       "      <td>1.5</td>\n",
       "    </tr>\n",
       "    <tr>\n",
       "      <th>15788</th>\n",
       "      <td>2020-09-17 20:00:00</td>\n",
       "      <td>24.2</td>\n",
       "      <td>1006.3</td>\n",
       "      <td>49</td>\n",
       "      <td>0.0</td>\n",
       "      <td>0.5</td>\n",
       "    </tr>\n",
       "    <tr>\n",
       "      <th>15789</th>\n",
       "      <td>2020-09-17 21:00:00</td>\n",
       "      <td>23.9</td>\n",
       "      <td>1006.5</td>\n",
       "      <td>46</td>\n",
       "      <td>0.0</td>\n",
       "      <td>2.6</td>\n",
       "    </tr>\n",
       "    <tr>\n",
       "      <th>15790</th>\n",
       "      <td>2020-09-17 22:00:00</td>\n",
       "      <td>24.4</td>\n",
       "      <td>1006.3</td>\n",
       "      <td>45</td>\n",
       "      <td>0.0</td>\n",
       "      <td>3.1</td>\n",
       "    </tr>\n",
       "    <tr>\n",
       "      <th>15791</th>\n",
       "      <td>2020-09-17 23:00:00</td>\n",
       "      <td>24.4</td>\n",
       "      <td>1005.9</td>\n",
       "      <td>47</td>\n",
       "      <td>0.0</td>\n",
       "      <td>2.6</td>\n",
       "    </tr>\n",
       "  </tbody>\n",
       "</table>\n",
       "</div>"
      ],
      "text/plain": [
       "                     date  temperature  pressure  humidity  precipitation  \\\n",
       "15787 2020-09-17 19:00:00         26.4    1006.2        39            0.0   \n",
       "15788 2020-09-17 20:00:00         24.2    1006.3        49            0.0   \n",
       "15789 2020-09-17 21:00:00         23.9    1006.5        46            0.0   \n",
       "15790 2020-09-17 22:00:00         24.4    1006.3        45            0.0   \n",
       "15791 2020-09-17 23:00:00         24.4    1005.9        47            0.0   \n",
       "\n",
       "       wind_speed  \n",
       "15787         1.5  \n",
       "15788         0.5  \n",
       "15789         2.6  \n",
       "15790         3.1  \n",
       "15791         2.6  "
      ]
     },
     "execution_count": 27,
     "metadata": {},
     "output_type": "execute_result"
    }
   ],
   "source": [
    "meteo.tail()"
   ]
  },
  {
   "cell_type": "code",
   "execution_count": 29,
   "metadata": {
    "ExecuteTime": {
     "end_time": "2020-10-02T16:11:59.197293Z",
     "start_time": "2020-10-02T16:11:59.180056Z"
    }
   },
   "outputs": [],
   "source": [
    "# Too long\n",
    "#ts_activity['date_year_month'] = ts_activity['date'].dt.strftime(date_format='%Y-%m-%d') \n",
    "#1min 4s ± 124 ms per loop (mean ± std. dev. of 7 runs, 1 loop each)"
   ]
  },
  {
   "cell_type": "code",
   "execution_count": 30,
   "metadata": {
    "ExecuteTime": {
     "end_time": "2020-10-02T16:12:52.345717Z",
     "start_time": "2020-10-02T16:12:00.634310Z"
    }
   },
   "outputs": [],
   "source": [
    "# Faster way\n",
    "def fast_parse_date_(s):\n",
    "    \"\"\"\n",
    "    This is an extremely fast approach to datetime parsing.\n",
    "    For large data, the same dates are often repeated. Rather than\n",
    "    re-parse these, we store all unique dates, parse them, and\n",
    "    use a lookup to convert all dates.\n",
    "    \n",
    "    cf https://github.com/sanand0/benchmarks/tree/master/date-parse\n",
    "    \"\"\"\n",
    "    dates = {date: date.strftime(format='%Y-%m-%d %H') for date in pd.Series(s.unique())}\n",
    "    return s.apply(lambda v: dates[v])\n",
    "\n",
    "ts_activity['date_year_month_hours'] = fast_parse_date_(ts_activity['date'])\n",
    "# 44.9 s ± 194 ms per loop (mean ± std. dev. of 7 runs, 1 loop each)"
   ]
  },
  {
   "cell_type": "code",
   "execution_count": 31,
   "metadata": {
    "ExecuteTime": {
     "end_time": "2020-10-02T16:12:52.443829Z",
     "start_time": "2020-10-02T16:12:52.347009Z"
    }
   },
   "outputs": [],
   "source": [
    "meteo['date_year_month_hours'] = fast_parse_date_(meteo['date'])"
   ]
  },
  {
   "cell_type": "code",
   "execution_count": 32,
   "metadata": {
    "ExecuteTime": {
     "end_time": "2020-10-02T16:12:52.462279Z",
     "start_time": "2020-10-02T16:12:52.444937Z"
    }
   },
   "outputs": [
    {
     "data": {
      "text/html": [
       "<div>\n",
       "<style scoped>\n",
       "    .dataframe tbody tr th:only-of-type {\n",
       "        vertical-align: middle;\n",
       "    }\n",
       "\n",
       "    .dataframe tbody tr th {\n",
       "        vertical-align: top;\n",
       "    }\n",
       "\n",
       "    .dataframe thead th {\n",
       "        text-align: right;\n",
       "    }\n",
       "</style>\n",
       "<table border=\"1\" class=\"dataframe\">\n",
       "  <thead>\n",
       "    <tr style=\"text-align: right;\">\n",
       "      <th></th>\n",
       "      <th>station_id</th>\n",
       "      <th>date</th>\n",
       "      <th>available_stands</th>\n",
       "      <th>available_bikes</th>\n",
       "      <th>status</th>\n",
       "      <th>transactions_in</th>\n",
       "      <th>transactions_out</th>\n",
       "      <th>transactions_all</th>\n",
       "      <th>date_year_month_hours</th>\n",
       "    </tr>\n",
       "  </thead>\n",
       "  <tbody>\n",
       "    <tr>\n",
       "      <th>0</th>\n",
       "      <td>1</td>\n",
       "      <td>2018-12-01 00:10:00</td>\n",
       "      <td>28.0</td>\n",
       "      <td>4.0</td>\n",
       "      <td>1.0</td>\n",
       "      <td>0.0</td>\n",
       "      <td>0.0</td>\n",
       "      <td>0.0</td>\n",
       "      <td>2018-12-01 00</td>\n",
       "    </tr>\n",
       "    <tr>\n",
       "      <th>1</th>\n",
       "      <td>1</td>\n",
       "      <td>2018-12-01 00:20:00</td>\n",
       "      <td>28.0</td>\n",
       "      <td>4.0</td>\n",
       "      <td>1.0</td>\n",
       "      <td>0.0</td>\n",
       "      <td>0.0</td>\n",
       "      <td>0.0</td>\n",
       "      <td>2018-12-01 00</td>\n",
       "    </tr>\n",
       "    <tr>\n",
       "      <th>2</th>\n",
       "      <td>1</td>\n",
       "      <td>2018-12-01 00:30:00</td>\n",
       "      <td>28.0</td>\n",
       "      <td>4.0</td>\n",
       "      <td>1.0</td>\n",
       "      <td>0.0</td>\n",
       "      <td>0.0</td>\n",
       "      <td>0.0</td>\n",
       "      <td>2018-12-01 00</td>\n",
       "    </tr>\n",
       "    <tr>\n",
       "      <th>3</th>\n",
       "      <td>1</td>\n",
       "      <td>2018-12-01 00:40:00</td>\n",
       "      <td>27.0</td>\n",
       "      <td>5.0</td>\n",
       "      <td>1.0</td>\n",
       "      <td>1.0</td>\n",
       "      <td>0.0</td>\n",
       "      <td>1.0</td>\n",
       "      <td>2018-12-01 00</td>\n",
       "    </tr>\n",
       "    <tr>\n",
       "      <th>4</th>\n",
       "      <td>1</td>\n",
       "      <td>2018-12-01 00:50:00</td>\n",
       "      <td>27.0</td>\n",
       "      <td>5.0</td>\n",
       "      <td>1.0</td>\n",
       "      <td>0.0</td>\n",
       "      <td>0.0</td>\n",
       "      <td>0.0</td>\n",
       "      <td>2018-12-01 00</td>\n",
       "    </tr>\n",
       "  </tbody>\n",
       "</table>\n",
       "</div>"
      ],
      "text/plain": [
       "   station_id                date  available_stands  available_bikes  status  \\\n",
       "0           1 2018-12-01 00:10:00              28.0              4.0     1.0   \n",
       "1           1 2018-12-01 00:20:00              28.0              4.0     1.0   \n",
       "2           1 2018-12-01 00:30:00              28.0              4.0     1.0   \n",
       "3           1 2018-12-01 00:40:00              27.0              5.0     1.0   \n",
       "4           1 2018-12-01 00:50:00              27.0              5.0     1.0   \n",
       "\n",
       "   transactions_in  transactions_out  transactions_all date_year_month_hours  \n",
       "0              0.0               0.0               0.0         2018-12-01 00  \n",
       "1              0.0               0.0               0.0         2018-12-01 00  \n",
       "2              0.0               0.0               0.0         2018-12-01 00  \n",
       "3              1.0               0.0               1.0         2018-12-01 00  \n",
       "4              0.0               0.0               0.0         2018-12-01 00  "
      ]
     },
     "execution_count": 32,
     "metadata": {},
     "output_type": "execute_result"
    }
   ],
   "source": [
    "ts_activity.head()"
   ]
  },
  {
   "cell_type": "code",
   "execution_count": 34,
   "metadata": {
    "ExecuteTime": {
     "end_time": "2020-10-02T16:14:01.767356Z",
     "start_time": "2020-10-02T16:14:01.751787Z"
    }
   },
   "outputs": [
    {
     "data": {
      "text/plain": [
       "(16564512, 9)"
      ]
     },
     "execution_count": 34,
     "metadata": {},
     "output_type": "execute_result"
    }
   ],
   "source": [
    "ts_activity.shape"
   ]
  },
  {
   "cell_type": "code",
   "execution_count": 35,
   "metadata": {
    "ExecuteTime": {
     "end_time": "2020-10-02T16:14:02.856884Z",
     "start_time": "2020-10-02T16:14:02.838312Z"
    }
   },
   "outputs": [
    {
     "data": {
      "text/html": [
       "<div>\n",
       "<style scoped>\n",
       "    .dataframe tbody tr th:only-of-type {\n",
       "        vertical-align: middle;\n",
       "    }\n",
       "\n",
       "    .dataframe tbody tr th {\n",
       "        vertical-align: top;\n",
       "    }\n",
       "\n",
       "    .dataframe thead th {\n",
       "        text-align: right;\n",
       "    }\n",
       "</style>\n",
       "<table border=\"1\" class=\"dataframe\">\n",
       "  <thead>\n",
       "    <tr style=\"text-align: right;\">\n",
       "      <th></th>\n",
       "      <th>date</th>\n",
       "      <th>temperature</th>\n",
       "      <th>pressure</th>\n",
       "      <th>humidity</th>\n",
       "      <th>precipitation</th>\n",
       "      <th>wind_speed</th>\n",
       "      <th>date_year_month_hours</th>\n",
       "    </tr>\n",
       "  </thead>\n",
       "  <tbody>\n",
       "    <tr>\n",
       "      <th>0</th>\n",
       "      <td>2018-11-30 00:00:00</td>\n",
       "      <td>10.5</td>\n",
       "      <td>1010.5</td>\n",
       "      <td>93</td>\n",
       "      <td>0.000000</td>\n",
       "      <td>6.4</td>\n",
       "      <td>2018-11-30 00</td>\n",
       "    </tr>\n",
       "    <tr>\n",
       "      <th>1</th>\n",
       "      <td>2018-11-30 01:00:00</td>\n",
       "      <td>10.3</td>\n",
       "      <td>1010.1</td>\n",
       "      <td>100</td>\n",
       "      <td>0.000000</td>\n",
       "      <td>6.8</td>\n",
       "      <td>2018-11-30 01</td>\n",
       "    </tr>\n",
       "    <tr>\n",
       "      <th>2</th>\n",
       "      <td>2018-11-30 02:00:00</td>\n",
       "      <td>10.3</td>\n",
       "      <td>1010.5</td>\n",
       "      <td>100</td>\n",
       "      <td>0.000000</td>\n",
       "      <td>6.8</td>\n",
       "      <td>2018-11-30 02</td>\n",
       "    </tr>\n",
       "    <tr>\n",
       "      <th>3</th>\n",
       "      <td>2018-11-30 03:00:00</td>\n",
       "      <td>NaN</td>\n",
       "      <td>1016.4</td>\n",
       "      <td>100</td>\n",
       "      <td>0.575195</td>\n",
       "      <td>6.4</td>\n",
       "      <td>2018-11-30 03</td>\n",
       "    </tr>\n",
       "    <tr>\n",
       "      <th>4</th>\n",
       "      <td>2018-11-30 04:00:00</td>\n",
       "      <td>0.0</td>\n",
       "      <td>1009.7</td>\n",
       "      <td>100</td>\n",
       "      <td>0.000000</td>\n",
       "      <td>6.0</td>\n",
       "      <td>2018-11-30 04</td>\n",
       "    </tr>\n",
       "  </tbody>\n",
       "</table>\n",
       "</div>"
      ],
      "text/plain": [
       "                 date  temperature  pressure  humidity  precipitation  \\\n",
       "0 2018-11-30 00:00:00         10.5    1010.5        93       0.000000   \n",
       "1 2018-11-30 01:00:00         10.3    1010.1       100       0.000000   \n",
       "2 2018-11-30 02:00:00         10.3    1010.5       100       0.000000   \n",
       "3 2018-11-30 03:00:00          NaN    1016.4       100       0.575195   \n",
       "4 2018-11-30 04:00:00          0.0    1009.7       100       0.000000   \n",
       "\n",
       "   wind_speed date_year_month_hours  \n",
       "0         6.4         2018-11-30 00  \n",
       "1         6.8         2018-11-30 01  \n",
       "2         6.8         2018-11-30 02  \n",
       "3         6.4         2018-11-30 03  \n",
       "4         6.0         2018-11-30 04  "
      ]
     },
     "execution_count": 35,
     "metadata": {},
     "output_type": "execute_result"
    }
   ],
   "source": [
    "meteo.head()"
   ]
  },
  {
   "cell_type": "code",
   "execution_count": 36,
   "metadata": {
    "ExecuteTime": {
     "end_time": "2020-10-02T16:14:07.277243Z",
     "start_time": "2020-10-02T16:14:04.555777Z"
    }
   },
   "outputs": [],
   "source": [
    "ts_activity = ts_activity.merge(meteo.drop('date', axis=1),\n",
    "                                on='date_year_month_hours', how='left')"
   ]
  },
  {
   "cell_type": "code",
   "execution_count": 37,
   "metadata": {
    "ExecuteTime": {
     "end_time": "2020-10-02T16:14:09.300561Z",
     "start_time": "2020-10-02T16:14:08.278856Z"
    }
   },
   "outputs": [
    {
     "data": {
      "text/html": [
       "<div>\n",
       "<style scoped>\n",
       "    .dataframe tbody tr th:only-of-type {\n",
       "        vertical-align: middle;\n",
       "    }\n",
       "\n",
       "    .dataframe tbody tr th {\n",
       "        vertical-align: top;\n",
       "    }\n",
       "\n",
       "    .dataframe thead th {\n",
       "        text-align: right;\n",
       "    }\n",
       "</style>\n",
       "<table border=\"1\" class=\"dataframe\">\n",
       "  <thead>\n",
       "    <tr style=\"text-align: right;\">\n",
       "      <th></th>\n",
       "      <th>station_id</th>\n",
       "      <th>date</th>\n",
       "      <th>available_stands</th>\n",
       "      <th>available_bikes</th>\n",
       "      <th>status</th>\n",
       "      <th>transactions_in</th>\n",
       "      <th>transactions_out</th>\n",
       "      <th>transactions_all</th>\n",
       "      <th>date_year_month_hours</th>\n",
       "      <th>temperature</th>\n",
       "      <th>pressure</th>\n",
       "      <th>humidity</th>\n",
       "      <th>precipitation</th>\n",
       "      <th>wind_speed</th>\n",
       "    </tr>\n",
       "  </thead>\n",
       "  <tbody>\n",
       "    <tr>\n",
       "      <th>7320003</th>\n",
       "      <td>81</td>\n",
       "      <td>2019-04-15 06:50:00</td>\n",
       "      <td>NaN</td>\n",
       "      <td>NaN</td>\n",
       "      <td>0.0</td>\n",
       "      <td>0.0</td>\n",
       "      <td>0.0</td>\n",
       "      <td>0.0</td>\n",
       "      <td>2019-04-15 06</td>\n",
       "      <td>7.9</td>\n",
       "      <td>1008.9</td>\n",
       "      <td>50</td>\n",
       "      <td>0.0</td>\n",
       "      <td>6.8</td>\n",
       "    </tr>\n",
       "    <tr>\n",
       "      <th>3994187</th>\n",
       "      <td>44</td>\n",
       "      <td>2020-07-12 14:00:00</td>\n",
       "      <td>6.0</td>\n",
       "      <td>14.0</td>\n",
       "      <td>1.0</td>\n",
       "      <td>0.0</td>\n",
       "      <td>0.0</td>\n",
       "      <td>0.0</td>\n",
       "      <td>2020-07-12 14</td>\n",
       "      <td>28.4</td>\n",
       "      <td>1014.7</td>\n",
       "      <td>25</td>\n",
       "      <td>0.0</td>\n",
       "      <td>4.4</td>\n",
       "    </tr>\n",
       "    <tr>\n",
       "      <th>13601444</th>\n",
       "      <td>149</td>\n",
       "      <td>2020-03-19 21:00:00</td>\n",
       "      <td>9.0</td>\n",
       "      <td>11.0</td>\n",
       "      <td>1.0</td>\n",
       "      <td>0.0</td>\n",
       "      <td>0.0</td>\n",
       "      <td>0.0</td>\n",
       "      <td>2020-03-19 21</td>\n",
       "      <td>12.0</td>\n",
       "      <td>1012.2</td>\n",
       "      <td>78</td>\n",
       "      <td>0.0</td>\n",
       "      <td>8.0</td>\n",
       "    </tr>\n",
       "    <tr>\n",
       "      <th>6291569</th>\n",
       "      <td>69</td>\n",
       "      <td>2020-08-23 07:10:00</td>\n",
       "      <td>5.0</td>\n",
       "      <td>9.0</td>\n",
       "      <td>1.0</td>\n",
       "      <td>0.0</td>\n",
       "      <td>0.0</td>\n",
       "      <td>0.0</td>\n",
       "      <td>2020-08-23 07</td>\n",
       "      <td>17.0</td>\n",
       "      <td>1018.9</td>\n",
       "      <td>89</td>\n",
       "      <td>0.0</td>\n",
       "      <td>2.4</td>\n",
       "    </tr>\n",
       "    <tr>\n",
       "      <th>7934386</th>\n",
       "      <td>87</td>\n",
       "      <td>2020-07-05 21:00:00</td>\n",
       "      <td>8.0</td>\n",
       "      <td>12.0</td>\n",
       "      <td>1.0</td>\n",
       "      <td>0.0</td>\n",
       "      <td>0.0</td>\n",
       "      <td>0.0</td>\n",
       "      <td>2020-07-05 21</td>\n",
       "      <td>19.6</td>\n",
       "      <td>1016.9</td>\n",
       "      <td>88</td>\n",
       "      <td>0.0</td>\n",
       "      <td>5.2</td>\n",
       "    </tr>\n",
       "    <tr>\n",
       "      <th>3978940</th>\n",
       "      <td>44</td>\n",
       "      <td>2020-03-28 16:50:00</td>\n",
       "      <td>0.0</td>\n",
       "      <td>20.0</td>\n",
       "      <td>1.0</td>\n",
       "      <td>0.0</td>\n",
       "      <td>0.0</td>\n",
       "      <td>0.0</td>\n",
       "      <td>2020-03-28 16</td>\n",
       "      <td>17.4</td>\n",
       "      <td>1012.3</td>\n",
       "      <td>35</td>\n",
       "      <td>0.0</td>\n",
       "      <td>4.4</td>\n",
       "    </tr>\n",
       "    <tr>\n",
       "      <th>8629538</th>\n",
       "      <td>95</td>\n",
       "      <td>2019-10-15 09:00:00</td>\n",
       "      <td>9.0</td>\n",
       "      <td>7.0</td>\n",
       "      <td>1.0</td>\n",
       "      <td>0.0</td>\n",
       "      <td>0.0</td>\n",
       "      <td>0.0</td>\n",
       "      <td>2019-10-15 09</td>\n",
       "      <td>15.2</td>\n",
       "      <td>1008.9</td>\n",
       "      <td>80</td>\n",
       "      <td>0.0</td>\n",
       "      <td>8.8</td>\n",
       "    </tr>\n",
       "    <tr>\n",
       "      <th>9568361</th>\n",
       "      <td>105</td>\n",
       "      <td>2020-03-18 01:10:00</td>\n",
       "      <td>10.0</td>\n",
       "      <td>10.0</td>\n",
       "      <td>1.0</td>\n",
       "      <td>0.0</td>\n",
       "      <td>0.0</td>\n",
       "      <td>0.0</td>\n",
       "      <td>2020-03-18 01</td>\n",
       "      <td>6.9</td>\n",
       "      <td>1024.1</td>\n",
       "      <td>97</td>\n",
       "      <td>0.0</td>\n",
       "      <td>4.0</td>\n",
       "    </tr>\n",
       "  </tbody>\n",
       "</table>\n",
       "</div>"
      ],
      "text/plain": [
       "          station_id                date  available_stands  available_bikes  \\\n",
       "7320003           81 2019-04-15 06:50:00               NaN              NaN   \n",
       "3994187           44 2020-07-12 14:00:00               6.0             14.0   \n",
       "13601444         149 2020-03-19 21:00:00               9.0             11.0   \n",
       "6291569           69 2020-08-23 07:10:00               5.0              9.0   \n",
       "7934386           87 2020-07-05 21:00:00               8.0             12.0   \n",
       "3978940           44 2020-03-28 16:50:00               0.0             20.0   \n",
       "8629538           95 2019-10-15 09:00:00               9.0              7.0   \n",
       "9568361          105 2020-03-18 01:10:00              10.0             10.0   \n",
       "\n",
       "          status  transactions_in  transactions_out  transactions_all  \\\n",
       "7320003      0.0              0.0               0.0               0.0   \n",
       "3994187      1.0              0.0               0.0               0.0   \n",
       "13601444     1.0              0.0               0.0               0.0   \n",
       "6291569      1.0              0.0               0.0               0.0   \n",
       "7934386      1.0              0.0               0.0               0.0   \n",
       "3978940      1.0              0.0               0.0               0.0   \n",
       "8629538      1.0              0.0               0.0               0.0   \n",
       "9568361      1.0              0.0               0.0               0.0   \n",
       "\n",
       "         date_year_month_hours  temperature  pressure  humidity  \\\n",
       "7320003          2019-04-15 06          7.9    1008.9        50   \n",
       "3994187          2020-07-12 14         28.4    1014.7        25   \n",
       "13601444         2020-03-19 21         12.0    1012.2        78   \n",
       "6291569          2020-08-23 07         17.0    1018.9        89   \n",
       "7934386          2020-07-05 21         19.6    1016.9        88   \n",
       "3978940          2020-03-28 16         17.4    1012.3        35   \n",
       "8629538          2019-10-15 09         15.2    1008.9        80   \n",
       "9568361          2020-03-18 01          6.9    1024.1        97   \n",
       "\n",
       "          precipitation  wind_speed  \n",
       "7320003             0.0         6.8  \n",
       "3994187             0.0         4.4  \n",
       "13601444            0.0         8.0  \n",
       "6291569             0.0         2.4  \n",
       "7934386             0.0         5.2  \n",
       "3978940             0.0         4.4  \n",
       "8629538             0.0         8.8  \n",
       "9568361             0.0         4.0  "
      ]
     },
     "execution_count": 37,
     "metadata": {},
     "output_type": "execute_result"
    }
   ],
   "source": [
    "ts_activity.sample(8)"
   ]
  },
  {
   "cell_type": "code",
   "execution_count": 39,
   "metadata": {
    "ExecuteTime": {
     "end_time": "2020-10-02T16:14:55.210406Z",
     "start_time": "2020-10-02T16:14:54.831685Z"
    }
   },
   "outputs": [],
   "source": [
    "# Drop useless column\n",
    "ts_activity = ts_activity.drop('date_year_month_hours', axis=1)"
   ]
  },
  {
   "cell_type": "code",
   "execution_count": 40,
   "metadata": {
    "ExecuteTime": {
     "end_time": "2020-10-02T16:14:56.317354Z",
     "start_time": "2020-10-02T16:14:55.891755Z"
    }
   },
   "outputs": [
    {
     "name": "stdout",
     "output_type": "stream",
     "text": [
      "<class 'pandas.core.frame.DataFrame'>\n",
      "Int64Index: 16564512 entries, 0 to 16564511\n",
      "Data columns (total 13 columns):\n",
      " #   Column            Non-Null Count     Dtype         \n",
      "---  ------            --------------     -----         \n",
      " 0   station_id        16564512 non-null  uint64        \n",
      " 1   date              16564512 non-null  datetime64[ns]\n",
      " 2   available_stands  12794673 non-null  float64       \n",
      " 3   available_bikes   12794673 non-null  float64       \n",
      " 4   status            16564512 non-null  float64       \n",
      " 5   transactions_in   16564512 non-null  float64       \n",
      " 6   transactions_out  16564512 non-null  float64       \n",
      " 7   transactions_all  16564512 non-null  float64       \n",
      " 8   temperature       16538580 non-null  float64       \n",
      " 9   pressure          16559172 non-null  float64       \n",
      " 10  humidity          16564512 non-null  int64         \n",
      " 11  precipitation     16564512 non-null  float64       \n",
      " 12  wind_speed        16564512 non-null  float64       \n",
      "dtypes: datetime64[ns](1), float64(10), int64(1), uint64(1)\n",
      "memory usage: 1.7 GB\n"
     ]
    }
   ],
   "source": [
    "# Check\n",
    "ts_activity.info(null_counts=True)"
   ]
  },
  {
   "cell_type": "code",
   "execution_count": 41,
   "metadata": {
    "ExecuteTime": {
     "end_time": "2020-10-02T16:14:57.556057Z",
     "start_time": "2020-10-02T16:14:57.537450Z"
    }
   },
   "outputs": [
    {
     "data": {
      "text/plain": [
       "Index(['station_id', 'date', 'available_stands', 'available_bikes', 'status',\n",
       "       'transactions_in', 'transactions_out', 'transactions_all',\n",
       "       'temperature', 'pressure', 'humidity', 'precipitation', 'wind_speed'],\n",
       "      dtype='object')"
      ]
     },
     "execution_count": 41,
     "metadata": {},
     "output_type": "execute_result"
    }
   ],
   "source": [
    "ts_activity.columns"
   ]
  },
  {
   "cell_type": "markdown",
   "metadata": {},
   "source": [
    "## Industrialisation"
   ]
  },
  {
   "cell_type": "code",
   "execution_count": 4,
   "metadata": {
    "ExecuteTime": {
     "end_time": "2020-11-08T10:37:41.710956Z",
     "start_time": "2020-11-08T10:37:41.685860Z"
    }
   },
   "outputs": [],
   "source": [
    "def get_meteo(data, meteo):\n",
    "    \"\"\"\n",
    "    AJoute les données météo suivantes : \n",
    "        - 'temperature' \n",
    "        - 'pressure'\n",
    "        - 'humidity' (%)\n",
    "       - 'pressure' (mb)\n",
    "       - 'precipitation' (mm/h)\n",
    "       - 'wind_speed' (m/s)\n",
    "\n",
    "    Parameters\n",
    "    ----------\n",
    "    data : DataFrame\n",
    "        Activité des stations Vcub\n",
    "    meteo : DataFrame\n",
    "        Données météo\n",
    "\n",
    "    Returns\n",
    "    -------\n",
    "    data : DataFrame\n",
    "       Ajout des colonnes météo\n",
    "       \n",
    "   Examples\n",
    "   --------\n",
    "   \n",
    "   ts_activity = get_meteo(data=ts_activity, meteo=meteo)\n",
    "   \"\"\"\n",
    "   \n",
    "    def fast_parse_date_(s):\n",
    "       \"\"\"\n",
    "       This is an extremely fast approach to datetime parsing.\n",
    "       For large data, the same dates are often repeated. Rather than\n",
    "       re-parse these, we store all unique dates, parse them, and\n",
    "       use a lookup to convert all dates.\n",
    "\n",
    "       cf https://github.com/sanand0/benchmarks/tree/master/date-parse\n",
    "       \"\"\"\n",
    "       dates = {date: date.strftime(format='%Y-%m-%d %H') for date in pd.Series(s.unique())}\n",
    "       return s.apply(lambda v: dates[v])\n",
    "\n",
    "   \n",
    "    # Creation des dates au format yyyy_mm avant jointure\n",
    "    data['date_year_month_hours'] = fast_parse_date_(data['date'])\n",
    "    meteo['date_year_month_hours'] = fast_parse_date_(meteo['date'])\n",
    "   \n",
    "    # Jointure\n",
    "    data = data.merge(meteo.drop('date', axis=1),\n",
    "                      on='date_year_month_hours', how='left')\n",
    "   \n",
    "    # On supprime la colonne 'date_year_month'\n",
    "    data = data.drop('date_year_month_hours', axis=1)\n",
    "    \n",
    "    return data"
   ]
  },
  {
   "cell_type": "code",
   "execution_count": 6,
   "metadata": {
    "ExecuteTime": {
     "end_time": "2020-11-08T10:39:32.312700Z",
     "start_time": "2020-11-08T10:38:35.258308Z"
    }
   },
   "outputs": [],
   "source": [
    "# Lecture de l'activité des stations\n",
    "ts_activity = read_time_serie_activity(path_directory=ROOT_DATA_CLEAN)\n",
    "\n",
    "# meteo\n",
    "meteo = read_meteo(path_directory=ROOT_DATA_REF)\n",
    "ts_activity = get_meteo(data=ts_activity, meteo=meteo)"
   ]
  },
  {
   "cell_type": "code",
   "execution_count": 7,
   "metadata": {
    "ExecuteTime": {
     "end_time": "2020-11-08T10:40:33.950320Z",
     "start_time": "2020-11-08T10:40:33.361335Z"
    }
   },
   "outputs": [
    {
     "data": {
      "text/html": [
       "<div>\n",
       "<style scoped>\n",
       "    .dataframe tbody tr th:only-of-type {\n",
       "        vertical-align: middle;\n",
       "    }\n",
       "\n",
       "    .dataframe tbody tr th {\n",
       "        vertical-align: top;\n",
       "    }\n",
       "\n",
       "    .dataframe thead th {\n",
       "        text-align: right;\n",
       "    }\n",
       "</style>\n",
       "<table border=\"1\" class=\"dataframe\">\n",
       "  <thead>\n",
       "    <tr style=\"text-align: right;\">\n",
       "      <th></th>\n",
       "      <th>station_id</th>\n",
       "      <th>date</th>\n",
       "      <th>available_stands</th>\n",
       "      <th>available_bikes</th>\n",
       "      <th>status</th>\n",
       "      <th>transactions_in</th>\n",
       "      <th>transactions_out</th>\n",
       "      <th>transactions_all</th>\n",
       "      <th>temperature</th>\n",
       "      <th>pressure</th>\n",
       "      <th>humidity</th>\n",
       "      <th>precipitation</th>\n",
       "      <th>wind_speed</th>\n",
       "    </tr>\n",
       "  </thead>\n",
       "  <tbody>\n",
       "    <tr>\n",
       "      <th>7439891</th>\n",
       "      <td>82</td>\n",
       "      <td>2019-10-28 08:20:00</td>\n",
       "      <td>NaN</td>\n",
       "      <td>NaN</td>\n",
       "      <td>0.0</td>\n",
       "      <td>0.0</td>\n",
       "      <td>0.0</td>\n",
       "      <td>0.0</td>\n",
       "      <td>15.6</td>\n",
       "      <td>1011.5</td>\n",
       "      <td>94</td>\n",
       "      <td>0.0</td>\n",
       "      <td>5.2</td>\n",
       "    </tr>\n",
       "    <tr>\n",
       "      <th>9667958</th>\n",
       "      <td>106</td>\n",
       "      <td>2020-05-12 04:50:00</td>\n",
       "      <td>12.0</td>\n",
       "      <td>28.0</td>\n",
       "      <td>1.0</td>\n",
       "      <td>0.0</td>\n",
       "      <td>0.0</td>\n",
       "      <td>0.0</td>\n",
       "      <td>8.3</td>\n",
       "      <td>1006.6</td>\n",
       "      <td>89</td>\n",
       "      <td>0.0</td>\n",
       "      <td>6.4</td>\n",
       "    </tr>\n",
       "    <tr>\n",
       "      <th>7465749</th>\n",
       "      <td>82</td>\n",
       "      <td>2020-04-24 22:00:00</td>\n",
       "      <td>9.0</td>\n",
       "      <td>11.0</td>\n",
       "      <td>1.0</td>\n",
       "      <td>0.0</td>\n",
       "      <td>0.0</td>\n",
       "      <td>0.0</td>\n",
       "      <td>16.8</td>\n",
       "      <td>1007.0</td>\n",
       "      <td>86</td>\n",
       "      <td>0.0</td>\n",
       "      <td>4.8</td>\n",
       "    </tr>\n",
       "    <tr>\n",
       "      <th>2882977</th>\n",
       "      <td>32</td>\n",
       "      <td>2020-04-24 18:20:00</td>\n",
       "      <td>7.0</td>\n",
       "      <td>9.0</td>\n",
       "      <td>1.0</td>\n",
       "      <td>1.0</td>\n",
       "      <td>1.0</td>\n",
       "      <td>2.0</td>\n",
       "      <td>1.0</td>\n",
       "      <td>1005.1</td>\n",
       "      <td>252</td>\n",
       "      <td>0.0</td>\n",
       "      <td>2.0</td>\n",
       "    </tr>\n",
       "    <tr>\n",
       "      <th>9994756</th>\n",
       "      <td>110</td>\n",
       "      <td>2019-08-09 15:50:00</td>\n",
       "      <td>17.0</td>\n",
       "      <td>23.0</td>\n",
       "      <td>1.0</td>\n",
       "      <td>0.0</td>\n",
       "      <td>0.0</td>\n",
       "      <td>0.0</td>\n",
       "      <td>25.1</td>\n",
       "      <td>1006.7</td>\n",
       "      <td>47</td>\n",
       "      <td>0.0</td>\n",
       "      <td>4.8</td>\n",
       "    </tr>\n",
       "    <tr>\n",
       "      <th>15180301</th>\n",
       "      <td>166</td>\n",
       "      <td>2020-08-10 18:40:00</td>\n",
       "      <td>6.0</td>\n",
       "      <td>14.0</td>\n",
       "      <td>1.0</td>\n",
       "      <td>0.0</td>\n",
       "      <td>0.0</td>\n",
       "      <td>0.0</td>\n",
       "      <td>26.7</td>\n",
       "      <td>1006.7</td>\n",
       "      <td>67</td>\n",
       "      <td>0.0</td>\n",
       "      <td>5.6</td>\n",
       "    </tr>\n",
       "    <tr>\n",
       "      <th>879538</th>\n",
       "      <td>10</td>\n",
       "      <td>2020-07-23 20:10:00</td>\n",
       "      <td>15.0</td>\n",
       "      <td>7.0</td>\n",
       "      <td>1.0</td>\n",
       "      <td>0.0</td>\n",
       "      <td>0.0</td>\n",
       "      <td>0.0</td>\n",
       "      <td>21.3</td>\n",
       "      <td>1010.9</td>\n",
       "      <td>71</td>\n",
       "      <td>0.0</td>\n",
       "      <td>6.0</td>\n",
       "    </tr>\n",
       "    <tr>\n",
       "      <th>8274075</th>\n",
       "      <td>91</td>\n",
       "      <td>2019-12-31 20:30:00</td>\n",
       "      <td>8.0</td>\n",
       "      <td>8.0</td>\n",
       "      <td>1.0</td>\n",
       "      <td>0.0</td>\n",
       "      <td>0.0</td>\n",
       "      <td>0.0</td>\n",
       "      <td>8.2</td>\n",
       "      <td>1024.4</td>\n",
       "      <td>97</td>\n",
       "      <td>0.0</td>\n",
       "      <td>3.2</td>\n",
       "    </tr>\n",
       "  </tbody>\n",
       "</table>\n",
       "</div>"
      ],
      "text/plain": [
       "          station_id                date  available_stands  available_bikes  \\\n",
       "7439891           82 2019-10-28 08:20:00               NaN              NaN   \n",
       "9667958          106 2020-05-12 04:50:00              12.0             28.0   \n",
       "7465749           82 2020-04-24 22:00:00               9.0             11.0   \n",
       "2882977           32 2020-04-24 18:20:00               7.0              9.0   \n",
       "9994756          110 2019-08-09 15:50:00              17.0             23.0   \n",
       "15180301         166 2020-08-10 18:40:00               6.0             14.0   \n",
       "879538            10 2020-07-23 20:10:00              15.0              7.0   \n",
       "8274075           91 2019-12-31 20:30:00               8.0              8.0   \n",
       "\n",
       "          status  transactions_in  transactions_out  transactions_all  \\\n",
       "7439891      0.0              0.0               0.0               0.0   \n",
       "9667958      1.0              0.0               0.0               0.0   \n",
       "7465749      1.0              0.0               0.0               0.0   \n",
       "2882977      1.0              1.0               1.0               2.0   \n",
       "9994756      1.0              0.0               0.0               0.0   \n",
       "15180301     1.0              0.0               0.0               0.0   \n",
       "879538       1.0              0.0               0.0               0.0   \n",
       "8274075      1.0              0.0               0.0               0.0   \n",
       "\n",
       "          temperature  pressure  humidity  precipitation  wind_speed  \n",
       "7439891          15.6    1011.5        94            0.0         5.2  \n",
       "9667958           8.3    1006.6        89            0.0         6.4  \n",
       "7465749          16.8    1007.0        86            0.0         4.8  \n",
       "2882977           1.0    1005.1       252            0.0         2.0  \n",
       "9994756          25.1    1006.7        47            0.0         4.8  \n",
       "15180301         26.7    1006.7        67            0.0         5.6  \n",
       "879538           21.3    1010.9        71            0.0         6.0  \n",
       "8274075           8.2    1024.4        97            0.0         3.2  "
      ]
     },
     "execution_count": 7,
     "metadata": {},
     "output_type": "execute_result"
    }
   ],
   "source": [
    "ts_activity.sample(8)"
   ]
  },
  {
   "cell_type": "markdown",
   "metadata": {},
   "source": [
    "### Script"
   ]
  },
  {
   "cell_type": "code",
   "execution_count": 1,
   "metadata": {
    "ExecuteTime": {
     "end_time": "2020-11-08T10:40:41.223733Z",
     "start_time": "2020-11-08T10:40:41.010226Z"
    }
   },
   "outputs": [],
   "source": [
    "from vcub_keeper.config import *\n",
    "from vcub_keeper.reader.reader import *\n",
    "from vcub_keeper.transform.features_factory import get_meteo"
   ]
  },
  {
   "cell_type": "code",
   "execution_count": 2,
   "metadata": {
    "ExecuteTime": {
     "end_time": "2020-11-08T10:41:36.690071Z",
     "start_time": "2020-11-08T10:40:41.706060Z"
    }
   },
   "outputs": [],
   "source": [
    "# Lecture de l'activité des stations\n",
    "ts_activity = read_time_serie_activity(path_directory=ROOT_DATA_CLEAN)\n",
    "\n",
    "# meteo\n",
    "meteo = read_meteo(path_directory=ROOT_DATA_REF)\n",
    "ts_activity = get_meteo(data=ts_activity, meteo=meteo)"
   ]
  },
  {
   "cell_type": "code",
   "execution_count": 3,
   "metadata": {
    "ExecuteTime": {
     "end_time": "2020-11-08T10:43:07.229917Z",
     "start_time": "2020-11-08T10:43:06.649518Z"
    }
   },
   "outputs": [
    {
     "data": {
      "text/html": [
       "<div>\n",
       "<style scoped>\n",
       "    .dataframe tbody tr th:only-of-type {\n",
       "        vertical-align: middle;\n",
       "    }\n",
       "\n",
       "    .dataframe tbody tr th {\n",
       "        vertical-align: top;\n",
       "    }\n",
       "\n",
       "    .dataframe thead th {\n",
       "        text-align: right;\n",
       "    }\n",
       "</style>\n",
       "<table border=\"1\" class=\"dataframe\">\n",
       "  <thead>\n",
       "    <tr style=\"text-align: right;\">\n",
       "      <th></th>\n",
       "      <th>station_id</th>\n",
       "      <th>date</th>\n",
       "      <th>available_stands</th>\n",
       "      <th>available_bikes</th>\n",
       "      <th>status</th>\n",
       "      <th>transactions_in</th>\n",
       "      <th>transactions_out</th>\n",
       "      <th>transactions_all</th>\n",
       "      <th>temperature</th>\n",
       "      <th>pressure</th>\n",
       "      <th>humidity</th>\n",
       "      <th>precipitation</th>\n",
       "      <th>wind_speed</th>\n",
       "    </tr>\n",
       "  </thead>\n",
       "  <tbody>\n",
       "    <tr>\n",
       "      <th>9462482</th>\n",
       "      <td>104</td>\n",
       "      <td>2019-12-10 06:30:00</td>\n",
       "      <td>5.0</td>\n",
       "      <td>12.0</td>\n",
       "      <td>1.0</td>\n",
       "      <td>0.0</td>\n",
       "      <td>0.0</td>\n",
       "      <td>0.0</td>\n",
       "      <td>4.4</td>\n",
       "      <td>1024.6</td>\n",
       "      <td>97</td>\n",
       "      <td>0.0</td>\n",
       "      <td>3.2</td>\n",
       "    </tr>\n",
       "    <tr>\n",
       "      <th>13000606</th>\n",
       "      <td>143</td>\n",
       "      <td>2019-04-01 08:20:00</td>\n",
       "      <td>14.0</td>\n",
       "      <td>4.0</td>\n",
       "      <td>1.0</td>\n",
       "      <td>0.0</td>\n",
       "      <td>1.0</td>\n",
       "      <td>1.0</td>\n",
       "      <td>13.7</td>\n",
       "      <td>1009.2</td>\n",
       "      <td>65</td>\n",
       "      <td>0.0</td>\n",
       "      <td>4.0</td>\n",
       "    </tr>\n",
       "    <tr>\n",
       "      <th>11599760</th>\n",
       "      <td>127</td>\n",
       "      <td>2020-06-30 03:20:00</td>\n",
       "      <td>20.0</td>\n",
       "      <td>2.0</td>\n",
       "      <td>1.0</td>\n",
       "      <td>0.0</td>\n",
       "      <td>0.0</td>\n",
       "      <td>0.0</td>\n",
       "      <td>13.0</td>\n",
       "      <td>1012.0</td>\n",
       "      <td>87</td>\n",
       "      <td>0.0</td>\n",
       "      <td>2.4</td>\n",
       "    </tr>\n",
       "    <tr>\n",
       "      <th>1463356</th>\n",
       "      <td>17</td>\n",
       "      <td>2019-06-18 16:20:00</td>\n",
       "      <td>12.0</td>\n",
       "      <td>2.0</td>\n",
       "      <td>1.0</td>\n",
       "      <td>0.0</td>\n",
       "      <td>0.0</td>\n",
       "      <td>0.0</td>\n",
       "      <td>33.2</td>\n",
       "      <td>1002.4</td>\n",
       "      <td>26</td>\n",
       "      <td>0.0</td>\n",
       "      <td>4.0</td>\n",
       "    </tr>\n",
       "    <tr>\n",
       "      <th>6731301</th>\n",
       "      <td>74</td>\n",
       "      <td>2020-04-16 12:40:00</td>\n",
       "      <td>16.0</td>\n",
       "      <td>6.0</td>\n",
       "      <td>1.0</td>\n",
       "      <td>0.0</td>\n",
       "      <td>0.0</td>\n",
       "      <td>0.0</td>\n",
       "      <td>21.6</td>\n",
       "      <td>1009.7</td>\n",
       "      <td>52</td>\n",
       "      <td>0.0</td>\n",
       "      <td>4.8</td>\n",
       "    </tr>\n",
       "    <tr>\n",
       "      <th>14408701</th>\n",
       "      <td>158</td>\n",
       "      <td>2019-11-18 09:20:00</td>\n",
       "      <td>8.0</td>\n",
       "      <td>12.0</td>\n",
       "      <td>1.0</td>\n",
       "      <td>0.0</td>\n",
       "      <td>0.0</td>\n",
       "      <td>0.0</td>\n",
       "      <td>5.9</td>\n",
       "      <td>1010.5</td>\n",
       "      <td>88</td>\n",
       "      <td>0.0</td>\n",
       "      <td>3.2</td>\n",
       "    </tr>\n",
       "    <tr>\n",
       "      <th>10157399</th>\n",
       "      <td>112</td>\n",
       "      <td>2019-03-19 03:20:00</td>\n",
       "      <td>19.0</td>\n",
       "      <td>21.0</td>\n",
       "      <td>1.0</td>\n",
       "      <td>0.0</td>\n",
       "      <td>0.0</td>\n",
       "      <td>0.0</td>\n",
       "      <td>6.3</td>\n",
       "      <td>1020.8</td>\n",
       "      <td>96</td>\n",
       "      <td>0.0</td>\n",
       "      <td>4.4</td>\n",
       "    </tr>\n",
       "    <tr>\n",
       "      <th>1435219</th>\n",
       "      <td>17</td>\n",
       "      <td>2018-12-05 06:50:00</td>\n",
       "      <td>2.0</td>\n",
       "      <td>10.0</td>\n",
       "      <td>1.0</td>\n",
       "      <td>1.0</td>\n",
       "      <td>0.0</td>\n",
       "      <td>1.0</td>\n",
       "      <td>9.2</td>\n",
       "      <td>1015.3</td>\n",
       "      <td>100</td>\n",
       "      <td>0.0</td>\n",
       "      <td>5.2</td>\n",
       "    </tr>\n",
       "  </tbody>\n",
       "</table>\n",
       "</div>"
      ],
      "text/plain": [
       "          station_id                date  available_stands  available_bikes  \\\n",
       "9462482          104 2019-12-10 06:30:00               5.0             12.0   \n",
       "13000606         143 2019-04-01 08:20:00              14.0              4.0   \n",
       "11599760         127 2020-06-30 03:20:00              20.0              2.0   \n",
       "1463356           17 2019-06-18 16:20:00              12.0              2.0   \n",
       "6731301           74 2020-04-16 12:40:00              16.0              6.0   \n",
       "14408701         158 2019-11-18 09:20:00               8.0             12.0   \n",
       "10157399         112 2019-03-19 03:20:00              19.0             21.0   \n",
       "1435219           17 2018-12-05 06:50:00               2.0             10.0   \n",
       "\n",
       "          status  transactions_in  transactions_out  transactions_all  \\\n",
       "9462482      1.0              0.0               0.0               0.0   \n",
       "13000606     1.0              0.0               1.0               1.0   \n",
       "11599760     1.0              0.0               0.0               0.0   \n",
       "1463356      1.0              0.0               0.0               0.0   \n",
       "6731301      1.0              0.0               0.0               0.0   \n",
       "14408701     1.0              0.0               0.0               0.0   \n",
       "10157399     1.0              0.0               0.0               0.0   \n",
       "1435219      1.0              1.0               0.0               1.0   \n",
       "\n",
       "          temperature  pressure  humidity  precipitation  wind_speed  \n",
       "9462482           4.4    1024.6        97            0.0         3.2  \n",
       "13000606         13.7    1009.2        65            0.0         4.0  \n",
       "11599760         13.0    1012.0        87            0.0         2.4  \n",
       "1463356          33.2    1002.4        26            0.0         4.0  \n",
       "6731301          21.6    1009.7        52            0.0         4.8  \n",
       "14408701          5.9    1010.5        88            0.0         3.2  \n",
       "10157399          6.3    1020.8        96            0.0         4.4  \n",
       "1435219           9.2    1015.3       100            0.0         5.2  "
      ]
     },
     "execution_count": 3,
     "metadata": {},
     "output_type": "execute_result"
    }
   ],
   "source": [
    "ts_activity.sample(8)"
   ]
  },
  {
   "cell_type": "markdown",
   "metadata": {
    "ExecuteTime": {
     "end_time": "2020-08-25T14:56:26.475812Z",
     "start_time": "2020-08-25T14:56:26.462262Z"
    }
   },
   "source": [
    "## Analyse de la feature"
   ]
  },
  {
   "cell_type": "code",
   "execution_count": 5,
   "metadata": {
    "ExecuteTime": {
     "end_time": "2020-10-07T14:22:31.085641Z",
     "start_time": "2020-10-07T14:21:34.924704Z"
    }
   },
   "outputs": [],
   "source": [
    "# Lecture de l'activité des stations\n",
    "ts_activity = read_time_serie_activity(path_directory=ROOT_DATA_CLEAN)\n",
    "\n",
    "# meteo\n",
    "meteo = read_meteo(path_directory=ROOT_DATA_REF)\n",
    "ts_activity = get_meteo(data=ts_activity, meteo=meteo)"
   ]
  },
  {
   "cell_type": "code",
   "execution_count": 6,
   "metadata": {
    "ExecuteTime": {
     "end_time": "2020-10-07T14:22:36.667917Z",
     "start_time": "2020-10-07T14:22:31.086913Z"
    }
   },
   "outputs": [
    {
     "data": {
      "text/html": [
       "<div>\n",
       "<style scoped>\n",
       "    .dataframe tbody tr th:only-of-type {\n",
       "        vertical-align: middle;\n",
       "    }\n",
       "\n",
       "    .dataframe tbody tr th {\n",
       "        vertical-align: top;\n",
       "    }\n",
       "\n",
       "    .dataframe thead th {\n",
       "        text-align: right;\n",
       "    }\n",
       "</style>\n",
       "<table border=\"1\" class=\"dataframe\">\n",
       "  <thead>\n",
       "    <tr style=\"text-align: right;\">\n",
       "      <th></th>\n",
       "      <th>station_id</th>\n",
       "      <th>available_stands</th>\n",
       "      <th>available_bikes</th>\n",
       "      <th>status</th>\n",
       "      <th>transactions_in</th>\n",
       "      <th>transactions_out</th>\n",
       "      <th>transactions_all</th>\n",
       "      <th>temperature</th>\n",
       "      <th>pressure</th>\n",
       "      <th>humidity</th>\n",
       "      <th>precipitation</th>\n",
       "      <th>wind_speed</th>\n",
       "    </tr>\n",
       "  </thead>\n",
       "  <tbody>\n",
       "    <tr>\n",
       "      <th>count</th>\n",
       "      <td>1.656451e+07</td>\n",
       "      <td>1.279467e+07</td>\n",
       "      <td>1.279467e+07</td>\n",
       "      <td>1.656451e+07</td>\n",
       "      <td>1.656451e+07</td>\n",
       "      <td>1.656451e+07</td>\n",
       "      <td>1.656451e+07</td>\n",
       "      <td>1.653858e+07</td>\n",
       "      <td>1.655917e+07</td>\n",
       "      <td>1.656451e+07</td>\n",
       "      <td>1.656451e+07</td>\n",
       "      <td>1.656451e+07</td>\n",
       "    </tr>\n",
       "    <tr>\n",
       "      <th>mean</th>\n",
       "      <td>9.171507e+01</td>\n",
       "      <td>1.191106e+01</td>\n",
       "      <td>8.808917e+00</td>\n",
       "      <td>7.519225e-01</td>\n",
       "      <td>1.019004e-01</td>\n",
       "      <td>1.080594e-01</td>\n",
       "      <td>2.037893e-01</td>\n",
       "      <td>1.454256e+01</td>\n",
       "      <td>1.012405e+03</td>\n",
       "      <td>7.611513e+01</td>\n",
       "      <td>1.145145e-01</td>\n",
       "      <td>5.653281e+00</td>\n",
       "    </tr>\n",
       "    <tr>\n",
       "      <th>std</th>\n",
       "      <td>5.335660e+01</td>\n",
       "      <td>7.110444e+00</td>\n",
       "      <td>6.105340e+00</td>\n",
       "      <td>4.318970e-01</td>\n",
       "      <td>4.628053e-01</td>\n",
       "      <td>4.775847e-01</td>\n",
       "      <td>6.566652e-01</td>\n",
       "      <td>7.135645e+00</td>\n",
       "      <td>8.232695e+00</td>\n",
       "      <td>2.296710e+01</td>\n",
       "      <td>5.578541e-01</td>\n",
       "      <td>2.489835e+00</td>\n",
       "    </tr>\n",
       "    <tr>\n",
       "      <th>min</th>\n",
       "      <td>1.000000e+00</td>\n",
       "      <td>0.000000e+00</td>\n",
       "      <td>0.000000e+00</td>\n",
       "      <td>0.000000e+00</td>\n",
       "      <td>0.000000e+00</td>\n",
       "      <td>0.000000e+00</td>\n",
       "      <td>0.000000e+00</td>\n",
       "      <td>-2.800000e+00</td>\n",
       "      <td>9.788000e+02</td>\n",
       "      <td>1.500000e+01</td>\n",
       "      <td>0.000000e+00</td>\n",
       "      <td>4.000000e-01</td>\n",
       "    </tr>\n",
       "    <tr>\n",
       "      <th>25%</th>\n",
       "      <td>4.600000e+01</td>\n",
       "      <td>7.000000e+00</td>\n",
       "      <td>4.000000e+00</td>\n",
       "      <td>1.000000e+00</td>\n",
       "      <td>0.000000e+00</td>\n",
       "      <td>0.000000e+00</td>\n",
       "      <td>0.000000e+00</td>\n",
       "      <td>9.400000e+00</td>\n",
       "      <td>1.007900e+03</td>\n",
       "      <td>6.100000e+01</td>\n",
       "      <td>0.000000e+00</td>\n",
       "      <td>4.000000e+00</td>\n",
       "    </tr>\n",
       "    <tr>\n",
       "      <th>50%</th>\n",
       "      <td>9.100000e+01</td>\n",
       "      <td>1.100000e+01</td>\n",
       "      <td>8.000000e+00</td>\n",
       "      <td>1.000000e+00</td>\n",
       "      <td>0.000000e+00</td>\n",
       "      <td>0.000000e+00</td>\n",
       "      <td>0.000000e+00</td>\n",
       "      <td>1.380000e+01</td>\n",
       "      <td>1.012400e+03</td>\n",
       "      <td>8.000000e+01</td>\n",
       "      <td>0.000000e+00</td>\n",
       "      <td>5.600000e+00</td>\n",
       "    </tr>\n",
       "    <tr>\n",
       "      <th>75%</th>\n",
       "      <td>1.360000e+02</td>\n",
       "      <td>1.500000e+01</td>\n",
       "      <td>1.200000e+01</td>\n",
       "      <td>1.000000e+00</td>\n",
       "      <td>0.000000e+00</td>\n",
       "      <td>0.000000e+00</td>\n",
       "      <td>0.000000e+00</td>\n",
       "      <td>1.920000e+01</td>\n",
       "      <td>1.017300e+03</td>\n",
       "      <td>9.100000e+01</td>\n",
       "      <td>0.000000e+00</td>\n",
       "      <td>6.800000e+00</td>\n",
       "    </tr>\n",
       "    <tr>\n",
       "      <th>max</th>\n",
       "      <td>2.510000e+02</td>\n",
       "      <td>4.400000e+01</td>\n",
       "      <td>4.500000e+01</td>\n",
       "      <td>1.000000e+00</td>\n",
       "      <td>4.300000e+01</td>\n",
       "      <td>8.700000e+01</td>\n",
       "      <td>4.400000e+01</td>\n",
       "      <td>4.040000e+01</td>\n",
       "      <td>1.033200e+03</td>\n",
       "      <td>3.250000e+02</td>\n",
       "      <td>1.300000e+01</td>\n",
       "      <td>2.240000e+01</td>\n",
       "    </tr>\n",
       "  </tbody>\n",
       "</table>\n",
       "</div>"
      ],
      "text/plain": [
       "         station_id  available_stands  available_bikes        status  \\\n",
       "count  1.656451e+07      1.279467e+07     1.279467e+07  1.656451e+07   \n",
       "mean   9.171507e+01      1.191106e+01     8.808917e+00  7.519225e-01   \n",
       "std    5.335660e+01      7.110444e+00     6.105340e+00  4.318970e-01   \n",
       "min    1.000000e+00      0.000000e+00     0.000000e+00  0.000000e+00   \n",
       "25%    4.600000e+01      7.000000e+00     4.000000e+00  1.000000e+00   \n",
       "50%    9.100000e+01      1.100000e+01     8.000000e+00  1.000000e+00   \n",
       "75%    1.360000e+02      1.500000e+01     1.200000e+01  1.000000e+00   \n",
       "max    2.510000e+02      4.400000e+01     4.500000e+01  1.000000e+00   \n",
       "\n",
       "       transactions_in  transactions_out  transactions_all   temperature  \\\n",
       "count     1.656451e+07      1.656451e+07      1.656451e+07  1.653858e+07   \n",
       "mean      1.019004e-01      1.080594e-01      2.037893e-01  1.454256e+01   \n",
       "std       4.628053e-01      4.775847e-01      6.566652e-01  7.135645e+00   \n",
       "min       0.000000e+00      0.000000e+00      0.000000e+00 -2.800000e+00   \n",
       "25%       0.000000e+00      0.000000e+00      0.000000e+00  9.400000e+00   \n",
       "50%       0.000000e+00      0.000000e+00      0.000000e+00  1.380000e+01   \n",
       "75%       0.000000e+00      0.000000e+00      0.000000e+00  1.920000e+01   \n",
       "max       4.300000e+01      8.700000e+01      4.400000e+01  4.040000e+01   \n",
       "\n",
       "           pressure      humidity  precipitation    wind_speed  \n",
       "count  1.655917e+07  1.656451e+07   1.656451e+07  1.656451e+07  \n",
       "mean   1.012405e+03  7.611513e+01   1.145145e-01  5.653281e+00  \n",
       "std    8.232695e+00  2.296710e+01   5.578541e-01  2.489835e+00  \n",
       "min    9.788000e+02  1.500000e+01   0.000000e+00  4.000000e-01  \n",
       "25%    1.007900e+03  6.100000e+01   0.000000e+00  4.000000e+00  \n",
       "50%    1.012400e+03  8.000000e+01   0.000000e+00  5.600000e+00  \n",
       "75%    1.017300e+03  9.100000e+01   0.000000e+00  6.800000e+00  \n",
       "max    1.033200e+03  3.250000e+02   1.300000e+01  2.240000e+01  "
      ]
     },
     "execution_count": 6,
     "metadata": {},
     "output_type": "execute_result"
    }
   ],
   "source": [
    "ts_activity.describe()"
   ]
  },
  {
   "cell_type": "code",
   "execution_count": 7,
   "metadata": {
    "ExecuteTime": {
     "end_time": "2020-10-07T14:24:21.453602Z",
     "start_time": "2020-10-07T14:24:17.133784Z"
    }
   },
   "outputs": [
    {
     "data": {
      "text/plain": [
       "<AxesSubplot:xlabel='temperature', ylabel='Proportion'>"
      ]
     },
     "execution_count": 7,
     "metadata": {},
     "output_type": "execute_result"
    },
    {
     "data": {
      "image/png": "[encoded data removed]",
      "text/plain": [
       "<Figure size 432x288 with 1 Axes>"
      ]
     },
     "metadata": {
      "needs_background": "light"
     },
     "output_type": "display_data"
    }
   ],
   "source": [
    "sns.ecdfplot(data=ts_activity, x=\"temperature\")"
   ]
  },
  {
   "cell_type": "code",
   "execution_count": null,
   "metadata": {
    "ExecuteTime": {
     "end_time": "2020-10-02T16:23:18.198866Z",
     "start_time": "2020-10-02T16:23:04.463334Z"
    }
   },
   "outputs": [],
   "source": [
    "# Station les plus active sur les dépôt de vélo\n",
    "plot_station_activity(ts_activity, station_id=106, features_to_plot=['temperature', 'pressure',\n",
    "                                                                    'humidity', 'precipitation',\n",
    "                                                                    'wind_speed'])"
   ]
  }
 ],
 "metadata": {
  "interpreter": {
   "hash": "fed283c316bdff65bb0e6fa0ac400ca324e239091c2425959241ec6ed8e34148"
  },
  "kernelspec": {
   "display_name": "Python [conda env:vcub_keeper] *",
   "language": "python",
   "name": "python3"
  },
  "language_info": {
   "codemirror_mode": {
    "name": "ipython",
    "version": 3
   },
   "file_extension": ".py",
   "mimetype": "text/x-python",
   "name": "python",
   "nbconvert_exporter": "python",
   "pygments_lexer": "ipython3",
   "version": "3.8.5"
  },
  "toc": {
   "base_numbering": 1,
   "nav_menu": {},
   "number_sections": true,
   "sideBar": true,
   "skip_h1_title": false,
   "title_cell": "Table of Contents",
   "title_sidebar": "Contents",
   "toc_cell": true,
   "toc_position": {},
   "toc_section_display": true,
   "toc_window_display": true
  }
 },
 "nbformat": 4,
 "nbformat_minor": 4
}
