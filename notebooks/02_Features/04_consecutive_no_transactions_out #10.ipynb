{
 "cells": [
  {
   "cell_type": "markdown",
   "metadata": {
    "toc": true
   },
   "source": [
    "<h1>Table of Contents<span class=\"tocSkip\"></span></h1>\n",
    "<div class=\"toc\"><ul class=\"toc-item\"><li><span><a href=\"#Objectifs\" data-toc-modified-id=\"Objectifs-1\"><span class=\"toc-item-num\">1&nbsp;&nbsp;</span>Objectifs</a></span></li><li><span><a href=\"#Dev\" data-toc-modified-id=\"Dev-2\"><span class=\"toc-item-num\">2&nbsp;&nbsp;</span>Dev</a></span></li><li><span><a href=\"#Industrialisation\" data-toc-modified-id=\"Industrialisation-3\"><span class=\"toc-item-num\">3&nbsp;&nbsp;</span>Industrialisation</a></span><ul class=\"toc-item\"><li><ul class=\"toc-item\"><li><span><a href=\"#Script\" data-toc-modified-id=\"Script-3.0.1\"><span class=\"toc-item-num\">3.0.1&nbsp;&nbsp;</span>Script</a></span></li></ul></li></ul></li><li><span><a href=\"#Analyse-de-la-feature\" data-toc-modified-id=\"Analyse-de-la-feature-4\"><span class=\"toc-item-num\">4&nbsp;&nbsp;</span>Analyse de la feature</a></span><ul class=\"toc-item\"><li><span><a href=\"#Stations-avec-le-plus-grand-nombre-de-non-prise-de-vélo-consécutif\" data-toc-modified-id=\"Stations-avec-le-plus-grand-nombre-de-non-prise-de-vélo-consécutif-4.1\"><span class=\"toc-item-num\">4.1&nbsp;&nbsp;</span>Stations avec le plus grand nombre de non prise de vélo consécutif</a></span></li></ul></li></ul></div>"
   ]
  },
  {
   "cell_type": "code",
   "execution_count": 19,
   "metadata": {
    "ExecuteTime": {
     "end_time": "2020-10-05T13:21:19.883039Z",
     "start_time": "2020-10-05T13:21:17.178773Z"
    }
   },
   "outputs": [
    {
     "name": "stdout",
     "output_type": "stream",
     "text": [
      "The autoreload extension is already loaded. To reload it, use:\n",
      "  %reload_ext autoreload\n"
     ]
    },
    {
     "data": {
      "text/plain": [
       "polars.config.Config"
      ]
     },
     "execution_count": 19,
     "metadata": {},
     "output_type": "execute_result"
    }
   ],
   "source": [
    "from datetime import datetime\n",
    "\n",
    "import pandas as pd\n",
    "import polars as pl\n",
    "import seaborn as sns\n",
    "\n",
    "from vcub_keeper.config import ROOT_DATA_CLEAN\n",
    "from vcub_keeper.reader.reader import read_time_serie_activity\n",
    "from vcub_keeper.transform.features_factory import get_consecutive_no_transactions_out, get_transactions_out\n",
    "from vcub_keeper.visualisation import plot_station_activity\n",
    "\n",
    "sns.set_style(\"whitegrid\")\n",
    "%matplotlib inline\n",
    "\n",
    "%load_ext autoreload\n",
    "%autoreload 2\n",
    "\n",
    "pd.options.display.max_rows = 700\n",
    "pl.Config.set_tbl_rows(700)"
   ]
  },
  {
   "cell_type": "markdown",
   "metadata": {},
   "source": [
    "## Objectifs"
   ]
  },
  {
   "cell_type": "markdown",
   "metadata": {},
   "source": [
    "- Permettre de savoir depuis combien de temps un vélo n'a pas été pris par station. Plus ce nombre est grand plus il y a de chance que la station soit HS. Cf https://github.com/armgilles/vcub_keeper/issues/10\n",
    "- Industrialisation de la function.\n",
    "- Analyse de la feature"
   ]
  },
  {
   "cell_type": "markdown",
   "metadata": {
    "ExecuteTime": {
     "end_time": "2020-08-26T16:07:59.476854Z",
     "start_time": "2020-08-26T16:07:59.462600Z"
    }
   },
   "source": [
    "## Dev"
   ]
  },
  {
   "cell_type": "code",
   "execution_count": 20,
   "metadata": {
    "ExecuteTime": {
     "end_time": "2020-09-03T11:23:08.947976Z",
     "start_time": "2020-09-03T11:23:06.811890Z"
    }
   },
   "outputs": [],
   "source": [
    "ts_activity = read_time_serie_activity(path_directory=ROOT_DATA_CLEAN)\n",
    "\n",
    "ts_activity = ts_activity.with_columns(get_transactions_out())\n",
    "ts_activity = ts_activity.collect()"
   ]
  },
  {
   "cell_type": "code",
   "execution_count": 4,
   "metadata": {},
   "outputs": [
    {
     "data": {
      "text/plain": [
       "12794673"
      ]
     },
     "execution_count": 4,
     "metadata": {},
     "output_type": "execute_result"
    }
   ],
   "source": [
    "len(ts_activity)"
   ]
  },
  {
   "cell_type": "code",
   "execution_count": 5,
   "metadata": {},
   "outputs": [],
   "source": [
    "def old_fonction_pd(data: pd.DataFrame) -> pd.DataFrame:\n",
    "    \"\"\" \"\"\"\n",
    "\n",
    "    data[\"have_data\"] = 1\n",
    "    data.loc[data[\"available_stands\"].isna(), \"have_data\"] = 0\n",
    "\n",
    "    data[\"consecutive_no_transactions_out\"] = data.groupby(\n",
    "        [\n",
    "            \"station_id\",\n",
    "            (data[\"available_bikes\"] < 3).cumsum(),  # 3 for 2 available_bikes\n",
    "            (data[\"have_data\"] == 0).cumsum(),\n",
    "            (data[\"status\"] == 0).cumsum(),\n",
    "            (data[\"transactions_out\"] > 0).cumsum(),\n",
    "        ]\n",
    "    ).cumcount()\n",
    "\n",
    "    data[\"consecutive_no_transactions_out\"] = data[\"consecutive_no_transactions_out\"].fillna(0)\n",
    "\n",
    "    data.loc[data[\"available_stands\"].isna(), \"consecutive_no_transactions_out\"] = 0\n",
    "\n",
    "    data = data.drop(\"have_data\", axis=1)\n",
    "    return data"
   ]
  },
  {
   "cell_type": "code",
   "execution_count": 6,
   "metadata": {},
   "outputs": [],
   "source": [
    "def new_fonction_pl(data: pl.DataFrame) -> pl.DataFrame:\n",
    "    \"\"\" \"\"\"\n",
    "    data = (\n",
    "        data.with_columns(\n",
    "            pl.when(\n",
    "                (pl.col(\"transactions_out\") >= 1)\n",
    "                | (pl.col(\"status\") == 0)\n",
    "                | (pl.col(\"available_stands\") <= 2)\n",
    "                | (pl.col(\"available_stands\").is_null())\n",
    "            )\n",
    "            .then(0)\n",
    "            .otherwise(1)\n",
    "            .alias(\"logic\")\n",
    "        )\n",
    "        .with_columns(\n",
    "            pl.int_ranges(pl.struct(\"station_id\", \"logic\").rle().struct.field(\"len\"))\n",
    "            .flatten()\n",
    "            .alias(\"consecutive_no_transactions_out\")\n",
    "            + 1\n",
    "        )\n",
    "        .with_columns(\n",
    "            pl.when(pl.col(\"logic\") == 1)\n",
    "            .then(pl.col(\"consecutive_no_transactions_out\"))\n",
    "            .otherwise(0)\n",
    "            .alias(\"consecutive_no_transactions_out\")\n",
    "        )\n",
    "        .drop(\"logic\")\n",
    "    )\n",
    "\n",
    "    return data"
   ]
  },
  {
   "cell_type": "code",
   "execution_count": 302,
   "metadata": {},
   "outputs": [],
   "source": [
    "ts_activity = get_transactions_out(ts_activity)"
   ]
  },
  {
   "cell_type": "code",
   "execution_count": 303,
   "metadata": {},
   "outputs": [
    {
     "data": {
      "text/html": [
       "<div><style>\n",
       ".dataframe > thead > tr,\n",
       ".dataframe > tbody > tr {\n",
       "  text-align: right;\n",
       "  white-space: pre-wrap;\n",
       "}\n",
       "</style>\n",
       "<small>shape: (5, 8)</small><table border=\"1\" class=\"dataframe\"><thead><tr><th>station_id</th><th>date</th><th>available_stands</th><th>available_bikes</th><th>status</th><th>transactions_in</th><th>transactions_out</th><th>transactions_all</th></tr><tr><td>u64</td><td>datetime[ns]</td><td>f64</td><td>f64</td><td>f64</td><td>f64</td><td>f64</td><td>f64</td></tr></thead><tbody><tr><td>1</td><td>2018-12-01 00:10:00</td><td>28.0</td><td>4.0</td><td>1.0</td><td>0.0</td><td>0.0</td><td>0.0</td></tr><tr><td>1</td><td>2018-12-01 00:20:00</td><td>28.0</td><td>4.0</td><td>1.0</td><td>0.0</td><td>0.0</td><td>0.0</td></tr><tr><td>1</td><td>2018-12-01 00:30:00</td><td>28.0</td><td>4.0</td><td>1.0</td><td>0.0</td><td>0.0</td><td>0.0</td></tr><tr><td>1</td><td>2018-12-01 00:40:00</td><td>27.0</td><td>5.0</td><td>1.0</td><td>1.0</td><td>0.0</td><td>1.0</td></tr><tr><td>1</td><td>2018-12-01 00:50:00</td><td>27.0</td><td>5.0</td><td>1.0</td><td>0.0</td><td>0.0</td><td>0.0</td></tr></tbody></table></div>"
      ],
      "text/plain": [
       "shape: (5, 8)\n",
       "┌────────────┬────────────┬────────────┬────────────┬────────┬────────────┬────────────┬───────────┐\n",
       "│ station_id ┆ date       ┆ available_ ┆ available_ ┆ status ┆ transactio ┆ transactio ┆ transacti │\n",
       "│ ---        ┆ ---        ┆ stands     ┆ bikes      ┆ ---    ┆ ns_in      ┆ ns_out     ┆ ons_all   │\n",
       "│ u64        ┆ datetime[n ┆ ---        ┆ ---        ┆ f64    ┆ ---        ┆ ---        ┆ ---       │\n",
       "│            ┆ s]         ┆ f64        ┆ f64        ┆        ┆ f64        ┆ f64        ┆ f64       │\n",
       "╞════════════╪════════════╪════════════╪════════════╪════════╪════════════╪════════════╪═══════════╡\n",
       "│ 1          ┆ 2018-12-01 ┆ 28.0       ┆ 4.0        ┆ 1.0    ┆ 0.0        ┆ 0.0        ┆ 0.0       │\n",
       "│            ┆ 00:10:00   ┆            ┆            ┆        ┆            ┆            ┆           │\n",
       "│ 1          ┆ 2018-12-01 ┆ 28.0       ┆ 4.0        ┆ 1.0    ┆ 0.0        ┆ 0.0        ┆ 0.0       │\n",
       "│            ┆ 00:20:00   ┆            ┆            ┆        ┆            ┆            ┆           │\n",
       "│ 1          ┆ 2018-12-01 ┆ 28.0       ┆ 4.0        ┆ 1.0    ┆ 0.0        ┆ 0.0        ┆ 0.0       │\n",
       "│            ┆ 00:30:00   ┆            ┆            ┆        ┆            ┆            ┆           │\n",
       "│ 1          ┆ 2018-12-01 ┆ 27.0       ┆ 5.0        ┆ 1.0    ┆ 1.0        ┆ 0.0        ┆ 1.0       │\n",
       "│            ┆ 00:40:00   ┆            ┆            ┆        ┆            ┆            ┆           │\n",
       "│ 1          ┆ 2018-12-01 ┆ 27.0       ┆ 5.0        ┆ 1.0    ┆ 0.0        ┆ 0.0        ┆ 0.0       │\n",
       "│            ┆ 00:50:00   ┆            ┆            ┆        ┆            ┆            ┆           │\n",
       "└────────────┴────────────┴────────────┴────────────┴────────┴────────────┴────────────┴───────────┘"
      ]
     },
     "execution_count": 303,
     "metadata": {},
     "output_type": "execute_result"
    }
   ],
   "source": [
    "ts_activity.head()"
   ]
  },
  {
   "cell_type": "code",
   "execution_count": 7,
   "metadata": {},
   "outputs": [],
   "source": [
    "ts_activity_pd = ts_activity.to_pandas()"
   ]
  },
  {
   "cell_type": "code",
   "execution_count": 8,
   "metadata": {},
   "outputs": [
    {
     "name": "stdout",
     "output_type": "stream",
     "text": [
      "2.06 s ± 29.6 ms per loop (mean ± std. dev. of 10 runs, 1 loop each)\n"
     ]
    }
   ],
   "source": [
    "%%timeit -r 10\n",
    "old_fonction_pd(ts_activity_pd)\n",
    "# 2.06 s ± 29.6 ms per loop (mean ± std. dev. of 10 runs, 1 loop each)"
   ]
  },
  {
   "cell_type": "code",
   "execution_count": 14,
   "metadata": {},
   "outputs": [
    {
     "name": "stdout",
     "output_type": "stream",
     "text": [
      "264 ms ± 6.09 ms per loop (mean ± std. dev. of 10 runs, 1 loop each)\n"
     ]
    }
   ],
   "source": [
    "%%timeit -r 10\n",
    "new_fonction_pl(ts_activity)\n",
    "# 257 ms ± 806 μs per loop (mean ± std. dev. of 7 runs, 1 loop each)\n",
    "\n",
    "# ts_activity = new_fonction_pl(ts_activity)"
   ]
  },
  {
   "cell_type": "code",
   "execution_count": 15,
   "metadata": {},
   "outputs": [
    {
     "name": "stdout",
     "output_type": "stream",
     "text": [
      "273 ms ± 1.53 ms per loop (mean ± std. dev. of 10 runs, 1 loop each)\n"
     ]
    }
   ],
   "source": [
    "%%timeit -r 10\n",
    "ts_activity.with_columns(get_consecutive_no_transactions_out())"
   ]
  },
  {
   "cell_type": "code",
   "execution_count": 22,
   "metadata": {},
   "outputs": [],
   "source": [
    "ts_activity = ts_activity.with_columns(get_consecutive_no_transactions_out())"
   ]
  },
  {
   "cell_type": "markdown",
   "metadata": {},
   "source": [
    "Analyse des données lorsqu'il manque des données."
   ]
  },
  {
   "cell_type": "code",
   "execution_count": 23,
   "metadata": {
    "ExecuteTime": {
     "end_time": "2020-09-03T11:26:21.364684Z",
     "start_time": "2020-09-03T11:26:21.256442Z"
    }
   },
   "outputs": [
    {
     "data": {
      "text/html": [
       "<div><style>\n",
       ".dataframe > thead > tr,\n",
       ".dataframe > tbody > tr {\n",
       "  text-align: right;\n",
       "  white-space: pre-wrap;\n",
       "}\n",
       "</style>\n",
       "<small>shape: (15, 9)</small><table border=\"1\" class=\"dataframe\"><thead><tr><th>station_id</th><th>date</th><th>available_stands</th><th>available_bikes</th><th>status</th><th>transactions_in</th><th>transactions_out</th><th>transactions_all</th><th>consecutive_no_transactions_out</th></tr><tr><td>u8</td><td>datetime[ns]</td><td>i8</td><td>i8</td><td>u8</td><td>i64</td><td>i8</td><td>i64</td><td>i64</td></tr></thead><tbody><tr><td>244</td><td>2018-12-28 22:00:00</td><td>18</td><td>12</td><td>1</td><td>1</td><td>1</td><td>3</td><td>0</td></tr><tr><td>244</td><td>2018-12-28 22:10:00</td><td>18</td><td>12</td><td>1</td><td>0</td><td>0</td><td>0</td><td>1</td></tr><tr><td>244</td><td>2018-12-28 22:20:00</td><td>18</td><td>12</td><td>1</td><td>0</td><td>0</td><td>0</td><td>2</td></tr><tr><td>244</td><td>2018-12-28 22:30:00</td><td>18</td><td>12</td><td>1</td><td>0</td><td>0</td><td>0</td><td>3</td></tr><tr><td>244</td><td>2018-12-28 22:40:00</td><td>19</td><td>11</td><td>1</td><td>0</td><td>1</td><td>1</td><td>0</td></tr><tr><td>244</td><td>2018-12-28 22:50:00</td><td>20</td><td>10</td><td>1</td><td>0</td><td>1</td><td>1</td><td>0</td></tr><tr><td>244</td><td>2018-12-28 23:00:00</td><td>20</td><td>10</td><td>1</td><td>0</td><td>0</td><td>0</td><td>1</td></tr><tr><td>244</td><td>2018-12-28 23:10:00</td><td>19</td><td>11</td><td>1</td><td>1</td><td>0</td><td>1</td><td>2</td></tr><tr><td>244</td><td>2018-12-28 23:20:00</td><td>18</td><td>12</td><td>1</td><td>1</td><td>0</td><td>1</td><td>3</td></tr><tr><td>244</td><td>2018-12-28 23:30:00</td><td>19</td><td>11</td><td>1</td><td>0</td><td>1</td><td>1</td><td>0</td></tr><tr><td>244</td><td>2018-12-28 23:40:00</td><td>19</td><td>11</td><td>1</td><td>0</td><td>0</td><td>0</td><td>1</td></tr><tr><td>244</td><td>2018-12-28 23:50:00</td><td>20</td><td>10</td><td>1</td><td>0</td><td>1</td><td>1</td><td>0</td></tr><tr><td>244</td><td>2018-12-29 00:00:00</td><td>20</td><td>10</td><td>1</td><td>0</td><td>0</td><td>0</td><td>1</td></tr><tr><td>244</td><td>2018-12-29 00:10:00</td><td>18</td><td>12</td><td>1</td><td>2</td><td>0</td><td>2</td><td>2</td></tr><tr><td>244</td><td>2018-12-29 00:20:00</td><td>19</td><td>11</td><td>1</td><td>0</td><td>1</td><td>1</td><td>0</td></tr></tbody></table></div>"
      ],
      "text/plain": [
       "shape: (15, 9)\n",
       "┌───────────┬───────────┬───────────┬───────────┬───┬───────────┬───────────┬───────────┬──────────┐\n",
       "│ station_i ┆ date      ┆ available ┆ available ┆ … ┆ transacti ┆ transacti ┆ transacti ┆ consecut │\n",
       "│ d         ┆ ---       ┆ _stands   ┆ _bikes    ┆   ┆ ons_in    ┆ ons_out   ┆ ons_all   ┆ ive_no_t │\n",
       "│ ---       ┆ datetime[ ┆ ---       ┆ ---       ┆   ┆ ---       ┆ ---       ┆ ---       ┆ ransacti │\n",
       "│ u8        ┆ ns]       ┆ i8        ┆ i8        ┆   ┆ i64       ┆ i8        ┆ i64       ┆ ons_ou…  │\n",
       "│           ┆           ┆           ┆           ┆   ┆           ┆           ┆           ┆ ---      │\n",
       "│           ┆           ┆           ┆           ┆   ┆           ┆           ┆           ┆ i64      │\n",
       "╞═══════════╪═══════════╪═══════════╪═══════════╪═══╪═══════════╪═══════════╪═══════════╪══════════╡\n",
       "│ 244       ┆ 2018-12-2 ┆ 18        ┆ 12        ┆ … ┆ 1         ┆ 1         ┆ 3         ┆ 0        │\n",
       "│           ┆ 8         ┆           ┆           ┆   ┆           ┆           ┆           ┆          │\n",
       "│           ┆ 22:00:00  ┆           ┆           ┆   ┆           ┆           ┆           ┆          │\n",
       "│ 244       ┆ 2018-12-2 ┆ 18        ┆ 12        ┆ … ┆ 0         ┆ 0         ┆ 0         ┆ 1        │\n",
       "│           ┆ 8         ┆           ┆           ┆   ┆           ┆           ┆           ┆          │\n",
       "│           ┆ 22:10:00  ┆           ┆           ┆   ┆           ┆           ┆           ┆          │\n",
       "│ 244       ┆ 2018-12-2 ┆ 18        ┆ 12        ┆ … ┆ 0         ┆ 0         ┆ 0         ┆ 2        │\n",
       "│           ┆ 8         ┆           ┆           ┆   ┆           ┆           ┆           ┆          │\n",
       "│           ┆ 22:20:00  ┆           ┆           ┆   ┆           ┆           ┆           ┆          │\n",
       "│ 244       ┆ 2018-12-2 ┆ 18        ┆ 12        ┆ … ┆ 0         ┆ 0         ┆ 0         ┆ 3        │\n",
       "│           ┆ 8         ┆           ┆           ┆   ┆           ┆           ┆           ┆          │\n",
       "│           ┆ 22:30:00  ┆           ┆           ┆   ┆           ┆           ┆           ┆          │\n",
       "│ 244       ┆ 2018-12-2 ┆ 19        ┆ 11        ┆ … ┆ 0         ┆ 1         ┆ 1         ┆ 0        │\n",
       "│           ┆ 8         ┆           ┆           ┆   ┆           ┆           ┆           ┆          │\n",
       "│           ┆ 22:40:00  ┆           ┆           ┆   ┆           ┆           ┆           ┆          │\n",
       "│ 244       ┆ 2018-12-2 ┆ 20        ┆ 10        ┆ … ┆ 0         ┆ 1         ┆ 1         ┆ 0        │\n",
       "│           ┆ 8         ┆           ┆           ┆   ┆           ┆           ┆           ┆          │\n",
       "│           ┆ 22:50:00  ┆           ┆           ┆   ┆           ┆           ┆           ┆          │\n",
       "│ 244       ┆ 2018-12-2 ┆ 20        ┆ 10        ┆ … ┆ 0         ┆ 0         ┆ 0         ┆ 1        │\n",
       "│           ┆ 8         ┆           ┆           ┆   ┆           ┆           ┆           ┆          │\n",
       "│           ┆ 23:00:00  ┆           ┆           ┆   ┆           ┆           ┆           ┆          │\n",
       "│ 244       ┆ 2018-12-2 ┆ 19        ┆ 11        ┆ … ┆ 1         ┆ 0         ┆ 1         ┆ 2        │\n",
       "│           ┆ 8         ┆           ┆           ┆   ┆           ┆           ┆           ┆          │\n",
       "│           ┆ 23:10:00  ┆           ┆           ┆   ┆           ┆           ┆           ┆          │\n",
       "│ 244       ┆ 2018-12-2 ┆ 18        ┆ 12        ┆ … ┆ 1         ┆ 0         ┆ 1         ┆ 3        │\n",
       "│           ┆ 8         ┆           ┆           ┆   ┆           ┆           ┆           ┆          │\n",
       "│           ┆ 23:20:00  ┆           ┆           ┆   ┆           ┆           ┆           ┆          │\n",
       "│ 244       ┆ 2018-12-2 ┆ 19        ┆ 11        ┆ … ┆ 0         ┆ 1         ┆ 1         ┆ 0        │\n",
       "│           ┆ 8         ┆           ┆           ┆   ┆           ┆           ┆           ┆          │\n",
       "│           ┆ 23:30:00  ┆           ┆           ┆   ┆           ┆           ┆           ┆          │\n",
       "│ 244       ┆ 2018-12-2 ┆ 19        ┆ 11        ┆ … ┆ 0         ┆ 0         ┆ 0         ┆ 1        │\n",
       "│           ┆ 8         ┆           ┆           ┆   ┆           ┆           ┆           ┆          │\n",
       "│           ┆ 23:40:00  ┆           ┆           ┆   ┆           ┆           ┆           ┆          │\n",
       "│ 244       ┆ 2018-12-2 ┆ 20        ┆ 10        ┆ … ┆ 0         ┆ 1         ┆ 1         ┆ 0        │\n",
       "│           ┆ 8         ┆           ┆           ┆   ┆           ┆           ┆           ┆          │\n",
       "│           ┆ 23:50:00  ┆           ┆           ┆   ┆           ┆           ┆           ┆          │\n",
       "│ 244       ┆ 2018-12-2 ┆ 20        ┆ 10        ┆ … ┆ 0         ┆ 0         ┆ 0         ┆ 1        │\n",
       "│           ┆ 9         ┆           ┆           ┆   ┆           ┆           ┆           ┆          │\n",
       "│           ┆ 00:00:00  ┆           ┆           ┆   ┆           ┆           ┆           ┆          │\n",
       "│ 244       ┆ 2018-12-2 ┆ 18        ┆ 12        ┆ … ┆ 2         ┆ 0         ┆ 2         ┆ 2        │\n",
       "│           ┆ 9         ┆           ┆           ┆   ┆           ┆           ┆           ┆          │\n",
       "│           ┆ 00:10:00  ┆           ┆           ┆   ┆           ┆           ┆           ┆          │\n",
       "│ 244       ┆ 2018-12-2 ┆ 19        ┆ 11        ┆ … ┆ 0         ┆ 1         ┆ 1         ┆ 0        │\n",
       "│           ┆ 9         ┆           ┆           ┆   ┆           ┆           ┆           ┆          │\n",
       "│           ┆ 00:20:00  ┆           ┆           ┆   ┆           ┆           ┆           ┆          │\n",
       "└───────────┴───────────┴───────────┴───────────┴───┴───────────┴───────────┴───────────┴──────────┘"
      ]
     },
     "execution_count": 23,
     "metadata": {},
     "output_type": "execute_result"
    }
   ],
   "source": [
    "station_id = 145\n",
    "start_date = \"2018-12-29\"\n",
    "end_date = \"2019-01-03\"\n",
    "\n",
    "# ts_activity[\n",
    "#     (ts_activity[\"station_id\"] == station_id) & (ts_activity[\"date\"] >= start_date) & (ts_activity[\"date\"] <= end_date)\n",
    "# ]\n",
    "ts_activity.filter((pl.col(\"station_id\") >= station_id) & (pl.col(\"date\") <= datetime(2018, 12, 31, 13, 0, 0))).tail(15)"
   ]
  },
  {
   "cell_type": "code",
   "execution_count": 24,
   "metadata": {
    "ExecuteTime": {
     "end_time": "2020-09-03T11:26:43.715628Z",
     "start_time": "2020-09-03T11:26:43.524771Z"
    }
   },
   "outputs": [
    {
     "data": {
      "text/html": [
       "<div><style>\n",
       ".dataframe > thead > tr,\n",
       ".dataframe > tbody > tr {\n",
       "  text-align: right;\n",
       "  white-space: pre-wrap;\n",
       "}\n",
       "</style>\n",
       "<small>shape: (0, 1)</small><table border=\"1\" class=\"dataframe\"><thead><tr><th>consecutive_no_transactions_out</th></tr><tr><td>i64</td></tr></thead><tbody></tbody></table></div>"
      ],
      "text/plain": [
       "shape: (0, 1)\n",
       "┌─────────────────────────────────┐\n",
       "│ consecutive_no_transactions_ou… │\n",
       "│ ---                             │\n",
       "│ i64                             │\n",
       "╞═════════════════════════════════╡\n",
       "└─────────────────────────────────┘"
      ]
     },
     "execution_count": 24,
     "metadata": {},
     "output_type": "execute_result"
    }
   ],
   "source": [
    "ts_activity.filter(pl.col(\"available_stands\").is_null()).select(\"consecutive_no_transactions_out\").unique()"
   ]
  },
  {
   "cell_type": "markdown",
   "metadata": {},
   "source": [
    "Analyse lorsque qu'un station est déconnecté."
   ]
  },
  {
   "cell_type": "code",
   "execution_count": 25,
   "metadata": {
    "ExecuteTime": {
     "end_time": "2020-09-03T11:26:45.140497Z",
     "start_time": "2020-09-03T11:26:45.060468Z"
    }
   },
   "outputs": [
    {
     "data": {
      "text/html": [
       "<div><style>\n",
       ".dataframe > thead > tr,\n",
       ".dataframe > tbody > tr {\n",
       "  text-align: right;\n",
       "  white-space: pre-wrap;\n",
       "}\n",
       "</style>\n",
       "<small>shape: (10, 9)</small><table border=\"1\" class=\"dataframe\"><thead><tr><th>station_id</th><th>date</th><th>available_stands</th><th>available_bikes</th><th>status</th><th>transactions_in</th><th>transactions_out</th><th>transactions_all</th><th>consecutive_no_transactions_out</th></tr><tr><td>u8</td><td>datetime[ns]</td><td>i8</td><td>i8</td><td>u8</td><td>i64</td><td>i8</td><td>i64</td><td>i64</td></tr></thead><tbody><tr><td>172</td><td>2020-05-11 06:30:00</td><td>28</td><td>0</td><td>0</td><td>0</td><td>0</td><td>0</td><td>0</td></tr><tr><td>172</td><td>2020-05-11 06:40:00</td><td>28</td><td>0</td><td>1</td><td>0</td><td>0</td><td>0</td><td>1</td></tr><tr><td>172</td><td>2020-05-11 06:50:00</td><td>28</td><td>0</td><td>1</td><td>0</td><td>0</td><td>0</td><td>2</td></tr><tr><td>172</td><td>2020-05-11 07:00:00</td><td>28</td><td>0</td><td>1</td><td>0</td><td>0</td><td>0</td><td>3</td></tr><tr><td>172</td><td>2020-05-11 07:10:00</td><td>24</td><td>4</td><td>1</td><td>4</td><td>0</td><td>4</td><td>4</td></tr><tr><td>172</td><td>2020-05-11 07:20:00</td><td>24</td><td>4</td><td>1</td><td>0</td><td>0</td><td>0</td><td>5</td></tr><tr><td>172</td><td>2020-05-11 07:30:00</td><td>24</td><td>4</td><td>1</td><td>0</td><td>0</td><td>0</td><td>6</td></tr><tr><td>172</td><td>2020-05-11 07:40:00</td><td>24</td><td>4</td><td>1</td><td>0</td><td>0</td><td>0</td><td>7</td></tr><tr><td>172</td><td>2020-05-11 07:50:00</td><td>24</td><td>4</td><td>1</td><td>0</td><td>0</td><td>0</td><td>8</td></tr><tr><td>172</td><td>2020-05-11 08:00:00</td><td>24</td><td>4</td><td>1</td><td>0</td><td>0</td><td>0</td><td>9</td></tr></tbody></table></div>"
      ],
      "text/plain": [
       "shape: (10, 9)\n",
       "┌───────────┬───────────┬───────────┬───────────┬───┬───────────┬───────────┬───────────┬──────────┐\n",
       "│ station_i ┆ date      ┆ available ┆ available ┆ … ┆ transacti ┆ transacti ┆ transacti ┆ consecut │\n",
       "│ d         ┆ ---       ┆ _stands   ┆ _bikes    ┆   ┆ ons_in    ┆ ons_out   ┆ ons_all   ┆ ive_no_t │\n",
       "│ ---       ┆ datetime[ ┆ ---       ┆ ---       ┆   ┆ ---       ┆ ---       ┆ ---       ┆ ransacti │\n",
       "│ u8        ┆ ns]       ┆ i8        ┆ i8        ┆   ┆ i64       ┆ i8        ┆ i64       ┆ ons_ou…  │\n",
       "│           ┆           ┆           ┆           ┆   ┆           ┆           ┆           ┆ ---      │\n",
       "│           ┆           ┆           ┆           ┆   ┆           ┆           ┆           ┆ i64      │\n",
       "╞═══════════╪═══════════╪═══════════╪═══════════╪═══╪═══════════╪═══════════╪═══════════╪══════════╡\n",
       "│ 172       ┆ 2020-05-1 ┆ 28        ┆ 0         ┆ … ┆ 0         ┆ 0         ┆ 0         ┆ 0        │\n",
       "│           ┆ 1         ┆           ┆           ┆   ┆           ┆           ┆           ┆          │\n",
       "│           ┆ 06:30:00  ┆           ┆           ┆   ┆           ┆           ┆           ┆          │\n",
       "│ 172       ┆ 2020-05-1 ┆ 28        ┆ 0         ┆ … ┆ 0         ┆ 0         ┆ 0         ┆ 1        │\n",
       "│           ┆ 1         ┆           ┆           ┆   ┆           ┆           ┆           ┆          │\n",
       "│           ┆ 06:40:00  ┆           ┆           ┆   ┆           ┆           ┆           ┆          │\n",
       "│ 172       ┆ 2020-05-1 ┆ 28        ┆ 0         ┆ … ┆ 0         ┆ 0         ┆ 0         ┆ 2        │\n",
       "│           ┆ 1         ┆           ┆           ┆   ┆           ┆           ┆           ┆          │\n",
       "│           ┆ 06:50:00  ┆           ┆           ┆   ┆           ┆           ┆           ┆          │\n",
       "│ 172       ┆ 2020-05-1 ┆ 28        ┆ 0         ┆ … ┆ 0         ┆ 0         ┆ 0         ┆ 3        │\n",
       "│           ┆ 1         ┆           ┆           ┆   ┆           ┆           ┆           ┆          │\n",
       "│           ┆ 07:00:00  ┆           ┆           ┆   ┆           ┆           ┆           ┆          │\n",
       "│ 172       ┆ 2020-05-1 ┆ 24        ┆ 4         ┆ … ┆ 4         ┆ 0         ┆ 4         ┆ 4        │\n",
       "│           ┆ 1         ┆           ┆           ┆   ┆           ┆           ┆           ┆          │\n",
       "│           ┆ 07:10:00  ┆           ┆           ┆   ┆           ┆           ┆           ┆          │\n",
       "│ 172       ┆ 2020-05-1 ┆ 24        ┆ 4         ┆ … ┆ 0         ┆ 0         ┆ 0         ┆ 5        │\n",
       "│           ┆ 1         ┆           ┆           ┆   ┆           ┆           ┆           ┆          │\n",
       "│           ┆ 07:20:00  ┆           ┆           ┆   ┆           ┆           ┆           ┆          │\n",
       "│ 172       ┆ 2020-05-1 ┆ 24        ┆ 4         ┆ … ┆ 0         ┆ 0         ┆ 0         ┆ 6        │\n",
       "│           ┆ 1         ┆           ┆           ┆   ┆           ┆           ┆           ┆          │\n",
       "│           ┆ 07:30:00  ┆           ┆           ┆   ┆           ┆           ┆           ┆          │\n",
       "│ 172       ┆ 2020-05-1 ┆ 24        ┆ 4         ┆ … ┆ 0         ┆ 0         ┆ 0         ┆ 7        │\n",
       "│           ┆ 1         ┆           ┆           ┆   ┆           ┆           ┆           ┆          │\n",
       "│           ┆ 07:40:00  ┆           ┆           ┆   ┆           ┆           ┆           ┆          │\n",
       "│ 172       ┆ 2020-05-1 ┆ 24        ┆ 4         ┆ … ┆ 0         ┆ 0         ┆ 0         ┆ 8        │\n",
       "│           ┆ 1         ┆           ┆           ┆   ┆           ┆           ┆           ┆          │\n",
       "│           ┆ 07:50:00  ┆           ┆           ┆   ┆           ┆           ┆           ┆          │\n",
       "│ 172       ┆ 2020-05-1 ┆ 24        ┆ 4         ┆ … ┆ 0         ┆ 0         ┆ 0         ┆ 9        │\n",
       "│           ┆ 1         ┆           ┆           ┆   ┆           ┆           ┆           ┆          │\n",
       "│           ┆ 08:00:00  ┆           ┆           ┆   ┆           ┆           ┆           ┆          │\n",
       "└───────────┴───────────┴───────────┴───────────┴───┴───────────┴───────────┴───────────┴──────────┘"
      ]
     },
     "execution_count": 25,
     "metadata": {},
     "output_type": "execute_result"
    }
   ],
   "source": [
    "station_id = 172\n",
    "ts_activity.filter((pl.col(\"station_id\") == station_id) & (pl.col(\"date\") >= datetime(2020, 5, 11, 6, 30))).head(10)"
   ]
  },
  {
   "cell_type": "markdown",
   "metadata": {},
   "source": [
    "## Industrialisation"
   ]
  },
  {
   "cell_type": "code",
   "execution_count": 8,
   "metadata": {},
   "outputs": [],
   "source": [
    "from vcub_keeper.transform.features_factory import get_consecutive_no_transactions_out"
   ]
  },
  {
   "cell_type": "code",
   "execution_count": 26,
   "metadata": {
    "ExecuteTime": {
     "end_time": "2020-10-05T13:21:38.610666Z",
     "start_time": "2020-10-05T13:21:21.199597Z"
    }
   },
   "outputs": [],
   "source": [
    "ts_activity = read_time_serie_activity(path_directory=ROOT_DATA_CLEAN)\n",
    "\n",
    "ts_activity = (\n",
    "    ts_activity.with_columns(get_transactions_out()).with_columns(get_consecutive_no_transactions_out())\n",
    ").collect()"
   ]
  },
  {
   "cell_type": "code",
   "execution_count": 27,
   "metadata": {
    "ExecuteTime": {
     "end_time": "2020-10-05T13:22:56.556408Z",
     "start_time": "2020-10-05T13:22:56.484783Z"
    }
   },
   "outputs": [
    {
     "data": {
      "text/html": [
       "<div><style>\n",
       ".dataframe > thead > tr,\n",
       ".dataframe > tbody > tr {\n",
       "  text-align: right;\n",
       "  white-space: pre-wrap;\n",
       "}\n",
       "</style>\n",
       "<small>shape: (60, 9)</small><table border=\"1\" class=\"dataframe\"><thead><tr><th>station_id</th><th>date</th><th>available_stands</th><th>available_bikes</th><th>status</th><th>transactions_in</th><th>transactions_out</th><th>transactions_all</th><th>consecutive_no_transactions_out</th></tr><tr><td>u8</td><td>datetime[ns]</td><td>i8</td><td>i8</td><td>u8</td><td>i64</td><td>i8</td><td>i64</td><td>i64</td></tr></thead><tbody><tr><td>22</td><td>2019-11-28 00:00:00</td><td>31</td><td>2</td><td>1</td><td>0</td><td>0</td><td>0</td><td>2</td></tr><tr><td>22</td><td>2019-11-28 00:10:00</td><td>31</td><td>2</td><td>1</td><td>0</td><td>0</td><td>0</td><td>3</td></tr><tr><td>22</td><td>2019-11-28 00:20:00</td><td>31</td><td>2</td><td>1</td><td>0</td><td>0</td><td>0</td><td>4</td></tr><tr><td>22</td><td>2019-11-28 00:30:00</td><td>31</td><td>2</td><td>1</td><td>0</td><td>0</td><td>0</td><td>5</td></tr><tr><td>22</td><td>2019-11-28 00:40:00</td><td>31</td><td>2</td><td>1</td><td>0</td><td>0</td><td>0</td><td>6</td></tr><tr><td>22</td><td>2019-11-28 00:50:00</td><td>31</td><td>2</td><td>1</td><td>0</td><td>0</td><td>0</td><td>7</td></tr><tr><td>22</td><td>2019-11-28 01:00:00</td><td>31</td><td>2</td><td>1</td><td>0</td><td>0</td><td>0</td><td>8</td></tr><tr><td>22</td><td>2019-11-28 01:10:00</td><td>31</td><td>2</td><td>1</td><td>0</td><td>0</td><td>0</td><td>9</td></tr><tr><td>22</td><td>2019-11-28 01:20:00</td><td>31</td><td>2</td><td>1</td><td>0</td><td>0</td><td>0</td><td>10</td></tr><tr><td>22</td><td>2019-11-28 01:30:00</td><td>31</td><td>2</td><td>1</td><td>0</td><td>0</td><td>0</td><td>11</td></tr><tr><td>22</td><td>2019-11-28 01:40:00</td><td>31</td><td>2</td><td>1</td><td>0</td><td>0</td><td>0</td><td>12</td></tr><tr><td>22</td><td>2019-11-28 01:50:00</td><td>31</td><td>2</td><td>1</td><td>0</td><td>0</td><td>0</td><td>13</td></tr><tr><td>22</td><td>2019-11-28 02:00:00</td><td>31</td><td>2</td><td>1</td><td>0</td><td>0</td><td>0</td><td>14</td></tr><tr><td>22</td><td>2019-11-28 02:10:00</td><td>31</td><td>2</td><td>1</td><td>0</td><td>0</td><td>0</td><td>15</td></tr><tr><td>22</td><td>2019-11-28 02:20:00</td><td>31</td><td>2</td><td>1</td><td>0</td><td>0</td><td>0</td><td>16</td></tr><tr><td>22</td><td>2019-11-28 02:30:00</td><td>31</td><td>2</td><td>1</td><td>0</td><td>0</td><td>0</td><td>17</td></tr><tr><td>22</td><td>2019-11-28 02:40:00</td><td>31</td><td>2</td><td>1</td><td>0</td><td>0</td><td>0</td><td>18</td></tr><tr><td>22</td><td>2019-11-28 02:50:00</td><td>31</td><td>2</td><td>1</td><td>0</td><td>0</td><td>0</td><td>19</td></tr><tr><td>22</td><td>2019-11-28 03:00:00</td><td>31</td><td>2</td><td>1</td><td>0</td><td>0</td><td>0</td><td>20</td></tr><tr><td>22</td><td>2019-11-28 03:10:00</td><td>31</td><td>2</td><td>1</td><td>0</td><td>0</td><td>0</td><td>21</td></tr><tr><td>22</td><td>2019-11-28 03:20:00</td><td>31</td><td>2</td><td>1</td><td>0</td><td>0</td><td>0</td><td>22</td></tr><tr><td>22</td><td>2019-11-28 03:30:00</td><td>31</td><td>2</td><td>1</td><td>0</td><td>0</td><td>0</td><td>23</td></tr><tr><td>22</td><td>2019-11-28 03:40:00</td><td>31</td><td>2</td><td>1</td><td>0</td><td>0</td><td>0</td><td>24</td></tr><tr><td>22</td><td>2019-11-28 03:50:00</td><td>31</td><td>2</td><td>1</td><td>0</td><td>0</td><td>0</td><td>25</td></tr><tr><td>22</td><td>2019-11-28 04:00:00</td><td>31</td><td>2</td><td>1</td><td>0</td><td>0</td><td>0</td><td>26</td></tr><tr><td>22</td><td>2019-11-28 04:10:00</td><td>31</td><td>2</td><td>1</td><td>0</td><td>0</td><td>0</td><td>27</td></tr><tr><td>22</td><td>2019-11-28 04:20:00</td><td>31</td><td>2</td><td>1</td><td>0</td><td>0</td><td>0</td><td>28</td></tr><tr><td>22</td><td>2019-11-28 04:30:00</td><td>31</td><td>2</td><td>1</td><td>0</td><td>0</td><td>0</td><td>29</td></tr><tr><td>22</td><td>2019-11-28 04:40:00</td><td>31</td><td>2</td><td>1</td><td>0</td><td>0</td><td>0</td><td>30</td></tr><tr><td>22</td><td>2019-11-28 04:50:00</td><td>31</td><td>2</td><td>1</td><td>0</td><td>0</td><td>0</td><td>31</td></tr><tr><td>22</td><td>2019-11-28 05:00:00</td><td>31</td><td>2</td><td>1</td><td>0</td><td>0</td><td>0</td><td>32</td></tr><tr><td>22</td><td>2019-11-28 05:10:00</td><td>31</td><td>2</td><td>1</td><td>0</td><td>0</td><td>0</td><td>33</td></tr><tr><td>22</td><td>2019-11-28 05:20:00</td><td>31</td><td>2</td><td>1</td><td>0</td><td>0</td><td>0</td><td>34</td></tr><tr><td>22</td><td>2019-11-28 05:30:00</td><td>31</td><td>2</td><td>1</td><td>0</td><td>0</td><td>0</td><td>35</td></tr><tr><td>22</td><td>2019-11-28 05:40:00</td><td>31</td><td>2</td><td>1</td><td>0</td><td>0</td><td>0</td><td>36</td></tr><tr><td>22</td><td>2019-11-28 05:50:00</td><td>31</td><td>2</td><td>1</td><td>0</td><td>0</td><td>0</td><td>37</td></tr><tr><td>22</td><td>2019-11-28 06:00:00</td><td>31</td><td>2</td><td>1</td><td>0</td><td>0</td><td>0</td><td>38</td></tr><tr><td>22</td><td>2019-11-28 06:10:00</td><td>31</td><td>2</td><td>1</td><td>0</td><td>0</td><td>0</td><td>39</td></tr><tr><td>22</td><td>2019-11-28 06:20:00</td><td>30</td><td>3</td><td>1</td><td>1</td><td>0</td><td>1</td><td>40</td></tr><tr><td>22</td><td>2019-11-28 06:30:00</td><td>30</td><td>3</td><td>1</td><td>0</td><td>0</td><td>0</td><td>41</td></tr><tr><td>22</td><td>2019-11-28 06:40:00</td><td>30</td><td>3</td><td>1</td><td>0</td><td>0</td><td>0</td><td>42</td></tr><tr><td>22</td><td>2019-11-28 06:50:00</td><td>29</td><td>4</td><td>1</td><td>1</td><td>0</td><td>1</td><td>43</td></tr><tr><td>22</td><td>2019-11-28 07:00:00</td><td>29</td><td>4</td><td>1</td><td>0</td><td>0</td><td>0</td><td>44</td></tr><tr><td>22</td><td>2019-11-28 07:10:00</td><td>29</td><td>4</td><td>1</td><td>0</td><td>0</td><td>0</td><td>45</td></tr><tr><td>22</td><td>2019-11-28 07:20:00</td><td>29</td><td>4</td><td>1</td><td>0</td><td>0</td><td>0</td><td>46</td></tr><tr><td>22</td><td>2019-11-28 07:30:00</td><td>29</td><td>4</td><td>1</td><td>0</td><td>0</td><td>0</td><td>47</td></tr><tr><td>22</td><td>2019-11-28 07:40:00</td><td>30</td><td>3</td><td>1</td><td>0</td><td>1</td><td>1</td><td>0</td></tr><tr><td>22</td><td>2019-11-28 07:50:00</td><td>31</td><td>2</td><td>1</td><td>0</td><td>1</td><td>1</td><td>0</td></tr><tr><td>22</td><td>2019-11-28 08:00:00</td><td>31</td><td>2</td><td>1</td><td>0</td><td>0</td><td>0</td><td>1</td></tr><tr><td>22</td><td>2019-11-28 08:10:00</td><td>31</td><td>2</td><td>1</td><td>0</td><td>0</td><td>0</td><td>2</td></tr><tr><td>22</td><td>2019-11-28 08:20:00</td><td>30</td><td>3</td><td>1</td><td>1</td><td>0</td><td>1</td><td>3</td></tr><tr><td>22</td><td>2019-11-28 08:30:00</td><td>30</td><td>3</td><td>1</td><td>1</td><td>0</td><td>2</td><td>4</td></tr><tr><td>22</td><td>2019-11-28 08:40:00</td><td>31</td><td>2</td><td>1</td><td>0</td><td>1</td><td>1</td><td>0</td></tr><tr><td>22</td><td>2019-11-28 08:50:00</td><td>30</td><td>3</td><td>1</td><td>2</td><td>0</td><td>3</td><td>1</td></tr><tr><td>22</td><td>2019-11-28 09:00:00</td><td>22</td><td>11</td><td>1</td><td>8</td><td>0</td><td>8</td><td>2</td></tr><tr><td>22</td><td>2019-11-28 09:10:00</td><td>23</td><td>10</td><td>1</td><td>1</td><td>1</td><td>3</td><td>0</td></tr><tr><td>22</td><td>2019-11-28 09:20:00</td><td>23</td><td>10</td><td>1</td><td>0</td><td>0</td><td>0</td><td>1</td></tr><tr><td>22</td><td>2019-11-28 09:30:00</td><td>23</td><td>10</td><td>1</td><td>0</td><td>0</td><td>0</td><td>2</td></tr><tr><td>22</td><td>2019-11-28 09:40:00</td><td>23</td><td>10</td><td>1</td><td>0</td><td>0</td><td>0</td><td>3</td></tr><tr><td>22</td><td>2019-11-28 09:50:00</td><td>23</td><td>10</td><td>1</td><td>0</td><td>0</td><td>0</td><td>4</td></tr></tbody></table></div>"
      ],
      "text/plain": [
       "shape: (60, 9)\n",
       "┌───────────┬───────────┬───────────┬───────────┬───┬───────────┬───────────┬───────────┬──────────┐\n",
       "│ station_i ┆ date      ┆ available ┆ available ┆ … ┆ transacti ┆ transacti ┆ transacti ┆ consecut │\n",
       "│ d         ┆ ---       ┆ _stands   ┆ _bikes    ┆   ┆ ons_in    ┆ ons_out   ┆ ons_all   ┆ ive_no_t │\n",
       "│ ---       ┆ datetime[ ┆ ---       ┆ ---       ┆   ┆ ---       ┆ ---       ┆ ---       ┆ ransacti │\n",
       "│ u8        ┆ ns]       ┆ i8        ┆ i8        ┆   ┆ i64       ┆ i8        ┆ i64       ┆ ons_ou…  │\n",
       "│           ┆           ┆           ┆           ┆   ┆           ┆           ┆           ┆ ---      │\n",
       "│           ┆           ┆           ┆           ┆   ┆           ┆           ┆           ┆ i64      │\n",
       "╞═══════════╪═══════════╪═══════════╪═══════════╪═══╪═══════════╪═══════════╪═══════════╪══════════╡\n",
       "│ 22        ┆ 2019-11-2 ┆ 31        ┆ 2         ┆ … ┆ 0         ┆ 0         ┆ 0         ┆ 2        │\n",
       "│           ┆ 8         ┆           ┆           ┆   ┆           ┆           ┆           ┆          │\n",
       "│           ┆ 00:00:00  ┆           ┆           ┆   ┆           ┆           ┆           ┆          │\n",
       "│ 22        ┆ 2019-11-2 ┆ 31        ┆ 2         ┆ … ┆ 0         ┆ 0         ┆ 0         ┆ 3        │\n",
       "│           ┆ 8         ┆           ┆           ┆   ┆           ┆           ┆           ┆          │\n",
       "│           ┆ 00:10:00  ┆           ┆           ┆   ┆           ┆           ┆           ┆          │\n",
       "│ 22        ┆ 2019-11-2 ┆ 31        ┆ 2         ┆ … ┆ 0         ┆ 0         ┆ 0         ┆ 4        │\n",
       "│           ┆ 8         ┆           ┆           ┆   ┆           ┆           ┆           ┆          │\n",
       "│           ┆ 00:20:00  ┆           ┆           ┆   ┆           ┆           ┆           ┆          │\n",
       "│ 22        ┆ 2019-11-2 ┆ 31        ┆ 2         ┆ … ┆ 0         ┆ 0         ┆ 0         ┆ 5        │\n",
       "│           ┆ 8         ┆           ┆           ┆   ┆           ┆           ┆           ┆          │\n",
       "│           ┆ 00:30:00  ┆           ┆           ┆   ┆           ┆           ┆           ┆          │\n",
       "│ 22        ┆ 2019-11-2 ┆ 31        ┆ 2         ┆ … ┆ 0         ┆ 0         ┆ 0         ┆ 6        │\n",
       "│           ┆ 8         ┆           ┆           ┆   ┆           ┆           ┆           ┆          │\n",
       "│           ┆ 00:40:00  ┆           ┆           ┆   ┆           ┆           ┆           ┆          │\n",
       "│ 22        ┆ 2019-11-2 ┆ 31        ┆ 2         ┆ … ┆ 0         ┆ 0         ┆ 0         ┆ 7        │\n",
       "│           ┆ 8         ┆           ┆           ┆   ┆           ┆           ┆           ┆          │\n",
       "│           ┆ 00:50:00  ┆           ┆           ┆   ┆           ┆           ┆           ┆          │\n",
       "│ 22        ┆ 2019-11-2 ┆ 31        ┆ 2         ┆ … ┆ 0         ┆ 0         ┆ 0         ┆ 8        │\n",
       "│           ┆ 8         ┆           ┆           ┆   ┆           ┆           ┆           ┆          │\n",
       "│           ┆ 01:00:00  ┆           ┆           ┆   ┆           ┆           ┆           ┆          │\n",
       "│ 22        ┆ 2019-11-2 ┆ 31        ┆ 2         ┆ … ┆ 0         ┆ 0         ┆ 0         ┆ 9        │\n",
       "│           ┆ 8         ┆           ┆           ┆   ┆           ┆           ┆           ┆          │\n",
       "│           ┆ 01:10:00  ┆           ┆           ┆   ┆           ┆           ┆           ┆          │\n",
       "│ 22        ┆ 2019-11-2 ┆ 31        ┆ 2         ┆ … ┆ 0         ┆ 0         ┆ 0         ┆ 10       │\n",
       "│           ┆ 8         ┆           ┆           ┆   ┆           ┆           ┆           ┆          │\n",
       "│           ┆ 01:20:00  ┆           ┆           ┆   ┆           ┆           ┆           ┆          │\n",
       "│ 22        ┆ 2019-11-2 ┆ 31        ┆ 2         ┆ … ┆ 0         ┆ 0         ┆ 0         ┆ 11       │\n",
       "│           ┆ 8         ┆           ┆           ┆   ┆           ┆           ┆           ┆          │\n",
       "│           ┆ 01:30:00  ┆           ┆           ┆   ┆           ┆           ┆           ┆          │\n",
       "│ 22        ┆ 2019-11-2 ┆ 31        ┆ 2         ┆ … ┆ 0         ┆ 0         ┆ 0         ┆ 12       │\n",
       "│           ┆ 8         ┆           ┆           ┆   ┆           ┆           ┆           ┆          │\n",
       "│           ┆ 01:40:00  ┆           ┆           ┆   ┆           ┆           ┆           ┆          │\n",
       "│ 22        ┆ 2019-11-2 ┆ 31        ┆ 2         ┆ … ┆ 0         ┆ 0         ┆ 0         ┆ 13       │\n",
       "│           ┆ 8         ┆           ┆           ┆   ┆           ┆           ┆           ┆          │\n",
       "│           ┆ 01:50:00  ┆           ┆           ┆   ┆           ┆           ┆           ┆          │\n",
       "│ 22        ┆ 2019-11-2 ┆ 31        ┆ 2         ┆ … ┆ 0         ┆ 0         ┆ 0         ┆ 14       │\n",
       "│           ┆ 8         ┆           ┆           ┆   ┆           ┆           ┆           ┆          │\n",
       "│           ┆ 02:00:00  ┆           ┆           ┆   ┆           ┆           ┆           ┆          │\n",
       "│ 22        ┆ 2019-11-2 ┆ 31        ┆ 2         ┆ … ┆ 0         ┆ 0         ┆ 0         ┆ 15       │\n",
       "│           ┆ 8         ┆           ┆           ┆   ┆           ┆           ┆           ┆          │\n",
       "│           ┆ 02:10:00  ┆           ┆           ┆   ┆           ┆           ┆           ┆          │\n",
       "│ 22        ┆ 2019-11-2 ┆ 31        ┆ 2         ┆ … ┆ 0         ┆ 0         ┆ 0         ┆ 16       │\n",
       "│           ┆ 8         ┆           ┆           ┆   ┆           ┆           ┆           ┆          │\n",
       "│           ┆ 02:20:00  ┆           ┆           ┆   ┆           ┆           ┆           ┆          │\n",
       "│ 22        ┆ 2019-11-2 ┆ 31        ┆ 2         ┆ … ┆ 0         ┆ 0         ┆ 0         ┆ 17       │\n",
       "│           ┆ 8         ┆           ┆           ┆   ┆           ┆           ┆           ┆          │\n",
       "│           ┆ 02:30:00  ┆           ┆           ┆   ┆           ┆           ┆           ┆          │\n",
       "│ 22        ┆ 2019-11-2 ┆ 31        ┆ 2         ┆ … ┆ 0         ┆ 0         ┆ 0         ┆ 18       │\n",
       "│           ┆ 8         ┆           ┆           ┆   ┆           ┆           ┆           ┆          │\n",
       "│           ┆ 02:40:00  ┆           ┆           ┆   ┆           ┆           ┆           ┆          │\n",
       "│ 22        ┆ 2019-11-2 ┆ 31        ┆ 2         ┆ … ┆ 0         ┆ 0         ┆ 0         ┆ 19       │\n",
       "│           ┆ 8         ┆           ┆           ┆   ┆           ┆           ┆           ┆          │\n",
       "│           ┆ 02:50:00  ┆           ┆           ┆   ┆           ┆           ┆           ┆          │\n",
       "│ 22        ┆ 2019-11-2 ┆ 31        ┆ 2         ┆ … ┆ 0         ┆ 0         ┆ 0         ┆ 20       │\n",
       "│           ┆ 8         ┆           ┆           ┆   ┆           ┆           ┆           ┆          │\n",
       "│           ┆ 03:00:00  ┆           ┆           ┆   ┆           ┆           ┆           ┆          │\n",
       "│ 22        ┆ 2019-11-2 ┆ 31        ┆ 2         ┆ … ┆ 0         ┆ 0         ┆ 0         ┆ 21       │\n",
       "│           ┆ 8         ┆           ┆           ┆   ┆           ┆           ┆           ┆          │\n",
       "│           ┆ 03:10:00  ┆           ┆           ┆   ┆           ┆           ┆           ┆          │\n",
       "│ 22        ┆ 2019-11-2 ┆ 31        ┆ 2         ┆ … ┆ 0         ┆ 0         ┆ 0         ┆ 22       │\n",
       "│           ┆ 8         ┆           ┆           ┆   ┆           ┆           ┆           ┆          │\n",
       "│           ┆ 03:20:00  ┆           ┆           ┆   ┆           ┆           ┆           ┆          │\n",
       "│ 22        ┆ 2019-11-2 ┆ 31        ┆ 2         ┆ … ┆ 0         ┆ 0         ┆ 0         ┆ 23       │\n",
       "│           ┆ 8         ┆           ┆           ┆   ┆           ┆           ┆           ┆          │\n",
       "│           ┆ 03:30:00  ┆           ┆           ┆   ┆           ┆           ┆           ┆          │\n",
       "│ 22        ┆ 2019-11-2 ┆ 31        ┆ 2         ┆ … ┆ 0         ┆ 0         ┆ 0         ┆ 24       │\n",
       "│           ┆ 8         ┆           ┆           ┆   ┆           ┆           ┆           ┆          │\n",
       "│           ┆ 03:40:00  ┆           ┆           ┆   ┆           ┆           ┆           ┆          │\n",
       "│ 22        ┆ 2019-11-2 ┆ 31        ┆ 2         ┆ … ┆ 0         ┆ 0         ┆ 0         ┆ 25       │\n",
       "│           ┆ 8         ┆           ┆           ┆   ┆           ┆           ┆           ┆          │\n",
       "│           ┆ 03:50:00  ┆           ┆           ┆   ┆           ┆           ┆           ┆          │\n",
       "│ 22        ┆ 2019-11-2 ┆ 31        ┆ 2         ┆ … ┆ 0         ┆ 0         ┆ 0         ┆ 26       │\n",
       "│           ┆ 8         ┆           ┆           ┆   ┆           ┆           ┆           ┆          │\n",
       "│           ┆ 04:00:00  ┆           ┆           ┆   ┆           ┆           ┆           ┆          │\n",
       "│ 22        ┆ 2019-11-2 ┆ 31        ┆ 2         ┆ … ┆ 0         ┆ 0         ┆ 0         ┆ 27       │\n",
       "│           ┆ 8         ┆           ┆           ┆   ┆           ┆           ┆           ┆          │\n",
       "│           ┆ 04:10:00  ┆           ┆           ┆   ┆           ┆           ┆           ┆          │\n",
       "│ 22        ┆ 2019-11-2 ┆ 31        ┆ 2         ┆ … ┆ 0         ┆ 0         ┆ 0         ┆ 28       │\n",
       "│           ┆ 8         ┆           ┆           ┆   ┆           ┆           ┆           ┆          │\n",
       "│           ┆ 04:20:00  ┆           ┆           ┆   ┆           ┆           ┆           ┆          │\n",
       "│ 22        ┆ 2019-11-2 ┆ 31        ┆ 2         ┆ … ┆ 0         ┆ 0         ┆ 0         ┆ 29       │\n",
       "│           ┆ 8         ┆           ┆           ┆   ┆           ┆           ┆           ┆          │\n",
       "│           ┆ 04:30:00  ┆           ┆           ┆   ┆           ┆           ┆           ┆          │\n",
       "│ 22        ┆ 2019-11-2 ┆ 31        ┆ 2         ┆ … ┆ 0         ┆ 0         ┆ 0         ┆ 30       │\n",
       "│           ┆ 8         ┆           ┆           ┆   ┆           ┆           ┆           ┆          │\n",
       "│           ┆ 04:40:00  ┆           ┆           ┆   ┆           ┆           ┆           ┆          │\n",
       "│ 22        ┆ 2019-11-2 ┆ 31        ┆ 2         ┆ … ┆ 0         ┆ 0         ┆ 0         ┆ 31       │\n",
       "│           ┆ 8         ┆           ┆           ┆   ┆           ┆           ┆           ┆          │\n",
       "│           ┆ 04:50:00  ┆           ┆           ┆   ┆           ┆           ┆           ┆          │\n",
       "│ 22        ┆ 2019-11-2 ┆ 31        ┆ 2         ┆ … ┆ 0         ┆ 0         ┆ 0         ┆ 32       │\n",
       "│           ┆ 8         ┆           ┆           ┆   ┆           ┆           ┆           ┆          │\n",
       "│           ┆ 05:00:00  ┆           ┆           ┆   ┆           ┆           ┆           ┆          │\n",
       "│ 22        ┆ 2019-11-2 ┆ 31        ┆ 2         ┆ … ┆ 0         ┆ 0         ┆ 0         ┆ 33       │\n",
       "│           ┆ 8         ┆           ┆           ┆   ┆           ┆           ┆           ┆          │\n",
       "│           ┆ 05:10:00  ┆           ┆           ┆   ┆           ┆           ┆           ┆          │\n",
       "│ 22        ┆ 2019-11-2 ┆ 31        ┆ 2         ┆ … ┆ 0         ┆ 0         ┆ 0         ┆ 34       │\n",
       "│           ┆ 8         ┆           ┆           ┆   ┆           ┆           ┆           ┆          │\n",
       "│           ┆ 05:20:00  ┆           ┆           ┆   ┆           ┆           ┆           ┆          │\n",
       "│ 22        ┆ 2019-11-2 ┆ 31        ┆ 2         ┆ … ┆ 0         ┆ 0         ┆ 0         ┆ 35       │\n",
       "│           ┆ 8         ┆           ┆           ┆   ┆           ┆           ┆           ┆          │\n",
       "│           ┆ 05:30:00  ┆           ┆           ┆   ┆           ┆           ┆           ┆          │\n",
       "│ 22        ┆ 2019-11-2 ┆ 31        ┆ 2         ┆ … ┆ 0         ┆ 0         ┆ 0         ┆ 36       │\n",
       "│           ┆ 8         ┆           ┆           ┆   ┆           ┆           ┆           ┆          │\n",
       "│           ┆ 05:40:00  ┆           ┆           ┆   ┆           ┆           ┆           ┆          │\n",
       "│ 22        ┆ 2019-11-2 ┆ 31        ┆ 2         ┆ … ┆ 0         ┆ 0         ┆ 0         ┆ 37       │\n",
       "│           ┆ 8         ┆           ┆           ┆   ┆           ┆           ┆           ┆          │\n",
       "│           ┆ 05:50:00  ┆           ┆           ┆   ┆           ┆           ┆           ┆          │\n",
       "│ 22        ┆ 2019-11-2 ┆ 31        ┆ 2         ┆ … ┆ 0         ┆ 0         ┆ 0         ┆ 38       │\n",
       "│           ┆ 8         ┆           ┆           ┆   ┆           ┆           ┆           ┆          │\n",
       "│           ┆ 06:00:00  ┆           ┆           ┆   ┆           ┆           ┆           ┆          │\n",
       "│ 22        ┆ 2019-11-2 ┆ 31        ┆ 2         ┆ … ┆ 0         ┆ 0         ┆ 0         ┆ 39       │\n",
       "│           ┆ 8         ┆           ┆           ┆   ┆           ┆           ┆           ┆          │\n",
       "│           ┆ 06:10:00  ┆           ┆           ┆   ┆           ┆           ┆           ┆          │\n",
       "│ 22        ┆ 2019-11-2 ┆ 30        ┆ 3         ┆ … ┆ 1         ┆ 0         ┆ 1         ┆ 40       │\n",
       "│           ┆ 8         ┆           ┆           ┆   ┆           ┆           ┆           ┆          │\n",
       "│           ┆ 06:20:00  ┆           ┆           ┆   ┆           ┆           ┆           ┆          │\n",
       "│ 22        ┆ 2019-11-2 ┆ 30        ┆ 3         ┆ … ┆ 0         ┆ 0         ┆ 0         ┆ 41       │\n",
       "│           ┆ 8         ┆           ┆           ┆   ┆           ┆           ┆           ┆          │\n",
       "│           ┆ 06:30:00  ┆           ┆           ┆   ┆           ┆           ┆           ┆          │\n",
       "│ 22        ┆ 2019-11-2 ┆ 30        ┆ 3         ┆ … ┆ 0         ┆ 0         ┆ 0         ┆ 42       │\n",
       "│           ┆ 8         ┆           ┆           ┆   ┆           ┆           ┆           ┆          │\n",
       "│           ┆ 06:40:00  ┆           ┆           ┆   ┆           ┆           ┆           ┆          │\n",
       "│ 22        ┆ 2019-11-2 ┆ 29        ┆ 4         ┆ … ┆ 1         ┆ 0         ┆ 1         ┆ 43       │\n",
       "│           ┆ 8         ┆           ┆           ┆   ┆           ┆           ┆           ┆          │\n",
       "│           ┆ 06:50:00  ┆           ┆           ┆   ┆           ┆           ┆           ┆          │\n",
       "│ 22        ┆ 2019-11-2 ┆ 29        ┆ 4         ┆ … ┆ 0         ┆ 0         ┆ 0         ┆ 44       │\n",
       "│           ┆ 8         ┆           ┆           ┆   ┆           ┆           ┆           ┆          │\n",
       "│           ┆ 07:00:00  ┆           ┆           ┆   ┆           ┆           ┆           ┆          │\n",
       "│ 22        ┆ 2019-11-2 ┆ 29        ┆ 4         ┆ … ┆ 0         ┆ 0         ┆ 0         ┆ 45       │\n",
       "│           ┆ 8         ┆           ┆           ┆   ┆           ┆           ┆           ┆          │\n",
       "│           ┆ 07:10:00  ┆           ┆           ┆   ┆           ┆           ┆           ┆          │\n",
       "│ 22        ┆ 2019-11-2 ┆ 29        ┆ 4         ┆ … ┆ 0         ┆ 0         ┆ 0         ┆ 46       │\n",
       "│           ┆ 8         ┆           ┆           ┆   ┆           ┆           ┆           ┆          │\n",
       "│           ┆ 07:20:00  ┆           ┆           ┆   ┆           ┆           ┆           ┆          │\n",
       "│ 22        ┆ 2019-11-2 ┆ 29        ┆ 4         ┆ … ┆ 0         ┆ 0         ┆ 0         ┆ 47       │\n",
       "│           ┆ 8         ┆           ┆           ┆   ┆           ┆           ┆           ┆          │\n",
       "│           ┆ 07:30:00  ┆           ┆           ┆   ┆           ┆           ┆           ┆          │\n",
       "│ 22        ┆ 2019-11-2 ┆ 30        ┆ 3         ┆ … ┆ 0         ┆ 1         ┆ 1         ┆ 0        │\n",
       "│           ┆ 8         ┆           ┆           ┆   ┆           ┆           ┆           ┆          │\n",
       "│           ┆ 07:40:00  ┆           ┆           ┆   ┆           ┆           ┆           ┆          │\n",
       "│ 22        ┆ 2019-11-2 ┆ 31        ┆ 2         ┆ … ┆ 0         ┆ 1         ┆ 1         ┆ 0        │\n",
       "│           ┆ 8         ┆           ┆           ┆   ┆           ┆           ┆           ┆          │\n",
       "│           ┆ 07:50:00  ┆           ┆           ┆   ┆           ┆           ┆           ┆          │\n",
       "│ 22        ┆ 2019-11-2 ┆ 31        ┆ 2         ┆ … ┆ 0         ┆ 0         ┆ 0         ┆ 1        │\n",
       "│           ┆ 8         ┆           ┆           ┆   ┆           ┆           ┆           ┆          │\n",
       "│           ┆ 08:00:00  ┆           ┆           ┆   ┆           ┆           ┆           ┆          │\n",
       "│ 22        ┆ 2019-11-2 ┆ 31        ┆ 2         ┆ … ┆ 0         ┆ 0         ┆ 0         ┆ 2        │\n",
       "│           ┆ 8         ┆           ┆           ┆   ┆           ┆           ┆           ┆          │\n",
       "│           ┆ 08:10:00  ┆           ┆           ┆   ┆           ┆           ┆           ┆          │\n",
       "│ 22        ┆ 2019-11-2 ┆ 30        ┆ 3         ┆ … ┆ 1         ┆ 0         ┆ 1         ┆ 3        │\n",
       "│           ┆ 8         ┆           ┆           ┆   ┆           ┆           ┆           ┆          │\n",
       "│           ┆ 08:20:00  ┆           ┆           ┆   ┆           ┆           ┆           ┆          │\n",
       "│ 22        ┆ 2019-11-2 ┆ 30        ┆ 3         ┆ … ┆ 1         ┆ 0         ┆ 2         ┆ 4        │\n",
       "│           ┆ 8         ┆           ┆           ┆   ┆           ┆           ┆           ┆          │\n",
       "│           ┆ 08:30:00  ┆           ┆           ┆   ┆           ┆           ┆           ┆          │\n",
       "│ 22        ┆ 2019-11-2 ┆ 31        ┆ 2         ┆ … ┆ 0         ┆ 1         ┆ 1         ┆ 0        │\n",
       "│           ┆ 8         ┆           ┆           ┆   ┆           ┆           ┆           ┆          │\n",
       "│           ┆ 08:40:00  ┆           ┆           ┆   ┆           ┆           ┆           ┆          │\n",
       "│ 22        ┆ 2019-11-2 ┆ 30        ┆ 3         ┆ … ┆ 2         ┆ 0         ┆ 3         ┆ 1        │\n",
       "│           ┆ 8         ┆           ┆           ┆   ┆           ┆           ┆           ┆          │\n",
       "│           ┆ 08:50:00  ┆           ┆           ┆   ┆           ┆           ┆           ┆          │\n",
       "│ 22        ┆ 2019-11-2 ┆ 22        ┆ 11        ┆ … ┆ 8         ┆ 0         ┆ 8         ┆ 2        │\n",
       "│           ┆ 8         ┆           ┆           ┆   ┆           ┆           ┆           ┆          │\n",
       "│           ┆ 09:00:00  ┆           ┆           ┆   ┆           ┆           ┆           ┆          │\n",
       "│ 22        ┆ 2019-11-2 ┆ 23        ┆ 10        ┆ … ┆ 1         ┆ 1         ┆ 3         ┆ 0        │\n",
       "│           ┆ 8         ┆           ┆           ┆   ┆           ┆           ┆           ┆          │\n",
       "│           ┆ 09:10:00  ┆           ┆           ┆   ┆           ┆           ┆           ┆          │\n",
       "│ 22        ┆ 2019-11-2 ┆ 23        ┆ 10        ┆ … ┆ 0         ┆ 0         ┆ 0         ┆ 1        │\n",
       "│           ┆ 8         ┆           ┆           ┆   ┆           ┆           ┆           ┆          │\n",
       "│           ┆ 09:20:00  ┆           ┆           ┆   ┆           ┆           ┆           ┆          │\n",
       "│ 22        ┆ 2019-11-2 ┆ 23        ┆ 10        ┆ … ┆ 0         ┆ 0         ┆ 0         ┆ 2        │\n",
       "│           ┆ 8         ┆           ┆           ┆   ┆           ┆           ┆           ┆          │\n",
       "│           ┆ 09:30:00  ┆           ┆           ┆   ┆           ┆           ┆           ┆          │\n",
       "│ 22        ┆ 2019-11-2 ┆ 23        ┆ 10        ┆ … ┆ 0         ┆ 0         ┆ 0         ┆ 3        │\n",
       "│           ┆ 8         ┆           ┆           ┆   ┆           ┆           ┆           ┆          │\n",
       "│           ┆ 09:40:00  ┆           ┆           ┆   ┆           ┆           ┆           ┆          │\n",
       "│ 22        ┆ 2019-11-2 ┆ 23        ┆ 10        ┆ … ┆ 0         ┆ 0         ┆ 0         ┆ 4        │\n",
       "│           ┆ 8         ┆           ┆           ┆   ┆           ┆           ┆           ┆          │\n",
       "│           ┆ 09:50:00  ┆           ┆           ┆   ┆           ┆           ┆           ┆          │\n",
       "└───────────┴───────────┴───────────┴───────────┴───┴───────────┴───────────┴───────────┴──────────┘"
      ]
     },
     "execution_count": 27,
     "metadata": {},
     "output_type": "execute_result"
    }
   ],
   "source": [
    "# On regarde si la fonction prend en compte le nombre de Vcub dispo pour\n",
    "# avancer dans consecutive_no_transactions_out\n",
    "# new = ts_activity[(ts_activity['station_id'] == 22) &\n",
    "#                  (ts_activity['date'] >= \"2019-08-14 08:00:00\")].head(60)\n",
    "\n",
    "new = ts_activity.filter((pl.col(\"station_id\") == 22) & (pl.col(\"date\") >= datetime(2019, 11, 28))).head(60)\n",
    "\n",
    "new"
   ]
  },
  {
   "cell_type": "markdown",
   "metadata": {
    "ExecuteTime": {
     "end_time": "2020-08-26T16:12:39.156735Z",
     "start_time": "2020-08-26T16:12:39.135991Z"
    }
   },
   "source": [
    "#### Script "
   ]
  },
  {
   "cell_type": "code",
   "execution_count": 28,
   "metadata": {
    "ExecuteTime": {
     "end_time": "2020-09-03T11:27:28.386625Z",
     "start_time": "2020-09-03T11:27:28.364462Z"
    }
   },
   "outputs": [],
   "source": [
    "from vcub_keeper.reader.reader import read_time_serie_activity\n",
    "from vcub_keeper.transform.features_factory import get_consecutive_no_transactions_out, get_transactions_out"
   ]
  },
  {
   "cell_type": "code",
   "execution_count": 29,
   "metadata": {
    "ExecuteTime": {
     "end_time": "2020-09-03T11:27:34.757374Z",
     "start_time": "2020-09-03T11:27:28.590650Z"
    }
   },
   "outputs": [],
   "source": [
    "ts_activity = read_time_serie_activity(path_directory=ROOT_DATA_CLEAN)\n",
    "\n",
    "ts_activity = (\n",
    "    ts_activity.with_columns(get_transactions_out()).with_columns(get_consecutive_no_transactions_out())\n",
    ").collect()"
   ]
  },
  {
   "cell_type": "code",
   "execution_count": 30,
   "metadata": {
    "ExecuteTime": {
     "end_time": "2020-09-03T11:27:34.779314Z",
     "start_time": "2020-09-03T11:27:34.758668Z"
    }
   },
   "outputs": [
    {
     "data": {
      "text/html": [
       "<div><style>\n",
       ".dataframe > thead > tr,\n",
       ".dataframe > tbody > tr {\n",
       "  text-align: right;\n",
       "  white-space: pre-wrap;\n",
       "}\n",
       "</style>\n",
       "<small>shape: (10, 9)</small><table border=\"1\" class=\"dataframe\"><thead><tr><th>station_id</th><th>date</th><th>available_stands</th><th>available_bikes</th><th>status</th><th>transactions_in</th><th>transactions_out</th><th>transactions_all</th><th>consecutive_no_transactions_out</th></tr><tr><td>u8</td><td>datetime[ns]</td><td>i8</td><td>i8</td><td>u8</td><td>i64</td><td>i8</td><td>i64</td><td>i64</td></tr></thead><tbody><tr><td>251</td><td>2020-08-28 10:20:00</td><td>28</td><td>12</td><td>1</td><td>0</td><td>1</td><td>1</td><td>0</td></tr><tr><td>251</td><td>2020-08-28 10:30:00</td><td>28</td><td>12</td><td>1</td><td>0</td><td>0</td><td>0</td><td>1</td></tr><tr><td>251</td><td>2020-08-28 10:40:00</td><td>28</td><td>12</td><td>1</td><td>0</td><td>0</td><td>0</td><td>2</td></tr><tr><td>251</td><td>2020-08-28 10:50:00</td><td>28</td><td>12</td><td>1</td><td>0</td><td>0</td><td>0</td><td>3</td></tr><tr><td>251</td><td>2020-08-28 11:00:00</td><td>28</td><td>12</td><td>1</td><td>0</td><td>0</td><td>0</td><td>4</td></tr><tr><td>251</td><td>2020-08-28 11:10:00</td><td>28</td><td>12</td><td>1</td><td>0</td><td>0</td><td>0</td><td>5</td></tr><tr><td>251</td><td>2020-08-28 11:20:00</td><td>28</td><td>12</td><td>1</td><td>0</td><td>0</td><td>0</td><td>6</td></tr><tr><td>251</td><td>2020-08-28 11:30:00</td><td>26</td><td>14</td><td>1</td><td>2</td><td>0</td><td>2</td><td>7</td></tr><tr><td>251</td><td>2020-08-28 11:40:00</td><td>26</td><td>14</td><td>1</td><td>0</td><td>0</td><td>0</td><td>8</td></tr><tr><td>251</td><td>2020-08-28 11:50:00</td><td>26</td><td>14</td><td>1</td><td>0</td><td>0</td><td>0</td><td>9</td></tr></tbody></table></div>"
      ],
      "text/plain": [
       "shape: (10, 9)\n",
       "┌───────────┬───────────┬───────────┬───────────┬───┬───────────┬───────────┬───────────┬──────────┐\n",
       "│ station_i ┆ date      ┆ available ┆ available ┆ … ┆ transacti ┆ transacti ┆ transacti ┆ consecut │\n",
       "│ d         ┆ ---       ┆ _stands   ┆ _bikes    ┆   ┆ ons_in    ┆ ons_out   ┆ ons_all   ┆ ive_no_t │\n",
       "│ ---       ┆ datetime[ ┆ ---       ┆ ---       ┆   ┆ ---       ┆ ---       ┆ ---       ┆ ransacti │\n",
       "│ u8        ┆ ns]       ┆ i8        ┆ i8        ┆   ┆ i64       ┆ i8        ┆ i64       ┆ ons_ou…  │\n",
       "│           ┆           ┆           ┆           ┆   ┆           ┆           ┆           ┆ ---      │\n",
       "│           ┆           ┆           ┆           ┆   ┆           ┆           ┆           ┆ i64      │\n",
       "╞═══════════╪═══════════╪═══════════╪═══════════╪═══╪═══════════╪═══════════╪═══════════╪══════════╡\n",
       "│ 251       ┆ 2020-08-2 ┆ 28        ┆ 12        ┆ … ┆ 0         ┆ 1         ┆ 1         ┆ 0        │\n",
       "│           ┆ 8         ┆           ┆           ┆   ┆           ┆           ┆           ┆          │\n",
       "│           ┆ 10:20:00  ┆           ┆           ┆   ┆           ┆           ┆           ┆          │\n",
       "│ 251       ┆ 2020-08-2 ┆ 28        ┆ 12        ┆ … ┆ 0         ┆ 0         ┆ 0         ┆ 1        │\n",
       "│           ┆ 8         ┆           ┆           ┆   ┆           ┆           ┆           ┆          │\n",
       "│           ┆ 10:30:00  ┆           ┆           ┆   ┆           ┆           ┆           ┆          │\n",
       "│ 251       ┆ 2020-08-2 ┆ 28        ┆ 12        ┆ … ┆ 0         ┆ 0         ┆ 0         ┆ 2        │\n",
       "│           ┆ 8         ┆           ┆           ┆   ┆           ┆           ┆           ┆          │\n",
       "│           ┆ 10:40:00  ┆           ┆           ┆   ┆           ┆           ┆           ┆          │\n",
       "│ 251       ┆ 2020-08-2 ┆ 28        ┆ 12        ┆ … ┆ 0         ┆ 0         ┆ 0         ┆ 3        │\n",
       "│           ┆ 8         ┆           ┆           ┆   ┆           ┆           ┆           ┆          │\n",
       "│           ┆ 10:50:00  ┆           ┆           ┆   ┆           ┆           ┆           ┆          │\n",
       "│ 251       ┆ 2020-08-2 ┆ 28        ┆ 12        ┆ … ┆ 0         ┆ 0         ┆ 0         ┆ 4        │\n",
       "│           ┆ 8         ┆           ┆           ┆   ┆           ┆           ┆           ┆          │\n",
       "│           ┆ 11:00:00  ┆           ┆           ┆   ┆           ┆           ┆           ┆          │\n",
       "│ 251       ┆ 2020-08-2 ┆ 28        ┆ 12        ┆ … ┆ 0         ┆ 0         ┆ 0         ┆ 5        │\n",
       "│           ┆ 8         ┆           ┆           ┆   ┆           ┆           ┆           ┆          │\n",
       "│           ┆ 11:10:00  ┆           ┆           ┆   ┆           ┆           ┆           ┆          │\n",
       "│ 251       ┆ 2020-08-2 ┆ 28        ┆ 12        ┆ … ┆ 0         ┆ 0         ┆ 0         ┆ 6        │\n",
       "│           ┆ 8         ┆           ┆           ┆   ┆           ┆           ┆           ┆          │\n",
       "│           ┆ 11:20:00  ┆           ┆           ┆   ┆           ┆           ┆           ┆          │\n",
       "│ 251       ┆ 2020-08-2 ┆ 26        ┆ 14        ┆ … ┆ 2         ┆ 0         ┆ 2         ┆ 7        │\n",
       "│           ┆ 8         ┆           ┆           ┆   ┆           ┆           ┆           ┆          │\n",
       "│           ┆ 11:30:00  ┆           ┆           ┆   ┆           ┆           ┆           ┆          │\n",
       "│ 251       ┆ 2020-08-2 ┆ 26        ┆ 14        ┆ … ┆ 0         ┆ 0         ┆ 0         ┆ 8        │\n",
       "│           ┆ 8         ┆           ┆           ┆   ┆           ┆           ┆           ┆          │\n",
       "│           ┆ 11:40:00  ┆           ┆           ┆   ┆           ┆           ┆           ┆          │\n",
       "│ 251       ┆ 2020-08-2 ┆ 26        ┆ 14        ┆ … ┆ 0         ┆ 0         ┆ 0         ┆ 9        │\n",
       "│           ┆ 8         ┆           ┆           ┆   ┆           ┆           ┆           ┆          │\n",
       "│           ┆ 11:50:00  ┆           ┆           ┆   ┆           ┆           ┆           ┆          │\n",
       "└───────────┴───────────┴───────────┴───────────┴───┴───────────┴───────────┴───────────┴──────────┘"
      ]
     },
     "execution_count": 30,
     "metadata": {},
     "output_type": "execute_result"
    }
   ],
   "source": [
    "ts_activity.tail(10)"
   ]
  },
  {
   "cell_type": "markdown",
   "metadata": {},
   "source": [
    "## Analyse de la feature"
   ]
  },
  {
   "cell_type": "markdown",
   "metadata": {},
   "source": [
    "### Stations avec le plus grand nombre de non prise de vélo consécutif"
   ]
  },
  {
   "cell_type": "code",
   "execution_count": 31,
   "metadata": {
    "ExecuteTime": {
     "end_time": "2020-09-03T14:26:50.418915Z",
     "start_time": "2020-09-03T14:26:49.623774Z"
    }
   },
   "outputs": [],
   "source": [
    "grp_station = ts_activity.group_by(\"station_id\").agg(pl.col(\"consecutive_no_transactions_out\").max())\n",
    "grp_station = grp_station.sort(\"consecutive_no_transactions_out\", descending=True)"
   ]
  },
  {
   "cell_type": "code",
   "execution_count": 32,
   "metadata": {
    "ExecuteTime": {
     "end_time": "2020-09-03T14:26:51.083137Z",
     "start_time": "2020-09-03T14:26:50.427024Z"
    }
   },
   "outputs": [
    {
     "data": {
      "text/html": [
       "<div><style>\n",
       ".dataframe > thead > tr,\n",
       ".dataframe > tbody > tr {\n",
       "  text-align: right;\n",
       "  white-space: pre-wrap;\n",
       "}\n",
       "</style>\n",
       "<small>shape: (10, 2)</small><table border=\"1\" class=\"dataframe\"><thead><tr><th>station_id</th><th>consecutive_no_transactions_out</th></tr><tr><td>u8</td><td>i64</td></tr></thead><tbody><tr><td>160</td><td>6475</td></tr><tr><td>180</td><td>3443</td></tr><tr><td>161</td><td>3431</td></tr><tr><td>182</td><td>3005</td></tr><tr><td>150</td><td>2698</td></tr><tr><td>168</td><td>2215</td></tr><tr><td>87</td><td>2200</td></tr><tr><td>81</td><td>2167</td></tr><tr><td>92</td><td>2103</td></tr><tr><td>71</td><td>2081</td></tr></tbody></table></div>"
      ],
      "text/plain": [
       "shape: (10, 2)\n",
       "┌────────────┬─────────────────────────────────┐\n",
       "│ station_id ┆ consecutive_no_transactions_ou… │\n",
       "│ ---        ┆ ---                             │\n",
       "│ u8         ┆ i64                             │\n",
       "╞════════════╪═════════════════════════════════╡\n",
       "│ 160        ┆ 6475                            │\n",
       "│ 180        ┆ 3443                            │\n",
       "│ 161        ┆ 3431                            │\n",
       "│ 182        ┆ 3005                            │\n",
       "│ 150        ┆ 2698                            │\n",
       "│ 168        ┆ 2215                            │\n",
       "│ 87         ┆ 2200                            │\n",
       "│ 81         ┆ 2167                            │\n",
       "│ 92         ┆ 2103                            │\n",
       "│ 71         ┆ 2081                            │\n",
       "└────────────┴─────────────────────────────────┘"
      ]
     },
     "execution_count": 32,
     "metadata": {},
     "output_type": "execute_result"
    }
   ],
   "source": [
    "grp_station.head(10)"
   ]
  },
  {
   "cell_type": "markdown",
   "metadata": {},
   "source": [
    "**Certaines stations sont très inactives (travaux ?)**"
   ]
  },
  {
   "cell_type": "code",
   "execution_count": null,
   "metadata": {
    "ExecuteTime": {
     "end_time": "2020-09-03T11:28:24.955299Z",
     "start_time": "2020-09-03T11:28:24.428841Z"
    }
   },
   "outputs": [],
   "source": [
    "station_id = 172\n",
    "start_date = \"2020-05-03\"\n",
    "end_date = \"2020-05-21\"\n",
    "tt = plot_station_activity(\n",
    "    ts_activity.to_pandas(),\n",
    "    station_id=station_id,\n",
    "    features_to_plot=[\"available_bikes\", \"available_stands\", \"consecutive_no_transactions_out\", \"status\"],\n",
    "    start_date=start_date,\n",
    "    end_date=end_date,\n",
    "    return_data=True,\n",
    ")"
   ]
  },
  {
   "cell_type": "markdown",
   "metadata": {},
   "source": [
    "# Test"
   ]
  },
  {
   "cell_type": "code",
   "execution_count": 11,
   "metadata": {},
   "outputs": [],
   "source": [
    "from vcub_keeper.reader.reader import read_time_serie_activity\n",
    "from vcub_keeper.transform.features_factory import get_consecutive_no_transactions_out, get_transactions_out"
   ]
  },
  {
   "cell_type": "code",
   "execution_count": 336,
   "metadata": {},
   "outputs": [
    {
     "name": "stderr",
     "output_type": "stream",
     "text": [
      "/home/gillesa/github/vcub_keeper/src/vcub_keeper/reader/reader.py:126: FutureWarning:\n",
      "\n",
      "Series.fillna with 'method' is deprecated and will raise in a future version. Use obj.ffill() or obj.bfill() instead.\n",
      "\n"
     ]
    }
   ],
   "source": [
    "ts_activity = read_time_serie_activity(path_directory=ROOT_DATA_CLEAN)\n",
    "\n",
    "ts_activity = get_transactions_out(pl.from_pandas(ts_activity))\n",
    "ts_activity = get_consecutive_no_transactions_out(ts_activity)"
   ]
  },
  {
   "cell_type": "code",
   "execution_count": 337,
   "metadata": {},
   "outputs": [
    {
     "data": {
      "text/plain": [
       "Schema([('station_id', UInt64),\n",
       "        ('date', Datetime(time_unit='ns', time_zone=None)),\n",
       "        ('available_stands', Float64),\n",
       "        ('available_bikes', Float64),\n",
       "        ('status', Float64),\n",
       "        ('transactions_in', Float64),\n",
       "        ('transactions_out', Float64),\n",
       "        ('transactions_all', Float64),\n",
       "        ('consecutive_no_transactions_out', Int64)])"
      ]
     },
     "execution_count": 337,
     "metadata": {},
     "output_type": "execute_result"
    }
   ],
   "source": [
    "ts_activity.schema"
   ]
  },
  {
   "cell_type": "code",
   "execution_count": 338,
   "metadata": {},
   "outputs": [
    {
     "data": {
      "text/html": [
       "<div><style>\n",
       ".dataframe > thead > tr,\n",
       ".dataframe > tbody > tr {\n",
       "  text-align: right;\n",
       "  white-space: pre-wrap;\n",
       "}\n",
       "</style>\n",
       "<small>shape: (5, 9)</small><table border=\"1\" class=\"dataframe\"><thead><tr><th>station_id</th><th>date</th><th>available_stands</th><th>available_bikes</th><th>status</th><th>transactions_in</th><th>transactions_out</th><th>transactions_all</th><th>consecutive_no_transactions_out</th></tr><tr><td>u64</td><td>datetime[ns]</td><td>f64</td><td>f64</td><td>f64</td><td>f64</td><td>f64</td><td>f64</td><td>i64</td></tr></thead><tbody><tr><td>1</td><td>2018-12-01 00:10:00</td><td>28.0</td><td>4.0</td><td>1.0</td><td>0.0</td><td>0.0</td><td>0.0</td><td>1</td></tr><tr><td>1</td><td>2018-12-01 00:20:00</td><td>28.0</td><td>4.0</td><td>1.0</td><td>0.0</td><td>0.0</td><td>0.0</td><td>2</td></tr><tr><td>1</td><td>2018-12-01 00:30:00</td><td>28.0</td><td>4.0</td><td>1.0</td><td>0.0</td><td>0.0</td><td>0.0</td><td>3</td></tr><tr><td>1</td><td>2018-12-01 00:40:00</td><td>27.0</td><td>5.0</td><td>1.0</td><td>1.0</td><td>0.0</td><td>1.0</td><td>4</td></tr><tr><td>1</td><td>2018-12-01 00:50:00</td><td>27.0</td><td>5.0</td><td>1.0</td><td>0.0</td><td>0.0</td><td>0.0</td><td>5</td></tr></tbody></table></div>"
      ],
      "text/plain": [
       "shape: (5, 9)\n",
       "┌───────────┬───────────┬───────────┬───────────┬───┬───────────┬───────────┬───────────┬──────────┐\n",
       "│ station_i ┆ date      ┆ available ┆ available ┆ … ┆ transacti ┆ transacti ┆ transacti ┆ consecut │\n",
       "│ d         ┆ ---       ┆ _stands   ┆ _bikes    ┆   ┆ ons_in    ┆ ons_out   ┆ ons_all   ┆ ive_no_t │\n",
       "│ ---       ┆ datetime[ ┆ ---       ┆ ---       ┆   ┆ ---       ┆ ---       ┆ ---       ┆ ransacti │\n",
       "│ u64       ┆ ns]       ┆ f64       ┆ f64       ┆   ┆ f64       ┆ f64       ┆ f64       ┆ ons_ou…  │\n",
       "│           ┆           ┆           ┆           ┆   ┆           ┆           ┆           ┆ ---      │\n",
       "│           ┆           ┆           ┆           ┆   ┆           ┆           ┆           ┆ i64      │\n",
       "╞═══════════╪═══════════╪═══════════╪═══════════╪═══╪═══════════╪═══════════╪═══════════╪══════════╡\n",
       "│ 1         ┆ 2018-12-0 ┆ 28.0      ┆ 4.0       ┆ … ┆ 0.0       ┆ 0.0       ┆ 0.0       ┆ 1        │\n",
       "│           ┆ 1         ┆           ┆           ┆   ┆           ┆           ┆           ┆          │\n",
       "│           ┆ 00:10:00  ┆           ┆           ┆   ┆           ┆           ┆           ┆          │\n",
       "│ 1         ┆ 2018-12-0 ┆ 28.0      ┆ 4.0       ┆ … ┆ 0.0       ┆ 0.0       ┆ 0.0       ┆ 2        │\n",
       "│           ┆ 1         ┆           ┆           ┆   ┆           ┆           ┆           ┆          │\n",
       "│           ┆ 00:20:00  ┆           ┆           ┆   ┆           ┆           ┆           ┆          │\n",
       "│ 1         ┆ 2018-12-0 ┆ 28.0      ┆ 4.0       ┆ … ┆ 0.0       ┆ 0.0       ┆ 0.0       ┆ 3        │\n",
       "│           ┆ 1         ┆           ┆           ┆   ┆           ┆           ┆           ┆          │\n",
       "│           ┆ 00:30:00  ┆           ┆           ┆   ┆           ┆           ┆           ┆          │\n",
       "│ 1         ┆ 2018-12-0 ┆ 27.0      ┆ 5.0       ┆ … ┆ 1.0       ┆ 0.0       ┆ 1.0       ┆ 4        │\n",
       "│           ┆ 1         ┆           ┆           ┆   ┆           ┆           ┆           ┆          │\n",
       "│           ┆ 00:40:00  ┆           ┆           ┆   ┆           ┆           ┆           ┆          │\n",
       "│ 1         ┆ 2018-12-0 ┆ 27.0      ┆ 5.0       ┆ … ┆ 0.0       ┆ 0.0       ┆ 0.0       ┆ 5        │\n",
       "│           ┆ 1         ┆           ┆           ┆   ┆           ┆           ┆           ┆          │\n",
       "│           ┆ 00:50:00  ┆           ┆           ┆   ┆           ┆           ┆           ┆          │\n",
       "└───────────┴───────────┴───────────┴───────────┴───┴───────────┴───────────┴───────────┴──────────┘"
      ]
     },
     "execution_count": 338,
     "metadata": {},
     "output_type": "execute_result"
    }
   ],
   "source": [
    "ts_activity.head()"
   ]
  },
  {
   "cell_type": "code",
   "execution_count": 339,
   "metadata": {},
   "outputs": [
    {
     "data": {
      "text/html": [
       "<div><style>\n",
       ".dataframe > thead > tr,\n",
       ".dataframe > tbody > tr {\n",
       "  text-align: right;\n",
       "  white-space: pre-wrap;\n",
       "}\n",
       "</style>\n",
       "<small>shape: (8, 9)</small><table border=\"1\" class=\"dataframe\"><thead><tr><th>station_id</th><th>date</th><th>available_stands</th><th>available_bikes</th><th>status</th><th>transactions_in</th><th>transactions_out</th><th>transactions_all</th><th>consecutive_no_transactions_out</th></tr><tr><td>u64</td><td>datetime[ns]</td><td>f64</td><td>f64</td><td>f64</td><td>f64</td><td>f64</td><td>f64</td><td>i64</td></tr></thead><tbody><tr><td>1</td><td>2018-12-01 00:10:00</td><td>28.0</td><td>4.0</td><td>1.0</td><td>0.0</td><td>0.0</td><td>0.0</td><td>1</td></tr><tr><td>1</td><td>2018-12-01 00:20:00</td><td>28.0</td><td>4.0</td><td>1.0</td><td>0.0</td><td>0.0</td><td>0.0</td><td>2</td></tr><tr><td>1</td><td>2018-12-01 00:30:00</td><td>28.0</td><td>4.0</td><td>1.0</td><td>0.0</td><td>0.0</td><td>0.0</td><td>3</td></tr><tr><td>1</td><td>2018-12-01 00:40:00</td><td>27.0</td><td>5.0</td><td>1.0</td><td>1.0</td><td>0.0</td><td>1.0</td><td>4</td></tr><tr><td>1</td><td>2018-12-01 00:50:00</td><td>27.0</td><td>5.0</td><td>1.0</td><td>0.0</td><td>0.0</td><td>0.0</td><td>5</td></tr><tr><td>1</td><td>2018-12-01 01:00:00</td><td>28.0</td><td>4.0</td><td>1.0</td><td>0.0</td><td>1.0</td><td>1.0</td><td>0</td></tr><tr><td>1</td><td>2018-12-01 01:10:00</td><td>28.0</td><td>4.0</td><td>1.0</td><td>0.0</td><td>0.0</td><td>0.0</td><td>1</td></tr><tr><td>1</td><td>2018-12-01 01:20:00</td><td>28.0</td><td>4.0</td><td>1.0</td><td>0.0</td><td>0.0</td><td>0.0</td><td>2</td></tr></tbody></table></div>"
      ],
      "text/plain": [
       "shape: (8, 9)\n",
       "┌───────────┬───────────┬───────────┬───────────┬───┬───────────┬───────────┬───────────┬──────────┐\n",
       "│ station_i ┆ date      ┆ available ┆ available ┆ … ┆ transacti ┆ transacti ┆ transacti ┆ consecut │\n",
       "│ d         ┆ ---       ┆ _stands   ┆ _bikes    ┆   ┆ ons_in    ┆ ons_out   ┆ ons_all   ┆ ive_no_t │\n",
       "│ ---       ┆ datetime[ ┆ ---       ┆ ---       ┆   ┆ ---       ┆ ---       ┆ ---       ┆ ransacti │\n",
       "│ u64       ┆ ns]       ┆ f64       ┆ f64       ┆   ┆ f64       ┆ f64       ┆ f64       ┆ ons_ou…  │\n",
       "│           ┆           ┆           ┆           ┆   ┆           ┆           ┆           ┆ ---      │\n",
       "│           ┆           ┆           ┆           ┆   ┆           ┆           ┆           ┆ i64      │\n",
       "╞═══════════╪═══════════╪═══════════╪═══════════╪═══╪═══════════╪═══════════╪═══════════╪══════════╡\n",
       "│ 1         ┆ 2018-12-0 ┆ 28.0      ┆ 4.0       ┆ … ┆ 0.0       ┆ 0.0       ┆ 0.0       ┆ 1        │\n",
       "│           ┆ 1         ┆           ┆           ┆   ┆           ┆           ┆           ┆          │\n",
       "│           ┆ 00:10:00  ┆           ┆           ┆   ┆           ┆           ┆           ┆          │\n",
       "│ 1         ┆ 2018-12-0 ┆ 28.0      ┆ 4.0       ┆ … ┆ 0.0       ┆ 0.0       ┆ 0.0       ┆ 2        │\n",
       "│           ┆ 1         ┆           ┆           ┆   ┆           ┆           ┆           ┆          │\n",
       "│           ┆ 00:20:00  ┆           ┆           ┆   ┆           ┆           ┆           ┆          │\n",
       "│ 1         ┆ 2018-12-0 ┆ 28.0      ┆ 4.0       ┆ … ┆ 0.0       ┆ 0.0       ┆ 0.0       ┆ 3        │\n",
       "│           ┆ 1         ┆           ┆           ┆   ┆           ┆           ┆           ┆          │\n",
       "│           ┆ 00:30:00  ┆           ┆           ┆   ┆           ┆           ┆           ┆          │\n",
       "│ 1         ┆ 2018-12-0 ┆ 27.0      ┆ 5.0       ┆ … ┆ 1.0       ┆ 0.0       ┆ 1.0       ┆ 4        │\n",
       "│           ┆ 1         ┆           ┆           ┆   ┆           ┆           ┆           ┆          │\n",
       "│           ┆ 00:40:00  ┆           ┆           ┆   ┆           ┆           ┆           ┆          │\n",
       "│ 1         ┆ 2018-12-0 ┆ 27.0      ┆ 5.0       ┆ … ┆ 0.0       ┆ 0.0       ┆ 0.0       ┆ 5        │\n",
       "│           ┆ 1         ┆           ┆           ┆   ┆           ┆           ┆           ┆          │\n",
       "│           ┆ 00:50:00  ┆           ┆           ┆   ┆           ┆           ┆           ┆          │\n",
       "│ 1         ┆ 2018-12-0 ┆ 28.0      ┆ 4.0       ┆ … ┆ 0.0       ┆ 1.0       ┆ 1.0       ┆ 0        │\n",
       "│           ┆ 1         ┆           ┆           ┆   ┆           ┆           ┆           ┆          │\n",
       "│           ┆ 01:00:00  ┆           ┆           ┆   ┆           ┆           ┆           ┆          │\n",
       "│ 1         ┆ 2018-12-0 ┆ 28.0      ┆ 4.0       ┆ … ┆ 0.0       ┆ 0.0       ┆ 0.0       ┆ 1        │\n",
       "│           ┆ 1         ┆           ┆           ┆   ┆           ┆           ┆           ┆          │\n",
       "│           ┆ 01:10:00  ┆           ┆           ┆   ┆           ┆           ┆           ┆          │\n",
       "│ 1         ┆ 2018-12-0 ┆ 28.0      ┆ 4.0       ┆ … ┆ 0.0       ┆ 0.0       ┆ 0.0       ┆ 2        │\n",
       "│           ┆ 1         ┆           ┆           ┆   ┆           ┆           ┆           ┆          │\n",
       "│           ┆ 01:20:00  ┆           ┆           ┆   ┆           ┆           ┆           ┆          │\n",
       "└───────────┴───────────┴───────────┴───────────┴───┴───────────┴───────────┴───────────┴──────────┘"
      ]
     },
     "execution_count": 339,
     "metadata": {},
     "output_type": "execute_result"
    }
   ],
   "source": [
    "ts_activity.head(8)"
   ]
  },
  {
   "cell_type": "code",
   "execution_count": 32,
   "metadata": {},
   "outputs": [
    {
     "data": {
      "text/plain": [
       "{'station_id': [1, 1, 1, 1, 1, 1, 1, 1, 1, 1, 1],\n",
       " 'date': [Timestamp('2018-12-01 00:10:00'),\n",
       "  Timestamp('2018-12-01 00:20:00'),\n",
       "  Timestamp('2018-12-01 00:30:00'),\n",
       "  Timestamp('2018-12-01 00:40:00'),\n",
       "  Timestamp('2018-12-01 00:50:00'),\n",
       "  Timestamp('2018-12-01 01:00:00'),\n",
       "  Timestamp('2018-12-01 01:10:00'),\n",
       "  Timestamp('2018-12-01 01:20:00'),\n",
       "  Timestamp('2018-12-01 01:30:00'),\n",
       "  Timestamp('2018-12-01 01:40:00'),\n",
       "  Timestamp('2018-12-01 01:50:00')],\n",
       " 'available_stands': [28.0,\n",
       "  28.0,\n",
       "  28.0,\n",
       "  27.0,\n",
       "  27.0,\n",
       "  28.0,\n",
       "  28.0,\n",
       "  28.0,\n",
       "  28.0,\n",
       "  29.0,\n",
       "  29.0],\n",
       " 'available_bikes': [4.0, 4.0, 4.0, 5.0, 5.0, 4.0, 4.0, 4.0, 4.0, 3.0, 3.0],\n",
       " 'status': [1.0, 1.0, 1.0, 1.0, 1.0, 1.0, 1.0, 1.0, 1.0, 1.0, 1.0],\n",
       " 'transactions_in': [0.0, 0.0, 0.0, 1.0, 0.0, 0.0, 0.0, 0.0, 0.0, 0.0, 0.0],\n",
       " 'transactions_out': [0.0, 0.0, 0.0, 0.0, 0.0, 1.0, 0.0, 0.0, 0.0, 1.0, 0.0],\n",
       " 'transactions_all': [0.0, 0.0, 0.0, 1.0, 0.0, 1.0, 0.0, 0.0, 0.0, 1.0, 0.0],\n",
       " 'consecutive_no_transactions_out': [0, 1, 2, 3, 4, 0, 1, 2, 3, 0, 1]}"
      ]
     },
     "execution_count": 32,
     "metadata": {},
     "output_type": "execute_result"
    }
   ],
   "source": [
    "# ts_activity[(ts_activity[\"transactions_out\"] > 1) & (ts_activity[\"date\"] == \"2017-07-09 11:09:04\")].head()\n",
    "ts_activity[(ts_activity[\"date\"] >= \"2017-07-09 11:04:04\") & (ts_activity[\"station_id\"] == 1)].head(11).to_dict(\n",
    "    orient=\"list\"\n",
    ")\n",
    "# ts_activity[(ts_activity[\"date\"] >= \"2017-07-09 00:54:05\") & (ts_activity[\"station_id\"] == 22)].head(11).to_dict(orient=\"list\")"
   ]
  },
  {
   "cell_type": "code",
   "execution_count": null,
   "metadata": {},
   "outputs": [],
   "source": [
    "{\n",
    "    \"station_id\": [22, 22, 22, 22, 22, 22, 22, 22, 22, 22, 22],\n",
    "    \"date\": [\n",
    "        pd.Timestamp(\"2018-12-01 00:10:00\"),\n",
    "        pd.Timestamp(\"2018-12-01 00:20:00\"),\n",
    "        pd.Timestamp(\"2018-12-01 00:30:00\"),\n",
    "        pd.Timestamp(\"2018-12-01 00:40:00\"),\n",
    "        pd.Timestamp(\"2018-12-01 00:50:00\"),\n",
    "        pd.Timestamp(\"2018-12-01 01:00:00\"),\n",
    "        pd.Timestamp(\"2018-12-01 01:10:00\"),\n",
    "        pd.Timestamp(\"2018-12-01 01:20:00\"),\n",
    "        pd.Timestamp(\"2018-12-01 01:30:00\"),\n",
    "        pd.Timestamp(\"2018-12-01 01:40:00\"),\n",
    "        pd.Timestamp(\"2018-12-01 01:50:00\"),\n",
    "    ],\n",
    "    \"available_stands\": [2.0, 6.0, 9.0, 9.0, 11.0, 13.0, 13.0, 13.0, 17.0, 18.0, 20.0],\n",
    "    \"available_bikes\": [31.0, 27.0, 24.0, 24.0, 22.0, 20.0, 20.0, 20.0, 16.0, 15.0, 13.0],\n",
    "    \"status\": [1.0, 1.0, 1.0, 1.0, 1.0, 1.0, 1.0, 1.0, 1.0, 1.0, 1.0],\n",
    "    \"transactions_in\": [0.0, 0.0, 0.0, 0.0, 0.0, 0.0, 1.0, 0.0, 0.0, 0.0, 0.0],\n",
    "    \"transactions_out\": [0.0, 4.0, 3.0, 0.0, 2.0, 2.0, 0.0, 0.0, 4.0, 1.0, 2.0],\n",
    "    \"transactions_all\": [0.0, 4.0, 3.0, 0.0, 2.0, 2.0, 2.0, 0.0, 4.0, 1.0, 2.0],\n",
    "    \"consecutive_no_transactions_out\": [0, 0, 0, 1, 0, 0, 1, 2, 0, 0, 0],\n",
    "}"
   ]
  },
  {
   "cell_type": "code",
   "execution_count": 33,
   "metadata": {},
   "outputs": [],
   "source": [
    "data = {\n",
    "    \"station_id\": [1] * 11 + [22] * 11,\n",
    "    \"date\": [\n",
    "        pd.Timestamp(\"2018-12-01 00:10:00\"),\n",
    "        pd.Timestamp(\"2018-12-01 00:20:00\"),\n",
    "        pd.Timestamp(\"2018-12-01 00:30:00\"),\n",
    "        pd.Timestamp(\"2018-12-01 00:40:00\"),\n",
    "        pd.Timestamp(\"2018-12-01 00:50:00\"),\n",
    "        pd.Timestamp(\"2018-12-01 01:00:00\"),\n",
    "        pd.Timestamp(\"2018-12-01 01:10:00\"),\n",
    "        pd.Timestamp(\"2018-12-01 01:20:00\"),\n",
    "        pd.Timestamp(\"2018-12-01 01:30:00\"),\n",
    "        pd.Timestamp(\"2018-12-01 01:40:00\"),\n",
    "        pd.Timestamp(\"2018-12-01 01:50:00\"),\n",
    "    ]\n",
    "    + [\n",
    "        pd.Timestamp(\"2018-12-01 00:10:00\"),\n",
    "        pd.Timestamp(\"2018-12-01 00:20:00\"),\n",
    "        pd.Timestamp(\"2018-12-01 00:30:00\"),\n",
    "        pd.Timestamp(\"2018-12-01 00:40:00\"),\n",
    "        pd.Timestamp(\"2018-12-01 00:50:00\"),\n",
    "        pd.Timestamp(\"2018-12-01 01:00:00\"),\n",
    "        pd.Timestamp(\"2018-12-01 01:10:00\"),\n",
    "        pd.Timestamp(\"2018-12-01 01:20:00\"),\n",
    "        pd.Timestamp(\"2018-12-01 01:30:00\"),\n",
    "        pd.Timestamp(\"2018-12-01 01:40:00\"),\n",
    "        pd.Timestamp(\"2018-12-01 01:50:00\"),\n",
    "    ],\n",
    "    \"available_stands\": [28.0, 28.0, 28.0, 27.0, 27.0, 28.0, 28.0, 28.0, 28.0, 29.0, 29.0]\n",
    "    + [2.0, 6.0, 9.0, 9.0, 11.0, 13.0, 13.0, 13.0, 17.0, 18.0, 20.0],\n",
    "    \"available_bikes\": [4.0, 4.0, 4.0, 5.0, 5.0, 4.0, 4.0, 4.0, 4.0, 3.0, 3.0]\n",
    "    + [31.0, 27.0, 24.0, 24.0, 22.0, 20.0, 20.0, 20.0, 16.0, 15.0, 13.0],\n",
    "    \"status\": [1] * 11 + [1] * 11,\n",
    "    \"transactions_out\": [0.0, 0.0, 0.0, 0.0, 0.0, 1.0, 0.0, 0.0, 0.0, 1.0, 0.0]\n",
    "    + [0.0, 4.0, 3.0, 0.0, 2.0, 2.0, 0.0, 0.0, 4.0, 1.0, 2.0],\n",
    "    \"consecutive_no_transactions_out\": [0, 1, 2, 3, 4, 0, 1, 2, 3, 0, 1] + [0, 0, 0, 1, 0, 0, 1, 2, 0, 0, 0],\n",
    "}\n",
    "\n",
    "df_activite = pd.DataFrame(data)\n",
    "# drop columns we want to test.\n",
    "df_activite = df_activite.drop(columns=[\"transactions_out\", \"consecutive_no_transactions_out\"], axis=1)\n",
    "\n",
    "result = get_transactions_out(df_activite)\n",
    "result = get_consecutive_no_transactions_out(result)\n",
    "\n",
    "expected = pd.DataFrame(data)\n",
    "\n",
    "pd.testing.assert_frame_equal(result, expected)"
   ]
  },
  {
   "cell_type": "code",
   "execution_count": 34,
   "metadata": {},
   "outputs": [
    {
     "data": {
      "text/html": [
       "<div>\n",
       "<style scoped>\n",
       "    .dataframe tbody tr th:only-of-type {\n",
       "        vertical-align: middle;\n",
       "    }\n",
       "\n",
       "    .dataframe tbody tr th {\n",
       "        vertical-align: top;\n",
       "    }\n",
       "\n",
       "    .dataframe thead th {\n",
       "        text-align: right;\n",
       "    }\n",
       "</style>\n",
       "<table border=\"1\" class=\"dataframe\">\n",
       "  <thead>\n",
       "    <tr style=\"text-align: right;\">\n",
       "      <th></th>\n",
       "      <th>station_id</th>\n",
       "      <th>date</th>\n",
       "      <th>available_stands</th>\n",
       "      <th>available_bikes</th>\n",
       "      <th>status</th>\n",
       "      <th>transactions_out</th>\n",
       "      <th>consecutive_no_transactions_out</th>\n",
       "    </tr>\n",
       "  </thead>\n",
       "  <tbody>\n",
       "    <tr>\n",
       "      <th>0</th>\n",
       "      <td>1</td>\n",
       "      <td>2018-12-01 00:10:00</td>\n",
       "      <td>28.0</td>\n",
       "      <td>4.0</td>\n",
       "      <td>1</td>\n",
       "      <td>0.0</td>\n",
       "      <td>0</td>\n",
       "    </tr>\n",
       "    <tr>\n",
       "      <th>1</th>\n",
       "      <td>1</td>\n",
       "      <td>2018-12-01 00:20:00</td>\n",
       "      <td>28.0</td>\n",
       "      <td>4.0</td>\n",
       "      <td>1</td>\n",
       "      <td>0.0</td>\n",
       "      <td>1</td>\n",
       "    </tr>\n",
       "    <tr>\n",
       "      <th>2</th>\n",
       "      <td>1</td>\n",
       "      <td>2018-12-01 00:30:00</td>\n",
       "      <td>28.0</td>\n",
       "      <td>4.0</td>\n",
       "      <td>1</td>\n",
       "      <td>0.0</td>\n",
       "      <td>2</td>\n",
       "    </tr>\n",
       "    <tr>\n",
       "      <th>3</th>\n",
       "      <td>1</td>\n",
       "      <td>2018-12-01 00:40:00</td>\n",
       "      <td>27.0</td>\n",
       "      <td>5.0</td>\n",
       "      <td>1</td>\n",
       "      <td>0.0</td>\n",
       "      <td>3</td>\n",
       "    </tr>\n",
       "    <tr>\n",
       "      <th>4</th>\n",
       "      <td>1</td>\n",
       "      <td>2018-12-01 00:50:00</td>\n",
       "      <td>27.0</td>\n",
       "      <td>5.0</td>\n",
       "      <td>1</td>\n",
       "      <td>0.0</td>\n",
       "      <td>4</td>\n",
       "    </tr>\n",
       "    <tr>\n",
       "      <th>5</th>\n",
       "      <td>1</td>\n",
       "      <td>2018-12-01 01:00:00</td>\n",
       "      <td>28.0</td>\n",
       "      <td>4.0</td>\n",
       "      <td>1</td>\n",
       "      <td>1.0</td>\n",
       "      <td>0</td>\n",
       "    </tr>\n",
       "    <tr>\n",
       "      <th>6</th>\n",
       "      <td>1</td>\n",
       "      <td>2018-12-01 01:10:00</td>\n",
       "      <td>28.0</td>\n",
       "      <td>4.0</td>\n",
       "      <td>1</td>\n",
       "      <td>0.0</td>\n",
       "      <td>1</td>\n",
       "    </tr>\n",
       "    <tr>\n",
       "      <th>7</th>\n",
       "      <td>1</td>\n",
       "      <td>2018-12-01 01:20:00</td>\n",
       "      <td>28.0</td>\n",
       "      <td>4.0</td>\n",
       "      <td>1</td>\n",
       "      <td>0.0</td>\n",
       "      <td>2</td>\n",
       "    </tr>\n",
       "    <tr>\n",
       "      <th>8</th>\n",
       "      <td>1</td>\n",
       "      <td>2018-12-01 01:30:00</td>\n",
       "      <td>28.0</td>\n",
       "      <td>4.0</td>\n",
       "      <td>1</td>\n",
       "      <td>0.0</td>\n",
       "      <td>3</td>\n",
       "    </tr>\n",
       "    <tr>\n",
       "      <th>9</th>\n",
       "      <td>1</td>\n",
       "      <td>2018-12-01 01:40:00</td>\n",
       "      <td>29.0</td>\n",
       "      <td>3.0</td>\n",
       "      <td>1</td>\n",
       "      <td>1.0</td>\n",
       "      <td>0</td>\n",
       "    </tr>\n",
       "    <tr>\n",
       "      <th>10</th>\n",
       "      <td>1</td>\n",
       "      <td>2018-12-01 01:50:00</td>\n",
       "      <td>29.0</td>\n",
       "      <td>3.0</td>\n",
       "      <td>1</td>\n",
       "      <td>0.0</td>\n",
       "      <td>1</td>\n",
       "    </tr>\n",
       "    <tr>\n",
       "      <th>11</th>\n",
       "      <td>22</td>\n",
       "      <td>2018-12-01 00:10:00</td>\n",
       "      <td>2.0</td>\n",
       "      <td>31.0</td>\n",
       "      <td>1</td>\n",
       "      <td>0.0</td>\n",
       "      <td>0</td>\n",
       "    </tr>\n",
       "    <tr>\n",
       "      <th>12</th>\n",
       "      <td>22</td>\n",
       "      <td>2018-12-01 00:20:00</td>\n",
       "      <td>6.0</td>\n",
       "      <td>27.0</td>\n",
       "      <td>1</td>\n",
       "      <td>4.0</td>\n",
       "      <td>0</td>\n",
       "    </tr>\n",
       "    <tr>\n",
       "      <th>13</th>\n",
       "      <td>22</td>\n",
       "      <td>2018-12-01 00:30:00</td>\n",
       "      <td>9.0</td>\n",
       "      <td>24.0</td>\n",
       "      <td>1</td>\n",
       "      <td>3.0</td>\n",
       "      <td>0</td>\n",
       "    </tr>\n",
       "    <tr>\n",
       "      <th>14</th>\n",
       "      <td>22</td>\n",
       "      <td>2018-12-01 00:40:00</td>\n",
       "      <td>9.0</td>\n",
       "      <td>24.0</td>\n",
       "      <td>1</td>\n",
       "      <td>0.0</td>\n",
       "      <td>1</td>\n",
       "    </tr>\n",
       "    <tr>\n",
       "      <th>15</th>\n",
       "      <td>22</td>\n",
       "      <td>2018-12-01 00:50:00</td>\n",
       "      <td>11.0</td>\n",
       "      <td>22.0</td>\n",
       "      <td>1</td>\n",
       "      <td>2.0</td>\n",
       "      <td>0</td>\n",
       "    </tr>\n",
       "    <tr>\n",
       "      <th>16</th>\n",
       "      <td>22</td>\n",
       "      <td>2018-12-01 01:00:00</td>\n",
       "      <td>13.0</td>\n",
       "      <td>20.0</td>\n",
       "      <td>1</td>\n",
       "      <td>2.0</td>\n",
       "      <td>0</td>\n",
       "    </tr>\n",
       "    <tr>\n",
       "      <th>17</th>\n",
       "      <td>22</td>\n",
       "      <td>2018-12-01 01:10:00</td>\n",
       "      <td>13.0</td>\n",
       "      <td>20.0</td>\n",
       "      <td>1</td>\n",
       "      <td>0.0</td>\n",
       "      <td>1</td>\n",
       "    </tr>\n",
       "    <tr>\n",
       "      <th>18</th>\n",
       "      <td>22</td>\n",
       "      <td>2018-12-01 01:20:00</td>\n",
       "      <td>13.0</td>\n",
       "      <td>20.0</td>\n",
       "      <td>1</td>\n",
       "      <td>0.0</td>\n",
       "      <td>2</td>\n",
       "    </tr>\n",
       "    <tr>\n",
       "      <th>19</th>\n",
       "      <td>22</td>\n",
       "      <td>2018-12-01 01:30:00</td>\n",
       "      <td>17.0</td>\n",
       "      <td>16.0</td>\n",
       "      <td>1</td>\n",
       "      <td>4.0</td>\n",
       "      <td>0</td>\n",
       "    </tr>\n",
       "    <tr>\n",
       "      <th>20</th>\n",
       "      <td>22</td>\n",
       "      <td>2018-12-01 01:40:00</td>\n",
       "      <td>18.0</td>\n",
       "      <td>15.0</td>\n",
       "      <td>1</td>\n",
       "      <td>1.0</td>\n",
       "      <td>0</td>\n",
       "    </tr>\n",
       "    <tr>\n",
       "      <th>21</th>\n",
       "      <td>22</td>\n",
       "      <td>2018-12-01 01:50:00</td>\n",
       "      <td>20.0</td>\n",
       "      <td>13.0</td>\n",
       "      <td>1</td>\n",
       "      <td>2.0</td>\n",
       "      <td>0</td>\n",
       "    </tr>\n",
       "  </tbody>\n",
       "</table>\n",
       "</div>"
      ],
      "text/plain": [
       "    station_id                date  available_stands  available_bikes  status  \\\n",
       "0            1 2018-12-01 00:10:00              28.0              4.0       1   \n",
       "1            1 2018-12-01 00:20:00              28.0              4.0       1   \n",
       "2            1 2018-12-01 00:30:00              28.0              4.0       1   \n",
       "3            1 2018-12-01 00:40:00              27.0              5.0       1   \n",
       "4            1 2018-12-01 00:50:00              27.0              5.0       1   \n",
       "5            1 2018-12-01 01:00:00              28.0              4.0       1   \n",
       "6            1 2018-12-01 01:10:00              28.0              4.0       1   \n",
       "7            1 2018-12-01 01:20:00              28.0              4.0       1   \n",
       "8            1 2018-12-01 01:30:00              28.0              4.0       1   \n",
       "9            1 2018-12-01 01:40:00              29.0              3.0       1   \n",
       "10           1 2018-12-01 01:50:00              29.0              3.0       1   \n",
       "11          22 2018-12-01 00:10:00               2.0             31.0       1   \n",
       "12          22 2018-12-01 00:20:00               6.0             27.0       1   \n",
       "13          22 2018-12-01 00:30:00               9.0             24.0       1   \n",
       "14          22 2018-12-01 00:40:00               9.0             24.0       1   \n",
       "15          22 2018-12-01 00:50:00              11.0             22.0       1   \n",
       "16          22 2018-12-01 01:00:00              13.0             20.0       1   \n",
       "17          22 2018-12-01 01:10:00              13.0             20.0       1   \n",
       "18          22 2018-12-01 01:20:00              13.0             20.0       1   \n",
       "19          22 2018-12-01 01:30:00              17.0             16.0       1   \n",
       "20          22 2018-12-01 01:40:00              18.0             15.0       1   \n",
       "21          22 2018-12-01 01:50:00              20.0             13.0       1   \n",
       "\n",
       "    transactions_out  consecutive_no_transactions_out  \n",
       "0                0.0                                0  \n",
       "1                0.0                                1  \n",
       "2                0.0                                2  \n",
       "3                0.0                                3  \n",
       "4                0.0                                4  \n",
       "5                1.0                                0  \n",
       "6                0.0                                1  \n",
       "7                0.0                                2  \n",
       "8                0.0                                3  \n",
       "9                1.0                                0  \n",
       "10               0.0                                1  \n",
       "11               0.0                                0  \n",
       "12               4.0                                0  \n",
       "13               3.0                                0  \n",
       "14               0.0                                1  \n",
       "15               2.0                                0  \n",
       "16               2.0                                0  \n",
       "17               0.0                                1  \n",
       "18               0.0                                2  \n",
       "19               4.0                                0  \n",
       "20               1.0                                0  \n",
       "21               2.0                                0  "
      ]
     },
     "execution_count": 34,
     "metadata": {},
     "output_type": "execute_result"
    }
   ],
   "source": [
    "result"
   ]
  }
 ],
 "metadata": {
  "kernelspec": {
   "display_name": "vcub_keeper_py312",
   "language": "python",
   "name": "python3"
  },
  "language_info": {
   "codemirror_mode": {
    "name": "ipython",
    "version": 3
   },
   "file_extension": ".py",
   "mimetype": "text/x-python",
   "name": "python",
   "nbconvert_exporter": "python",
   "pygments_lexer": "ipython3",
   "version": "3.12.5"
  },
  "toc": {
   "base_numbering": 1,
   "nav_menu": {},
   "number_sections": true,
   "sideBar": true,
   "skip_h1_title": false,
   "title_cell": "Table of Contents",
   "title_sidebar": "Contents",
   "toc_cell": true,
   "toc_position": {},
   "toc_section_display": true,
   "toc_window_display": true
  }
 },
 "nbformat": 4,
 "nbformat_minor": 4
}
