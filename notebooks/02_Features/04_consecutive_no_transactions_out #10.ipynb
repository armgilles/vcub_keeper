version https://git-lfs.github.com/spec/v1
oid sha256:02cc719de768e5e9825022a48cc70fa80d374ed3fb2cabe34e38cb720e1d16c8
size 29179520
