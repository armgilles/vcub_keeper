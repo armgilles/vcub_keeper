version https://git-lfs.github.com/spec/v1
oid sha256:8ca02a1f6d3f46420ed0ef8ac7a2aa184785eec8cd9b713ab0e6eedcbd5c1727
size 6713137
