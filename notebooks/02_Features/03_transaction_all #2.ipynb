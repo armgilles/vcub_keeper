{
 "cells": [
  {
   "cell_type": "markdown",
   "metadata": {
    "toc": true
   },
   "source": [
    "<h1>Table of Contents<span class=\"tocSkip\"></span></h1>\n",
    "<div class=\"toc\"><ul class=\"toc-item\"><li><span><a href=\"#Objectif-:\" data-toc-modified-id=\"Objectif-:-1\"><span class=\"toc-item-num\">1&nbsp;&nbsp;</span>Objectif :</a></span></li><li><span><a href=\"#Dev\" data-toc-modified-id=\"Dev-2\"><span class=\"toc-item-num\">2&nbsp;&nbsp;</span>Dev</a></span></li><li><span><a href=\"#Industrialisation\" data-toc-modified-id=\"Industrialisation-3\"><span class=\"toc-item-num\">3&nbsp;&nbsp;</span>Industrialisation</a></span><ul class=\"toc-item\"><li><span><a href=\"#Script\" data-toc-modified-id=\"Script-3.1\"><span class=\"toc-item-num\">3.1&nbsp;&nbsp;</span>Script</a></span></li></ul></li><li><span><a href=\"#Analyse-de-la-feature\" data-toc-modified-id=\"Analyse-de-la-feature-4\"><span class=\"toc-item-num\">4&nbsp;&nbsp;</span>Analyse de la feature</a></span><ul class=\"toc-item\"><li><span><a href=\"#Analyse-des-dépot-suivant-les-stations\" data-toc-modified-id=\"Analyse-des-dépot-suivant-les-stations-4.1\"><span class=\"toc-item-num\">4.1&nbsp;&nbsp;</span>Analyse des dépot suivant les stations</a></span></li></ul></li></ul></div>"
   ]
  },
  {
   "cell_type": "code",
   "execution_count": 7,
   "metadata": {
    "ExecuteTime": {
     "end_time": "2020-08-26T09:47:10.194074Z",
     "start_time": "2020-08-26T09:47:10.167924Z"
    }
   },
   "outputs": [
    {
     "name": "stdout",
     "output_type": "stream",
     "text": [
      "The autoreload extension is already loaded. To reload it, use:\n",
      "  %reload_ext autoreload\n"
     ]
    }
   ],
   "source": [
    "import numpy as np\n",
    "import pandas as pd\n",
    "import polars as pl\n",
    "import seaborn as sns\n",
    "\n",
    "from vcub_keeper.reader.reader import read_activity_vcub\n",
    "from vcub_keeper.visualisation import plot_station_activity\n",
    "\n",
    "sns.set_style(\"whitegrid\")\n",
    "%matplotlib inline\n",
    "\n",
    "%load_ext autoreload\n",
    "%autoreload 2"
   ]
  },
  {
   "cell_type": "markdown",
   "metadata": {},
   "source": [
    "## Objectif :"
   ]
  },
  {
   "cell_type": "markdown",
   "metadata": {},
   "source": [
    "- Création d'une features afin de connaitre le nombre de transaction (ajout et dépôt) de vélo qu'il y a eu pour une même station entre 2 points temporels. cf https://github.com/armgilles/vcub_keeper/issues/2 et https://github.com/armgilles/vcub_keeper/issues/124\n",
    "- Industrialisation de la fonction\n",
    "- Analyse des résultats"
   ]
  },
  {
   "cell_type": "markdown",
   "metadata": {
    "ExecuteTime": {
     "end_time": "2020-08-25T14:42:39.310840Z",
     "start_time": "2020-08-25T14:42:39.296985Z"
    }
   },
   "source": [
    "## Dev"
   ]
  },
  {
   "cell_type": "code",
   "execution_count": 3,
   "metadata": {
    "ExecuteTime": {
     "end_time": "2020-08-26T09:47:29.686918Z",
     "start_time": "2020-08-26T09:47:25.863435Z"
    }
   },
   "outputs": [],
   "source": [
    "# Lecture de l'activité des stations\n",
    "activite_pandas = read_activity_vcub(output_type=\"pandas\")\n",
    "activite = read_activity_vcub()"
   ]
  },
  {
   "cell_type": "code",
   "execution_count": 5,
   "metadata": {},
   "outputs": [
    {
     "data": {
      "text/html": [
       "<div>\n",
       "<style scoped>\n",
       "    .dataframe tbody tr th:only-of-type {\n",
       "        vertical-align: middle;\n",
       "    }\n",
       "\n",
       "    .dataframe tbody tr th {\n",
       "        vertical-align: top;\n",
       "    }\n",
       "\n",
       "    .dataframe thead th {\n",
       "        text-align: right;\n",
       "    }\n",
       "</style>\n",
       "<table border=\"1\" class=\"dataframe\">\n",
       "  <thead>\n",
       "    <tr style=\"text-align: right;\">\n",
       "      <th></th>\n",
       "      <th>gid</th>\n",
       "      <th>station_id</th>\n",
       "      <th>type</th>\n",
       "      <th>name</th>\n",
       "      <th>state</th>\n",
       "      <th>available_stands</th>\n",
       "      <th>available_bikes</th>\n",
       "      <th>date</th>\n",
       "    </tr>\n",
       "  </thead>\n",
       "  <tbody>\n",
       "    <tr>\n",
       "      <th>0</th>\n",
       "      <td>83</td>\n",
       "      <td>1</td>\n",
       "      <td>VLS</td>\n",
       "      <td>Meriadeck</td>\n",
       "      <td>1</td>\n",
       "      <td>18</td>\n",
       "      <td>2</td>\n",
       "      <td>2017-07-09 00:03:04</td>\n",
       "    </tr>\n",
       "    <tr>\n",
       "      <th>1</th>\n",
       "      <td>83</td>\n",
       "      <td>1</td>\n",
       "      <td>VLS</td>\n",
       "      <td>Meriadeck</td>\n",
       "      <td>1</td>\n",
       "      <td>18</td>\n",
       "      <td>2</td>\n",
       "      <td>2017-07-09 00:04:04</td>\n",
       "    </tr>\n",
       "    <tr>\n",
       "      <th>2</th>\n",
       "      <td>83</td>\n",
       "      <td>1</td>\n",
       "      <td>VLS</td>\n",
       "      <td>Meriadeck</td>\n",
       "      <td>1</td>\n",
       "      <td>18</td>\n",
       "      <td>2</td>\n",
       "      <td>2017-07-09 00:09:04</td>\n",
       "    </tr>\n",
       "    <tr>\n",
       "      <th>3</th>\n",
       "      <td>83</td>\n",
       "      <td>1</td>\n",
       "      <td>VLS</td>\n",
       "      <td>Meriadeck</td>\n",
       "      <td>1</td>\n",
       "      <td>18</td>\n",
       "      <td>2</td>\n",
       "      <td>2017-07-09 00:14:03</td>\n",
       "    </tr>\n",
       "    <tr>\n",
       "      <th>4</th>\n",
       "      <td>83</td>\n",
       "      <td>1</td>\n",
       "      <td>VLS</td>\n",
       "      <td>Meriadeck</td>\n",
       "      <td>1</td>\n",
       "      <td>18</td>\n",
       "      <td>2</td>\n",
       "      <td>2017-07-09 00:19:04</td>\n",
       "    </tr>\n",
       "  </tbody>\n",
       "</table>\n",
       "</div>"
      ],
      "text/plain": [
       "   gid  station_id type  ... available_stands available_bikes                date\n",
       "0   83           1  VLS  ...               18               2 2017-07-09 00:03:04\n",
       "1   83           1  VLS  ...               18               2 2017-07-09 00:04:04\n",
       "2   83           1  VLS  ...               18               2 2017-07-09 00:09:04\n",
       "3   83           1  VLS  ...               18               2 2017-07-09 00:14:03\n",
       "4   83           1  VLS  ...               18               2 2017-07-09 00:19:04\n",
       "\n",
       "[5 rows x 8 columns]"
      ]
     },
     "execution_count": 5,
     "metadata": {},
     "output_type": "execute_result"
    }
   ],
   "source": [
    "activite_pandas.head()"
   ]
  },
  {
   "cell_type": "code",
   "execution_count": 4,
   "metadata": {
    "ExecuteTime": {
     "end_time": "2020-08-26T09:47:29.706548Z",
     "start_time": "2020-08-26T09:47:29.688123Z"
    }
   },
   "outputs": [
    {
     "data": {
      "text/html": [
       "<div><style>\n",
       ".dataframe > thead > tr,\n",
       ".dataframe > tbody > tr {\n",
       "  text-align: right;\n",
       "  white-space: pre-wrap;\n",
       "}\n",
       "</style>\n",
       "<small>shape: (5, 8)</small><table border=\"1\" class=\"dataframe\"><thead><tr><th>gid</th><th>station_id</th><th>type</th><th>name</th><th>state</th><th>available_stands</th><th>available_bikes</th><th>date</th></tr><tr><td>u8</td><td>u8</td><td>cat</td><td>str</td><td>str</td><td>i8</td><td>i8</td><td>datetime[μs]</td></tr></thead><tbody><tr><td>83</td><td>1</td><td>&quot;VLS&quot;</td><td>&quot;Meriadeck&quot;</td><td>&quot;1&quot;</td><td>18</td><td>2</td><td>2017-07-09 00:03:04</td></tr><tr><td>83</td><td>1</td><td>&quot;VLS&quot;</td><td>&quot;Meriadeck&quot;</td><td>&quot;1&quot;</td><td>18</td><td>2</td><td>2017-07-09 00:04:04</td></tr><tr><td>83</td><td>1</td><td>&quot;VLS&quot;</td><td>&quot;Meriadeck&quot;</td><td>&quot;1&quot;</td><td>18</td><td>2</td><td>2017-07-09 00:09:04</td></tr><tr><td>83</td><td>1</td><td>&quot;VLS&quot;</td><td>&quot;Meriadeck&quot;</td><td>&quot;1&quot;</td><td>18</td><td>2</td><td>2017-07-09 00:14:03</td></tr><tr><td>83</td><td>1</td><td>&quot;VLS&quot;</td><td>&quot;Meriadeck&quot;</td><td>&quot;1&quot;</td><td>18</td><td>2</td><td>2017-07-09 00:19:04</td></tr></tbody></table></div>"
      ],
      "text/plain": [
       "shape: (5, 8)\n",
       "┌─────┬────────────┬──────┬───────────┬───────┬─────────────────┬─────────────────┬────────────────┐\n",
       "│ gid ┆ station_id ┆ type ┆ name      ┆ state ┆ available_stand ┆ available_bikes ┆ date           │\n",
       "│ --- ┆ ---        ┆ ---  ┆ ---       ┆ ---   ┆ s               ┆ ---             ┆ ---            │\n",
       "│ u8  ┆ u8         ┆ cat  ┆ str       ┆ str   ┆ ---             ┆ i8              ┆ datetime[μs]   │\n",
       "│     ┆            ┆      ┆           ┆       ┆ i8              ┆                 ┆                │\n",
       "╞═════╪════════════╪══════╪═══════════╪═══════╪═════════════════╪═════════════════╪════════════════╡\n",
       "│ 83  ┆ 1          ┆ VLS  ┆ Meriadeck ┆ 1     ┆ 18              ┆ 2               ┆ 2017-07-09     │\n",
       "│     ┆            ┆      ┆           ┆       ┆                 ┆                 ┆ 00:03:04       │\n",
       "│ 83  ┆ 1          ┆ VLS  ┆ Meriadeck ┆ 1     ┆ 18              ┆ 2               ┆ 2017-07-09     │\n",
       "│     ┆            ┆      ┆           ┆       ┆                 ┆                 ┆ 00:04:04       │\n",
       "│ 83  ┆ 1          ┆ VLS  ┆ Meriadeck ┆ 1     ┆ 18              ┆ 2               ┆ 2017-07-09     │\n",
       "│     ┆            ┆      ┆           ┆       ┆                 ┆                 ┆ 00:09:04       │\n",
       "│ 83  ┆ 1          ┆ VLS  ┆ Meriadeck ┆ 1     ┆ 18              ┆ 2               ┆ 2017-07-09     │\n",
       "│     ┆            ┆      ┆           ┆       ┆                 ┆                 ┆ 00:14:03       │\n",
       "│ 83  ┆ 1          ┆ VLS  ┆ Meriadeck ┆ 1     ┆ 18              ┆ 2               ┆ 2017-07-09     │\n",
       "│     ┆            ┆      ┆           ┆       ┆                 ┆                 ┆ 00:19:04       │\n",
       "└─────┴────────────┴──────┴───────────┴───────┴─────────────────┴─────────────────┴────────────────┘"
      ]
     },
     "execution_count": 4,
     "metadata": {},
     "output_type": "execute_result"
    }
   ],
   "source": [
    "activite.head()"
   ]
  },
  {
   "cell_type": "code",
   "execution_count": 6,
   "metadata": {},
   "outputs": [
    {
     "data": {
      "text/plain": [
       "Schema([('gid', UInt8),\n",
       "        ('station_id', UInt8),\n",
       "        ('type', Categorical(ordering='physical')),\n",
       "        ('name', String),\n",
       "        ('state', String),\n",
       "        ('available_stands', Int8),\n",
       "        ('available_bikes', Int8),\n",
       "        ('date', Datetime(time_unit='us', time_zone=None))])"
      ]
     },
     "execution_count": 6,
     "metadata": {},
     "output_type": "execute_result"
    }
   ],
   "source": [
    "activite.collect_schema()"
   ]
  },
  {
   "cell_type": "code",
   "execution_count": 16,
   "metadata": {},
   "outputs": [],
   "source": [
    "def get_transactions_all_(data: pl.DataFrame, output_type=None) -> pl.DataFrame | pd.DataFrame:\n",
    "    \"\"\" \"\"\"\n",
    "\n",
    "    data = data.with_columns(pl.col(\"available_bikes\").shift(1).over(\"station_id\").alias(\"available_bikes_shift\"))\n",
    "    data = data.with_columns(pl.col(\"available_bikes_shift\").fill_null(pl.col(\"available_bikes\")))\n",
    "    data = data.with_columns(transactions_all=(pl.col(\"available_bikes\") - pl.col(\"available_bikes_shift\")).abs())\n",
    "\n",
    "    # Drop non usefull column\n",
    "    data = data.drop(\"available_bikes_shift\")\n",
    "\n",
    "    if output_type == \"pandas\":\n",
    "        data = data.to_pandas()\n",
    "\n",
    "    return data"
   ]
  },
  {
   "cell_type": "code",
   "execution_count": 17,
   "metadata": {},
   "outputs": [],
   "source": [
    "from vcub_keeper.transform.features_factory import get_transactions_all\n",
    "\n",
    "activite = get_transactions_all_(activite)\n",
    "activite_pandas = get_transactions_all(activite_pandas)"
   ]
  },
  {
   "cell_type": "code",
   "execution_count": 18,
   "metadata": {},
   "outputs": [
    {
     "data": {
      "text/html": [
       "<div>\n",
       "<style scoped>\n",
       "    .dataframe tbody tr th:only-of-type {\n",
       "        vertical-align: middle;\n",
       "    }\n",
       "\n",
       "    .dataframe tbody tr th {\n",
       "        vertical-align: top;\n",
       "    }\n",
       "\n",
       "    .dataframe thead th {\n",
       "        text-align: right;\n",
       "    }\n",
       "</style>\n",
       "<table border=\"1\" class=\"dataframe\">\n",
       "  <thead>\n",
       "    <tr style=\"text-align: right;\">\n",
       "      <th></th>\n",
       "      <th>gid</th>\n",
       "      <th>station_id</th>\n",
       "      <th>type</th>\n",
       "      <th>name</th>\n",
       "      <th>state</th>\n",
       "      <th>available_stands</th>\n",
       "      <th>available_bikes</th>\n",
       "      <th>date</th>\n",
       "      <th>transactions_all</th>\n",
       "    </tr>\n",
       "  </thead>\n",
       "  <tbody>\n",
       "    <tr>\n",
       "      <th>0</th>\n",
       "      <td>83</td>\n",
       "      <td>1</td>\n",
       "      <td>VLS</td>\n",
       "      <td>Meriadeck</td>\n",
       "      <td>1</td>\n",
       "      <td>18</td>\n",
       "      <td>2</td>\n",
       "      <td>2017-07-09 00:03:04</td>\n",
       "      <td>0.0</td>\n",
       "    </tr>\n",
       "    <tr>\n",
       "      <th>1</th>\n",
       "      <td>83</td>\n",
       "      <td>1</td>\n",
       "      <td>VLS</td>\n",
       "      <td>Meriadeck</td>\n",
       "      <td>1</td>\n",
       "      <td>18</td>\n",
       "      <td>2</td>\n",
       "      <td>2017-07-09 00:04:04</td>\n",
       "      <td>0.0</td>\n",
       "    </tr>\n",
       "    <tr>\n",
       "      <th>2</th>\n",
       "      <td>83</td>\n",
       "      <td>1</td>\n",
       "      <td>VLS</td>\n",
       "      <td>Meriadeck</td>\n",
       "      <td>1</td>\n",
       "      <td>18</td>\n",
       "      <td>2</td>\n",
       "      <td>2017-07-09 00:09:04</td>\n",
       "      <td>0.0</td>\n",
       "    </tr>\n",
       "    <tr>\n",
       "      <th>3</th>\n",
       "      <td>83</td>\n",
       "      <td>1</td>\n",
       "      <td>VLS</td>\n",
       "      <td>Meriadeck</td>\n",
       "      <td>1</td>\n",
       "      <td>18</td>\n",
       "      <td>2</td>\n",
       "      <td>2017-07-09 00:14:03</td>\n",
       "      <td>0.0</td>\n",
       "    </tr>\n",
       "    <tr>\n",
       "      <th>4</th>\n",
       "      <td>83</td>\n",
       "      <td>1</td>\n",
       "      <td>VLS</td>\n",
       "      <td>Meriadeck</td>\n",
       "      <td>1</td>\n",
       "      <td>18</td>\n",
       "      <td>2</td>\n",
       "      <td>2017-07-09 00:19:04</td>\n",
       "      <td>0.0</td>\n",
       "    </tr>\n",
       "    <tr>\n",
       "      <th>5</th>\n",
       "      <td>83</td>\n",
       "      <td>1</td>\n",
       "      <td>VLS</td>\n",
       "      <td>Meriadeck</td>\n",
       "      <td>1</td>\n",
       "      <td>19</td>\n",
       "      <td>1</td>\n",
       "      <td>2017-07-09 00:24:05</td>\n",
       "      <td>1.0</td>\n",
       "    </tr>\n",
       "    <tr>\n",
       "      <th>6</th>\n",
       "      <td>83</td>\n",
       "      <td>1</td>\n",
       "      <td>VLS</td>\n",
       "      <td>Meriadeck</td>\n",
       "      <td>1</td>\n",
       "      <td>19</td>\n",
       "      <td>1</td>\n",
       "      <td>2017-07-09 00:29:04</td>\n",
       "      <td>0.0</td>\n",
       "    </tr>\n",
       "    <tr>\n",
       "      <th>7</th>\n",
       "      <td>83</td>\n",
       "      <td>1</td>\n",
       "      <td>VLS</td>\n",
       "      <td>Meriadeck</td>\n",
       "      <td>1</td>\n",
       "      <td>19</td>\n",
       "      <td>1</td>\n",
       "      <td>2017-07-09 00:34:04</td>\n",
       "      <td>0.0</td>\n",
       "    </tr>\n",
       "    <tr>\n",
       "      <th>8</th>\n",
       "      <td>83</td>\n",
       "      <td>1</td>\n",
       "      <td>VLS</td>\n",
       "      <td>Meriadeck</td>\n",
       "      <td>1</td>\n",
       "      <td>19</td>\n",
       "      <td>1</td>\n",
       "      <td>2017-07-09 00:39:04</td>\n",
       "      <td>0.0</td>\n",
       "    </tr>\n",
       "    <tr>\n",
       "      <th>9</th>\n",
       "      <td>83</td>\n",
       "      <td>1</td>\n",
       "      <td>VLS</td>\n",
       "      <td>Meriadeck</td>\n",
       "      <td>1</td>\n",
       "      <td>19</td>\n",
       "      <td>1</td>\n",
       "      <td>2017-07-09 00:44:05</td>\n",
       "      <td>0.0</td>\n",
       "    </tr>\n",
       "  </tbody>\n",
       "</table>\n",
       "</div>"
      ],
      "text/plain": [
       "   gid  station_id type  ... available_bikes                date  transactions_all\n",
       "0   83           1  VLS  ...               2 2017-07-09 00:03:04               0.0\n",
       "1   83           1  VLS  ...               2 2017-07-09 00:04:04               0.0\n",
       "2   83           1  VLS  ...               2 2017-07-09 00:09:04               0.0\n",
       "3   83           1  VLS  ...               2 2017-07-09 00:14:03               0.0\n",
       "4   83           1  VLS  ...               2 2017-07-09 00:19:04               0.0\n",
       "5   83           1  VLS  ...               1 2017-07-09 00:24:05               1.0\n",
       "6   83           1  VLS  ...               1 2017-07-09 00:29:04               0.0\n",
       "7   83           1  VLS  ...               1 2017-07-09 00:34:04               0.0\n",
       "8   83           1  VLS  ...               1 2017-07-09 00:39:04               0.0\n",
       "9   83           1  VLS  ...               1 2017-07-09 00:44:05               0.0\n",
       "\n",
       "[10 rows x 9 columns]"
      ]
     },
     "execution_count": 18,
     "metadata": {},
     "output_type": "execute_result"
    }
   ],
   "source": [
    "activite_pandas.head(10)"
   ]
  },
  {
   "cell_type": "code",
   "execution_count": 19,
   "metadata": {},
   "outputs": [
    {
     "data": {
      "text/html": [
       "<div><style>\n",
       ".dataframe > thead > tr,\n",
       ".dataframe > tbody > tr {\n",
       "  text-align: right;\n",
       "  white-space: pre-wrap;\n",
       "}\n",
       "</style>\n",
       "<small>shape: (10, 9)</small><table border=\"1\" class=\"dataframe\"><thead><tr><th>gid</th><th>station_id</th><th>type</th><th>name</th><th>state</th><th>available_stands</th><th>available_bikes</th><th>date</th><th>transactions_all</th></tr><tr><td>u8</td><td>u8</td><td>cat</td><td>str</td><td>str</td><td>i8</td><td>i8</td><td>datetime[μs]</td><td>i8</td></tr></thead><tbody><tr><td>83</td><td>1</td><td>&quot;VLS&quot;</td><td>&quot;Meriadeck&quot;</td><td>&quot;1&quot;</td><td>18</td><td>2</td><td>2017-07-09 00:03:04</td><td>0</td></tr><tr><td>83</td><td>1</td><td>&quot;VLS&quot;</td><td>&quot;Meriadeck&quot;</td><td>&quot;1&quot;</td><td>18</td><td>2</td><td>2017-07-09 00:04:04</td><td>0</td></tr><tr><td>83</td><td>1</td><td>&quot;VLS&quot;</td><td>&quot;Meriadeck&quot;</td><td>&quot;1&quot;</td><td>18</td><td>2</td><td>2017-07-09 00:09:04</td><td>0</td></tr><tr><td>83</td><td>1</td><td>&quot;VLS&quot;</td><td>&quot;Meriadeck&quot;</td><td>&quot;1&quot;</td><td>18</td><td>2</td><td>2017-07-09 00:14:03</td><td>0</td></tr><tr><td>83</td><td>1</td><td>&quot;VLS&quot;</td><td>&quot;Meriadeck&quot;</td><td>&quot;1&quot;</td><td>18</td><td>2</td><td>2017-07-09 00:19:04</td><td>0</td></tr><tr><td>83</td><td>1</td><td>&quot;VLS&quot;</td><td>&quot;Meriadeck&quot;</td><td>&quot;1&quot;</td><td>19</td><td>1</td><td>2017-07-09 00:24:05</td><td>1</td></tr><tr><td>83</td><td>1</td><td>&quot;VLS&quot;</td><td>&quot;Meriadeck&quot;</td><td>&quot;1&quot;</td><td>19</td><td>1</td><td>2017-07-09 00:29:04</td><td>0</td></tr><tr><td>83</td><td>1</td><td>&quot;VLS&quot;</td><td>&quot;Meriadeck&quot;</td><td>&quot;1&quot;</td><td>19</td><td>1</td><td>2017-07-09 00:34:04</td><td>0</td></tr><tr><td>83</td><td>1</td><td>&quot;VLS&quot;</td><td>&quot;Meriadeck&quot;</td><td>&quot;1&quot;</td><td>19</td><td>1</td><td>2017-07-09 00:39:04</td><td>0</td></tr><tr><td>83</td><td>1</td><td>&quot;VLS&quot;</td><td>&quot;Meriadeck&quot;</td><td>&quot;1&quot;</td><td>19</td><td>1</td><td>2017-07-09 00:44:05</td><td>0</td></tr></tbody></table></div>"
      ],
      "text/plain": [
       "shape: (10, 9)\n",
       "┌─────┬────────────┬──────┬───────────┬───┬──────────────┬─────────────┬─────────────┬─────────────┐\n",
       "│ gid ┆ station_id ┆ type ┆ name      ┆ … ┆ available_st ┆ available_b ┆ date        ┆ transaction │\n",
       "│ --- ┆ ---        ┆ ---  ┆ ---       ┆   ┆ ands         ┆ ikes        ┆ ---         ┆ s_all       │\n",
       "│ u8  ┆ u8         ┆ cat  ┆ str       ┆   ┆ ---          ┆ ---         ┆ datetime[μs ┆ ---         │\n",
       "│     ┆            ┆      ┆           ┆   ┆ i8           ┆ i8          ┆ ]           ┆ i8          │\n",
       "╞═════╪════════════╪══════╪═══════════╪═══╪══════════════╪═════════════╪═════════════╪═════════════╡\n",
       "│ 83  ┆ 1          ┆ VLS  ┆ Meriadeck ┆ … ┆ 18           ┆ 2           ┆ 2017-07-09  ┆ 0           │\n",
       "│     ┆            ┆      ┆           ┆   ┆              ┆             ┆ 00:03:04    ┆             │\n",
       "│ 83  ┆ 1          ┆ VLS  ┆ Meriadeck ┆ … ┆ 18           ┆ 2           ┆ 2017-07-09  ┆ 0           │\n",
       "│     ┆            ┆      ┆           ┆   ┆              ┆             ┆ 00:04:04    ┆             │\n",
       "│ 83  ┆ 1          ┆ VLS  ┆ Meriadeck ┆ … ┆ 18           ┆ 2           ┆ 2017-07-09  ┆ 0           │\n",
       "│     ┆            ┆      ┆           ┆   ┆              ┆             ┆ 00:09:04    ┆             │\n",
       "│ 83  ┆ 1          ┆ VLS  ┆ Meriadeck ┆ … ┆ 18           ┆ 2           ┆ 2017-07-09  ┆ 0           │\n",
       "│     ┆            ┆      ┆           ┆   ┆              ┆             ┆ 00:14:03    ┆             │\n",
       "│ 83  ┆ 1          ┆ VLS  ┆ Meriadeck ┆ … ┆ 18           ┆ 2           ┆ 2017-07-09  ┆ 0           │\n",
       "│     ┆            ┆      ┆           ┆   ┆              ┆             ┆ 00:19:04    ┆             │\n",
       "│ 83  ┆ 1          ┆ VLS  ┆ Meriadeck ┆ … ┆ 19           ┆ 1           ┆ 2017-07-09  ┆ 1           │\n",
       "│     ┆            ┆      ┆           ┆   ┆              ┆             ┆ 00:24:05    ┆             │\n",
       "│ 83  ┆ 1          ┆ VLS  ┆ Meriadeck ┆ … ┆ 19           ┆ 1           ┆ 2017-07-09  ┆ 0           │\n",
       "│     ┆            ┆      ┆           ┆   ┆              ┆             ┆ 00:29:04    ┆             │\n",
       "│ 83  ┆ 1          ┆ VLS  ┆ Meriadeck ┆ … ┆ 19           ┆ 1           ┆ 2017-07-09  ┆ 0           │\n",
       "│     ┆            ┆      ┆           ┆   ┆              ┆             ┆ 00:34:04    ┆             │\n",
       "│ 83  ┆ 1          ┆ VLS  ┆ Meriadeck ┆ … ┆ 19           ┆ 1           ┆ 2017-07-09  ┆ 0           │\n",
       "│     ┆            ┆      ┆           ┆   ┆              ┆             ┆ 00:39:04    ┆             │\n",
       "│ 83  ┆ 1          ┆ VLS  ┆ Meriadeck ┆ … ┆ 19           ┆ 1           ┆ 2017-07-09  ┆ 0           │\n",
       "│     ┆            ┆      ┆           ┆   ┆              ┆             ┆ 00:44:05    ┆             │\n",
       "└─────┴────────────┴──────┴───────────┴───┴──────────────┴─────────────┴─────────────┴─────────────┘"
      ]
     },
     "execution_count": 19,
     "metadata": {},
     "output_type": "execute_result"
    }
   ],
   "source": [
    "activite.head(10)"
   ]
  },
  {
   "cell_type": "code",
   "execution_count": 20,
   "metadata": {},
   "outputs": [],
   "source": [
    "from pandas.testing import assert_frame_equal\n",
    "\n",
    "assert_frame_equal(activite_pandas, activite.to_pandas(), check_dtype=False)"
   ]
  },
  {
   "cell_type": "code",
   "execution_count": null,
   "metadata": {},
   "outputs": [],
   "source": [
    "# Old code from Pandas version"
   ]
  },
  {
   "cell_type": "code",
   "execution_count": 4,
   "metadata": {
    "ExecuteTime": {
     "end_time": "2020-08-26T09:47:29.992480Z",
     "start_time": "2020-08-26T09:47:29.707698Z"
    }
   },
   "outputs": [],
   "source": [
    "activite[\"available_bikes_shift\"] = activite.groupby(\"station_id\")[\"available_bikes\"].shift(1)\n",
    "\n",
    "activite[\"available_bikes_shift\"] = activite[\"available_bikes_shift\"].fillna(activite[\"available_bikes\"])\n",
    "\n",
    "activite[\"transactions_all\"] = np.abs(activite[\"available_bikes\"] - activite[\"available_bikes_shift\"])"
   ]
  },
  {
   "cell_type": "code",
   "execution_count": 5,
   "metadata": {
    "ExecuteTime": {
     "end_time": "2020-08-26T09:47:30.015812Z",
     "start_time": "2020-08-26T09:47:29.993569Z"
    }
   },
   "outputs": [
    {
     "data": {
      "text/html": [
       "<div>\n",
       "<style scoped>\n",
       "    .dataframe tbody tr th:only-of-type {\n",
       "        vertical-align: middle;\n",
       "    }\n",
       "\n",
       "    .dataframe tbody tr th {\n",
       "        vertical-align: top;\n",
       "    }\n",
       "\n",
       "    .dataframe thead th {\n",
       "        text-align: right;\n",
       "    }\n",
       "</style>\n",
       "<table border=\"1\" class=\"dataframe\">\n",
       "  <thead>\n",
       "    <tr style=\"text-align: right;\">\n",
       "      <th></th>\n",
       "      <th>gid</th>\n",
       "      <th>station_id</th>\n",
       "      <th>type</th>\n",
       "      <th>name</th>\n",
       "      <th>state</th>\n",
       "      <th>available_stands</th>\n",
       "      <th>available_bikes</th>\n",
       "      <th>date</th>\n",
       "      <th>available_bikes_shift</th>\n",
       "      <th>transactions_all</th>\n",
       "    </tr>\n",
       "  </thead>\n",
       "  <tbody>\n",
       "    <tr>\n",
       "      <th>39650</th>\n",
       "      <td>84</td>\n",
       "      <td>2</td>\n",
       "      <td>VLS</td>\n",
       "      <td>St Bruno</td>\n",
       "      <td>1</td>\n",
       "      <td>3</td>\n",
       "      <td>17</td>\n",
       "      <td>2017-09-14 01:49:04</td>\n",
       "      <td>17.0</td>\n",
       "      <td>0.0</td>\n",
       "    </tr>\n",
       "    <tr>\n",
       "      <th>39651</th>\n",
       "      <td>84</td>\n",
       "      <td>2</td>\n",
       "      <td>VLS</td>\n",
       "      <td>St Bruno</td>\n",
       "      <td>1</td>\n",
       "      <td>3</td>\n",
       "      <td>17</td>\n",
       "      <td>2017-09-14 01:54:04</td>\n",
       "      <td>17.0</td>\n",
       "      <td>0.0</td>\n",
       "    </tr>\n",
       "    <tr>\n",
       "      <th>39652</th>\n",
       "      <td>84</td>\n",
       "      <td>2</td>\n",
       "      <td>VLS</td>\n",
       "      <td>St Bruno</td>\n",
       "      <td>1</td>\n",
       "      <td>3</td>\n",
       "      <td>17</td>\n",
       "      <td>2017-09-14 01:59:03</td>\n",
       "      <td>17.0</td>\n",
       "      <td>0.0</td>\n",
       "    </tr>\n",
       "    <tr>\n",
       "      <th>39653</th>\n",
       "      <td>84</td>\n",
       "      <td>2</td>\n",
       "      <td>VLS</td>\n",
       "      <td>St Bruno</td>\n",
       "      <td>1</td>\n",
       "      <td>3</td>\n",
       "      <td>17</td>\n",
       "      <td>2017-09-14 02:04:05</td>\n",
       "      <td>17.0</td>\n",
       "      <td>0.0</td>\n",
       "    </tr>\n",
       "    <tr>\n",
       "      <th>39654</th>\n",
       "      <td>84</td>\n",
       "      <td>2</td>\n",
       "      <td>VLS</td>\n",
       "      <td>St Bruno</td>\n",
       "      <td>1</td>\n",
       "      <td>3</td>\n",
       "      <td>17</td>\n",
       "      <td>2017-09-14 02:09:03</td>\n",
       "      <td>17.0</td>\n",
       "      <td>0.0</td>\n",
       "    </tr>\n",
       "    <tr>\n",
       "      <th>39655</th>\n",
       "      <td>84</td>\n",
       "      <td>2</td>\n",
       "      <td>VLS</td>\n",
       "      <td>St Bruno</td>\n",
       "      <td>1</td>\n",
       "      <td>2</td>\n",
       "      <td>18</td>\n",
       "      <td>2017-09-14 02:14:04</td>\n",
       "      <td>17.0</td>\n",
       "      <td>1.0</td>\n",
       "    </tr>\n",
       "    <tr>\n",
       "      <th>39656</th>\n",
       "      <td>84</td>\n",
       "      <td>2</td>\n",
       "      <td>VLS</td>\n",
       "      <td>St Bruno</td>\n",
       "      <td>1</td>\n",
       "      <td>2</td>\n",
       "      <td>18</td>\n",
       "      <td>2017-09-14 02:19:04</td>\n",
       "      <td>18.0</td>\n",
       "      <td>0.0</td>\n",
       "    </tr>\n",
       "    <tr>\n",
       "      <th>39657</th>\n",
       "      <td>84</td>\n",
       "      <td>2</td>\n",
       "      <td>VLS</td>\n",
       "      <td>St Bruno</td>\n",
       "      <td>1</td>\n",
       "      <td>2</td>\n",
       "      <td>18</td>\n",
       "      <td>2017-09-14 02:24:03</td>\n",
       "      <td>18.0</td>\n",
       "      <td>0.0</td>\n",
       "    </tr>\n",
       "    <tr>\n",
       "      <th>39658</th>\n",
       "      <td>84</td>\n",
       "      <td>2</td>\n",
       "      <td>VLS</td>\n",
       "      <td>St Bruno</td>\n",
       "      <td>1</td>\n",
       "      <td>2</td>\n",
       "      <td>18</td>\n",
       "      <td>2017-09-14 02:29:04</td>\n",
       "      <td>18.0</td>\n",
       "      <td>0.0</td>\n",
       "    </tr>\n",
       "    <tr>\n",
       "      <th>39659</th>\n",
       "      <td>84</td>\n",
       "      <td>2</td>\n",
       "      <td>VLS</td>\n",
       "      <td>St Bruno</td>\n",
       "      <td>1</td>\n",
       "      <td>2</td>\n",
       "      <td>18</td>\n",
       "      <td>2017-09-14 02:34:04</td>\n",
       "      <td>18.0</td>\n",
       "      <td>0.0</td>\n",
       "    </tr>\n",
       "    <tr>\n",
       "      <th>39660</th>\n",
       "      <td>84</td>\n",
       "      <td>2</td>\n",
       "      <td>VLS</td>\n",
       "      <td>St Bruno</td>\n",
       "      <td>1</td>\n",
       "      <td>2</td>\n",
       "      <td>18</td>\n",
       "      <td>2017-09-14 02:39:03</td>\n",
       "      <td>18.0</td>\n",
       "      <td>0.0</td>\n",
       "    </tr>\n",
       "    <tr>\n",
       "      <th>39661</th>\n",
       "      <td>84</td>\n",
       "      <td>2</td>\n",
       "      <td>VLS</td>\n",
       "      <td>St Bruno</td>\n",
       "      <td>1</td>\n",
       "      <td>2</td>\n",
       "      <td>18</td>\n",
       "      <td>2017-09-14 02:44:03</td>\n",
       "      <td>18.0</td>\n",
       "      <td>0.0</td>\n",
       "    </tr>\n",
       "    <tr>\n",
       "      <th>39662</th>\n",
       "      <td>84</td>\n",
       "      <td>2</td>\n",
       "      <td>VLS</td>\n",
       "      <td>St Bruno</td>\n",
       "      <td>1</td>\n",
       "      <td>2</td>\n",
       "      <td>18</td>\n",
       "      <td>2017-09-14 02:49:03</td>\n",
       "      <td>18.0</td>\n",
       "      <td>0.0</td>\n",
       "    </tr>\n",
       "    <tr>\n",
       "      <th>39663</th>\n",
       "      <td>84</td>\n",
       "      <td>2</td>\n",
       "      <td>VLS</td>\n",
       "      <td>St Bruno</td>\n",
       "      <td>1</td>\n",
       "      <td>3</td>\n",
       "      <td>17</td>\n",
       "      <td>2017-09-14 02:54:05</td>\n",
       "      <td>18.0</td>\n",
       "      <td>1.0</td>\n",
       "    </tr>\n",
       "    <tr>\n",
       "      <th>39664</th>\n",
       "      <td>84</td>\n",
       "      <td>2</td>\n",
       "      <td>VLS</td>\n",
       "      <td>St Bruno</td>\n",
       "      <td>1</td>\n",
       "      <td>3</td>\n",
       "      <td>17</td>\n",
       "      <td>2017-09-14 02:59:04</td>\n",
       "      <td>17.0</td>\n",
       "      <td>0.0</td>\n",
       "    </tr>\n",
       "  </tbody>\n",
       "</table>\n",
       "</div>"
      ],
      "text/plain": [
       "       gid  station_id type      name state  available_stands  \\\n",
       "39650   84           2  VLS  St Bruno     1                 3   \n",
       "39651   84           2  VLS  St Bruno     1                 3   \n",
       "39652   84           2  VLS  St Bruno     1                 3   \n",
       "39653   84           2  VLS  St Bruno     1                 3   \n",
       "39654   84           2  VLS  St Bruno     1                 3   \n",
       "39655   84           2  VLS  St Bruno     1                 2   \n",
       "39656   84           2  VLS  St Bruno     1                 2   \n",
       "39657   84           2  VLS  St Bruno     1                 2   \n",
       "39658   84           2  VLS  St Bruno     1                 2   \n",
       "39659   84           2  VLS  St Bruno     1                 2   \n",
       "39660   84           2  VLS  St Bruno     1                 2   \n",
       "39661   84           2  VLS  St Bruno     1                 2   \n",
       "39662   84           2  VLS  St Bruno     1                 2   \n",
       "39663   84           2  VLS  St Bruno     1                 3   \n",
       "39664   84           2  VLS  St Bruno     1                 3   \n",
       "\n",
       "       available_bikes                date  available_bikes_shift  \\\n",
       "39650               17 2017-09-14 01:49:04                   17.0   \n",
       "39651               17 2017-09-14 01:54:04                   17.0   \n",
       "39652               17 2017-09-14 01:59:03                   17.0   \n",
       "39653               17 2017-09-14 02:04:05                   17.0   \n",
       "39654               17 2017-09-14 02:09:03                   17.0   \n",
       "39655               18 2017-09-14 02:14:04                   17.0   \n",
       "39656               18 2017-09-14 02:19:04                   18.0   \n",
       "39657               18 2017-09-14 02:24:03                   18.0   \n",
       "39658               18 2017-09-14 02:29:04                   18.0   \n",
       "39659               18 2017-09-14 02:34:04                   18.0   \n",
       "39660               18 2017-09-14 02:39:03                   18.0   \n",
       "39661               18 2017-09-14 02:44:03                   18.0   \n",
       "39662               18 2017-09-14 02:49:03                   18.0   \n",
       "39663               17 2017-09-14 02:54:05                   18.0   \n",
       "39664               17 2017-09-14 02:59:04                   17.0   \n",
       "\n",
       "       transactions_all  \n",
       "39650               0.0  \n",
       "39651               0.0  \n",
       "39652               0.0  \n",
       "39653               0.0  \n",
       "39654               0.0  \n",
       "39655               1.0  \n",
       "39656               0.0  \n",
       "39657               0.0  \n",
       "39658               0.0  \n",
       "39659               0.0  \n",
       "39660               0.0  \n",
       "39661               0.0  \n",
       "39662               0.0  \n",
       "39663               1.0  \n",
       "39664               0.0  "
      ]
     },
     "execution_count": 5,
     "metadata": {},
     "output_type": "execute_result"
    }
   ],
   "source": [
    "activite[39650:39665]"
   ]
  },
  {
   "cell_type": "markdown",
   "metadata": {},
   "source": [
    "## Industrialisation"
   ]
  },
  {
   "cell_type": "code",
   "execution_count": 21,
   "metadata": {
    "ExecuteTime": {
     "end_time": "2020-08-26T09:47:57.968014Z",
     "start_time": "2020-08-26T09:47:54.047911Z"
    }
   },
   "outputs": [],
   "source": [
    "# Lecture de l'activité des stations\n",
    "activite = read_activity_vcub()\n",
    "\n",
    "activite = get_transactions_all(activite)"
   ]
  },
  {
   "cell_type": "code",
   "execution_count": 22,
   "metadata": {
    "ExecuteTime": {
     "end_time": "2020-08-26T09:47:57.988043Z",
     "start_time": "2020-08-26T09:47:57.969213Z"
    }
   },
   "outputs": [
    {
     "data": {
      "text/html": [
       "<div><style>\n",
       ".dataframe > thead > tr,\n",
       ".dataframe > tbody > tr {\n",
       "  text-align: right;\n",
       "  white-space: pre-wrap;\n",
       "}\n",
       "</style>\n",
       "<small>shape: (5, 9)</small><table border=\"1\" class=\"dataframe\"><thead><tr><th>gid</th><th>station_id</th><th>type</th><th>name</th><th>state</th><th>available_stands</th><th>available_bikes</th><th>date</th><th>transactions_all</th></tr><tr><td>u8</td><td>u8</td><td>cat</td><td>str</td><td>str</td><td>i8</td><td>i8</td><td>datetime[μs]</td><td>i8</td></tr></thead><tbody><tr><td>176</td><td>174</td><td>&quot;VLS&quot;</td><td>&quot;Darwin&quot;</td><td>&quot;1&quot;</td><td>1</td><td>19</td><td>2017-09-26 14:39:02</td><td>0</td></tr><tr><td>176</td><td>174</td><td>&quot;VLS&quot;</td><td>&quot;Darwin&quot;</td><td>&quot;1&quot;</td><td>0</td><td>20</td><td>2017-09-26 14:44:05</td><td>1</td></tr><tr><td>176</td><td>174</td><td>&quot;VLS&quot;</td><td>&quot;Darwin&quot;</td><td>&quot;1&quot;</td><td>0</td><td>20</td><td>2017-09-26 14:49:05</td><td>0</td></tr><tr><td>176</td><td>174</td><td>&quot;VLS&quot;</td><td>&quot;Darwin&quot;</td><td>&quot;1&quot;</td><td>0</td><td>20</td><td>2017-09-26 14:54:04</td><td>0</td></tr><tr><td>176</td><td>174</td><td>&quot;VLS&quot;</td><td>&quot;Darwin&quot;</td><td>&quot;1&quot;</td><td>0</td><td>20</td><td>2017-09-26 14:59:04</td><td>0</td></tr></tbody></table></div>"
      ],
      "text/plain": [
       "shape: (5, 9)\n",
       "┌─────┬────────────┬──────┬────────┬───┬──────────────┬──────────────┬──────────────┬──────────────┐\n",
       "│ gid ┆ station_id ┆ type ┆ name   ┆ … ┆ available_st ┆ available_bi ┆ date         ┆ transactions │\n",
       "│ --- ┆ ---        ┆ ---  ┆ ---    ┆   ┆ ands         ┆ kes          ┆ ---          ┆ _all         │\n",
       "│ u8  ┆ u8         ┆ cat  ┆ str    ┆   ┆ ---          ┆ ---          ┆ datetime[μs] ┆ ---          │\n",
       "│     ┆            ┆      ┆        ┆   ┆ i8           ┆ i8           ┆              ┆ i8           │\n",
       "╞═════╪════════════╪══════╪════════╪═══╪══════════════╪══════════════╪══════════════╪══════════════╡\n",
       "│ 176 ┆ 174        ┆ VLS  ┆ Darwin ┆ … ┆ 1            ┆ 19           ┆ 2017-09-26   ┆ 0            │\n",
       "│     ┆            ┆      ┆        ┆   ┆              ┆              ┆ 14:39:02     ┆              │\n",
       "│ 176 ┆ 174        ┆ VLS  ┆ Darwin ┆ … ┆ 0            ┆ 20           ┆ 2017-09-26   ┆ 1            │\n",
       "│     ┆            ┆      ┆        ┆   ┆              ┆              ┆ 14:44:05     ┆              │\n",
       "│ 176 ┆ 174        ┆ VLS  ┆ Darwin ┆ … ┆ 0            ┆ 20           ┆ 2017-09-26   ┆ 0            │\n",
       "│     ┆            ┆      ┆        ┆   ┆              ┆              ┆ 14:49:05     ┆              │\n",
       "│ 176 ┆ 174        ┆ VLS  ┆ Darwin ┆ … ┆ 0            ┆ 20           ┆ 2017-09-26   ┆ 0            │\n",
       "│     ┆            ┆      ┆        ┆   ┆              ┆              ┆ 14:54:04     ┆              │\n",
       "│ 176 ┆ 174        ┆ VLS  ┆ Darwin ┆ … ┆ 0            ┆ 20           ┆ 2017-09-26   ┆ 0            │\n",
       "│     ┆            ┆      ┆        ┆   ┆              ┆              ┆ 14:59:04     ┆              │\n",
       "└─────┴────────────┴──────┴────────┴───┴──────────────┴──────────────┴──────────────┴──────────────┘"
      ]
     },
     "execution_count": 22,
     "metadata": {},
     "output_type": "execute_result"
    }
   ],
   "source": [
    "activite.tail()"
   ]
  },
  {
   "cell_type": "markdown",
   "metadata": {},
   "source": [
    "### Script"
   ]
  },
  {
   "cell_type": "code",
   "execution_count": 23,
   "metadata": {
    "ExecuteTime": {
     "end_time": "2020-08-26T09:47:59.307793Z",
     "start_time": "2020-08-26T09:47:59.291795Z"
    }
   },
   "outputs": [],
   "source": [
    "from vcub_keeper.reader.reader import read_activity_vcub\n",
    "from vcub_keeper.transform.features_factory import get_transactions_all"
   ]
  },
  {
   "cell_type": "code",
   "execution_count": 24,
   "metadata": {
    "ExecuteTime": {
     "end_time": "2020-08-26T09:48:03.662954Z",
     "start_time": "2020-08-26T09:47:59.703660Z"
    }
   },
   "outputs": [],
   "source": [
    "# Lecture de l'activité des stations\n",
    "activite = read_activity_vcub()\n",
    "\n",
    "activite = get_transactions_all(activite)"
   ]
  },
  {
   "cell_type": "code",
   "execution_count": 25,
   "metadata": {
    "ExecuteTime": {
     "end_time": "2020-08-26T09:48:18.973319Z",
     "start_time": "2020-08-26T09:48:18.945613Z"
    }
   },
   "outputs": [
    {
     "data": {
      "text/html": [
       "<div><style>\n",
       ".dataframe > thead > tr,\n",
       ".dataframe > tbody > tr {\n",
       "  text-align: right;\n",
       "  white-space: pre-wrap;\n",
       "}\n",
       "</style>\n",
       "<small>shape: (25, 9)</small><table border=\"1\" class=\"dataframe\"><thead><tr><th>gid</th><th>station_id</th><th>type</th><th>name</th><th>state</th><th>available_stands</th><th>available_bikes</th><th>date</th><th>transactions_all</th></tr><tr><td>u8</td><td>u8</td><td>cat</td><td>str</td><td>str</td><td>i8</td><td>i8</td><td>datetime[μs]</td><td>i8</td></tr></thead><tbody><tr><td>86</td><td>7</td><td>&quot;VLS&quot;</td><td>&quot;Palais de Justice&quot;</td><td>&quot;1&quot;</td><td>16</td><td>2</td><td>2017-08-02 10:55:03</td><td>1</td></tr><tr><td>86</td><td>7</td><td>&quot;VLS&quot;</td><td>&quot;Palais de Justice&quot;</td><td>&quot;1&quot;</td><td>16</td><td>2</td><td>2017-08-02 11:00:03</td><td>0</td></tr><tr><td>86</td><td>7</td><td>&quot;VLS&quot;</td><td>&quot;Palais de Justice&quot;</td><td>&quot;1&quot;</td><td>16</td><td>2</td><td>2017-08-02 11:05:04</td><td>0</td></tr><tr><td>86</td><td>7</td><td>&quot;VLS&quot;</td><td>&quot;Palais de Justice&quot;</td><td>&quot;1&quot;</td><td>16</td><td>2</td><td>2017-08-02 11:10:04</td><td>0</td></tr><tr><td>86</td><td>7</td><td>&quot;VLS&quot;</td><td>&quot;Palais de Justice&quot;</td><td>&quot;1&quot;</td><td>17</td><td>1</td><td>2017-08-02 11:15:03</td><td>1</td></tr><tr><td>&hellip;</td><td>&hellip;</td><td>&hellip;</td><td>&hellip;</td><td>&hellip;</td><td>&hellip;</td><td>&hellip;</td><td>&hellip;</td><td>&hellip;</td></tr><tr><td>86</td><td>7</td><td>&quot;VLS&quot;</td><td>&quot;Palais de Justice&quot;</td><td>&quot;1&quot;</td><td>16</td><td>2</td><td>2017-08-02 13:05:04</td><td>0</td></tr><tr><td>86</td><td>7</td><td>&quot;VLS&quot;</td><td>&quot;Palais de Justice&quot;</td><td>&quot;1&quot;</td><td>16</td><td>2</td><td>2017-08-02 13:10:04</td><td>0</td></tr><tr><td>86</td><td>7</td><td>&quot;VLS&quot;</td><td>&quot;Palais de Justice&quot;</td><td>&quot;1&quot;</td><td>15</td><td>3</td><td>2017-08-02 13:15:04</td><td>1</td></tr><tr><td>86</td><td>7</td><td>&quot;VLS&quot;</td><td>&quot;Palais de Justice&quot;</td><td>&quot;1&quot;</td><td>16</td><td>2</td><td>2017-08-02 13:30:04</td><td>1</td></tr><tr><td>86</td><td>7</td><td>&quot;VLS&quot;</td><td>&quot;Palais de Justice&quot;</td><td>&quot;1&quot;</td><td>16</td><td>2</td><td>2017-08-02 13:35:04</td><td>0</td></tr></tbody></table></div>"
      ],
      "text/plain": [
       "shape: (25, 9)\n",
       "┌─────┬────────────┬──────┬─────────────┬───┬─────────────┬─────────────┬─────────────┬────────────┐\n",
       "│ gid ┆ station_id ┆ type ┆ name        ┆ … ┆ available_s ┆ available_b ┆ date        ┆ transactio │\n",
       "│ --- ┆ ---        ┆ ---  ┆ ---         ┆   ┆ tands       ┆ ikes        ┆ ---         ┆ ns_all     │\n",
       "│ u8  ┆ u8         ┆ cat  ┆ str         ┆   ┆ ---         ┆ ---         ┆ datetime[μs ┆ ---        │\n",
       "│     ┆            ┆      ┆             ┆   ┆ i8          ┆ i8          ┆ ]           ┆ i8         │\n",
       "╞═════╪════════════╪══════╪═════════════╪═══╪═════════════╪═════════════╪═════════════╪════════════╡\n",
       "│ 86  ┆ 7          ┆ VLS  ┆ Palais de   ┆ … ┆ 16          ┆ 2           ┆ 2017-08-02  ┆ 1          │\n",
       "│     ┆            ┆      ┆ Justice     ┆   ┆             ┆             ┆ 10:55:03    ┆            │\n",
       "│ 86  ┆ 7          ┆ VLS  ┆ Palais de   ┆ … ┆ 16          ┆ 2           ┆ 2017-08-02  ┆ 0          │\n",
       "│     ┆            ┆      ┆ Justice     ┆   ┆             ┆             ┆ 11:00:03    ┆            │\n",
       "│ 86  ┆ 7          ┆ VLS  ┆ Palais de   ┆ … ┆ 16          ┆ 2           ┆ 2017-08-02  ┆ 0          │\n",
       "│     ┆            ┆      ┆ Justice     ┆   ┆             ┆             ┆ 11:05:04    ┆            │\n",
       "│ 86  ┆ 7          ┆ VLS  ┆ Palais de   ┆ … ┆ 16          ┆ 2           ┆ 2017-08-02  ┆ 0          │\n",
       "│     ┆            ┆      ┆ Justice     ┆   ┆             ┆             ┆ 11:10:04    ┆            │\n",
       "│ 86  ┆ 7          ┆ VLS  ┆ Palais de   ┆ … ┆ 17          ┆ 1           ┆ 2017-08-02  ┆ 1          │\n",
       "│     ┆            ┆      ┆ Justice     ┆   ┆             ┆             ┆ 11:15:03    ┆            │\n",
       "│ …   ┆ …          ┆ …    ┆ …           ┆ … ┆ …           ┆ …           ┆ …           ┆ …          │\n",
       "│ 86  ┆ 7          ┆ VLS  ┆ Palais de   ┆ … ┆ 16          ┆ 2           ┆ 2017-08-02  ┆ 0          │\n",
       "│     ┆            ┆      ┆ Justice     ┆   ┆             ┆             ┆ 13:05:04    ┆            │\n",
       "│ 86  ┆ 7          ┆ VLS  ┆ Palais de   ┆ … ┆ 16          ┆ 2           ┆ 2017-08-02  ┆ 0          │\n",
       "│     ┆            ┆      ┆ Justice     ┆   ┆             ┆             ┆ 13:10:04    ┆            │\n",
       "│ 86  ┆ 7          ┆ VLS  ┆ Palais de   ┆ … ┆ 15          ┆ 3           ┆ 2017-08-02  ┆ 1          │\n",
       "│     ┆            ┆      ┆ Justice     ┆   ┆             ┆             ┆ 13:15:04    ┆            │\n",
       "│ 86  ┆ 7          ┆ VLS  ┆ Palais de   ┆ … ┆ 16          ┆ 2           ┆ 2017-08-02  ┆ 1          │\n",
       "│     ┆            ┆      ┆ Justice     ┆   ┆             ┆             ┆ 13:30:04    ┆            │\n",
       "│ 86  ┆ 7          ┆ VLS  ┆ Palais de   ┆ … ┆ 16          ┆ 2           ┆ 2017-08-02  ┆ 0          │\n",
       "│     ┆            ┆      ┆ Justice     ┆   ┆             ┆             ┆ 13:35:04    ┆            │\n",
       "└─────┴────────────┴──────┴─────────────┴───┴─────────────┴─────────────┴─────────────┴────────────┘"
      ]
     },
     "execution_count": 25,
     "metadata": {},
     "output_type": "execute_result"
    }
   ],
   "source": [
    "activite[136025:136050]"
   ]
  },
  {
   "cell_type": "markdown",
   "metadata": {
    "ExecuteTime": {
     "end_time": "2020-08-25T14:56:26.475812Z",
     "start_time": "2020-08-25T14:56:26.462262Z"
    }
   },
   "source": [
    "## Analyse de la feature"
   ]
  },
  {
   "cell_type": "code",
   "execution_count": 26,
   "metadata": {
    "ExecuteTime": {
     "end_time": "2020-08-26T09:48:16.326643Z",
     "start_time": "2020-08-26T09:48:12.015246Z"
    }
   },
   "outputs": [],
   "source": [
    "# Lecture de l'activité des stations\n",
    "activite = read_activity_vcub()\n",
    "\n",
    "activite = get_transactions_all(activite)"
   ]
  },
  {
   "cell_type": "code",
   "execution_count": 27,
   "metadata": {
    "ExecuteTime": {
     "end_time": "2020-08-26T09:48:16.433756Z",
     "start_time": "2020-08-26T09:48:16.327928Z"
    }
   },
   "outputs": [
    {
     "data": {
      "text/html": [
       "<div><style>\n",
       ".dataframe > thead > tr,\n",
       ".dataframe > tbody > tr {\n",
       "  text-align: right;\n",
       "  white-space: pre-wrap;\n",
       "}\n",
       "</style>\n",
       "<small>shape: (9, 2)</small><table border=\"1\" class=\"dataframe\"><thead><tr><th>statistic</th><th>value</th></tr><tr><td>str</td><td>f64</td></tr></thead><tbody><tr><td>&quot;count&quot;</td><td>3.76188e6</td></tr><tr><td>&quot;null_count&quot;</td><td>0.0</td></tr><tr><td>&quot;mean&quot;</td><td>0.256016</td></tr><tr><td>&quot;std&quot;</td><td>0.685215</td></tr><tr><td>&quot;min&quot;</td><td>0.0</td></tr><tr><td>&quot;25%&quot;</td><td>0.0</td></tr><tr><td>&quot;50%&quot;</td><td>0.0</td></tr><tr><td>&quot;75%&quot;</td><td>0.0</td></tr><tr><td>&quot;max&quot;</td><td>35.0</td></tr></tbody></table></div>"
      ],
      "text/plain": [
       "shape: (9, 2)\n",
       "┌────────────┬───────────┐\n",
       "│ statistic  ┆ value     │\n",
       "│ ---        ┆ ---       │\n",
       "│ str        ┆ f64       │\n",
       "╞════════════╪═══════════╡\n",
       "│ count      ┆ 3.76188e6 │\n",
       "│ null_count ┆ 0.0       │\n",
       "│ mean       ┆ 0.256016  │\n",
       "│ std        ┆ 0.685215  │\n",
       "│ min        ┆ 0.0       │\n",
       "│ 25%        ┆ 0.0       │\n",
       "│ 50%        ┆ 0.0       │\n",
       "│ 75%        ┆ 0.0       │\n",
       "│ max        ┆ 35.0      │\n",
       "└────────────┴───────────┘"
      ]
     },
     "execution_count": 27,
     "metadata": {},
     "output_type": "execute_result"
    }
   ],
   "source": [
    "activite[\"transactions_all\"].describe()"
   ]
  },
  {
   "cell_type": "code",
   "execution_count": 28,
   "metadata": {
    "ExecuteTime": {
     "end_time": "2020-08-26T09:48:17.556857Z",
     "start_time": "2020-08-26T09:48:16.434999Z"
    }
   },
   "outputs": [
    {
     "data": {
      "text/plain": [
       "<Axes: >"
      ]
     },
     "execution_count": 28,
     "metadata": {},
     "output_type": "execute_result"
    },
    {
     "data": {
      "image/png": "[encoded data removed]",
      "text/plain": [
       "<Figure size 640x480 with 1 Axes>"
      ]
     },
     "metadata": {},
     "output_type": "display_data"
    }
   ],
   "source": [
    "sns.boxplot(activite[\"transactions_all\"])"
   ]
  },
  {
   "cell_type": "code",
   "execution_count": 29,
   "metadata": {
    "ExecuteTime": {
     "end_time": "2020-08-26T08:54:05.079963Z",
     "start_time": "2020-08-26T08:54:04.440228Z"
    }
   },
   "outputs": [
    {
     "data": {
      "text/plain": [
       "<seaborn.axisgrid.FacetGrid at 0x7fc360d4d130>"
      ]
     },
     "execution_count": 29,
     "metadata": {},
     "output_type": "execute_result"
    },
    {
     "data": {
      "image/png": "[encoded data removed]",
      "text/plain": [
       "<Figure size 500x500 with 1 Axes>"
      ]
     },
     "metadata": {},
     "output_type": "display_data"
    }
   ],
   "source": [
    "sns.displot(activite[\"transactions_all\"])"
   ]
  },
  {
   "cell_type": "markdown",
   "metadata": {},
   "source": [
    "### Analyse des dépot suivant les stations"
   ]
  },
  {
   "cell_type": "code",
   "execution_count": 30,
   "metadata": {
    "ExecuteTime": {
     "end_time": "2020-08-26T08:54:11.014269Z",
     "start_time": "2020-08-26T08:54:10.245040Z"
    }
   },
   "outputs": [],
   "source": [
    "ajout_by_station = activite.group_by(\"station_id\").agg(\n",
    "    [\n",
    "        pl.col(\"transactions_all\").max().alias(\"max\"),\n",
    "        pl.col(\"transactions_all\").mean().alias(\"mean\"),\n",
    "        pl.col(\"transactions_all\").median().alias(\"median\"),\n",
    "        pl.col(\"transactions_all\").min().alias(\"min\"),\n",
    "        pl.col(\"transactions_all\").std().alias(\"std\"),\n",
    "        pl.col(\"transactions_all\").var().alias(\"var\"),\n",
    "        pl.col(\"transactions_all\").skew().alias(\"skew\"),\n",
    "        pl.col(\"transactions_all\").quantile(0.25).alias(\"25%\"),\n",
    "        pl.col(\"transactions_all\").quantile(0.75).alias(\"75%\"),\n",
    "        pl.col(\"transactions_all\").quantile(0.95).alias(\"95%\"),\n",
    "    ]\n",
    ")\n",
    "\n",
    "ajout_by_station = ajout_by_station.sort(\"mean\", descending=True)"
   ]
  },
  {
   "cell_type": "code",
   "execution_count": 31,
   "metadata": {
    "ExecuteTime": {
     "end_time": "2020-08-26T09:48:44.697120Z",
     "start_time": "2020-08-26T09:48:44.668018Z"
    }
   },
   "outputs": [
    {
     "data": {
      "text/html": [
       "<div><style>\n",
       ".dataframe > thead > tr,\n",
       ".dataframe > tbody > tr {\n",
       "  text-align: right;\n",
       "  white-space: pre-wrap;\n",
       "}\n",
       "</style>\n",
       "<small>shape: (174, 11)</small><table border=\"1\" class=\"dataframe\"><thead><tr><th>station_id</th><th>max</th><th>mean</th><th>median</th><th>min</th><th>std</th><th>var</th><th>skew</th><th>25%</th><th>75%</th><th>95%</th></tr><tr><td>u8</td><td>i8</td><td>f64</td><td>f64</td><td>i8</td><td>f64</td><td>f64</td><td>f64</td><td>f64</td><td>f64</td><td>f64</td></tr></thead><tbody><tr><td>106</td><td>21</td><td>1.129741</td><td>1.0</td><td>0</td><td>1.578292</td><td>2.491007</td><td>3.315706</td><td>0.0</td><td>2.0</td><td>4.0</td></tr><tr><td>5</td><td>34</td><td>0.894912</td><td>1.0</td><td>0</td><td>1.326123</td><td>1.758603</td><td>4.066506</td><td>0.0</td><td>1.0</td><td>3.0</td></tr><tr><td>22</td><td>20</td><td>0.866327</td><td>0.0</td><td>0</td><td>1.218026</td><td>1.483588</td><td>2.689566</td><td>0.0</td><td>1.0</td><td>3.0</td></tr><tr><td>123</td><td>23</td><td>0.83358</td><td>0.0</td><td>0</td><td>1.418022</td><td>2.010788</td><td>4.35885</td><td>0.0</td><td>1.0</td><td>3.0</td></tr><tr><td>39</td><td>25</td><td>0.831175</td><td>0.0</td><td>0</td><td>1.296146</td><td>1.679994</td><td>3.545201</td><td>0.0</td><td>1.0</td><td>3.0</td></tr><tr><td>&hellip;</td><td>&hellip;</td><td>&hellip;</td><td>&hellip;</td><td>&hellip;</td><td>&hellip;</td><td>&hellip;</td><td>&hellip;</td><td>&hellip;</td><td>&hellip;</td><td>&hellip;</td></tr><tr><td>160</td><td>3</td><td>0.002359</td><td>0.0</td><td>0</td><td>0.062659</td><td>0.003926</td><td>32.039762</td><td>0.0</td><td>0.0</td><td>0.0</td></tr><tr><td>76</td><td>1</td><td>0.000093</td><td>0.0</td><td>0</td><td>0.009618</td><td>0.000093</td><td>103.956722</td><td>0.0</td><td>0.0</td><td>0.0</td></tr><tr><td>35</td><td>0</td><td>0.0</td><td>0.0</td><td>0</td><td>0.0</td><td>0.0</td><td>NaN</td><td>0.0</td><td>0.0</td><td>0.0</td></tr><tr><td>93</td><td>0</td><td>0.0</td><td>0.0</td><td>0</td><td>0.0</td><td>0.0</td><td>NaN</td><td>0.0</td><td>0.0</td><td>0.0</td></tr><tr><td>137</td><td>0</td><td>0.0</td><td>0.0</td><td>0</td><td>0.0</td><td>0.0</td><td>NaN</td><td>0.0</td><td>0.0</td><td>0.0</td></tr></tbody></table></div>"
      ],
      "text/plain": [
       "shape: (174, 11)\n",
       "┌────────────┬─────┬──────────┬────────┬───┬────────────┬─────┬─────┬─────┐\n",
       "│ station_id ┆ max ┆ mean     ┆ median ┆ … ┆ skew       ┆ 25% ┆ 75% ┆ 95% │\n",
       "│ ---        ┆ --- ┆ ---      ┆ ---    ┆   ┆ ---        ┆ --- ┆ --- ┆ --- │\n",
       "│ u8         ┆ i8  ┆ f64      ┆ f64    ┆   ┆ f64        ┆ f64 ┆ f64 ┆ f64 │\n",
       "╞════════════╪═════╪══════════╪════════╪═══╪════════════╪═════╪═════╪═════╡\n",
       "│ 106        ┆ 21  ┆ 1.129741 ┆ 1.0    ┆ … ┆ 3.315706   ┆ 0.0 ┆ 2.0 ┆ 4.0 │\n",
       "│ 5          ┆ 34  ┆ 0.894912 ┆ 1.0    ┆ … ┆ 4.066506   ┆ 0.0 ┆ 1.0 ┆ 3.0 │\n",
       "│ 22         ┆ 20  ┆ 0.866327 ┆ 0.0    ┆ … ┆ 2.689566   ┆ 0.0 ┆ 1.0 ┆ 3.0 │\n",
       "│ 123        ┆ 23  ┆ 0.83358  ┆ 0.0    ┆ … ┆ 4.35885    ┆ 0.0 ┆ 1.0 ┆ 3.0 │\n",
       "│ 39         ┆ 25  ┆ 0.831175 ┆ 0.0    ┆ … ┆ 3.545201   ┆ 0.0 ┆ 1.0 ┆ 3.0 │\n",
       "│ …          ┆ …   ┆ …        ┆ …      ┆ … ┆ …          ┆ …   ┆ …   ┆ …   │\n",
       "│ 160        ┆ 3   ┆ 0.002359 ┆ 0.0    ┆ … ┆ 32.039762  ┆ 0.0 ┆ 0.0 ┆ 0.0 │\n",
       "│ 76         ┆ 1   ┆ 0.000093 ┆ 0.0    ┆ … ┆ 103.956722 ┆ 0.0 ┆ 0.0 ┆ 0.0 │\n",
       "│ 35         ┆ 0   ┆ 0.0      ┆ 0.0    ┆ … ┆ NaN        ┆ 0.0 ┆ 0.0 ┆ 0.0 │\n",
       "│ 93         ┆ 0   ┆ 0.0      ┆ 0.0    ┆ … ┆ NaN        ┆ 0.0 ┆ 0.0 ┆ 0.0 │\n",
       "│ 137        ┆ 0   ┆ 0.0      ┆ 0.0    ┆ … ┆ NaN        ┆ 0.0 ┆ 0.0 ┆ 0.0 │\n",
       "└────────────┴─────┴──────────┴────────┴───┴────────────┴─────┴─────┴─────┘"
      ]
     },
     "execution_count": 31,
     "metadata": {},
     "output_type": "execute_result"
    }
   ],
   "source": [
    "ajout_by_station"
   ]
  },
  {
   "cell_type": "code",
   "execution_count": null,
   "metadata": {
    "ExecuteTime": {
     "end_time": "2020-08-26T09:48:47.672734Z",
     "start_time": "2020-08-26T09:48:46.244181Z"
    }
   },
   "outputs": [],
   "source": [
    "# Station les plus active sur les dépôt de vélo\n",
    "plot_station_activity(activite.to_pandas(), station_id=106, features_to_plot=[\"transactions_all\"])"
   ]
  },
  {
   "cell_type": "code",
   "execution_count": 33,
   "metadata": {
    "ExecuteTime": {
     "end_time": "2020-08-26T09:48:53.355374Z",
     "start_time": "2020-08-26T09:48:53.330126Z"
    }
   },
   "outputs": [
    {
     "data": {
      "text/html": [
       "<div><style>\n",
       ".dataframe > thead > tr,\n",
       ".dataframe > tbody > tr {\n",
       "  text-align: right;\n",
       "  white-space: pre-wrap;\n",
       "}\n",
       "</style>\n",
       "<small>shape: (5, 9)</small><table border=\"1\" class=\"dataframe\"><thead><tr><th>gid</th><th>station_id</th><th>type</th><th>name</th><th>state</th><th>available_stands</th><th>available_bikes</th><th>date</th><th>transactions_all</th></tr><tr><td>u8</td><td>u8</td><td>cat</td><td>str</td><td>str</td><td>i8</td><td>i8</td><td>datetime[μs]</td><td>i8</td></tr></thead><tbody><tr><td>83</td><td>1</td><td>&quot;VLS&quot;</td><td>&quot;Meriadeck&quot;</td><td>&quot;1&quot;</td><td>18</td><td>2</td><td>2017-07-09 00:03:04</td><td>0</td></tr><tr><td>83</td><td>1</td><td>&quot;VLS&quot;</td><td>&quot;Meriadeck&quot;</td><td>&quot;1&quot;</td><td>18</td><td>2</td><td>2017-07-09 00:04:04</td><td>0</td></tr><tr><td>83</td><td>1</td><td>&quot;VLS&quot;</td><td>&quot;Meriadeck&quot;</td><td>&quot;1&quot;</td><td>18</td><td>2</td><td>2017-07-09 00:09:04</td><td>0</td></tr><tr><td>83</td><td>1</td><td>&quot;VLS&quot;</td><td>&quot;Meriadeck&quot;</td><td>&quot;1&quot;</td><td>18</td><td>2</td><td>2017-07-09 00:14:03</td><td>0</td></tr><tr><td>83</td><td>1</td><td>&quot;VLS&quot;</td><td>&quot;Meriadeck&quot;</td><td>&quot;1&quot;</td><td>18</td><td>2</td><td>2017-07-09 00:19:04</td><td>0</td></tr></tbody></table></div>"
      ],
      "text/plain": [
       "shape: (5, 9)\n",
       "┌─────┬────────────┬──────┬───────────┬───┬──────────────┬─────────────┬─────────────┬─────────────┐\n",
       "│ gid ┆ station_id ┆ type ┆ name      ┆ … ┆ available_st ┆ available_b ┆ date        ┆ transaction │\n",
       "│ --- ┆ ---        ┆ ---  ┆ ---       ┆   ┆ ands         ┆ ikes        ┆ ---         ┆ s_all       │\n",
       "│ u8  ┆ u8         ┆ cat  ┆ str       ┆   ┆ ---          ┆ ---         ┆ datetime[μs ┆ ---         │\n",
       "│     ┆            ┆      ┆           ┆   ┆ i8           ┆ i8          ┆ ]           ┆ i8          │\n",
       "╞═════╪════════════╪══════╪═══════════╪═══╪══════════════╪═════════════╪═════════════╪═════════════╡\n",
       "│ 83  ┆ 1          ┆ VLS  ┆ Meriadeck ┆ … ┆ 18           ┆ 2           ┆ 2017-07-09  ┆ 0           │\n",
       "│     ┆            ┆      ┆           ┆   ┆              ┆             ┆ 00:03:04    ┆             │\n",
       "│ 83  ┆ 1          ┆ VLS  ┆ Meriadeck ┆ … ┆ 18           ┆ 2           ┆ 2017-07-09  ┆ 0           │\n",
       "│     ┆            ┆      ┆           ┆   ┆              ┆             ┆ 00:04:04    ┆             │\n",
       "│ 83  ┆ 1          ┆ VLS  ┆ Meriadeck ┆ … ┆ 18           ┆ 2           ┆ 2017-07-09  ┆ 0           │\n",
       "│     ┆            ┆      ┆           ┆   ┆              ┆             ┆ 00:09:04    ┆             │\n",
       "│ 83  ┆ 1          ┆ VLS  ┆ Meriadeck ┆ … ┆ 18           ┆ 2           ┆ 2017-07-09  ┆ 0           │\n",
       "│     ┆            ┆      ┆           ┆   ┆              ┆             ┆ 00:14:03    ┆             │\n",
       "│ 83  ┆ 1          ┆ VLS  ┆ Meriadeck ┆ … ┆ 18           ┆ 2           ┆ 2017-07-09  ┆ 0           │\n",
       "│     ┆            ┆      ┆           ┆   ┆              ┆             ┆ 00:19:04    ┆             │\n",
       "└─────┴────────────┴──────┴───────────┴───┴──────────────┴─────────────┴─────────────┴─────────────┘"
      ]
     },
     "execution_count": 33,
     "metadata": {},
     "output_type": "execute_result"
    }
   ],
   "source": [
    "activite.head()"
   ]
  },
  {
   "cell_type": "code",
   "execution_count": 39,
   "metadata": {
    "ExecuteTime": {
     "end_time": "2020-08-26T09:48:54.445664Z",
     "start_time": "2020-08-26T09:48:54.406336Z"
    }
   },
   "outputs": [
    {
     "data": {
      "text/html": [
       "<div><style>\n",
       ".dataframe > thead > tr,\n",
       ".dataframe > tbody > tr {\n",
       "  text-align: right;\n",
       "  white-space: pre-wrap;\n",
       "}\n",
       "</style>\n",
       "<small>shape: (8_442, 9)</small><table border=\"1\" class=\"dataframe\"><thead><tr><th>gid</th><th>station_id</th><th>type</th><th>name</th><th>state</th><th>available_stands</th><th>available_bikes</th><th>date</th><th>transactions_all</th></tr><tr><td>u8</td><td>u8</td><td>cat</td><td>str</td><td>str</td><td>i8</td><td>i8</td><td>datetime[μs]</td><td>i8</td></tr></thead><tbody><tr><td>43</td><td>5</td><td>&quot;VLS&quot;</td><td>&quot;Place Gambetta&quot;</td><td>&quot;0&quot;</td><td>36</td><td>3</td><td>2017-08-28 05:24:04</td><td>0</td></tr><tr><td>43</td><td>5</td><td>&quot;VLS&quot;</td><td>&quot;Place Gambetta&quot;</td><td>&quot;0&quot;</td><td>36</td><td>3</td><td>2017-08-28 05:29:04</td><td>0</td></tr><tr><td>43</td><td>5</td><td>&quot;VLS&quot;</td><td>&quot;Place Gambetta&quot;</td><td>&quot;1&quot;</td><td>12</td><td>3</td><td>2017-08-28 05:34:04</td><td>0</td></tr><tr><td>43</td><td>5</td><td>&quot;VLS&quot;</td><td>&quot;Place Gambetta&quot;</td><td>&quot;1&quot;</td><td>3</td><td>37</td><td>2017-08-28 05:39:04</td><td>34</td></tr><tr><td>43</td><td>5</td><td>&quot;VLS&quot;</td><td>&quot;Place Gambetta&quot;</td><td>&quot;1&quot;</td><td>3</td><td>37</td><td>2017-08-28 05:44:05</td><td>0</td></tr><tr><td>&hellip;</td><td>&hellip;</td><td>&hellip;</td><td>&hellip;</td><td>&hellip;</td><td>&hellip;</td><td>&hellip;</td><td>&hellip;</td><td>&hellip;</td></tr><tr><td>43</td><td>5</td><td>&quot;VLS&quot;</td><td>&quot;Place Gambetta&quot;</td><td>&quot;1&quot;</td><td>14</td><td>25</td><td>2017-09-26 14:39:02</td><td>1</td></tr><tr><td>43</td><td>5</td><td>&quot;VLS&quot;</td><td>&quot;Place Gambetta&quot;</td><td>&quot;1&quot;</td><td>14</td><td>25</td><td>2017-09-26 14:44:05</td><td>0</td></tr><tr><td>43</td><td>5</td><td>&quot;VLS&quot;</td><td>&quot;Place Gambetta&quot;</td><td>&quot;1&quot;</td><td>15</td><td>24</td><td>2017-09-26 14:49:05</td><td>1</td></tr><tr><td>43</td><td>5</td><td>&quot;VLS&quot;</td><td>&quot;Place Gambetta&quot;</td><td>&quot;1&quot;</td><td>16</td><td>23</td><td>2017-09-26 14:54:04</td><td>1</td></tr><tr><td>43</td><td>5</td><td>&quot;VLS&quot;</td><td>&quot;Place Gambetta&quot;</td><td>&quot;1&quot;</td><td>15</td><td>24</td><td>2017-09-26 14:59:04</td><td>1</td></tr></tbody></table></div>"
      ],
      "text/plain": [
       "shape: (8_442, 9)\n",
       "┌─────┬────────────┬──────┬─────────────┬───┬─────────────┬─────────────┬─────────────┬────────────┐\n",
       "│ gid ┆ station_id ┆ type ┆ name        ┆ … ┆ available_s ┆ available_b ┆ date        ┆ transactio │\n",
       "│ --- ┆ ---        ┆ ---  ┆ ---         ┆   ┆ tands       ┆ ikes        ┆ ---         ┆ ns_all     │\n",
       "│ u8  ┆ u8         ┆ cat  ┆ str         ┆   ┆ ---         ┆ ---         ┆ datetime[μs ┆ ---        │\n",
       "│     ┆            ┆      ┆             ┆   ┆ i8          ┆ i8          ┆ ]           ┆ i8         │\n",
       "╞═════╪════════════╪══════╪═════════════╪═══╪═════════════╪═════════════╪═════════════╪════════════╡\n",
       "│ 43  ┆ 5          ┆ VLS  ┆ Place       ┆ … ┆ 36          ┆ 3           ┆ 2017-08-28  ┆ 0          │\n",
       "│     ┆            ┆      ┆ Gambetta    ┆   ┆             ┆             ┆ 05:24:04    ┆            │\n",
       "│ 43  ┆ 5          ┆ VLS  ┆ Place       ┆ … ┆ 36          ┆ 3           ┆ 2017-08-28  ┆ 0          │\n",
       "│     ┆            ┆      ┆ Gambetta    ┆   ┆             ┆             ┆ 05:29:04    ┆            │\n",
       "│ 43  ┆ 5          ┆ VLS  ┆ Place       ┆ … ┆ 12          ┆ 3           ┆ 2017-08-28  ┆ 0          │\n",
       "│     ┆            ┆      ┆ Gambetta    ┆   ┆             ┆             ┆ 05:34:04    ┆            │\n",
       "│ 43  ┆ 5          ┆ VLS  ┆ Place       ┆ … ┆ 3           ┆ 37          ┆ 2017-08-28  ┆ 34         │\n",
       "│     ┆            ┆      ┆ Gambetta    ┆   ┆             ┆             ┆ 05:39:04    ┆            │\n",
       "│ 43  ┆ 5          ┆ VLS  ┆ Place       ┆ … ┆ 3           ┆ 37          ┆ 2017-08-28  ┆ 0          │\n",
       "│     ┆            ┆      ┆ Gambetta    ┆   ┆             ┆             ┆ 05:44:05    ┆            │\n",
       "│ …   ┆ …          ┆ …    ┆ …           ┆ … ┆ …           ┆ …           ┆ …           ┆ …          │\n",
       "│ 43  ┆ 5          ┆ VLS  ┆ Place       ┆ … ┆ 14          ┆ 25          ┆ 2017-09-26  ┆ 1          │\n",
       "│     ┆            ┆      ┆ Gambetta    ┆   ┆             ┆             ┆ 14:39:02    ┆            │\n",
       "│ 43  ┆ 5          ┆ VLS  ┆ Place       ┆ … ┆ 14          ┆ 25          ┆ 2017-09-26  ┆ 0          │\n",
       "│     ┆            ┆      ┆ Gambetta    ┆   ┆             ┆             ┆ 14:44:05    ┆            │\n",
       "│ 43  ┆ 5          ┆ VLS  ┆ Place       ┆ … ┆ 15          ┆ 24          ┆ 2017-09-26  ┆ 1          │\n",
       "│     ┆            ┆      ┆ Gambetta    ┆   ┆             ┆             ┆ 14:49:05    ┆            │\n",
       "│ 43  ┆ 5          ┆ VLS  ┆ Place       ┆ … ┆ 16          ┆ 23          ┆ 2017-09-26  ┆ 1          │\n",
       "│     ┆            ┆      ┆ Gambetta    ┆   ┆             ┆             ┆ 14:54:04    ┆            │\n",
       "│ 43  ┆ 5          ┆ VLS  ┆ Place       ┆ … ┆ 15          ┆ 24          ┆ 2017-09-26  ┆ 1          │\n",
       "│     ┆            ┆      ┆ Gambetta    ┆   ┆             ┆             ┆ 14:59:04    ┆            │\n",
       "└─────┴────────────┴──────┴─────────────┴───┴─────────────┴─────────────┴─────────────┴────────────┘"
      ]
     },
     "execution_count": 39,
     "metadata": {},
     "output_type": "execute_result"
    }
   ],
   "source": [
    "from datetime import datetime\n",
    "\n",
    "# activite[(activite.station_id == 5) & (activite.date >= \"2017-08-28 05:20:00\")]\n",
    "activite.filter((pl.col(\"station_id\") == 5) & (pl.col(\"date\") >= datetime(2017, 8, 28, 5, 20, 0)))"
   ]
  },
  {
   "cell_type": "code",
   "execution_count": 36,
   "metadata": {},
   "outputs": [
    {
     "data": {
      "text/plain": [
       "Schema([('gid', UInt8),\n",
       "        ('station_id', UInt8),\n",
       "        ('type', Categorical(ordering='physical')),\n",
       "        ('name', String),\n",
       "        ('state', String),\n",
       "        ('available_stands', Int8),\n",
       "        ('available_bikes', Int8),\n",
       "        ('date', Datetime(time_unit='us', time_zone=None)),\n",
       "        ('transactions_all', Int8)])"
      ]
     },
     "execution_count": 36,
     "metadata": {},
     "output_type": "execute_result"
    }
   ],
   "source": [
    "activite.collect_schema()"
   ]
  },
  {
   "cell_type": "markdown",
   "metadata": {},
   "source": [
    "# Test"
   ]
  },
  {
   "cell_type": "code",
   "execution_count": 40,
   "metadata": {},
   "outputs": [],
   "source": [
    "from vcub_keeper.transform.features_factory import get_transactions_all"
   ]
  },
  {
   "cell_type": "code",
   "execution_count": 41,
   "metadata": {},
   "outputs": [],
   "source": [
    "# Lecture de l'activité des stations\n",
    "activite = read_activity_vcub()"
   ]
  },
  {
   "cell_type": "code",
   "execution_count": 42,
   "metadata": {},
   "outputs": [],
   "source": [
    "activite = get_transactions_all(activite)"
   ]
  },
  {
   "cell_type": "code",
   "execution_count": 43,
   "metadata": {},
   "outputs": [
    {
     "data": {
      "text/plain": [
       "datetime.datetime(2017, 7, 9, 0, 3, 4)"
      ]
     },
     "execution_count": 43,
     "metadata": {},
     "output_type": "execute_result"
    }
   ],
   "source": [
    "activite[\"date\"].min()"
   ]
  },
  {
   "cell_type": "code",
   "execution_count": 47,
   "metadata": {},
   "outputs": [
    {
     "data": {
      "text/html": [
       "<div><style>\n",
       ".dataframe > thead > tr,\n",
       ".dataframe > tbody > tr {\n",
       "  text-align: right;\n",
       "  white-space: pre-wrap;\n",
       "}\n",
       "</style>\n",
       "<small>shape: (10, 9)</small><table border=\"1\" class=\"dataframe\"><thead><tr><th>gid</th><th>station_id</th><th>type</th><th>name</th><th>state</th><th>available_stands</th><th>available_bikes</th><th>date</th><th>transactions_all</th></tr><tr><td>u8</td><td>u8</td><td>cat</td><td>str</td><td>str</td><td>i8</td><td>i8</td><td>datetime[μs]</td><td>i8</td></tr></thead><tbody><tr><td>83</td><td>1</td><td>&quot;VLS&quot;</td><td>&quot;Meriadeck&quot;</td><td>&quot;1&quot;</td><td>19</td><td>1</td><td>2017-07-09 00:24:05</td><td>1</td></tr><tr><td>83</td><td>1</td><td>&quot;VLS&quot;</td><td>&quot;Meriadeck&quot;</td><td>&quot;1&quot;</td><td>20</td><td>0</td><td>2017-07-09 01:19:04</td><td>1</td></tr><tr><td>83</td><td>1</td><td>&quot;VLS&quot;</td><td>&quot;Meriadeck&quot;</td><td>&quot;1&quot;</td><td>19</td><td>1</td><td>2017-07-09 03:24:05</td><td>1</td></tr><tr><td>83</td><td>1</td><td>&quot;VLS&quot;</td><td>&quot;Meriadeck&quot;</td><td>&quot;1&quot;</td><td>18</td><td>2</td><td>2017-07-09 03:34:04</td><td>1</td></tr><tr><td>83</td><td>1</td><td>&quot;VLS&quot;</td><td>&quot;Meriadeck&quot;</td><td>&quot;1&quot;</td><td>16</td><td>4</td><td>2017-07-09 03:49:03</td><td>2</td></tr><tr><td>83</td><td>1</td><td>&quot;VLS&quot;</td><td>&quot;Meriadeck&quot;</td><td>&quot;1&quot;</td><td>17</td><td>3</td><td>2017-07-09 04:09:04</td><td>1</td></tr><tr><td>83</td><td>1</td><td>&quot;VLS&quot;</td><td>&quot;Meriadeck&quot;</td><td>&quot;1&quot;</td><td>16</td><td>4</td><td>2017-07-09 04:44:04</td><td>1</td></tr><tr><td>83</td><td>1</td><td>&quot;VLS&quot;</td><td>&quot;Meriadeck&quot;</td><td>&quot;1&quot;</td><td>15</td><td>5</td><td>2017-07-09 04:49:04</td><td>1</td></tr><tr><td>83</td><td>1</td><td>&quot;VLS&quot;</td><td>&quot;Meriadeck&quot;</td><td>&quot;1&quot;</td><td>14</td><td>6</td><td>2017-07-09 04:59:05</td><td>1</td></tr><tr><td>83</td><td>1</td><td>&quot;VLS&quot;</td><td>&quot;Meriadeck&quot;</td><td>&quot;1&quot;</td><td>13</td><td>7</td><td>2017-07-09 05:44:04</td><td>1</td></tr></tbody></table></div>"
      ],
      "text/plain": [
       "shape: (10, 9)\n",
       "┌─────┬────────────┬──────┬───────────┬───┬──────────────┬─────────────┬─────────────┬─────────────┐\n",
       "│ gid ┆ station_id ┆ type ┆ name      ┆ … ┆ available_st ┆ available_b ┆ date        ┆ transaction │\n",
       "│ --- ┆ ---        ┆ ---  ┆ ---       ┆   ┆ ands         ┆ ikes        ┆ ---         ┆ s_all       │\n",
       "│ u8  ┆ u8         ┆ cat  ┆ str       ┆   ┆ ---          ┆ ---         ┆ datetime[μs ┆ ---         │\n",
       "│     ┆            ┆      ┆           ┆   ┆ i8           ┆ i8          ┆ ]           ┆ i8          │\n",
       "╞═════╪════════════╪══════╪═══════════╪═══╪══════════════╪═════════════╪═════════════╪═════════════╡\n",
       "│ 83  ┆ 1          ┆ VLS  ┆ Meriadeck ┆ … ┆ 19           ┆ 1           ┆ 2017-07-09  ┆ 1           │\n",
       "│     ┆            ┆      ┆           ┆   ┆              ┆             ┆ 00:24:05    ┆             │\n",
       "│ 83  ┆ 1          ┆ VLS  ┆ Meriadeck ┆ … ┆ 20           ┆ 0           ┆ 2017-07-09  ┆ 1           │\n",
       "│     ┆            ┆      ┆           ┆   ┆              ┆             ┆ 01:19:04    ┆             │\n",
       "│ 83  ┆ 1          ┆ VLS  ┆ Meriadeck ┆ … ┆ 19           ┆ 1           ┆ 2017-07-09  ┆ 1           │\n",
       "│     ┆            ┆      ┆           ┆   ┆              ┆             ┆ 03:24:05    ┆             │\n",
       "│ 83  ┆ 1          ┆ VLS  ┆ Meriadeck ┆ … ┆ 18           ┆ 2           ┆ 2017-07-09  ┆ 1           │\n",
       "│     ┆            ┆      ┆           ┆   ┆              ┆             ┆ 03:34:04    ┆             │\n",
       "│ 83  ┆ 1          ┆ VLS  ┆ Meriadeck ┆ … ┆ 16           ┆ 4           ┆ 2017-07-09  ┆ 2           │\n",
       "│     ┆            ┆      ┆           ┆   ┆              ┆             ┆ 03:49:03    ┆             │\n",
       "│ 83  ┆ 1          ┆ VLS  ┆ Meriadeck ┆ … ┆ 17           ┆ 3           ┆ 2017-07-09  ┆ 1           │\n",
       "│     ┆            ┆      ┆           ┆   ┆              ┆             ┆ 04:09:04    ┆             │\n",
       "│ 83  ┆ 1          ┆ VLS  ┆ Meriadeck ┆ … ┆ 16           ┆ 4           ┆ 2017-07-09  ┆ 1           │\n",
       "│     ┆            ┆      ┆           ┆   ┆              ┆             ┆ 04:44:04    ┆             │\n",
       "│ 83  ┆ 1          ┆ VLS  ┆ Meriadeck ┆ … ┆ 15           ┆ 5           ┆ 2017-07-09  ┆ 1           │\n",
       "│     ┆            ┆      ┆           ┆   ┆              ┆             ┆ 04:49:04    ┆             │\n",
       "│ 83  ┆ 1          ┆ VLS  ┆ Meriadeck ┆ … ┆ 14           ┆ 6           ┆ 2017-07-09  ┆ 1           │\n",
       "│     ┆            ┆      ┆           ┆   ┆              ┆             ┆ 04:59:05    ┆             │\n",
       "│ 83  ┆ 1          ┆ VLS  ┆ Meriadeck ┆ … ┆ 13           ┆ 7           ┆ 2017-07-09  ┆ 1           │\n",
       "│     ┆            ┆      ┆           ┆   ┆              ┆             ┆ 05:44:04    ┆             │\n",
       "└─────┴────────────┴──────┴───────────┴───┴──────────────┴─────────────┴─────────────┴─────────────┘"
      ]
     },
     "execution_count": 47,
     "metadata": {},
     "output_type": "execute_result"
    }
   ],
   "source": [
    "activite.filter(pl.col(\"transactions_all\") > 0).head(10)"
   ]
  },
  {
   "cell_type": "code",
   "execution_count": 16,
   "metadata": {},
   "outputs": [
    {
     "data": {
      "text/plain": [
       "{'gid': [92, 92, 92, 92, 92, 92, 92, 92, 92, 92, 92],\n",
       " 'station_id': [22, 22, 22, 22, 22, 22, 22, 22, 22, 22, 22],\n",
       " 'type': ['VLS',\n",
       "  'VLS',\n",
       "  'VLS',\n",
       "  'VLS',\n",
       "  'VLS',\n",
       "  'VLS',\n",
       "  'VLS',\n",
       "  'VLS',\n",
       "  'VLS',\n",
       "  'VLS',\n",
       "  'VLS'],\n",
       " 'name': ['Hotel de Ville',\n",
       "  'Hotel de Ville',\n",
       "  'Hotel de Ville',\n",
       "  'Hotel de Ville',\n",
       "  'Hotel de Ville',\n",
       "  'Hotel de Ville',\n",
       "  'Hotel de Ville',\n",
       "  'Hotel de Ville',\n",
       "  'Hotel de Ville',\n",
       "  'Hotel de Ville',\n",
       "  'Hotel de Ville'],\n",
       " 'state': [1, 1, 1, 1, 1, 1, 1, 1, 1, 1, 1],\n",
       " 'available_stands': [33, 33, 31, 33, 33, 33, 33, 32, 33, 33, 33],\n",
       " 'available_bikes': [0, 0, 2, 0, 0, 0, 0, 1, 0, 0, 0],\n",
       " 'date': [Timestamp('2017-07-09 00:54:05'),\n",
       "  Timestamp('2017-07-09 00:59:04'),\n",
       "  Timestamp('2017-07-09 01:04:04'),\n",
       "  Timestamp('2017-07-09 01:09:03'),\n",
       "  Timestamp('2017-07-09 01:14:04'),\n",
       "  Timestamp('2017-07-09 01:19:04'),\n",
       "  Timestamp('2017-07-09 01:24:04'),\n",
       "  Timestamp('2017-07-09 01:29:04'),\n",
       "  Timestamp('2017-07-09 01:34:04'),\n",
       "  Timestamp('2017-07-09 01:39:04'),\n",
       "  Timestamp('2017-07-09 01:44:05')],\n",
       " 'transactions_all': [2.0, 0.0, 2.0, 2.0, 0.0, 0.0, 0.0, 1.0, 1.0, 0.0, 0.0]}"
      ]
     },
     "execution_count": 16,
     "metadata": {},
     "output_type": "execute_result"
    }
   ],
   "source": [
    "# activite[(activite[\"transactions_out\"] > 1) & (activite[\"date\"] == \"2017-07-09 11:09:04\")].head()\n",
    "# activite[(activite[\"date\"] >= \"'2017-07-09 03:24:05'\") & (activite[\"station_id\"] == 1)].head(11).to_dict(orient=\"list\")\n",
    "activite[(activite[\"date\"] >= \"2017-07-09 00:54:05\") & (activite[\"station_id\"] == 22)].head(11).to_dict(orient=\"list\")"
   ]
  },
  {
   "cell_type": "code",
   "execution_count": null,
   "metadata": {},
   "outputs": [],
   "source": [
    "{\n",
    "    \"gid\": [92, 92, 92, 92, 92, 92, 92, 92, 92, 92, 92],\n",
    "    \"station_id\": [22, 22, 22, 22, 22, 22, 22, 22, 22, 22, 22],\n",
    "    \"type\": [\"VLS\", \"VLS\", \"VLS\", \"VLS\", \"VLS\", \"VLS\", \"VLS\", \"VLS\", \"VLS\", \"VLS\", \"VLS\"],\n",
    "    \"name\": [\n",
    "        \"Hotel de Ville\",\n",
    "        \"Hotel de Ville\",\n",
    "        \"Hotel de Ville\",\n",
    "        \"Hotel de Ville\",\n",
    "        \"Hotel de Ville\",\n",
    "        \"Hotel de Ville\",\n",
    "        \"Hotel de Ville\",\n",
    "        \"Hotel de Ville\",\n",
    "        \"Hotel de Ville\",\n",
    "        \"Hotel de Ville\",\n",
    "        \"Hotel de Ville\",\n",
    "    ],\n",
    "    \"state\": [1, 1, 1, 1, 1, 1, 1, 1, 1, 1, 1],\n",
    "    \"available_stands\": [33, 33, 31, 33, 33, 33, 33, 32, 33, 33, 33],\n",
    "    \"available_bikes\": [0, 0, 2, 0, 0, 0, 0, 1, 0, 0, 0],\n",
    "    \"date\": [\n",
    "        pd.Timestamp(\"2017-07-09 00:54:05\"),\n",
    "        pd.Timestamp(\"2017-07-09 00:59:04\"),\n",
    "        pd.Timestamp(\"2017-07-09 01:04:04\"),\n",
    "        pd.Timestamp(\"2017-07-09 01:09:03\"),\n",
    "        pd.Timestamp(\"2017-07-09 01:14:04\"),\n",
    "        pd.Timestamp(\"2017-07-09 01:19:04\"),\n",
    "        pd.Timestamp(\"2017-07-09 01:24:04\"),\n",
    "        pd.Timestamp(\"2017-07-09 01:29:04\"),\n",
    "        pd.Timestamp(\"2017-07-09 01:34:04\"),\n",
    "        pd.Timestamp(\"2017-07-09 01:39:04\"),\n",
    "        pd.Timestamp(\"2017-07-09 01:44:05\"),\n",
    "    ],\n",
    "    \"transactions_all\": [2.0, 0.0, 2.0, 2.0, 0.0, 0.0, 0.0, 1.0, 1.0, 0.0, 0.0],\n",
    "}"
   ]
  },
  {
   "cell_type": "code",
   "execution_count": 20,
   "metadata": {},
   "outputs": [],
   "source": [
    "data = {\n",
    "    \"gid\": [83] * 11 + [92] * 11,\n",
    "    \"station_id\": [1] * 11 + [22] * 11,\n",
    "    \"type\": [\"VLS\"] * 11 + [\"VLS\"] * 11,\n",
    "    \"name\": [\"Meriadeck\"] * 11 + [\"Hotel de Ville\"] * 11,\n",
    "    \"state\": [1] * 11 + [1] * 11,\n",
    "    \"available_stands\": [19, 19, 18, 18, 18, 16, 16, 16, 16, 17, 17] + [33, 33, 31, 33, 33, 33, 33, 32, 33, 33, 33],\n",
    "    \"available_bikes\": [1, 1, 2, 2, 2, 4, 4, 4, 4, 3, 3] + [0, 0, 2, 0, 0, 0, 0, 1, 0, 0, 0],\n",
    "    \"date\": [\n",
    "        pd.Timestamp(\"2017-07-09 03:24:05\"),\n",
    "        pd.Timestamp(\"2017-07-09 03:29:04\"),\n",
    "        pd.Timestamp(\"2017-07-09 03:34:04\"),\n",
    "        pd.Timestamp(\"2017-07-09 03:39:04\"),\n",
    "        pd.Timestamp(\"2017-07-09 03:44:05\"),\n",
    "        pd.Timestamp(\"2017-07-09 03:49:03\"),\n",
    "        pd.Timestamp(\"2017-07-09 03:54:04\"),\n",
    "        pd.Timestamp(\"2017-07-09 03:59:03\"),\n",
    "        pd.Timestamp(\"2017-07-09 04:04:06\"),\n",
    "        pd.Timestamp(\"2017-07-09 04:09:04\"),\n",
    "        pd.Timestamp(\"2017-07-09 04:14:04\"),\n",
    "    ]\n",
    "    + [\n",
    "        pd.Timestamp(\"2017-07-09 00:54:05\"),\n",
    "        pd.Timestamp(\"2017-07-09 00:59:04\"),\n",
    "        pd.Timestamp(\"2017-07-09 01:04:04\"),\n",
    "        pd.Timestamp(\"2017-07-09 01:09:03\"),\n",
    "        pd.Timestamp(\"2017-07-09 01:14:04\"),\n",
    "        pd.Timestamp(\"2017-07-09 01:19:04\"),\n",
    "        pd.Timestamp(\"2017-07-09 01:24:04\"),\n",
    "        pd.Timestamp(\"2017-07-09 01:29:04\"),\n",
    "        pd.Timestamp(\"2017-07-09 01:34:04\"),\n",
    "        pd.Timestamp(\"2017-07-09 01:39:04\"),\n",
    "        pd.Timestamp(\"2017-07-09 01:44:05\"),\n",
    "    ],\n",
    "    \"transactions_all\": [0.0, 0.0, 1.0, 0.0, 0.0, 2.0, 0.0, 0.0, 0.0, 1.0, 0.0]\n",
    "    + [0.0, 0.0, 2.0, 2.0, 0.0, 0.0, 0.0, 1.0, 1.0, 0.0, 0.0],\n",
    "}\n",
    "\n",
    "df_activite = pd.DataFrame(data)\n",
    "# drop columns we want to test.\n",
    "df_activite = df_activite.drop(columns=[\"transactions_all\"], axis=1)\n",
    "\n",
    "result = get_transactions_all(df_activite)\n",
    "\n",
    "expected = pd.DataFrame(data)\n",
    "\n",
    "pd.testing.assert_frame_equal(result, expected)"
   ]
  }
 ],
 "metadata": {
  "interpreter": {
   "hash": "fed283c316bdff65bb0e6fa0ac400ca324e239091c2425959241ec6ed8e34148"
  },
  "kernelspec": {
   "display_name": "Python [conda env:vcub_keeper] *",
   "language": "python",
   "name": "python3"
  },
  "language_info": {
   "codemirror_mode": {
    "name": "ipython",
    "version": 3
   },
   "file_extension": ".py",
   "mimetype": "text/x-python",
   "name": "python",
   "nbconvert_exporter": "python",
   "pygments_lexer": "ipython3",
   "version": "3.12.5"
  },
  "toc": {
   "base_numbering": 1,
   "nav_menu": {},
   "number_sections": true,
   "sideBar": true,
   "skip_h1_title": false,
   "title_cell": "Table of Contents",
   "title_sidebar": "Contents",
   "toc_cell": true,
   "toc_position": {},
   "toc_section_display": true,
   "toc_window_display": false
  }
 },
 "nbformat": 4,
 "nbformat_minor": 4
}
