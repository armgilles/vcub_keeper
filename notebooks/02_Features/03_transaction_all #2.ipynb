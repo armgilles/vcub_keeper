version https://git-lfs.github.com/spec/v1
oid sha256:b643bd20cabcc066cf7f1dfa24cb5104f3d9a9fda8c6ef950bc6408bf2b49572
size 7125808
